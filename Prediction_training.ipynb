{
 "cells": [
  {
   "cell_type": "code",
   "execution_count": 1,
   "metadata": {},
   "outputs": [],
   "source": [
    "import pandas as pd\n",
    "import numpy as np\n",
    "import re\n",
    "from gensim import corpora, models, similarities, matutils\n",
    "import nltk\n",
    "from nltk.tokenize import word_tokenize, sent_tokenize,RegexpTokenizer\n",
    "from nltk.stem import PorterStemmer, WordNetLemmatizer\n",
    "from nltk.util import ngrams\n",
    "from nltk.corpus import stopwords\n",
    "from sklearn.feature_extraction.text import CountVectorizer, TfidfVectorizer\n",
    "from sklearn.decomposition import TruncatedSVD\n",
    "from sklearn.decomposition import NMF\n",
    "from sklearn.metrics.pairwise import cosine_similarity\n",
    "import time\n",
    "\n",
    "from gensim.models import Word2Vec\n",
    "  \n",
    "\n",
    "import numpy as np \n",
    "  \n",
    "from sklearn import cluster\n",
    "from sklearn import metrics\n",
    "from textblob import TextBlob\n",
    "from googletrans import Translator\n",
    "translator = Translator()"
   ]
  },
  {
   "cell_type": "code",
   "execution_count": 70,
   "metadata": {},
   "outputs": [
    {
     "data": {
      "text/html": [
       "<div>\n",
       "<style scoped>\n",
       "    .dataframe tbody tr th:only-of-type {\n",
       "        vertical-align: middle;\n",
       "    }\n",
       "\n",
       "    .dataframe tbody tr th {\n",
       "        vertical-align: top;\n",
       "    }\n",
       "\n",
       "    .dataframe thead th {\n",
       "        text-align: right;\n",
       "    }\n",
       "</style>\n",
       "<table border=\"1\" class=\"dataframe\">\n",
       "  <thead>\n",
       "    <tr style=\"text-align: right;\">\n",
       "      <th></th>\n",
       "      <th>review</th>\n",
       "      <th>stars</th>\n",
       "      <th>product_id</th>\n",
       "    </tr>\n",
       "  </thead>\n",
       "  <tbody>\n",
       "    <tr>\n",
       "      <th>0</th>\n",
       "      <td>Ottimo</td>\n",
       "      <td>5</td>\n",
       "      <td>2.806230e+11</td>\n",
       "    </tr>\n",
       "    <tr>\n",
       "      <th>1</th>\n",
       "      <td>Can't tell the difference between the 3 settings</td>\n",
       "      <td>1</td>\n",
       "      <td>4.041600e+10</td>\n",
       "    </tr>\n",
       "    <tr>\n",
       "      <th>2</th>\n",
       "      <td>This app is horrible.  It does not connect to ...</td>\n",
       "      <td>1</td>\n",
       "      <td>2.808510e+11</td>\n",
       "    </tr>\n",
       "    <tr>\n",
       "      <th>3</th>\n",
       "      <td>Nice app and would be great if can remember my...</td>\n",
       "      <td>4</td>\n",
       "      <td>2.815580e+11</td>\n",
       "    </tr>\n",
       "    <tr>\n",
       "      <th>4</th>\n",
       "      <td>Als ik de instelling aanpas is het te schel vo...</td>\n",
       "      <td>1</td>\n",
       "      <td>4.038078e+10</td>\n",
       "    </tr>\n",
       "    <tr>\n",
       "      <th>...</th>\n",
       "      <td>...</td>\n",
       "      <td>...</td>\n",
       "      <td>...</td>\n",
       "    </tr>\n",
       "    <tr>\n",
       "      <th>995</th>\n",
       "      <td>biggest problem when you close the app is that...</td>\n",
       "      <td>3</td>\n",
       "      <td>2.805900e+11</td>\n",
       "    </tr>\n",
       "    <tr>\n",
       "      <th>996</th>\n",
       "      <td>Passiert nix. Grauer Bildschirm.</td>\n",
       "      <td>1</td>\n",
       "      <td>2.711010e+11</td>\n",
       "    </tr>\n",
       "    <tr>\n",
       "      <th>997</th>\n",
       "      <td>Nice experience.</td>\n",
       "      <td>4</td>\n",
       "      <td>4.041573e+10</td>\n",
       "    </tr>\n",
       "    <tr>\n",
       "      <th>998</th>\n",
       "      <td>Ganz schlechtes App</td>\n",
       "      <td>1</td>\n",
       "      <td>2.807070e+11</td>\n",
       "    </tr>\n",
       "    <tr>\n",
       "      <th>999</th>\n",
       "      <td>The downloaded app does not have the same feat...</td>\n",
       "      <td>1</td>\n",
       "      <td>2.815580e+11</td>\n",
       "    </tr>\n",
       "  </tbody>\n",
       "</table>\n",
       "<p>1000 rows × 3 columns</p>\n",
       "</div>"
      ],
      "text/plain": [
       "                                                review  stars    product_id\n",
       "0                                               Ottimo      5  2.806230e+11\n",
       "1     Can't tell the difference between the 3 settings      1  4.041600e+10\n",
       "2    This app is horrible.  It does not connect to ...      1  2.808510e+11\n",
       "3    Nice app and would be great if can remember my...      4  2.815580e+11\n",
       "4    Als ik de instelling aanpas is het te schel vo...      1  4.038078e+10\n",
       "..                                                 ...    ...           ...\n",
       "995  biggest problem when you close the app is that...      3  2.805900e+11\n",
       "996                   Passiert nix. Grauer Bildschirm.      1  2.711010e+11\n",
       "997                                   Nice experience.      4  4.041573e+10\n",
       "998                                Ganz schlechtes App      1  2.807070e+11\n",
       "999  The downloaded app does not have the same feat...      1  2.815580e+11\n",
       "\n",
       "[1000 rows x 3 columns]"
      ]
     },
     "execution_count": 70,
     "metadata": {},
     "output_type": "execute_result"
    }
   ],
   "source": [
    "df = pd.read_csv('New_Reviews_Data.csv')\n",
    "df=df[[\"review\", \"stars\",\"product_id\"]]\n",
    "\n",
    "\n",
    "df"
   ]
  },
  {
   "cell_type": "code",
   "execution_count": 71,
   "metadata": {},
   "outputs": [
    {
     "data": {
      "text/html": [
       "<div>\n",
       "<style scoped>\n",
       "    .dataframe tbody tr th:only-of-type {\n",
       "        vertical-align: middle;\n",
       "    }\n",
       "\n",
       "    .dataframe tbody tr th {\n",
       "        vertical-align: top;\n",
       "    }\n",
       "\n",
       "    .dataframe thead th {\n",
       "        text-align: right;\n",
       "    }\n",
       "</style>\n",
       "<table border=\"1\" class=\"dataframe\">\n",
       "  <thead>\n",
       "    <tr style=\"text-align: right;\">\n",
       "      <th></th>\n",
       "      <th>review</th>\n",
       "      <th>stars</th>\n",
       "      <th>product_id</th>\n",
       "    </tr>\n",
       "  </thead>\n",
       "  <tbody>\n",
       "    <tr>\n",
       "      <th>0</th>\n",
       "      <td>Ottimo</td>\n",
       "      <td>5</td>\n",
       "      <td>2.806230e+11</td>\n",
       "    </tr>\n",
       "    <tr>\n",
       "      <th>1</th>\n",
       "      <td>Can't tell the difference between the 3 settings</td>\n",
       "      <td>1</td>\n",
       "      <td>4.041600e+10</td>\n",
       "    </tr>\n",
       "    <tr>\n",
       "      <th>2</th>\n",
       "      <td>This app is horrible.  It does not connect to ...</td>\n",
       "      <td>1</td>\n",
       "      <td>2.808510e+11</td>\n",
       "    </tr>\n",
       "    <tr>\n",
       "      <th>3</th>\n",
       "      <td>Nice app and would be great if can remember my...</td>\n",
       "      <td>4</td>\n",
       "      <td>2.815580e+11</td>\n",
       "    </tr>\n",
       "    <tr>\n",
       "      <th>4</th>\n",
       "      <td>Als ik de instelling aanpas is het te schel vo...</td>\n",
       "      <td>1</td>\n",
       "      <td>4.038078e+10</td>\n",
       "    </tr>\n",
       "    <tr>\n",
       "      <th>...</th>\n",
       "      <td>...</td>\n",
       "      <td>...</td>\n",
       "      <td>...</td>\n",
       "    </tr>\n",
       "    <tr>\n",
       "      <th>995</th>\n",
       "      <td>biggest problem when you close the app is that...</td>\n",
       "      <td>3</td>\n",
       "      <td>2.805900e+11</td>\n",
       "    </tr>\n",
       "    <tr>\n",
       "      <th>996</th>\n",
       "      <td>Passiert nix. Grauer Bildschirm.</td>\n",
       "      <td>1</td>\n",
       "      <td>2.711010e+11</td>\n",
       "    </tr>\n",
       "    <tr>\n",
       "      <th>997</th>\n",
       "      <td>Nice experience.</td>\n",
       "      <td>4</td>\n",
       "      <td>4.041573e+10</td>\n",
       "    </tr>\n",
       "    <tr>\n",
       "      <th>998</th>\n",
       "      <td>Ganz schlechtes App</td>\n",
       "      <td>1</td>\n",
       "      <td>2.807070e+11</td>\n",
       "    </tr>\n",
       "    <tr>\n",
       "      <th>999</th>\n",
       "      <td>The downloaded app does not have the same feat...</td>\n",
       "      <td>1</td>\n",
       "      <td>2.815580e+11</td>\n",
       "    </tr>\n",
       "  </tbody>\n",
       "</table>\n",
       "<p>1000 rows × 3 columns</p>\n",
       "</div>"
      ],
      "text/plain": [
       "                                                review  stars    product_id\n",
       "0                                               Ottimo      5  2.806230e+11\n",
       "1     Can't tell the difference between the 3 settings      1  4.041600e+10\n",
       "2    This app is horrible.  It does not connect to ...      1  2.808510e+11\n",
       "3    Nice app and would be great if can remember my...      4  2.815580e+11\n",
       "4    Als ik de instelling aanpas is het te schel vo...      1  4.038078e+10\n",
       "..                                                 ...    ...           ...\n",
       "995  biggest problem when you close the app is that...      3  2.805900e+11\n",
       "996                   Passiert nix. Grauer Bildschirm.      1  2.711010e+11\n",
       "997                                   Nice experience.      4  4.041573e+10\n",
       "998                                Ganz schlechtes App      1  2.807070e+11\n",
       "999  The downloaded app does not have the same feat...      1  2.815580e+11\n",
       "\n",
       "[1000 rows x 3 columns]"
      ]
     },
     "execution_count": 71,
     "metadata": {},
     "output_type": "execute_result"
    }
   ],
   "source": [
    "\n",
    "\n",
    "\n",
    "\n",
    "#df_en = df.copy()\n",
    "\n",
    "df_en=df.copy()\n",
    "df_en=df_en.dropna()\n",
    "\n",
    "df['review']=df_en['review']\n",
    "df_en\n",
    "df"
   ]
  },
  {
   "cell_type": "code",
   "execution_count": 39,
   "metadata": {},
   "outputs": [
    {
     "data": {
      "text/html": [
       "<div>\n",
       "<style scoped>\n",
       "    .dataframe tbody tr th:only-of-type {\n",
       "        vertical-align: middle;\n",
       "    }\n",
       "\n",
       "    .dataframe tbody tr th {\n",
       "        vertical-align: top;\n",
       "    }\n",
       "\n",
       "    .dataframe thead th {\n",
       "        text-align: right;\n",
       "    }\n",
       "</style>\n",
       "<table border=\"1\" class=\"dataframe\">\n",
       "  <thead>\n",
       "    <tr style=\"text-align: right;\">\n",
       "      <th></th>\n",
       "      <th>review</th>\n",
       "      <th>stars</th>\n",
       "      <th>product_id</th>\n",
       "    </tr>\n",
       "  </thead>\n",
       "  <tbody>\n",
       "    <tr>\n",
       "      <th>0</th>\n",
       "      <td>Ottimo</td>\n",
       "      <td>5</td>\n",
       "      <td>2.806230e+11</td>\n",
       "    </tr>\n",
       "    <tr>\n",
       "      <th>1</th>\n",
       "      <td>Can't tell the difference between the 3 settings</td>\n",
       "      <td>1</td>\n",
       "      <td>4.041600e+10</td>\n",
       "    </tr>\n",
       "    <tr>\n",
       "      <th>2</th>\n",
       "      <td>This app is horrible.  It does not connect to ...</td>\n",
       "      <td>1</td>\n",
       "      <td>2.808510e+11</td>\n",
       "    </tr>\n",
       "    <tr>\n",
       "      <th>3</th>\n",
       "      <td>Nice app and would be great if can remember my...</td>\n",
       "      <td>4</td>\n",
       "      <td>2.815580e+11</td>\n",
       "    </tr>\n",
       "    <tr>\n",
       "      <th>4</th>\n",
       "      <td>Als ik de instelling aanpas is het te schel vo...</td>\n",
       "      <td>1</td>\n",
       "      <td>4.038078e+10</td>\n",
       "    </tr>\n",
       "    <tr>\n",
       "      <th>...</th>\n",
       "      <td>...</td>\n",
       "      <td>...</td>\n",
       "      <td>...</td>\n",
       "    </tr>\n",
       "    <tr>\n",
       "      <th>95</th>\n",
       "      <td>I have the Samsung Note 8 and this app works f...</td>\n",
       "      <td>5</td>\n",
       "      <td>2.805900e+11</td>\n",
       "    </tr>\n",
       "    <tr>\n",
       "      <th>96</th>\n",
       "      <td>Worked ok.</td>\n",
       "      <td>4</td>\n",
       "      <td>2.807120e+11</td>\n",
       "    </tr>\n",
       "    <tr>\n",
       "      <th>97</th>\n",
       "      <td>Fungerer ikke, har Huawei. Den gamle appen var...</td>\n",
       "      <td>1</td>\n",
       "      <td>2.805900e+11</td>\n",
       "    </tr>\n",
       "    <tr>\n",
       "      <th>98</th>\n",
       "      <td>Ever since this app was updated, I've lost con...</td>\n",
       "      <td>1</td>\n",
       "      <td>2.711010e+11</td>\n",
       "    </tr>\n",
       "    <tr>\n",
       "      <th>99</th>\n",
       "      <td>AprÃ¨s avoir fait la mise Ã  jour de phonak re...</td>\n",
       "      <td>1</td>\n",
       "      <td>2.805900e+11</td>\n",
       "    </tr>\n",
       "  </tbody>\n",
       "</table>\n",
       "<p>100 rows × 3 columns</p>\n",
       "</div>"
      ],
      "text/plain": [
       "                                               review  stars    product_id\n",
       "0                                              Ottimo      5  2.806230e+11\n",
       "1    Can't tell the difference between the 3 settings      1  4.041600e+10\n",
       "2   This app is horrible.  It does not connect to ...      1  2.808510e+11\n",
       "3   Nice app and would be great if can remember my...      4  2.815580e+11\n",
       "4   Als ik de instelling aanpas is het te schel vo...      1  4.038078e+10\n",
       "..                                                ...    ...           ...\n",
       "95  I have the Samsung Note 8 and this app works f...      5  2.805900e+11\n",
       "96                                         Worked ok.      4  2.807120e+11\n",
       "97  Fungerer ikke, har Huawei. Den gamle appen var...      1  2.805900e+11\n",
       "98  Ever since this app was updated, I've lost con...      1  2.711010e+11\n",
       "99  AprÃ¨s avoir fait la mise Ã  jour de phonak re...      1  2.805900e+11\n",
       "\n",
       "[100 rows x 3 columns]"
      ]
     },
     "execution_count": 39,
     "metadata": {},
     "output_type": "execute_result"
    }
   ],
   "source": [
    "# translate columns' name using rename function\n",
    "translator = Translator()\n",
    "\n",
    "df_en.rename(columns=lambda x: translator.translate(x).text, inplace=True)\n",
    "df_en.columns\n",
    "\n",
    "df_en[:100]"
   ]
  },
  {
   "cell_type": "code",
   "execution_count": 40,
   "metadata": {
    "scrolled": true
   },
   "outputs": [
    {
     "name": "stdout",
     "output_type": "stream",
     "text": [
      "{'Ottimo': 'Great', \"Can't tell the difference between the 3 settings\": \"Can't tell the difference between the 3 settings\", 'This app is horrible.  It does not connect to phone very often & therefore causes major issues.  I may ask for refund on $8k hearing aids if this isnâ€™t fix this next weekðŸ˜ŸðŸ˜ŸðŸ™\\x81': 'This app is horrible.  It does not connect to phone very often & therefore causes major issues.  I may ask for refund on $8k hearing aids if this isnâ€™t fix this next weekðŸ˜ŸðŸ˜ŸðŸ™\\x81', 'Nice app and would be great if can remember my settings (ex. volume and sound balance).': 'Nice app and would be great if can remember my settings (ex. volume and sound balance).', 'Als ik de instelling aanpas is het te schel voor mijn vrouw, die de hoorapparaten draagt. Als ik ook nog draadloze oortjes gebruik werkt de app niet meer waarvoor hij bedoeld is. Jammerlijk slechte app!': 'When I adjust the setting it is too shrill for my wife who wears the hearing aids. If I also use wireless earphones, the app no \\u200b\\u200blonger works for which it is intended. Sadly bad app!', 'Too many bugs, I used to use the Aftershokz headphones with my older hearing aids. I was hoping to be able to make calls listen to music etc without the headphones however with the starkey micro tech Esentia A1 1000 hearing aids the sound quality is horrible.  Canâ€™t put phone in my pocket as I am able to do with the headphones when talking on the phone and listening to music. the sound becomes distorted sounding robotic and the other person can hardly hear me and that is after I place the phone close hoping for better sound quality.  Why can they make headphones which pair wonderfully without any issues with sound cost less  but canâ€™t make $3500 starkey hearing aids work without issues? Btw today my hearing aids no longer are detected with the app. I tried the Bluetooth trick they recommended but it still does not work.  Also Could not use with Zoom meetings I could not hear the other parties.  Very frustrating and NOT worth the money.  Hearing aid companies are making a killing off the consumers who work their tails off to be able to hear better. My insurance is getting ripped off.  Starkey maybe you should get with Aftershokz company and find out how itâ€™s done without all the issues. Hopefully I can find something better with less headaches. D': 'Too many bugs, I used to use the Aftershokz headphones with my older hearing aids. I was hoping to be able to make calls listen to music etc without the headphones however with the starkey micro tech Esentia A1 1000 hearing aids the sound quality is horrible.  Canâ€™t put phone in my pocket as I am able to do with the headphones when talking on the phone and listening to music. the sound becomes distorted sounding robotic and the other person can hardly hear me and that is after I place the phone close hoping for better sound quality.  Why can they make headphones which pair wonderfully without any issues with sound cost less  but canâ€™t make $3500 starkey hearing aids work without issues? Btw today my hearing aids no longer are detected with the app. I tried the Bluetooth trick they recommended but it still does not work.  Also Could not use with Zoom meetings I could not hear the other parties.  Very frustrating and NOT worth the money.  Hearing aid companies are making a killing off the consumers who work their tails off to be able to hear better. My insurance is getting ripped off.  Starkey maybe you should get with Aftershokz company and find out how itâ€™s done without all the issues. Hopefully I can find something better with less headaches. D', 'The manual does little more than point out the features.  Nothing about what they mean.  For example when adjusting the bass/treble slider what does the red color meanâ€”bass or treble?  What does the negative number mean?': 'The manual does little more than point out the features.  Nothing about what they mean.  For example when adjusting the bass/treble slider what does the red color meanâ€”bass or treble?  What does the negative number mean?', 'Is the app or the hearing aid that\\'s faulty ?? Battery test only works infequently. Volume control is faulty. What the heck is \"broadcast level?\"': 'Is the app or the hearing aid that\\'s faulty ?? Battery test only works infequently. Volume control is faulty. What the heck is \"broadcast level?\"', 'Gut': 'Gut', 'I have tinertas and find it helps': 'I have tinertas and find it helps', 'Hearing Fitness stopped counting my hearing time. It worked finely, but today it stops and showed me zero minutes. All other features including volume control, program switch, etc, still working': 'Hearing Fitness stopped counting my hearing time. It worked finely, but today it stops and showed me zero minutes. All other features including volume control, program switch, etc, still working', 'La nueva actualizacion se ve muy bien incluso mejor que la antigua los nuevos cambios siempre son a mejor y se agradecen sigan asi y gracias por incluir una opcion de voz que dice a traves del telefono el programa que se usa y el nivel de pila en todo momento sin necesidad de usar el clip on estarÃ\\xada bien que ustedes implementarÃ¡n que se pueda usar sin el clip on y una opciÃ³n sin tener que ir a ajustes del telÃ©fono aplicaciones y buscar la app para forzar detenciÃ³n para poder cerrarla. un saludo.': 'The new update looks very good, even better than the old one, the new changes are always for the better and it is appreciated that they continue like this and thank you for including a voice option that says through the phone the program that is used and the battery level in all moment without using the clip on it would be nice if you implement that it can be used without the clip on and an option without having to go to phone settings applications and look for the app to force stop to be able to close it. Greetings.', 'Terrible! The old app was much better! You can\\'t rename programs, the volume setting does not \"stick\" once set and must be readjusted constantly, the options are minimal and don\\'t work properly. Junk in my opinion. I would like to reinstall the old app please!!': 'Terrible! The old app was much better! You can\\'t rename programs, the volume setting does not \"stick\" once set and must be readjusted constantly, the options are minimal and don\\'t work properly. Junk in my opinion. I would like to reinstall the old app please!!', 'Bin sehr zufrieden und komme gut mit der App zurecht': \"I'm very satisfied and get on well with the app\", 'Zmieniam opiniÄ™ i dajÄ™ 1 gwiazdÄ™ wiÄ™cej. Aplikacja mogÅ‚a by byÄ‡, ale kiedy rozÅ‚Ä…czam aparaty (2 sztuki) nie mogÄ™ sparowaÄ‡ ponownie ,telefon widzi aparaty lecz aplikacja nie odpowiada. MuszÄ™ ponownie reinstalowaÄ‡ aplikacjÄ™ aby wrÃ³ciÅ‚o wszystko do normy. Tel LG X power 2. Dam 5 gwiazdek jak naprawicie to co napisaÅ‚em': 'I change my opinion and give 1 star more. The application could be, but when I disconnect the cameras (2) I cannot pair again, the phone sees the cameras but the application does not respond. I have to reinstall the application to get everything back to normal. Tel LG X power 2. I will give 5 stars if you fix what I wrote', 'Ever since I upgraded my app to this current one my aids havenâ€™t worked proper since! We I have them on TV mode after awhile it turns off very annoying. Then we I switch from TV mode and to the one of the other modes, it keeps prompting the aids to go back to TV mode, I get so tired of it that I take the aids out until I am able to sit down to watch TV again. Fix this app!!!': 'Ever since I upgraded my app to this current one my aids havenâ€™t worked proper since! We I have them on TV mode after awhile it turns off very annoying. Then we I switch from TV mode and to the one of the other modes, it keeps prompting the aids to go back to TV mode, I get so tired of it that I take the aids out until I am able to sit down to watch TV again. Fix this app!!!', \"Won't connect to my aids after update, no support from oticon\": \"Won't connect to my aids after update, no support from oticon\", 'Excelente, muy buena.': 'Excellent, very good.', 'I have never received updates and since I have version 11 iPhone it has not picked up my right hearing aid. It shows not connected or not charged, which is an erroneous message. So far unreliable. When it works itâ€™s fine but itâ€™s performance with iPhone 11 is disappointing and very bothersome. Am I missing something\\nAfter this post I received advice from the developer which solved the problem. Thanks!': 'I have never received updates and since I have version 11 iPhone it has not picked up my right hearing aid. It shows not connected or not charged, which is an erroneous message. So far unreliable. When it works itâ€™s fine but itâ€™s performance with iPhone 11 is disappointing and very bothersome. Am I missing something\\nAfter this post I received advice from the developer which solved the problem. Thanks!', 'Consumen demasiado las pilas': 'They consume too much batteries', 'Eine gute App, leicht zu bedienen und ist immer in Bereitschaft.': 'A good app, easy to use and always ready.', 'Avec mon iPhone 8plus, la derniÃ¨re mise Ã\\xa0 jour a amÃ©liorÃ© la connectivitÃ© avec mes appareils. Le suivi de mon activitÃ© physique paraÃ®t plus fiable aussi. En tous cas plus que le dÃ©compte des pas via lâ€™appli santÃ© de mon iPhone.': 'With my iPhone 8plus, the latest update has improved connectivity with my devices. Tracking my physical activity also seems more reliable. In any case more than the count of steps via the health app on my iPhone.', \"Impossible d'Ã©teindre les aides auditives avec cette application idem pour la tÃ©lÃ©commande.\": 'Cannot turn off the hearing aids with this application, same for the remote control.', 'Need to hv features such as bass and treble adj controls., for all models cic.': 'Need to hv features such as bass and treble adj controls., for all models cic.', 'ì˜¤í‹°ì½˜ ì—…ë\\x8d°ì\\x9d´íŠ¸í•˜ë©´ì„œ ë\\x81Šê¹€í˜„ìƒ\\x81ì\\x9d´ë§Žì•„ ì–´í”Œë¬¸ì\\xa0œë¡œ íŠ•ê¸°ëŠ”í˜„ìƒ\\x81ì\\x9d´ë§Žì•˜ìŠµë‹ˆë‹¤ ì•ˆë“œë¡œì\\x9d´ë“œ10ë²„ì\\xa0„ìœ¼ë¡œ ì—…ë\\x8d°ì\\x9d´íŠ¸í›„ ë²¨í†¤ ë˜\\x90ëŠ”ìŠ¤íƒ€ê¸°ë³´ì²\\xadê¸°ëŠ” ë‹¤ì\\x9d´ë\\xa0‰íŠ¸ ì•ˆë“œë¡œì\\x9d´ë“œì‹¤í–‰ì¤‘ì\\x9d´ì–´ì„œ ì˜¤í‹°ì½˜ ì˜¤í”ˆë\\x8f„ ë‹¤ì\\x9d´ë\\xa0‰íŠ¸ë¡œê°œì„\\xa0ë°©ì•ˆë¶€íƒ\\x81ë“œë¦½ë‹ˆë‹¤ ì\\xa0€ì\\xa0„ë\\xa0¥ ë¸”ë£¨íˆ¬ìŠ¤ë¡œê°€ì§€ê³\\xa0ìžˆìœ¼ë‚˜ ì˜¤í‹°ì½˜ë\\x8f„ ê°€ëŠ¥í•\\xa0ìˆ˜ìžˆì–´ì„œ ì•„ì\\x9d´í\\x8f°ì\\x9d€ ë\\x90˜ì§€ë§Œì•ˆë“œë¡œì\\x9d´ë“œë\\x8f„ ë\\x90˜ì—ˆìœ¼ë©´ì¢‹ê²\\xa0ìŠµë‹ˆë‹¤ ì\\xa0œê°€ë©”ì\\x9d¼ë\\x8f„ë³´ëƒˆëŠ”ë\\x8d° ì•„ì§\\x81ë‹µë³€ì\\x9d´ ì—†ì–´ì„œ í›„ì†\\x8dì¡°ì¹˜ë¶€íƒ\\x81ë“œë¦½ë‹ˆë‹¤ ë‹µë³€ì¢€ë¶€íƒ\\x81ë“œë¦½ë‹ˆë‹¤': \"ì˜¤í ‹° ì½˜ ì—… ë ° ì ´íŠ¸í • ˜ë © ´ì„ œ ë Šê¹ € í˜ „ìƒ ì ´ë§Žì •„ ì – ´í ” Œë¬¸ì œë¡œ íŠ • ê¸ ° ëŠ ”í˜„ ìƒ ì ´ë§Žì • ˜ìŠµë ‹ˆë‹ ¤ ì • ˆë “œë¡œì ´ë“ œ10ë² „ì„ ìœ¼ë¡œ ì—… ë ° ì ´íŠ¸í ›„ ë²¨í † ¤ ë˜ ëŠ ”ìŠ¤íƒ € ê¸ ° ë³´ì²ê¸ ° ëŠ” ë ‹¤ì ´ë ‰ íŠ¸ ì • ˆË “œë¡œì ´ë“ œì ‹¤í– ‰ ì¤'ì ´ì – ´ì„ œ ì˜¤í ‹° ì½˜ ì˜¤í” ˆë „ë‹ ¤ì ´ë ‰ íŠ¸ë¡œê ° œì „ë ° © ì • ˆë¶ € íƒ ë“ œë¦½ë ‹ˆë‹ ¤ ì € ì „ë ¥ ë¸” ë £ ¨íˆ¬ìŠ¤ë¡œê ° € ì § € ê³ ìžˆìœ¼ë‚˜ ì˜¤í ‹° ì½˜ë„ ê ° € ëŠ ¥ í • ìˆ˜ìžˆì – ´ì „œ ì •„ ì ´í ° ì € ë ˜ì§ € ë§Œì • ˆë “œë¡œì ´ë“ œë „ë ˜ì — ˆìœ¼ë © ´ì ¢‹ ê² ìŠµë ‹ˆë‹ ¤ ì œê ° € ë © ”ì ¼ë„ ë³´ëƒˆëŠ ”ë ° ì • „ì§ ë‹ µë³ € ì ´ ì— † ì – ´ì „œ í› „ì † ì¡ ° ì¹˜ë¶ € íƒ ë“ œë¦½ë ‹ˆë‹ ¤ ë ‹Μë³ € ì ¢ € ë¶ € íƒ ë“ œë¦½ë ‹ˆë‹ ¤\", 'Extremely Lousy! You had a good app and you replaced it with a piece of junk. At first, it kept losing contact with my left aid. Then it just quit pairing at all. Nothing wrong with the BlueTooth on my phone. Connect with several other devices without any problems.': 'Extremely Lousy! You had a good app and you replaced it with a piece of junk. At first, it kept losing contact with my left aid. Then it just quit pairing at all. Nothing wrong with the BlueTooth on my phone. Connect with several other devices without any problems.', 'Ð“Ð´Ðµ Ð¼Ð¾Ð¶Ð½Ð¾ Ð¿Ñ€Ð¾Ñ‡Ð¸Ñ‚Ð°Ñ‚ÑŒ Ð¸Ð½Ñ\\x81Ñ‚Ñ€ÑƒÐºÑ†Ð¸ÑŽ Ð¿Ð¾Ð»ÑŒÐ·Ð¾Ð²Ð°Ð½Ð¸Ñ\\x8f Ð½Ð° Ñ€ÑƒÑ\\x81Ñ\\x81ÐºÐ¾Ð¼ Ñ\\x8fÐ·Ñ‹ÐºÐµ? Ð‘ÐµÐ· Ð¸Ð½Ñ\\x81Ñ‚Ñ€ÑƒÐºÑ†Ð¸Ð¸ Ñ\\x81 Ð¿Ñ€Ð¸Ð¼ÐµÐ½ÐµÐ½Ð¸ÐµÐ¼ Ð½Ðµ Ñ€Ð°Ð·Ð¾Ð±Ñ€Ð°Ñ‚ÑŒÑ\\x81Ñ\\x8f': '. Ñ \\u200b\\u200b€ ÑƒÑ Ñ ÐºÐ¾Ð¼ Ñ Ð · Ñ ‹ÐºÐµ? Ð‘ÐµÐ · Ð¸Ð½Ñ Ñ‚Ñ € ÑƒÐºÑ † Ð¸Ð¸ Ñ Ð¿Ñ € Ð¸Ð¼ÐµÐ½ÐµÐ½Ð¸ÐµÐ¼ Ð½Ðµ Ñ € Ð ° Ð · Ð¾Ð ± Ñ € Ð ° Ñ‚ÑŒÑ Ñ', 'Superar tu forma de escuchar Es maravilloso Hojala se sigan superando': 'Overcome your way of listening It is wonderful.', 'Wow pink noise. Immediately got rid of the ringing.. Only had app for about 5 min. But so far pretty cool': 'Wow pink noise. Immediately got rid of the ringing.. Only had app for about 5 min. But so far pretty cool', 'I was recently diagnosed with tinnitus and was having difficulty sleeping. The audiologist recommended this app and it has given back my restful nights. It silences the ringing in my ears as I listen to rain and thunder. The ability to combine sounds at different volumes is fantastic.': 'I was recently diagnosed with tinnitus and was having difficulty sleeping. The audiologist recommended this app and it has given back my restful nights. It silences the ringing in my ears as I listen to rain and thunder. The ability to combine sounds at different volumes is fantastic.', 'Works well': 'Works well', 'Buenas': 'Good', \"Beautiful. Can't live without this app. excellent hearing device. Glad I have it.\": \"Beautiful. Can't live without this app. excellent hearing device. Glad I have it.\", 'Gostaria de saber se o aparelho Chronos 5 funciona com o app? Ou se precisa de atualizaÃ§Ã£o pelo Aplicativo que a fonoaudiÃ³loga utiliza para que a conectividade funcione com esse app, sem o soundgate?': 'I wonder if the Chronos 5 device works with the app? Or if you need to update using the App that the speech therapist uses for connectivity to work with this app, without the soundgate?', \"Recently the app started changing the sound program I'm using on its own. It even, at times, combines two programs. This can happen several times in a short period. Sometimes it shows it's streaming when it isn't. I have the Rechargeable Preza Aids and a Pixel 3A XL.\": \"Recently the app started changing the sound program I'm using on its own. It even, at times, combines two programs. This can happen several times in a short period. Sometimes it shows it's streaming when it isn't. I have the Rechargeable Preza Aids and a Pixel 3A XL.\", 'Very very expensive': 'Very very expensive', 'Celle-ci pourrais Ãªtre mieux devollepper': 'This one could be better off', \"A recent update removed support for the Phonak Sky model hearing aids. I am very disappointed in the choice to remove support for that model. Before that update I would have rated the app 3 or 4 stars. Phonak now provides absolutely no way to adjust the Sky model hearing aid without visiting the audiologist. I like the hearing aid, but the ability to adjust the auto-on features (provided via this app previously) and maybe the ability to run the feedback manager without an audiologist (not provided by this app in the time I've used it, which is why I would not rate 5 stars) is something I would expect from a multi-thousand dollar piece of medical equipment. I realize what I'm asking for does not all fall on the app developer, but when the device instructions and audiologist point you to the myPhonak app, I would at least expect device support of some kind.\": \"A recent update removed support for the Phonak Sky model hearing aids. I am very disappointed in the choice to remove support for that model. Before that update I would have rated the app 3 or 4 stars. Phonak now provides absolutely no way to adjust the Sky model hearing aid without visiting the audiologist. I like the hearing aid, but the ability to adjust the auto-on features (provided via this app previously) and maybe the ability to run the feedback manager without an audiologist (not provided by this app in the time I've used it, which is why I would not rate 5 stars) is something I would expect from a multi-thousand dollar piece of medical equipment. I realize what I'm asking for does not all fall on the app developer, but when the device instructions and audiologist point you to the myPhonak app, I would at least expect device support of some kind.\", \"This app won't stay connected. Every time I put it in I have to connect it to the app to put the program in. It does not stay and the app will not connect.\": \"This app won't stay connected. Every time I put it in I have to connect it to the app to put the program in. It does not stay and the app will not connect.\", 'Der letzte Schrott, ohne jegliche funktion, weder Programe noch LautstÃ¤rke lÃ¤sst sich einstellen!': 'The last scrap, without any function, neither programs nor volume can be adjusted!', 'i donâ€™t know if itâ€™s the hearing aids or the app but connection though iphone is  terrible. i miss calls constantly because it doesnâ€™t come through my phone , and when i try to make calls it doesnâ€™t work, going back to my resounds': 'i donâ€™t know if itâ€™s the hearing aids or the app but connection though iphone is  terrible. i miss calls constantly because it doesnâ€™t come through my phone , and when i try to make calls it doesnâ€™t work, going back to my resounds', 'Disappointing to say the least. The app lacks so many key features that would make it far easier to use. I feel like iâ€™ve been lied to as Signia proudly talk about their bluetooth capabilities within these hearing aids and this app but they just manage to fall short of lackluster.\\nNot sure where to begin but hear are some features the app needs to add.\\n1. Make it so users can set a new default volume and sound balance that suits them. Every time i open the app it resets itself and i have to re enter the settings that suit me. Itâ€™s incredibly annoying seeing as it also resets itself when i switch between streaming music through my hearing aids and using the app. This feature alone would be enough to get me to like the app and itâ€™s quite shocking that no one thought of this when making the app - or even thought it was a good idea?\\n2. Allow Users to create multiple programs that suit them. The default outside option is awful as is the default universal but when i lower sound balance it suits me well. If i could save new programs along w the default options so i could switch between them dependent on where I am that would be ideal.\\n3. Make an option to disconnect phone streaming through hearing aids while keeping bluetooth connected. (Iâ€™m not sure if this is relevant to the app - but music streaming is awful through my hearing aids so the ability to just turn that off while still being able to connect to the app would be ideal)\\nOverall the app is only just useable. The contact support option is pointless as the robot canâ€™t answer questions that Signia havenâ€™t thought of themselves so bug fixes canâ€™t be addressed with it and the battery check option is bad too - my right hearing aid was dead yesterday but the app was telling me it was on 60%. \\nItâ€™s hard to believe a piece of technology this expensive has an app this bad.': 'Disappointing to say the least. The app lacks so many key features that would make it far easier to use. I feel like iâ€™ve been lied to as Signia proudly talk about their bluetooth capabilities within these hearing aids and this app but they just manage to fall short of lackluster.\\nNot sure where to begin but hear are some features the app needs to add.\\n1. Make it so users can set a new default volume and sound balance that suits them. Every time i open the app it resets itself and i have to re enter the settings that suit me. Itâ€™s incredibly annoying seeing as it also resets itself when i switch between streaming music through my hearing aids and using the app. This feature alone would be enough to get me to like the app and itâ€™s quite shocking that no one thought of this when making the app - or even thought it was a good idea?\\n2. Allow Users to create multiple programs that suit them. The default outside option is awful as is the default universal but when i lower sound balance it suits me well. If i could save new programs along w the default options so i could switch between them dependent on where I am that would be ideal.\\n3. Make an option to disconnect phone streaming through hearing aids while keeping bluetooth connected. (Iâ€™m not sure if this is relevant to the app - but music streaming is awful through my hearing aids so the ability to just turn that off while still being able to connect to the app would be ideal)\\nOverall the app is only just useable. The contact support option is pointless as the robot canâ€™t answer questions that Signia havenâ€™t thought of themselves so bug fixes canâ€™t be addressed with it and the battery check option is bad too - my right hearing aid was dead yesterday but the app was telling me it was on 60%. \\nItâ€™s hard to believe a piece of technology this expensive has an app this bad.', 'Adds nothing to Appleâ€™s accessibility programming except letting them track the user location and link you to someone controlling your hearing. Six to nine grand for hearing aids, I expect better. \\nThis app does more to misunderstand the use of Resound hearing aids. Would be better to go to Apple Settings.': 'Adds nothing to Appleâ€™s accessibility programming except letting them track the user location and link you to someone controlling your hearing. Six to nine grand for hearing aids, I expect better. \\nThis app does more to misunderstand the use of Resound hearing aids. Would be better to go to Apple Settings.', 'It never stays sync and always kills battery on phone': 'It never stays sync and always kills battery on phone', 'I am a blind individual who uses your WRIDEX hearing aids. I like them very much! I would also like to be able to use your iPhone app to adjust my hearing aids, but, the app is not fully accessible for someone using speech output or the iOS speech software. I hope that you will soon address this accessibility issue.': 'I am a blind individual who uses your WRIDEX hearing aids. I like them very much! I would also like to be able to use your iPhone app to adjust my hearing aids, but, the app is not fully accessible for someone using speech output or the iOS speech software. I hope that you will soon address this accessibility issue.', 'habe HÃ¶rgerÃ¤te der neuesten Generation Signia stiletto 5x, die App reagiert in der Verbindung Ã¼ber bluetooth, S8, sehr trÃ¤ge. Bin ich in einer Situation in der ich meine HÃ¶rgerÃ¤te anpassen mÃ¶chte, dauert es in der Regel 30 sec. bis die Verbindung steht. Wird sie aus Versehen geschlossen, weggewischt, geht die Prozedur der Verbindungswarterei wieder los. SchÃ¶n wÃ¤re eine Einstellung mit der ich die App bewusst schlieÃŸe ansonsten aktiv bleibt.': 'I have hearing aids of the latest generation Signia stiletto 5x, the app reacts very slowly when connected via bluetooth, S8. If I am in a situation in which I want to adjust my hearing aids, it usually takes 30 seconds until the connection is established. If it is accidentally closed or wiped away, the waiting room procedure starts again. It would be nice to have a setting with which I consciously close the app, otherwise it remains active.', \"Like the older app. Following all instructions, never get past 'searching'.\": \"Like the older app. Following all instructions, never get past 'searching'.\", 'Handy% Honor S7, HÃ¶rgerÃ¤t: L+R : HdO Audio M70-R, Bluetooth fÃ¼r die Annahme von GesprÃ¤chen funktioniert, aber die App findet keine HÃ¶rgerÃ¤te.': 'Handy% Honor S7, hearing aid: L + R: BTE Audio M70-R, Bluetooth works for accepting calls, but the app cannot find any hearing aids.', \"en 1an et demi d utilisation mon appareil auditif a Ã©tÃ© changÃ© quatre fois.aujourd hui encore mon appareil gauche (et c est souvent le mÃªme cÃ´tÃ©) est en panne : la batterie se dÃ©charge dÃ¨s que je dÃ©branche. c est l l'horreur et je suis mÃ©contente.\": 'in 1 year and a half of use my hearing aid has been changed four times. still today my left device (and it is often the same side) is broken: the battery is discharged immediately that I unplug. This is the horror and I am upset.', 'Satisfied': 'Satisfied', 'I do not like the app pops up multiple times a day saying the app has stopped working. Why!? It interferes with anything you do. Pops up when playing a game or looking at YouTube. Fix it!! It kept reporting crashes multiple times a day. I agree with the others here, thatthe app doesnt stayon the setting you put on there. Hearing aids are ok but when you have s crappy app, what is the point!? Fix the app!!!': 'I do not like the app pops up multiple times a day saying the app has stopped working. Why!? It interferes with anything you do. Pops up when playing a game or looking at YouTube. Fix it!! It kept reporting crashes multiple times a day. I agree with the others here, thatthe app doesnt stayon the setting you put on there. Hearing aids are ok but when you have s crappy app, what is the point!? Fix the app!!!', 'Har ikke fÃ¥et lortet til at fungere med telefonen ðŸ‘¹': 'Did not get the shit to work with the phone ðŸ‘¹', 'Muito bom aplicativo super prÃ¡tico.ðŸ˜ƒ': 'Very good application super practical.ðŸ˜ƒ', 'Meine Erfahrungen mit Galaxy s7 und Galaxy Tab Pro 8.4 zeigten Ã¤hnliche Probleme, wie bei vielen anderen. Kein Pairing!!!! Dann aber ist es mir gelungen, bei beiden GerÃ¤ten eine Verbindung herzustellen. Als erstes zumindest fÃ¼r den ersten Versuch : Neue Batterien einlegen!!!! . Zweitens nur Bluetooth aktivieren und HÃ¶rgerÃ¤te suchen lassen. Die mÃ¼ssen gefunden werden. Eventuell GerÃ¤te noch mal ausschalten und wieder einschalten (Batteriefach Ã¶ffnen und schliessen.Dann Bluetooth wieder ausschalten. Jetzt Smart3D starten und GerÃ¤te suchen lassen, wieder evtl. GerÃ¤te aus- und einschalten. Dann wieder Bluetooth dazuschalten, dann findet die App die vorher getesteten GerÃ¤te. Nach dem folgreichen Pairing in Zukunft vor dem wieder Starten von Smart3D kontrollieren, ob Bluetooth ausgeschaltet ist,sonst abschalten. Smart3D starten und erst dann Bluetooth wieder dazu einschalten, Nie schon Bluetooth aktiviert haben, dann findet Smart3D oft nicht die GerÃ¤te': \"My experience with Galaxy s7 and Galaxy Tab Pro 8.4 showed similar problems as with many others. No pairing !!!! But then I managed to establish a connection on both devices. First of all, at least for the first attempt: insert new batteries !!!! . Second, just activate Bluetooth and search for hearing aids. They have to be found. If necessary switch devices off and on again (open and close the battery compartment. Then switch off Bluetooth again. Now start Smart3D and search for devices, switch devices off and on again, if necessary. Then switch Bluetooth on again, then the app finds the previously tested devices. After successful pairing in the future, before restarting Smart3D, check whether Bluetooth is switched off, otherwise switch it off. Start Smart3D and only then switch on Bluetooth again, if you have never already activated Bluetooth, then finds Smart3D often doesn't have the devices\", 'For the price of Starky we deserve more attention to the app bug fixes - app for ios 13 & iphone pro max Bluetooth is terrible & been a Starky user 4 years now & the app has always been Undependable slow & Bluetooth chases - Hardly ever any bug fix updates like most all apps require!': 'For the price of Starky we deserve more attention to the app bug fixes - app for ios 13 & iphone pro max Bluetooth is terrible & been a Starky user 4 years now & the app has always been Undependable slow & Bluetooth chases - Hardly ever any bug fix updates like most all apps require!', 'I have just had to â€œforget this deviceâ€\\x9d and pair my aids for the umpteenth time. I have a new iPhone 11 but it was the same with my iPhone 8. The app seems unstable. Ugh!': 'I have just had to â€œforget this deviceâ€\\x9d and pair my aids for the umpteenth time. I have a new iPhone 11 but it was the same with my iPhone 8. The app seems unstable. Ugh!', 'I tried the Widex Evoke 330 and LOVED the sound! Unfortunately, the app is possessed and turns off on of the aids intermittently without my even touching my phone. I went back to my audiologist and she took the evokes back and loaned me a pair of resounds (the sound is not even close to as good!). I contacted Widex online through chat and the rep kept insisting that my iPad was the problem. I explained that this was happening while my iPad was miles away from my iPhone. Then he said â€œthere are no none issues with the appâ€\\x9d. How disappointing!! Iâ€™m considering asking my audiologist for another pair and trying them with a Widex remote, however for this much money these things should work with the app!! Come on Widex! Youâ€™ve invested time in getting a great sound. Fix the app!': 'I tried the Widex Evoke 330 and LOVED the sound! Unfortunately, the app is possessed and turns off on of the aids intermittently without my even touching my phone. I went back to my audiologist and she took the evokes back and loaned me a pair of resounds (the sound is not even close to as good!). I contacted Widex online through chat and the rep kept insisting that my iPad was the problem. I explained that this was happening while my iPad was miles away from my iPhone. Then he said â€œthere are no none issues with the appâ€\\x9d. How disappointing!! Iâ€™m considering asking my audiologist for another pair and trying them with a Widex remote, however for this much money these things should work with the app!! Come on Widex! Youâ€™ve invested time in getting a great sound. Fix the app!', 'Also ich kann diese vielen schlechten Bewertungen nicht verstehen. Ich finde die App super. Meine HÃ¶rgerÃ¤te sind die M70. Allerdings richtig funktionieren tut die App nur wenn man die TastentÃ¶ne auschaltet. Super sind die individuellen Einstellungen und dass man denen dann eigene Namen geben kann. SUPER weiter so. GERNE IHR HABT ES VERDIENT ðŸ‘\\x8d': \"So I can't understand all of these bad reviews. I think the app is great. My hearing aids are the M70. However, the app only works properly if you switch off the key tones. The individual settings are great and that you can then give them your own names. Great go on. LIKE YOU DESERVED IT ðŸ ‘\", 'Fonctionne trÃ¨s mal car elle s arrÃªte frÃ©quemment. Obligation de repasser par la fonction demo et de refermer !': 'Works very poorly because it stops frequently. Obligation to go through the demo function again and to close!', 'Very handy app especially the ability to change to the tv settings and adjust the volume': 'Very handy app especially the ability to change to the tv settings and adjust the volume', 'The rechargeable hearing devices By phonak have a problem accepting the upgrade. Maybe its me.': 'The rechargeable hearing devices By phonak have a problem accepting the upgrade. Maybe its me.', 'Super easy to use! Itâ€™s awesome having this tool on hands to check my hearing quickly, so I can have some idea on how it is. You can compare both ears individually to see if you have any hearing loss. Also it generates an audiogram for both ears. Now my whole family can make a quickly checkup of our hearing. I know it doesnâ€™t substitute a doctor, but you can have a good sign when you need to make a doctor appointment. I really like this app!': 'Super easy to use! Itâ€™s awesome having this tool on hands to check my hearing quickly, so I can have some idea on how it is. You can compare both ears individually to see if you have any hearing loss. Also it generates an audiogram for both ears. Now my whole family can make a quickly checkup of our hearing. I know it doesnâ€™t substitute a doctor, but you can have a good sign when you need to make a doctor appointment. I really like this app!', 'Downloaded the app, but each time the app begins to open, it flashes back to phone home page.  Deleted and reinstalled five times, did it every time.': 'Downloaded the app, but each time the app begins to open, it flashes back to phone home page.  Deleted and reinstalled five times, did it every time.', 'PrÃ¡tico e preciso!': 'Practical and precise!', 'Know where your hearing is at. This is an invaluable tool.': 'Know where your hearing is at. This is an invaluable tool.', 'My Android phone recognizes the aides but the app wont. Rather surprised Phonak puts out such a great aide and their name on what appears to be a shoddy app.': 'My Android phone recognizes the aides but the app wont. Rather surprised Phonak puts out such a great aide and their name on what appears to be a shoddy app.', \"Keeps dropping in and out with annoying 'doinck doink'. SERIOUSLY thinking of not using. Please explain.\": \"Keeps dropping in and out with annoying 'doinck doink'. SERIOUSLY thinking of not using. Please explain.\", 'der direkte Ton im Ohr fÃ¤llt manchmal aus. Dann muss man die Stecker ein und ausstecken. Das ist lÃ¤stig.': \"the direct sound in the ear is sometimes missing. Then you have to plug in and unplug the plugs. It's annoying.\", 'Se conectan los audifonos cuando quieren, dÃ\\xadas que va bien..... Pocos': 'They connect the headphones when they want, days that go well ...', 'Crashed my Samsung 87 times today worst since new app': 'Crashed my Samsung 87 times today worst since new app', 'Not Compatible With Android.. big issue.': 'Not Compatible With Android.. big issue.', 'Very good when working. Sometime they wonâ€™t pair, or just one side will. Tried the battery routines. They have a mind of their own.': 'Very good when working. Sometime they wonâ€™t pair, or just one side will. Tried the battery routines. They have a mind of their own.', 'Losing connection to aids when turn sound to vibrate only. And at other times but not sure when. Only been using for a week though.': 'Losing connection to aids when turn sound to vibrate only. And at other times but not sure when. Only been using for a week though.', 'I am so disappointed in these hearing aids. Iâ€™ve only had them since August and have already had to send them back twice. These are the #1 rates hearing aids for moderate hearing loss.  After having trouble hearing with the TV I got the TV adapter just before Thanksgiving and I love being able to have it directly stream into my hearing aids when it works.  I had some concerns about every time my iPhone dinner with the weather or some insignificant notification that the streaming would interrupt. I contacted Oticon and they were no help in what I had wrong with the settings. I would like to be able to use the tv adapter and do some work on my phone. As Iâ€™m typing this the TV adapter isnâ€™t streaming yet the iPhone is NOT connecting to my hearing aids. This is a big nuisance. \\nOther than that the TV adapter seemed to be a big problem solver.  But then after a couple of weeks I started having issues again. The right hearing aid volume was greatly reduced or not working at all. The hearing aids would click off frequently.   They were having issues with or without the TV adapter. I would adjust the volume but could not hear any perceptible difference.  It got to the point that they were so bad that just before Christmas they went back again. So again I have a loaner pair. \\nBut with the loaner pair came a new problem with the TV adapter. The problem with the streaming cutting out with the streaming continued. But I would have adjusted the volume to a different setting. Now every time it cuts out the volume adjustments go back to the default which is a 16 out of 18. So Iâ€™m constantly being blasted and have to readjust it.   Iâ€™ve tried to find a setting for  the default setting but canâ€™t find one. Iâ€™ve called Oticon again and was told this is a programming issue and see my audiologist.  And also to go through all the resetting of the iPhone, forget the hearing aids, turn off WiFi, turn off Bluetooth, etc. Nope, nothing has fixed it.  \\nNow the right loaner hearing aid is having issues with the volume and not being able to hear out of it, with or without the TV adapter. Iâ€™ve even put it in my left ear to see if the problem is my ear but thereâ€™s nothing there. Iâ€™ll take out the battery and reset but nothing. Iâ€™ll take out the battery for a couple of hours and then itâ€™s working again (same battery). But shortly thereafter with using the app for volume control itâ€™s doing the same thing again. \\nSo now Iâ€™m starting to put the pieces together that maybe the main problems are with the app and not as much the hearing aids. Especially after reading these reviews and seeing others having the same issues, which is where the lightbulb went off. \\nAnd as t as I can tell the update to the app happened around the same time that I got the loaner hearing aids which was when the volume kept resetting. I hope this didnâ€™t provide to much detail but I do find the app to be really lacking.  And am so far very upset about the amount of money AND time spent trying to get these to work properly. These are not cheap hearing aids and Oticon should extend the warranty until they are working properly and really think about the inconvenience that itâ€™s causing itâ€™s customers. Depending on traffic it takes an hour just to get to my appointment.': 'I am so disappointed in these hearing aids. Iâ€™ve only had them since August and have already had to send them back twice. These are the #1 rates hearing aids for moderate hearing loss.  After having trouble hearing with the TV I got the TV adapter just before Thanksgiving and I love being able to have it directly stream into my hearing aids when it works.  I had some concerns about every time my iPhone dinner with the weather or some insignificant notification that the streaming would interrupt. I contacted Oticon and they were no help in what I had wrong with the settings. I would like to be able to use the tv adapter and do some work on my phone. As Iâ€™m typing this the TV adapter isnâ€™t streaming yet the iPhone is NOT connecting to my hearing aids. This is a big nuisance. \\nOther than that the TV adapter seemed to be a big problem solver.  But then after a couple of weeks I started having issues again. The right hearing aid volume was greatly reduced or not working at all. The hearing aids would click off frequently.   They were having issues with or without the TV adapter. I would adjust the volume but could not hear any perceptible difference.  It got to the point that they were so bad that just before Christmas they went back again. So again I have a loaner pair. \\nBut with the loaner pair came a new problem with the TV adapter. The problem with the streaming cutting out with the streaming continued. But I would have adjusted the volume to a different setting. Now every time it cuts out the volume adjustments go back to the default which is a 16 out of 18. So Iâ€™m constantly being blasted and have to readjust it.   Iâ€™ve tried to find a setting for  the default setting but canâ€™t find one. Iâ€™ve called Oticon again and was told this is a programming issue and see my audiologist.  And also to go through all the resetting of the iPhone, forget the hearing aids, turn off WiFi, turn off Bluetooth, etc. Nope, nothing has fixed it.  \\nNow the right loaner hearing aid is having issues with the volume and not being able to hear out of it, with or without the TV adapter. Iâ€™ve even put it in my left ear to see if the problem is my ear but thereâ€™s nothing there. Iâ€™ll take out the battery and reset but nothing. Iâ€™ll take out the battery for a couple of hours and then itâ€™s working again (same battery). But shortly thereafter with using the app for volume control itâ€™s doing the same thing again. \\nSo now Iâ€™m starting to put the pieces together that maybe the main problems are with the app and not as much the hearing aids. Especially after reading these reviews and seeing others having the same issues, which is where the lightbulb went off. \\nAnd as t as I can tell the update to the app happened around the same time that I got the loaner hearing aids which was when the volume kept resetting. I hope this didnâ€™t provide to much detail but I do find the app to be really lacking.  And am so far very upset about the amount of money AND time spent trying to get these to work properly. These are not cheap hearing aids and Oticon should extend the warranty until they are working properly and really think about the inconvenience that itâ€™s causing itâ€™s customers. Depending on traffic it takes an hour just to get to my appointment.', 'Nach jedem Update das gleiche Problem und derselbe Ã„rger. Verbinden NICHT mÃ¶glich!!!! Was ist euer Problem? Sehr gute GerÃ¤te und technisch dieses stÃ¤ndige Defizit': \"Same problem and annoyance after every update. Connect NOT possible !!!! What's your problem? Very good equipment and this constant technical deficit\", 'Sans arrÃªt les appareils se dÃ©connectent câ€™est vraiment pÃ©nible et en plus mieux vaut ne pas rÃ©pondre souvent au tÃ©lÃ©phone car vous perdez de lâ€™autonomie suis dÃ©Ã§ue': 'Without stopping the devices disconnect it is really painful and in addition it is better not to answer the phone often because you lose autonomy.', \"Works well. My audiologist recommended I use it to help with ringing in my ears, not sure it's helping that but it is relaxing.\": \"Works well. My audiologist recommended I use it to help with ringing in my ears, not sure it's helping that but it is relaxing.\", 'Deze app is best handig om je controle te hebben over je gehoor apparaten. Er zijn echter een paar aandachtspunten.\\nJe TV geluid (Aangesloten TV adapter) kun je niet een standaard niveau geven. Als je de Tv koppeld dan knalt ie de je oren(niveau 14) terwijl een niveau 0 zeer comfortabel is.\\nDaarnaast bewaard de app alleen je lokatie als de app ook daadwerkelijk gekoppeld is. Erg vervelend als je ze kwijt bent en de App niet aan stond. Dus graag iets dergelijks als Mijn iPhone gebruiken.\\nAls de onzin over over Internet of Things (IFTTT) dat aub uit de App, geen mens die het gebruikt.\\nHearing Fitness werkt ook alleen als de App actief is. App kan niet op achtergrond werken naar mijn bevindingen.\\nMoet altijd Actief zijn.': 'This app is quite useful for taking control of your hearing aids. However, there are a few points to consider.\\nYou cannot give your TV sound (Connected TV adapter) a standard level. If you connect the TV, it will pop your ears (level 14) while a level 0 is very comfortable.\\nIn addition, the app only saves your location if the app is actually linked. Very annoying if you have lost them and the App was not on. So like to use something like My iPhone.\\nIf the nonsense about the Internet of Things (IFTTT) please get it from the App, no one who uses it.\\nHearing Fitness also only works when the App is active. App cannot work in background in my opinion.\\nMust always be Active.', 'Katastrophale App. Verliert stÃ¤ndig die Verbindung zu den HÃ¶rgerÃ¤ten. Fast jedes mal eine Neuinstallation erforderlich.': 'Disastrous app. Keeps disconnected from hearing aids. Reinstallation required almost every time.', 'Denne appen er helt ubrukelig. Finner apparatene men stÃ¥r sÃ¥ bare og spinner og kommer ikke videre.': 'This app is completely useless. Finds the devices but then just stands and spins and does not move on.', 'Telefonla eÅŸleÅŸtiremiyorum': 'I cannot pair with the phone', \"Useless on Samsung S10 Note. Personalization doesn't work. Seems to eat hearing aid batteries. Use to have limited success on my S7 Edge. Don't waste your time.\": \"Useless on Samsung S10 Note. Personalization doesn't work. Seems to eat hearing aid batteries. Use to have limited success on my S7 Edge. Don't waste your time.\", 'Sorry to say new app release is one big problem connecting.  Never had issues before, now it is inconsistent and more identify then not does not connect.': 'Sorry to say new app release is one big problem connecting.  Never had issues before, now it is inconsistent and more identify then not does not connect.', 'This is the worst app. You charged me 6000 for these hearing aids. They do not live up to your clams.  The app failed to work. I called for help got none. Your old app did work fine this one is so bad I sent you back your hearing. Good ridden to your hearing aids and poor app. What a ripoff. For a company that saids people first you have a funny way to prove it.': 'This is the worst app. You charged me 6000 for these hearing aids. They do not live up to your clams.  The app failed to work. I called for help got none. Your old app did work fine this one is so bad I sent you back your hearing. Good ridden to your hearing aids and poor app. What a ripoff. For a company that saids people first you have a funny way to prove it.', 'So far so good': 'So far so good', 'Installed app/TV streamer yesterday with new hearing aids. It\\'s transformed my TV experience. Used to have everyone in family complain \"TV too loud\", now not so much. Using up batteries in 48 hrs though, not so good, but that\\'s bluetooth reality, not the apps fault. Really recommend app + Embrace Hearing aids, model S910': 'Installed app/TV streamer yesterday with new hearing aids. It\\'s transformed my TV experience. Used to have everyone in family complain \"TV too loud\", now not so much. Using up batteries in 48 hrs though, not so good, but that\\'s bluetooth reality, not the apps fault. Really recommend app + Embrace Hearing aids, model S910', 'Works great.': 'Works great.', 'Works on iPhone Xr except for Program Overview. The menu to manage things like location drops below the bottom of the iPhone. Please fix. \\n_______________\\nUpdate: the app is terrible. It will not stay connected to my hearing aids and does not connect automatically like it used to. So forget about setting locations.  \\nI am weary of dealing with it and it may impact my next set of hearing aids. \\nIâ€™m tired of the blame game too. Called Resound and they blamed The Apple updateâ€¦ get with the program. Other apps obviously keep up with updates. This is the second time that an update shipwrecked their app. This shouldnâ€™t happen to a company who prides themselves in their techno-savviness. \\nPlease fix this and keep it fixed.': 'Works on iPhone Xr except for Program Overview. The menu to manage things like location drops below the bottom of the iPhone. Please fix. \\n_______________\\nUpdate: the app is terrible. It will not stay connected to my hearing aids and does not connect automatically like it used to. So forget about setting locations.  \\nI am weary of dealing with it and it may impact my next set of hearing aids. \\nIâ€™m tired of the blame game too. Called Resound and they blamed The Apple updateâ€¦ get with the program. Other apps obviously keep up with updates. This is the second time that an update shipwrecked their app. This shouldnâ€™t happen to a company who prides themselves in their techno-savviness. \\nPlease fix this and keep it fixed.', 'I have the Samsung Note 8 and this app works flawlessly so I have to give it five stars well earned. I have the M90, what a joy !!': 'I have the Samsung Note 8 and this app works flawlessly so I have to give it five stars well earned. I have the M90, what a joy !!', 'Worked ok.': 'Worked ok.', 'Fungerer ikke, har Huawei. Den gamle appen var topp og fungerte.': 'Does not work, Huawei has. The old app was great and worked.', \"Ever since this app was updated, I've lost connectivity. I've restarted Bluetooth, restarted my ConnectClip, restarted my hearing aids, and nothing works.\": \"Ever since this app was updated, I've lost connectivity. I've restarted Bluetooth, restarted my ConnectClip, restarted my hearing aids, and nothing works.\", \"AprÃ¨s avoir fait la mise Ã\\xa0 jour de phonak remote vers my phonak mon aide auditive n'est plus reconnue. Il semble que l'aide auditive Phonak mise en place avec le logiciel de mon prothÃ©siste Amplifon le rende incompatible avec cette mise Ã\\xa0 jour qui le prend pour une aide auditive d'amplifon...\": 'After updating from phonak remote to my phonak my hearing aid is no longer recognized. It seems that the Phonak hearing aid set up with my hearing aid technician Amplifon software makes it incompatible with this update which mistakes it for an amplifon hearing aid ...', \"I'm very unhappy. My Android phone updated and my old Phonak app no longer works. I uninstalled it and installed this app. This app won't find my hearing aids. I love the old version. Relied on it for my job. This app is worthless to me. Why didn't you update the old app rather than create a new one. I had zero problems with the old one. If this can't found my hearing aids it is absolutely worthless.\": \"I'm very unhappy. My Android phone updated and my old Phonak app no longer works. I uninstalled it and installed this app. This app won't find my hearing aids. I love the old version. Relied on it for my job. This app is worthless to me. Why didn't you update the old app rather than create a new one. I had zero problems with the old one. If this can't found my hearing aids it is absolutely worthless.\", 'Very poor app Have to keep uninstalling it and reinstalling it every other week. You rhink by now they would cone up with something better for Android. My friend has apple and has no problems?? Very unsatisfied with this app. Almost a year later and no better! You would think for what Hearing aids cost the app would have been updated by now! Very disappointed': 'Very poor app Have to keep uninstalling it and reinstalling it every other week. You rhink by now they would cone up with something better for Android. My friend has apple and has no problems?? Very unsatisfied with this app. Almost a year later and no better! You would think for what Hearing aids cost the app would have been updated by now! Very disappointed', 'Very good': 'Very good', 'I use my iPhone while watching TV. The app shuts off ARBITRARILY several times an hour. The TZ program volume control does NOT control. Each time I have to restart it the volume defaults to level 14... really hurts and it take waaay too long to correct it. I want it to open up to a volume which I decide on EVERY-TIME I access it. This app has too many growing pains and VERY slow to respond while the volume controls are being frantically operated to STOP THE PAIN!!': 'I use my iPhone while watching TV. The app shuts off ARBITRARILY several times an hour. The TZ program volume control does NOT control. Each time I have to restart it the volume defaults to level 14... really hurts and it take waaay too long to correct it. I want it to open up to a volume which I decide on EVERY-TIME I access it. This app has too many growing pains and VERY slow to respond while the volume controls are being frantically operated to STOP THE PAIN!!', 'Justa note to the developers many audiologists are shutting their doors this week in Australia and probably elsewhere in the world. Support with hearing aid issues via your website with well published links works be very useful and helpful to hearing aid users who can be so isolated when things go wrong with their hearing aids. \\nPlease make website help desk a priority\\n At last I can return to 5 stars for this app.  I was despairing of this app. I wasnâ€™t able to link to my Audiologist via the app even though that was a promised advantage. It was impossible to let app developers know there were issues with the app with iOS 13. By circular route it always involved an appointment with the audiologist when sue it you could tell the developer that loosing Bluetooth connections was a huge issue. Anyway at last the update last week has sorted out the Bluetooth issue. No longer do I have to turn Bluetooth on and off several times a day. The app now finds it and for the first months my watch does not need connecting after a rejig of Bluetooth on the iPhone and location finds are automatic when entering the saved GPS. I have yet to try the remote help but hoping that is improved too.': 'Justa note to the developers many audiologists are shutting their doors this week in Australia and probably elsewhere in the world. Support with hearing aid issues via your website with well published links works be very useful and helpful to hearing aid users who can be so isolated when things go wrong with their hearing aids. \\nPlease make website help desk a priority\\n At last I can return to 5 stars for this app.  I was despairing of this app. I wasnâ€™t able to link to my Audiologist via the app even though that was a promised advantage. It was impossible to let app developers know there were issues with the app with iOS 13. By circular route it always involved an appointment with the audiologist when sue it you could tell the developer that loosing Bluetooth connections was a huge issue. Anyway at last the update last week has sorted out the Bluetooth issue. No longer do I have to turn Bluetooth on and off several times a day. The app now finds it and for the first months my watch does not need connecting after a rejig of Bluetooth on the iPhone and location finds are automatic when entering the saved GPS. I have yet to try the remote help but hoping that is improved too.', \"Very disappointed. Have a new galaxy s20+ and even the tech people aren't up to date. Spent a lot of money on Livio 2400 ric last year and now this phone. Can't get it to stream. No such thing as a seamless connection.\": \"Very disappointed. Have a new galaxy s20+ and even the tech people aren't up to date. Spent a lot of money on Livio 2400 ric last year and now this phone. Can't get it to stream. No such thing as a seamless connection.\", 'Ø´ÙƒØ± ÙˆØªÙ‚Ø¯ÙŠØ± Ø¥Ù„Ù‰ Ù…ØµÙ…Ù… Ø§Ù„Ø¨Ø±Ù†Ø§Ù…Ø¬ Ø§Ù„ØµØ±Ø§Ø\\xadØ© Ø¨Ø±Ù†Ø§Ù…Ø¬ Ø±Ø§Ø¦Ø¹ ÙƒØ§Ù†Øª ØªØ¬Ø±Ø¨Ù‡ Ù…ÙˆØ«ÙˆÙ‚ Ø¨Ù‡Ø§ ØªÙ…Ø§Ù…Ø§ Ù…Ø«Ù„ Ù\\x81Ø\\xadØµ Ø§Ù„Ø£Ø·Ø¨Ø§Ø¡ Ù\\x81ÙŠ Ø§Ù„Ø¹ÙŠØ§Ø¯Ø© \\nØ´ÙƒØ±Ø§ Ù„ÙƒÙ…': 'Ø´ÙƒØ ± ÙˆØªÙ‚Ø¯ÙŠØ ± Ø ¥ Ù „Ù ‰ Ù… ØµÙ… Ù… Ø§Ù„ Ø¨Ø ± Ù † Ø§Ù… Ø¬ Ø§Ù „ØµØ ± Ø§ØØ © Ø¨ Ø ± Ù † Ø§Ù… Ø¬ Ø ± Ø§Ø¦Ø¹ ÙƒØ§Ù † Øª ØªØ¬Ø ± Ø¨Ù ‡ Ù… ÙˆØ «ÙˆÙ‚ Ø¨Ù ‡ Ø§ ØªÙ… Ø§Ù… Ø§ Ù… Ø «Ù„ Ù ØØµ Ø§Ù „Ø £ Ø · Ø¨Ø§Ø¡ Ù ÙŠ Ø§Ù„ Ø¹ÙŠØ§Ø¯Ø ©\\nØ´ÙƒØ ± Ø§ Ù „ÙƒÙ…', 'Finde es besser als Starky was extrem schlecht war. Dieses lÃ¤sst Krallen vom Hund hÃ¶ren die Sprache nicht so blechern zb. Tagesschau Fussball im 5.1 Modus nicht gut. Mit App zu bedienen aber Sprache nicht klar. Manche Fernbedienung piept davon gibts einige auch am Smartphone A70 nicht die OualitÃ¤t die man erwartet.Das man da her ausgiebig testen und auch bei anderen Firmen sehn.Zum Teil anstelle von 100 pro GerÃ¤t bis ohne Aufpreis ich sag KIND. Gute Angebote mfg Thomas': \"I think it's better than Starky which was extremely bad. This lets the dog claws hear the language not so tinny, for example. Tagesschau football in 5.1 mode is not good. Can be operated with the app but the language is not clear. Some remote control beeps, there are some on the smartphone A70 that are not the quality that you expect. That you test extensively and also see other companies. Sometimes instead of 100 per device at no extra charge I say KIND. Good deals mfg Thomas\", \"App does the basics well. Only the basics well. Can't believe the app software does not allow for phone and music to be played through hearing aids with the Android operating systems. I am not a fan of apps and developers who cater to only I Phones. This is such a developer. Were there an alternative to controlling my hearing aids, I would not use this app.\": \"App does the basics well. Only the basics well. Can't believe the app software does not allow for phone and music to be played through hearing aids with the Android operating systems. I am not a fan of apps and developers who cater to only I Phones. This is such a developer. Were there an alternative to controlling my hearing aids, I would not use this app.\", 'Please bring back the old app. This version is unstable disconnecting bluetooth and will only recognise the R device. Either fix it or withdraw it. My aids are M90 type and have worked without any problems until now.': 'Please bring back the old app. This version is unstable disconnecting bluetooth and will only recognise the R device. Either fix it or withdraw it. My aids are M90 type and have worked without any problems until now.', \"With the S10, booting up the app just takes me to a blank page. Although i can adjust the volume through the notification bar, I can't access my tv adapter to stream the audio directly to my hearing aids. Please fix asap. I didn't have this problem on my S8\": \"With the S10, booting up the app just takes me to a blank page. Although i can adjust the volume through the notification bar, I can't access my tv adapter to stream the audio directly to my hearing aids. Please fix asap. I didn't have this problem on my S8\", 'Antes de la actualizaciÃ³n de Andriod 10, mis audÃ\\xadfonos se conectaban a mi celular, pero no podÃ\\xada escuchar llamadas ni videos en ellos. Solo revisar niveles de baterÃ\\xada y volumen. Ahora ya puedo recibir llamadas y escuchar multimedia en ellos, pero esta aplicaciÃ³n ya no se conecta con mis audÃ\\xadfonos y no puedo revisar los niveles ni controlar volumen. Si reinicio el celular, puedo revisar niveles, pero despuÃ©s ya no, y es muy impractico estar reiniciando el celular cada vez.': 'Antes de la actualizaciÃ³n de Andriod 10, mis audÃ\\xadfonos se conectaban a mi celular, pero no podÃ\\xada escuchar llamadas ni videos en ellos. Solo revisar niveles de baterÃ\\xada y volumen. Ahora ya puedo recibir llamadas y escuchar multimedia en ellos, pero esta aplicaciÃ³n ya no se conecta con mis audÃ\\xadfonos y no puedo revisar los niveles ni controlar volumen. Si reinicio el celular, puedo revisar niveles, pero despuÃ©s ya no, y es muy impractico estar reiniciando el celular cada vez.', 'The new version works ok on my iPhone but it wonâ€™t connect with my Watch.  Iâ€™ve restarted both, reinstalled the app but still no luck.\\nAny suggestions?\\nThe new version works on my Apple Watch.\\nYeah!': 'The new version works ok on my iPhone but it wonâ€™t connect with my Watch.  Iâ€™ve restarted both, reinstalled the app but still no luck.\\nAny suggestions?\\nThe new version works on my Apple Watch.\\nYeah!', 'The ability to mix and match what affects I want in there REAALLY drowned out my tinitus-': 'The ability to mix and match what affects I want in there REALLY drown out my tinnitus-', 'Works well...': 'Works well...', 'Every time you want to make an adjustment to the volume, you have to wait for the app to connect, which can take up to 20 seconds to connect.  \\nTo use the microphone feature, is also a pain.  It is not displayed on the front screen as previous version.  \\nI would hope Oticon simplifies the current version and make it a lot more user friendly as before.  KISS theory in order here,\\n(KEEP IT SIMPLE STUPID)!!\\nSome Companies never learn, why Fix something that already works!  I am all about change except, when something new tends to the wrong way.': 'Every time you want to make an adjustment to the volume, you have to wait for the app to connect, which can take up to 20 seconds to connect.  \\nTo use the microphone feature, is also a pain.  It is not displayed on the front screen as previous version.  \\nI would hope Oticon simplifies the current version and make it a lot more user friendly as before.  KISS theory in order here,\\n(KEEP IT SIMPLE STUPID)!!\\nSome Companies never learn, why Fix something that already works!  I am all about change except, when something new tends to the wrong way.', \"It needs some improvement! Not sure if the app not working properly or my hearing aids. But keeps turning itself down and the all around sounds doesn't matter if your in front mode our all around mode does not work properly.\": \"It needs some improvement! Not sure if the app not working properly or my hearing aids. But keeps turning itself down and the all around sounds doesn't matter if your in front mode our all around mode does not work properly.\", 'Had hard time to set up to pairing between my hearing aids (2) and sigma apps': 'Had hard time to set up to pairing between my hearing aids (2) and sigma apps', 'Total PITA to keep connected and to reconnect.': 'Total PITA to keep connected and to reconnect.', \"Cool idea. My main issue is that if I have my hearing aids paired to the app it they won't pair to my media volume or calls on my phone. If I pair it to the media and phone calls the app will not pair with them or even find them. Overall my biggest complaint is that the app doesn't seem to pair with the hearing aids consistently.\": \"Cool idea. My main issue is that if I have my hearing aids paired to the app it they won't pair to my media volume or calls on my phone. If I pair it to the media and phone calls the app will not pair with them or even find them. Overall my biggest complaint is that the app doesn't seem to pair with the hearing aids consistently.\", 'So I saw this app recommended in the Health section of my iPhone.  Downloaded it to perhaps do a hearing test, but havenâ€™t actually done one.  Today, a day later, I check out the new Off Facebook Activity tool they just announced and it shows who has been sharing info with them.  Mimi Hearing Test, for some reason, is listed?  I never signed up for any service, never took a test, and yet already the app is linked up and ready to provide what?  Data on my hearing to be sold for targeted ads?  Why exactly did your app opt into sharing this information with them?': 'So I saw this app recommended in the Health section of my iPhone.  Downloaded it to perhaps do a hearing test, but havenâ€™t actually done one.  Today, a day later, I check out the new Off Facebook Activity tool they just announced and it shows who has been sharing info with them.  Mimi Hearing Test, for some reason, is listed?  I never signed up for any service, never took a test, and yet already the app is linked up and ready to provide what?  Data on my hearing to be sold for targeted ads?  Why exactly did your app opt into sharing this information with them?', 'Exelente servicio': 'Excellent service', 'Hit and miss results': 'Hit and miss results', \"Expensive aides advertised as smart and android. Well only with a very limited number of phones and older models. Paid a fortunes and two years later no phone app functionality. Will never buy again. Twitter customer services are also uncaring and don't care. Beware.\": \"Expensive aides advertised as smart and android. Well only with a very limited number of phones and older models. Paid a fortunes and two years later no phone app functionality. Will never buy again. Twitter customer services are also uncaring and don't care. Beware.\", \"superbe application trÃ¨s pratique Ã\\xa0 avoir avec soi surtout Ã\\xa0 l'extÃ©rieur\": 'superb application very practical to have with you especially outside', 'I find the app to be good for switching settings (ie, universal, noisy environment, recorded music/tv, etc) and for setting up the function  to use your mobile device as a portable microphone that transmits to your hearing aid. For some reason it doesnâ€™t show more in depth information/an analysis/reports on my usage, which it seems like thereâ€™s a section in the app specifically for that, Iâ€™m not sure why it doesnâ€™t work with my phone/aid, maybe itâ€™s the settings on my hearing aid specifically that the audiologist didnâ€™t set up, I donâ€™t know. But the function is there supposedly, but mine doesnâ€™t work. Not sure if this is a general issue for everyone or just me. \\nA huge downside is you canâ€™t pair your hearing aid to two devices (ie, iPhone and iPad). I paired/initially set it up to my phone but it wonâ€™t connect to my hearing aid from my iPad, even when I disconnect the hearing aid from my phone entirely and not just shut off the Bluetooth connection on my phone. Thereâ€™s a version of the app for iPad, my iPad is updated to the version thatâ€™s stated as required here, but it still doesnâ€™t work. Occasionally a notification will come up on my iPad saying that my iPad is trying to connect to am hearing device but itâ€™s never successful. TL;DR the app is not functional to pair and control a hearing aid with using 2 devices. \\nOverall itâ€™s okay, better than no app, but it could definitely be better. I got my specific hearing aid to pair with this app because my audiologist recommended it, but now Iâ€™m wishing I looked around at different hearing aid devices/makers and the efficacy of their mobile applications because this one seems a bit dated and isnâ€™t great. I was told at the time that this was the only company/program/device that lets you control your aid with your phone, but thatâ€™s not the case anymore. \\nIf how the mobile app works and has helpful functions is important in your choice of which specific hearing aid you should buy, keep looking into other ones first. This app isnâ€™t very top tier and needs modernizing.': 'I find the app to be good for switching settings (ie, universal, noisy environment, recorded music/tv, etc) and for setting up the function  to use your mobile device as a portable microphone that transmits to your hearing aid. For some reason it doesnâ€™t show more in depth information/an analysis/reports on my usage, which it seems like thereâ€™s a section in the app specifically for that, Iâ€™m not sure why it doesnâ€™t work with my phone/aid, maybe itâ€™s the settings on my hearing aid specifically that the audiologist didnâ€™t set up, I donâ€™t know. But the function is there supposedly, but mine doesnâ€™t work. Not sure if this is a general issue for everyone or just me. \\nA huge downside is you canâ€™t pair your hearing aid to two devices (ie, iPhone and iPad). I paired/initially set it up to my phone but it wonâ€™t connect to my hearing aid from my iPad, even when I disconnect the hearing aid from my phone entirely and not just shut off the Bluetooth connection on my phone. Thereâ€™s a version of the app for iPad, my iPad is updated to the version thatâ€™s stated as required here, but it still doesnâ€™t work. Occasionally a notification will come up on my iPad saying that my iPad is trying to connect to am hearing device but itâ€™s never successful. TL;DR the app is not functional to pair and control a hearing aid with using 2 devices. \\nOverall itâ€™s okay, better than no app, but it could definitely be better. I got my specific hearing aid to pair with this app because my audiologist recommended it, but now Iâ€™m wishing I looked around at different hearing aid devices/makers and the efficacy of their mobile applications because this one seems a bit dated and isnâ€™t great. I was told at the time that this was the only company/program/device that lets you control your aid with your phone, but thatâ€™s not the case anymore. \\nIf how the mobile app works and has helpful functions is important in your choice of which specific hearing aid you should buy, keep looking into other ones first. This app isnâ€™t very top tier and needs modernizing.', 'Every day or two, the app will show one of the hearing aids as disconnected, and the app has to be reinstalled to get it to connect again.': 'Every day or two, the app will show one of the hearing aids as disconnected, and the app has to be reinstalled to get it to connect again.', 'Es vergeht kein Tag ohne Probleme mit dieser App. Telefon geht nicht. Ich kann\\nTelefon nicht abnehmen. Ein Ohr hat keinen Komtakt. Ich hÃ¶re nur noch Ã¼ber das Telefon. TV geht nicht\\n Ich kann telefon nicht beantworten. Ich hÃ¶re NICHTS\\nUnd das jeden Tag.': \"Not a day goes by without problems with this app. Telephone does not work. I can\\nDo not pick up the phone. One ear has no compact. I only hear over the phone. TV doesn't work\\n I cannot answer the phone. I hear NOTHING\\nAnd that every day.\", 'Keeps making it re-download the app and reconnect to my hearing aids': 'Keeps making it re-download the app and reconnect to my hearing aids', \"My phone has the right android version but only bluetooth 4.1. My hearings connect to the telephone; but the app won't connect to the hearing aids. Useless program\": \"My phone has the right android version but only bluetooth 4.1. My hearings connect to the telephone; but the app won't connect to the hearing aids. Useless program\", 'Great concept but goes on and off for no apparent reason. Still needs work to ensure stability. Poor app for excellent aids. Up you game.': 'Great concept but goes on and off for no apparent reason. Still needs work to ensure stability. Poor app for excellent aids. Up you game.', \"This update has to be removed and reinstalled alot of the time because there's been numerous defects and powering the phone off, cleaning memory cache clean and other remedies haven't been working. It is very frustrating at times\": \"This update has to be removed and reinstalled alot of the time because there's been numerous defects and powering the phone off, cleaning memory cache clean and other remedies haven't been working. It is very frustrating at times\", 'Super': 'Super', 'When I asked the developer if they would consider adding support for some Sony headphones (WH-1000XM3), they replied saying they only add support for headphones sold by companies they do business with (Apple, etc). So I guess Iâ€™m not the customer here.': 'When I asked the developer if they would consider adding support for some Sony headphones (WH-1000XM3), they replied saying they only add support for headphones sold by companies they do business with (Apple, etc). So I guess Iâ€™m not the customer here.', 'Trotz update der Firmware kommt keine Verbindung mit meinen GerÃ¤ten zustande. Mein Handy ist ein Galaxy S8 und funktionierte mit der Remuteapp hervorragend.': 'Despite the firmware update, there is no connection with my devices. My cell phone is a Galaxy S8 and worked great with the Remuteapp.', 'Vorher die App geÃ¶ffnet, Start! Auf den Bildschirm Programm (mit selbst gewÃ¤hltem, sichtbaren Namen) wÃ¤hlen kÃ¶nnen, LautstÃ¤rke fÃ¼r beide Systeme oder durch einseitiges Wischen an passen.\\nAb Version 2:\\nApp Ã¶ffnen - auf Startbildschirm zwischen den Optionen wÃ¤hlen (falls man nicht diszipliniert den gewÃ¼nschten verlassen hat)\\n- getrennte LautstÃ¤rke mit Extra-Taste aus lÃ¶sen\\n- den Equilazer suchen, un in den Tiefen des App Store in einer Antwort tu kesen, das sei Bestandteil des Tinitus-Pakets. Warum eigentlich? Hier wÃ¤re ein Hinweis bereits  in der Apo an gebracht.\\n- die Programmnamen tauchen unter den Icons fÃ¼r P1 usw. erst nach Auswahl auf, dann brauche ich ihn nicht mehr!\\n- 4 Programm-Icons gehen im Hochformat nicht mal beim iPhone X nebeneinander auf die Seite - ich muss wischen...\\n- Nicht gefunden das HÃ¶ren pber das iPhone-Micro\\n-nicht gefunden die Dokumentation der Nutzungsdauer\\nFAZIT:\\nIm Gegensatz zur Vorversion nutze ich die App so gut wie nie mehr, dafÃ¼r die Taster an den Systemen wieder! IBM = Im Bedarfsfall manuell!\\nLiebe Entwickler, lasst Euch was einfalken, wad uns ohnehin strapazierten Nutzer entkastet und nicht mit modernerem Design mit Problemen konfrontiert, die wir nicht brauchen!': \"First open the app, start! On the program screen (with a self-selected, visible name) you can select, adjust the volume for both systems or by swiping on one side.\\nFrom version 2:\\nOpen the app - choose between the options on the start screen (if you have not left the desired option in a disciplined manner)\\n- Release separate volume with extra button\\n- Search for the Equilazer, and answer in the depths of the App Store that it is part of the Tinitus package. Why actually? A reference would already be made in the apo.\\n- the program names appear under the icons for P1 etc. only after selection, then I no longer need it!\\n- 4 program icons don't even turn to the side on the iPhone X in portrait format - I have to swipe ...\\n- Not found listening on the iPhone micro\\n-not found the documentation of the useful life\\nCONCLUSION:\\nIn contrast to the previous version, I almost never use the app again, but the buttons on the systems again! IBM = manually if necessary!\\nDear developers, let's think about something, wad us already stressed users and not confronted with modern design with problems that we don't need!\", 'Very poor would not connect to hearing aids.': 'Very poor would not connect to hearing aids.', 'Hardly makes a difference. Waste of time': 'Hardly makes a difference. Waste of time', 'TrÃ¨s bonne application': 'Very good application', 'Didnt work at all': 'Didnt work at all', 'Una maravilla': 'A marvel', 'SÃ¼per bide gÃ¶rÃ¼ÅŸme ve mÃ¼zik dinleye bilsek Ã§ok iyi olcak': 'It would be very good if we could talk and listen to music in the super bidet', 'Its not working , I have a new Oppo F11 pro , I try everything , please helpe me': 'Its not working , I have a new Oppo F11 pro , I try everything , please help me', 'Eats Battery fast!': 'Eats Battery fast!', 'Worthless app! Wonâ€™t let me register because it doesnâ€™t like my passwords. Forget it, I donâ€™t think anyone wants to hack into my hearing aids and listen to my life! Theyâ€™ll be bored to death. And wont get any of my financial information. Not worth the hassle of trying to go further. Later days...': 'Worthless app! Wonâ€™t let me register because it doesnâ€™t like my passwords. Forget it, I donâ€™t think anyone wants to hack into my hearing aids and listen to my life! Theyâ€™ll be bored to death. And wont get any of my financial information. Not worth the hassle of trying to go further. Later days...', 'The software/instruments need to be updated to work with android phone apps (music, etc.).': 'The software/instruments need to be updated to work with android phone apps (music, etc.).', 'Again today it has disconnected from my Opn 1â€™s I have had them in since 5:25 am. It is now 9:04 pm and it gave me 40 minutes of time wearing them. Really? This is the 4th time this month. I guess you really donâ€™t care about your customers once you get your money. This app stinks. No Apple Watch connection, spotty actual hearing fitness. I am now probably never going to purchase Oticon hearing aids again. I was promised real time connectivity thru my iPhone & Apple Watch and was lied to.': 'Again today it has disconnected from my Opn 1â€™s I have had them in since 5:25 am. It is now 9:04 pm and it gave me 40 minutes of time wearing them. Really? This is the 4th time this month. I guess you really donâ€™t care about your customers once you get your money. This app stinks. No Apple Watch connection, spotty actual hearing fitness. I am now probably never going to purchase Oticon hearing aids again. I was promised real time connectivity thru my iPhone & Apple Watch and was lied to.', 'Still not functioning......': 'Still not functioning......', 'Das Update war wohl verfrÃ¼ht.... stÃ¤ndig muss neu gekoppelt werden, Bluetooth aus/an, GerÃ¤te neu starten. Die App sollte eigentlich das \"Funmeln\" an den GerÃ¤ten minimieren - 6 setzen': 'The update was probably premature .... constantly has to be re-paired, Bluetooth off / on, devices restart. The app should actually minimize the \"twinkling\" on the devices - set 6', 'Bin enttÃ¤uscht, hab zum Geburtstag neues Handy (Huawei) bekommen und jetzt mein zweites HÃ¶rgerÃ¤t. Mit einem HÃ¶rgerÃ¤t hat die App funktioniert, mit 2 HÃ¶rgerÃ¤ten leider momentan nicht mehr.': \"I'm disappointed, got a new cell phone (Huawei) for my birthday and now my second hearing aid. The app worked with one hearing aid, but unfortunately not at the moment with two hearing aids.\", \"Actuellement je n'ai pas d'Ã©coute avec mes appareils\": 'Currently I am not listening with my devices', 'Fungerer rigtig godt': 'Works really well', 'I used to be able to hear my phone through my hearing aids, but no more!! What happened?!?': 'I used to be able to hear my phone through my hearing aids, but no more!! What happened?!?', \"I'm not paying for this. Over $4000 for hearing aids and you pull this. Not! Folks don't pay!\": \"I'm not paying for this. Over $4000 for hearing aids and you pull this. Not! Folks don't pay!\", 'This app is terrible I cant get it to work most of the time.': 'This app is terrible I cant get it to work most of the time.', 'Broken & unusable for me - hangs at searching. Devices are new M30-R. My phone is a 2019 Mintt Y3 (aka rebadged & AUS local tweaked Blu G9 Pro). Note the Mintt Y3 (Australian) version of the G9 Pro is spec\\'d with BT4.2 so \"should\" be compatible I would think. Hard to fathom the connectivity issues with the app when direct BT connection for media & call streaming is perfect. Disappointed but seems there are many current issues with the app anyway. Just happy that for me at least the H/As themselves are best of class & the direct media & phone call streaming is pretty much faultless. I guess for now the app will have to be considered BETA (maybe Alpha).': 'Broken & unusable for me - hangs at searching. Devices are new M30-R. My phone is a 2019 Mintt Y3 (aka rebadged & AUS local tweaked Blu G9 Pro). Note the Mintt Y3 (Australian) version of the G9 Pro is spec\\'d with BT4.2 so \"should\" be compatible I would think. Hard to fathom the connectivity issues with the app when direct BT connection for media & call streaming is perfect. Disappointed but seems there are many current issues with the app anyway. Just happy that for me at least the H/As themselves are best of class & the direct media & phone call streaming is pretty much faultless. I guess for now the app will have to be considered BETA (maybe Alpha).', \"Gros manque de rÃ©activitÃ© de l'appli. Et c'est encore pire depuis cette mÃ\\xa0j. Presque 1mn pour dÃ©tecter, et il faut surtout redÃ©marrer l'appli chaque fois que je remet les aides auditives, dommage pour du matos haut de gamme Ã\\xa0 4000â‚¬.Changement de crÃ©merie obligÃ©..\": \"Big lack of responsiveness of the app. And it's even worse since this update. Almost 1 minute to detect, and above all, you have to restart the app each time I put the hearing aids back on, too bad for top-of-the-range equipment at 4000 €.\", 'Nachdem ich diese App schon 5 neu Mal neu Installieren musste um den Kontakt wieder herzustellen, finde ich ich diese, nicht Komfortabel â\\xad\\x90von 10.': 'After I had to reinstall this app 5 times to re-establish contact, I find this app not comfortable - out of 10.', 'ì\\x9d´ì\\xa0œ ì„¤ì¹˜í•´ì„œ ì‚´ì§\\x9dë§Œ ë“¤ì–´ë§Œë´¤ì§€ë§Œ ì\\x9d´ëª…ì\\x9d´ íš¨ê³¼ë¥¼ í\\x81¬ê²Œ ë°›ì§€ëŠ” ì•ŠëŠ”ê±° ê°™ì•„ìš”.. í•˜ì§€ë§Œ ì\\x9d´ëŸ°ê²Œ ìžˆëŠ”ê²ƒë¶€í„°ê°€ ë³„ 5ê°œ ìž…ë‹ˆë‹¤': 'ì ´ì œ ì „¤ì¹˜í • ´ì„ œ ì‚´ì§ ë§Œ ë “¤ì – ´ë§Œë´¤ì§ € ë§Œ ì ´ëª… ì ´ íš¨ê³¼ë ¥ ¼ í ¬ê²Œ ë ° ›ì§ € ëŠ” ì • ŠëŠ ”ê ± ° ê ° ™ ì •„ ìš ”.. í • ˜ì§ € ë§Œ ì ´ëŸ ° ê²Œ ìžˆëŠ ”Ê²ƒë¶ € í„ ° ê ° € ë³ „5ê ° œ ìž… ë‹ ˆë ‹¤', 'GerÃ§ekten gÃ¼zel bir uygulama tÅŸk ler': 'Truly beautiful app clicks', 'Dans lâ€™ensemble câ€™est application est plutÃ´t assez sympa mais il manque Ã\\xa0 mon avis la possibilitÃ© de pouvoir rÃ©gler la hauteur du sang sÃ©parÃ©ment.\\nVotre application est prÃ©cise mais il me manque ce que je viens de vous citer ci-dessus.\\nAutre problÃ¨me les textes sont en gris je suis malvoyant et donc Ã§a mâ€™est trÃ¨s difficile de pouvoir bien comprendre.\\nMerci': \"Overall it's application is pretty cool enough but in my opinion it lacks the ability to be able to adjust the blood level separately.\\nYour application is accurate but I'm missing what I just quoted to you above.\\nAnother problem the texts are in gray I am visually impaired and therefore it is very difficult for me to be able to understand well.\\nThank you\", 'Excellente application. Je recommande!': 'Excellent application. I recommend!', 'Agree with several reviews, this app IS a step back, where is the battery status facility. I found that invaluable as forewarned is forearmed.': 'Agree with several reviews, this app IS a step back, where is the battery status facility. I found that invaluable as forewarned is forearmed.', 'Das funktioniert Ã¼berhaupt nicht': \"It doesn't work at all\", 'This app helps me to sleep nearly every night.': 'This app helps me to sleep nearly every night.', 'Te tienes que adactar': 'You have to adapt', 'Easy access': 'Easy access', 'Having just today picked up this new set of Signia hearing Aids the first thing I notest was the it was smaller then my previous set. The next thing in notest was that the sound was clearer than my previous sets. I will have to wear this set for a week or so to find out more differences. But now something I notest from the First time I did go to Hearing Australia was the Staff. They where very friendly an helpfull. I did feel that these people where genuinely Friendly.': 'Having just today picked up this new set of Signia hearing Aids the first thing I notest was the it was smaller then my previous set. The next thing in notest was that the sound was clearer than my previous sets. I will have to wear this set for a week or so to find out more differences. But now something I notest from the First time I did go to Hearing Australia was the Staff. They where very friendly an helpfull. I did feel that these people where genuinely Friendly.', \"It's nice working\": \"It's nice working\", 'This app is pretty amateur in this space. Always unconnected, needs lot of user interaction. Is this really that difficult? It seems like they outsourced this to a freelance app developer and donâ€™t really care. For how much the charge for hearing aids you would expect more from Siemens. BiCros pretty much not useable via this app. Their philosophy seems to be â€œwait for the next version it will be so much betterâ€\\x9d.': 'This app is pretty amateur in this space. Always unconnected, needs lot of user interaction. Is this really that difficult? It seems like they outsourced this to a freelance app developer and donâ€™t really care. For how much the charge for hearing aids you would expect more from Siemens. BiCros pretty much not useable via this app. Their philosophy seems to be â€œwait for the next version it will be so much betterâ€\\x9d.', \"For me to say something about this app it makes me give it a star if I really could I give it no stars it's useless doesn't work waste of my time don't even know why they invented this app\": \"For me to say something about this app it makes me give it a star if I really could I give it no stars it's useless doesn't work waste of my time don't even know why they invented this app\", 'The appâ€™s QR code setup does not work with the new iPhone camera.  Manual set up works but with less functions.': 'The appâ€™s QR code setup does not work with the new iPhone camera.  Manual set up works but with less functions.', 'Ok, but frequently loses connectivity to my oticon hearing aids. Reconnecting is a real pain and often requires rebooting my Samsung phone.': 'Ok, but frequently loses connectivity to my oticon hearing aids. Reconnecting is a real pain and often requires rebooting my Samsung phone.', \"My update - the audiologist fixed some of the issues but this app is draining the battery on my Samsung S10 phone. In fact, the phone gets very warm. So I've force-stopped the app for now. The audiologist office only knows iPhones, not Android phones.\": \"My update - the audiologist fixed some of the issues but this app is draining the battery on my Samsung S10 phone. In fact, the phone gets very warm. So I've force-stopped the app for now. The audiologist office only knows iPhones, not Android phones.\", 'Iâ€™ve had this these hearing aids and app for over 3 years with an iPhone 11. Useless!!! It will not stay pared if you can even get that far. Deleting and reinstalling the app is an exercise in futility. Any updates negates any progress you make getting it installed. Have I mentioned this app is useless?': 'Iâ€™ve had this these hearing aids and app for over 3 years with an iPhone 11. Useless!!! It will not stay pared if you can even get that far. Deleting and reinstalling the app is an exercise in futility. Any updates negates any progress you make getting it installed. Have I mentioned this app is useless?', 'One thing about Resound, theyâ€™re consistent.   Again, this time a major update for iOS (14), and now we have connection issues, cut outs when the app switches to iPhone sound inexplicably (often!), App doesnâ€™t stay connected to Hearing AIDS, and it just goes on from there!ðŸ˜¡': 'One thing about Resound, theyâ€™re consistent.   Again, this time a major update for iOS (14), and now we have connection issues, cut outs when the app switches to iPhone sound inexplicably (often!), App doesnâ€™t stay connected to Hearing AIDS, and it just goes on from there!ðŸ˜¡', \"I'm using 3.1.0 and it doesn't work correctly. Have Uninstaller 5 times. Same results! â€\\x90â€\\x90----------------- I've reloaded this app and it still doesn't work. Hasn't worked for months on Android platform\": \"I'm using 3.1.0 and it doesn't work correctly. Have Uninstaller 5 times. Same results! â€\\x90â€\\x90----------------- I've reloaded this app and it still doesn't work. Hasn't worked for months on Android platform\", 'Not for newer Android phones it only supports up to s10 or note 8 while I have note 9 so the only way I was able to pair was through a qr code.Rexton need to upgrade the app for latest Android n Apple models.': 'Not for newer Android phones it only supports up to s10 or note 8 while I have note 9 so the only way I was able to pair was through a qr code.Rexton need to upgrade the app for latest Android n Apple models.', 'Does not work': 'Does not work', 'The app really isnâ€™t needed. I adjust the volume via the app, 10 minutes later I open the app and the volume is right back where it was before. What is the point?? I canâ€™t manage my settings without a HCP first looking at my settings, again what is the point? You can still listen to music and answer your phone without this app. I had to disable the touch feature but only after I took off work and went into my HCP so they could do it for me, waste of time putting it on the app if it doesnâ€™t work or isnâ€™t allowed. I deleted the app and everything works fine.': 'The app really isnâ€™t needed. I adjust the volume via the app, 10 minutes later I open the app and the volume is right back where it was before. What is the point?? I canâ€™t manage my settings without a HCP first looking at my settings, again what is the point? You can still listen to music and answer your phone without this app. I had to disable the touch feature but only after I took off work and went into my HCP so they could do it for me, waste of time putting it on the app if it doesnâ€™t work or isnâ€™t allowed. I deleted the app and everything works fine.', 'Hearing aids today operate in an ecosystem and Phonak has not sufficiently recognized the importance of that and, therefore, this inadequate app jeopardizes their device reputation as well as future. I cannot believe the Costco relationship will last long with such a poor app that hasnâ€™t been updated and brought in line with competition for many, many months.': 'Hearing aids today operate in an ecosystem and Phonak has not sufficiently recognized the importance of that and, therefore, this inadequate app jeopardizes their device reputation as well as future. I cannot believe the Costco relationship will last long with such a poor app that hasnâ€™t been updated and brought in line with competition for many, many months.', \"Appareils non fiables. Ne fonctionnent plus au bout d'un an et demi de service. Entre temps, ils sont retournÃ©s chez le fabricant pour rÃ©glage. J'ai eu des Phonac pendant huit ans, que tu bonheur. Quel regret d'avoir changÃ© de marque et d'audioprothÃ©siste. Je dÃ©conseille donc Signia de Siemens\": 'Unreliable devices. No longer work after a year and a half of service. In the meantime, they have returned to the manufacturer for adjustment. I had Phonacs for eight years, how happy you are. What a pity to have changed brands and hearing aids. I therefore advise against Siemens Signia', 'This is an Awesome place for Hearing ðŸ‘‚Aides.(HearingLife) Dr. Julie is like \"SUNSHINE\"ðŸŒž , on a cloudy day. You can feel the \"JOY OF A SWEETðŸ˜‡ SPIRIT\\' in the air. It doesn\\'t feel like you\\'re there for your hearing, it\\'s like a Day out with your BestðŸ˜„ðŸŒ¼ðŸ\\x90ž Friend. I had to wait a whole year before I could get to HearingLife because I went somewhere else first, I never had an Hearing Aide with \"A TRACKING DEVICE\". This App is Awesome. Thanks. ðŸ‘‘ðŸ‘‘ðŸ•ŠðŸ¦‹.9/24/2020. KEEP UP THE GOOD WORK \"OTICON\".': 'This is an Awesome place for Hearing ðŸ‘‚Aides.(HearingLife) Dr. Julie is like \"SUNSHINE\"ðŸŒž , on a cloudy day. You can feel the \"JOY OF A SWEETðŸ˜‡ SPIRIT\\' in the air. It doesn\\'t feel like you\\'re there for your hearing, it\\'s like a Day out with your BestðŸ˜„ðŸŒ¼ðŸ\\x90ž Friend. I had to wait a whole year before I could get to HearingLife because I went somewhere else first, I never had an Hearing Aide with \"A TRACKING DEVICE\". This App is Awesome. Thanks. ðŸ‘‘ðŸ‘‘ðŸ•ŠðŸ¦‹.9/24/2020. KEEP UP THE GOOD WORK \"OTICON\".', 'Ð\\xadÑ‚Ð¾ Ð¾Ð¿Ð»ÐµÐºÐ°Ñ†Ñ‹Ñ\\x8f Ð½Ð° Ð\\x90Ð½Ð´Ñ€Ð¾Ð¹Ð´ Ð½Ðµ Ñ€Ð°Ð±Ð¾Ñ‚Ð°ÐµÑ‚ Ð¿Ð¾Ñ\\x81Ñ‚Ð¾Ñ\\x8fÐ½Ð½Ð¾ Ð¸Ñ‰ÐµÑ‚ Ñ\\x81Ð»ÑƒÑ…Ð¾Ð²Ð¾Ð¹ Ð°Ð¿Ð¿Ð°Ñ€Ð°Ñ‚ Ð½Ð° Ð\\x90Ð¹Ñ„Ð¾Ð½ Ñ€Ð°Ð±Ð¾Ñ‚Ð°ÐµÑ‚ Ð¿Ñ€ÐµÐºÑ€Ð°Ñ\\x81Ð½Ð¾ Ð¸ Ð·Ð° Ñ\\x8dÑ‚Ð¾Ð¹ Ð°Ð¿Ð»ÐµÐºÐ°Ñ†Ñ‹Ð¹ Ð½Ðµ Ð±ÑƒÐ´ÐµÑˆÑŒ Ð¿Ð¾ÐºÑƒÐ¿Ð°Ñ‚ÑŒ Ð\\x90Ð¹Ñ„Ð¾Ð½ Ñ\\x8f Ð´ÑƒÐ¼Ð°ÑŽ Ð½Ð°Ð´Ð¾ Ð¸Ñ\\x81Ð¿Ñ€Ð°Ð²Ð¸Ñ‚ÑŒ Ð¸Ð»Ð¸ Ð¾Ð±Ð½Ð¾Ð²Ð¸Ñ‚ÑŒ Ð°Ð¿Ð¿Ð»Ð¸ÐºÐ°Ñ†Ð¸Ð¸ Ð¸Ð»Ð¸ Ð¸Ñ\\x81Ð¿Ñ€Ð¾Ð±Ð²Ð°Ð¹Ñ‚Ð¸ Ð\\x90Ð½Ð´Ñ€Ð¾Ð¹Ð´ Ñ\\x81Ð¾ Ñ\\x81Ð»ÑƒÑ…Ð¾Ð²Ñ‹Ðµ Ð°Ð¿Ð¿Ð°Ñ€Ð°Ñ‚Ð¾Ð¼..': 'ÐÑ‚Ð¾ Ð¾Ð¿Ð »ÐµÐºÐ ° Ñ † Ñ‹ Ñ Ð½Ð ° Ð Ð½Ð´Ñ € Ð¾Ð¹Ð´ Ð½Ðµ Ñ € Ð ° Ð ± Ð¾Ñ‚Ð ° ÐµÑ ‚Ð¿Ð¾Ñ Ñ‚Ð¾Ñ Ð½Ð½Ð¾ Ð ‰ ÐµÑ ‚Ñ Ð» ÑƒÑ… Ð¾Ð²Ð¾Ð¹ Ð ° Ð¿Ð¿Ð ° Ñ € Ð ° Ñ ‚Ð½Ð ° Ð Ð¹Ñ„ Ð¾Ð½ Ñ € Ð ° Ð ± Ð¾Ñ‚Ð ° ÐµÑ ‚Ð¿Ñ € ÐµÐº ° Ñ Ð½Ð¾ Ð¸ Ð · Ð ° Ñ Ñ‚Ð¾Ð¹ Ð ° Ð¿Ð »ÐµÐºÐ ° Ñ † Ñ‹ Ð¹ Ð½Ðµ Ð ± ÑƒÐ´ÐµÑˆÑŒ Ð¿Ð¾ÐºÑƒÐ¿Ð ° Ñ‚ÑŒ Ð Ð¹Ñ „Ð Ð´ÑƒÐ¼Ð ° ÑŽ Ð½Ð ° Ð´Ð¾ Ð¸Ñ Ð¿Ñ € Ð ° Ð²Ð¸Ñ‚ÑŒ Ð¸Ð »Ð¸ Ð¾Ð ± Ð½Ð¾Ð²Ð¸Ñ‚ÑŒ Ð ° Ð¿Ð¿Ð» Ð¸ÐºÐ ° Ñ \\u200b\\u200b† Ð¸Ð¸ Ð¸Ð »Ð¸ Ð¸Ñ Ð¿Ñ € Ð¾Ð ± Ð²Ð ° Ð¹Ñ‚Ð¸ Ð Ð½Ð´Ñ € Ð¾Ð¹Ð´ Ñ Ð¾ Ñ Ð» ÑƒÑ… Ð¾Ð²Ñ ‹Ðµ Ð ° Ð¿Ð¿Ð ° Ñ € Ð ° Ñ‚Ð¾Ð¼ ..', 'Downloaded the latest version. Have iphone se. It worked great till i created a favorite while in the â€œall aroundâ€™ program and called it â€œhomeâ€\\x9d.  When i went back to â€œall aroundâ€\\x9d it changed to the â€œhomeâ€\\x9d setting like it had been overwritten. I reset it, but after using the home favorite again, â€œall aroundâ€\\x9d again reverted back to the â€˜ homeâ€™ program setting.\\nUpdate 2/12. In response to your suggestionâ€”my favorite was not geotagged. I deleted the app and reinstalled it and it did not resolve the issue. I even unpaired my ha and paired it again. Someone on hearingtracker forum said they have the same problem with Quattro since june. They set up a favorite with the all around settings since the default always changed to match the last used favorite.\\nUpdate 3/13: in response to your questionâ€”yes i had location services to always. Still have the problem.': 'Downloaded the latest version. Have iphone se. It worked great till i created a favorite while in the â€œall aroundâ€™ program and called it â€œhomeâ€\\x9d.  When i went back to â€œall aroundâ€\\x9d it changed to the â€œhomeâ€\\x9d setting like it had been overwritten. I reset it, but after using the home favorite again, â€œall aroundâ€\\x9d again reverted back to the â€˜ homeâ€™ program setting.\\nUpdate 2/12. In response to your suggestionâ€”my favorite was not geotagged. I deleted the app and reinstalled it and it did not resolve the issue. I even unpaired my ha and paired it again. Someone on hearingtracker forum said they have the same problem with Quattro since june. They set up a favorite with the all around settings since the default always changed to match the last used favorite.\\nUpdate 3/13: in response to your questionâ€”yes i had location services to always. Still have the problem.', \"Ever since updates have to uninstall and install every day! Please get it fixed it's a pain in the.\": \"Ever since updates have to uninstall and install every day! Please get it fixed it's a pain in the.\", 'Jeg kan ikke pare mine hÃ¸reapparater jeg har prÃ¸vet at reinstallerer myphonsk app flere gange uden resultat ,jeg har ogsÃ¥ sÃ¸gt hjÃ¦lp i forretningen i Hordens de kan heller ikke pare dem hvordan kommer jeg videre Hsrry Rosgaard Kristensen Havrevej 5 7130 Juelsminde': 'I can not pair my hearing aids I have tried to reinstall myphone app several times without result, I have also sought help in the business in Hordens they can not pair them how do I proceed Hsrry Rosgaard Kristensen Havrevej 5 7130 Juelsminde', 'HUAWEI P30 pro funziona solo il sx il dx Ã¨ impossibile che si colleghi. Trovo assurdo che una azienda che si ritiene e vanta il titolo di miglior prodotto tecnologico del settore sia impotente nella soluzione del problema. Con il vecchio telefono Nokia funziona bene. Aggiornate al piÃ¹ presto possibile diversamente non Ã¨ giustificabile il costo dei Vs apparecchi Marwel 70 ricaricabili. Grazie': 'HUAWEI P30 pro works only on the left the right is impossible to connect. I find it absurd that a company that believes itself and boasts the title of the best technological product in the industry is powerless in solving the problem. With the old Nokia phone it works fine. Update as soon as possible otherwise the cost of your rechargeable Marwel 70 devices is not justifiable. Thanks', 'My phonak bolero B90-P earphones not supported, my compilot ii not supported my smartphone not supported. I paid a fortune to get what is perceived as the best, now to find that support programs to my earphones are not available anymore. One of my phones do have suffieceint credibility to have the myPhonak app installed but is useless with my expensive earphones the previous app phonak remote app is not on app store or phonak website which make my earhones obsolete to connect to bluetooth.': 'My phonak bolero B90-P earphones not supported, my compilot ii not supported my smartphone not supported. I paid a fortune to get what is perceived as the best, now to find that support programs to my earphones are not available anymore. One of my phones do have suffieceint credibility to have the myPhonak app installed but is useless with my expensive earphones the previous app phonak remote app is not on app store or phonak website which make my earhones obsolete to connect to bluetooth.', 'Muy buena': 'Very good', 'entspricht nicht meinen vorstellungen': 'does not meet my expectations', 'HÃ¶rapparaten Ã¤r som tidigare pÃ¥pekats bra, men knappast appen. Parkopplingen har funkat hÃ¶gst 10% av tiden, trots omstarter och Ã¥terinstallationer. Har letat efter support och forum pÃ¥ nÃ¤tet utan framgÃ¥ng. Har inte haft problem med parkoppling tidigare. GÃ¶r om, gÃ¶r rÃ¤tt. Testa sedan ordentligt innan ni slÃ¤pper en app.': 'The hearing aid is as previously pointed out well, but hardly the app. The pairing has worked at most 10% of the time, despite restarts and reinstallations. Have searched for support and forums online without success. Have not had problems with pairing before. Do it again, do it right. Then test thoroughly before releasing an app.', 'Die Funktionen auf dem iPad sind i.O.\\nMit dem iPhone klemmt es doch beim Ã¤lteren Modell 5, obwohl das Betriebssystem 10.3.4. installiert ist.  \\nGerade fÃ¼r uns â€žAlteâ€œ Menschen ist ein Ã¤lteres iPad immer noch im Gebrauch und dauernder Wechsel nicht so einfach. Vor allem bei den Kosten tut es weh.': 'The functions on the iPad are OK.\\nThe older model 5 is stuck with the iPhone, although the operating system is 10.3.4. installed.\\nFor us â € œold peopleâ € in particular, an older iPad is still in use, and constant changes are not so easy. It hurts especially with the costs.', 'No funciona para el mÃ³vil de Xiaomi mi mÃ¡x 2, por favor actualizar y estoy desesperado... Gracias': 'It does not work for Xiaomi mi mobile max 2, please update and I am desperate ... Thanks', 'Ich benutze ein Xiaomi Handy und die App bietet lediglich die MÃ¶glichkeit die LautstÃ¤rke und eine Balance zu verstellen . Wobei ich bei Letzterem keine Unterschiede bemerke . Mit anderen Handys sollen ja weitaus mehr Funktionen zur VerfÃ¼gung stehen. Ich muss sagen, dass ich es vÃ¶llig unmÃ¶glich finde , dass bei einem solch teuren Produkt wie dem dazu gehÃ¶rigen HÃ¶rgerÃ¤t nicht mal eine App programmiert werden kann, die mit mehr Handys vernÃ¼nftig funktioniert .': \"I use a Xiaomi mobile phone and the app only offers the option of adjusting the volume and a balance. Although I don't notice any differences in the latter. Far more functions are supposed to be available with other cell phones. I have to say that I find it utterly impossible that with a product as expensive as the hearing aid that goes with it, you can't even program an app that works properly with more phones.\", 'Would prefer more frequency flexibility.': 'Would prefer more frequency flexibility.', 'Excellent experience': 'Excellent experience', 'plus accÃ¨s du tout pour monter le son malgrÃ© la mise Ã\\xa0 jour. dÃ©cevant. faites une vraie mise Ã\\xa0 jour merci!!!!!!': 'no more access at all to turn up the sound despite the update. disappointing. make a real update thank you !!!!!!', 'He cambiado de movil y ahora no me deja conectarlos. No sÃ© por que.... es un alcatel 3x 2020': 'He cambiado de movil y ahora no me deja conectarlos. No sÃ© por que.... es un alcatel 3x 2020', 'Perfekt!!': 'Perfekt!!', 'Very handy & useful. An email w/ written instructions or user manual would be a real help!': 'Very handy and useful. An email with/ written instructions or user manual would be a real help!', 'No se usa mas': 'No se usa mas', 'Je l utilise depuis peu. Tres bien. Tres facile': 'I recently used it. Very good. Very easy', 'Ich hÃ¤tte mir als Musikfreak wenigstens wahlweise einen mind. 3 Band equaliser gewÃ¼nscht': 'As a music freak, I would have wished at least a 3 band equalizer', 'Einfach Super': 'Simply great', \"Ãˆ ormai un anno che ho questi apparecchi ricaricabili, (nei 4 anni precedenti avevo quelli a batteria sempre Audionova) , e devo dire che non ho mai avuto problemi. Ora Ã¨ da 3 settimane che l'audio delle telefonate si sgancia da solo, ogni volta che devo telefonare o ricevere una chiamata devo spegnere e riaccendere la connessione Bluetooth e quando ho finito la chiamata perde nuovamente l'associazione (non per quanto riguarda la parte dei media). Sono alquanto scocciato da questo problema.\": \"Ãˆ ormai un anno che ho questi apparecchi ricaricabili, (nei 4 anni precedenti avevo quelli a batteria sempre Audionova) , e devo dire che non ho mai avuto problemi. Ora Ã¨ da 3 settimane che l'audio delle telefonate si sgancia da solo, ogni volta che devo telefonare o ricevere una chiamata devo spegnere e riaccendere la connessione Bluetooth e quando ho finito la chiamata perde nuovamente l'associazione (non per quanto riguarda la parte dei media). Sono alquanto scocciato da questo problema.\", 'Excellent app': 'Excellent app', 'Super HÃ¶rerlebnis bei diesen HÃ¶rgerÃ¤ten die stellen sich selber nach LautstÃ¤rke ein sehr zu empfehlen': 'Super HÃ¶rerlebnis bei diesen HÃ¶rgerÃ¤ten die stellen sich selber nach LautstÃ¤rke ein sehr zu empfehlen', 'App wurde installiert und in Betrieb genommen. Danach kann man die wichtigsten Einstellungen verÃ¤ndern. Es funktioniert gut.': 'App has been installed and put into operation. Then you can change the most important settings. It works well.', '*UPDATE* I did exactly as resound support suggested and my app is no longer stuck in Demo Mode. You guys rock!!! Thank you so much for the help. \"The following problem has been resolved but I\\'ll leave it here just incase someone else has the same - The app has been stuck on Demo mode for almost a week. I tried uninstalling it many times with no luck. Called my audiologist with no help on their end. Have not been able to change any of the programs. When its not in Demo mode I\\'m very satisfied.\"': '*UPDATE* I did exactly as resound support suggested and my app is no longer stuck in Demo Mode. You guys rock!!! Thank you so much for the help. \"The following problem has been resolved but I\\'ll leave it here just incase someone else has the same - The app has been stuck on Demo mode for almost a week. I tried uninstalling it many times with no luck. Called my audiologist with no help on their end. Have not been able to change any of the programs. When its not in Demo mode I\\'m very satisfied.\"', 'Will it connect to iPad?': 'Will it connect to iPad?', \"Fonctionne sur Ipad mais ne fonctionne plus sur Huawei P30 Pro depuis 2 semaines alors que les appareils sont bien appairÃ©s. Dommage. Sinon, c'est trÃ¨s pratique pour contrÃ´ler ses appareils ðŸ‘\\x8d\": \"Fonctionne sur Ipad mais ne fonctionne plus sur Huawei P30 Pro depuis 2 semaines alors que les appareils sont bien appairÃ©s. Dommage. Sinon, c'est trÃ¨s pratique pour contrÃ´ler ses appareils ðŸ‘\\x8d\", 'For the price I paid for this hearing aid I should have clear hearing. The hearing aid loses volume. Even if I turn the volume on my phone all the way up I canâ€™t hear. So I spend my valuable time removing the app, turning off and on my hearing aid in hopes of it working. Itâ€™s not just when using my phone. The hearing aid itself goes quiet. Please fix!  I canâ€™t afford another hearing aid.': 'For the price I paid for this hearing aid I should have clear hearing. The hearing aid loses volume. Even if I turn the volume on my phone all the way up I canâ€™t hear. So I spend my valuable time removing the app, turning off and on my hearing aid in hopes of it working. Itâ€™s not just when using my phone. The hearing aid itself goes quiet. Please fix!  I canâ€™t afford another hearing aid.', 'Ø§Ù„Ø¨Ø±Ù†Ø§Ù…Ø¬ Ù„Ø§ÙŠØ¹Ù…Ù„ ÙŠØºÙ„Ù‚ ØªÙ„Ù‚Ø§Ø¦ÙŠØ§ Ø¨Ø³Ø¨Ø¨ Ø£Ù† Ø§Ù„Ù†Ø¸Ø§Ù… Ù\\x81ÙŠ Ø§Ù„Ù‡Ø§ØªÙ\\x81 Ø¨Ø§Ù„ØºØ© Ø§Ù„Ø¹Ø±Ø¨ÙŠØ© Ù…Ø¹ Ø§Ù„Ø¹Ù„Ù… Ø§Ù†Ù‡ ØªÙ… ØªÙˆØµÙŠÙ„Ù‡ Ø§Ù„Ø³Ù…Ø§Ø¹Ø© Ø¨Ø§Ù„Ø¨Ø±Ù†Ø§Ù…Ø¬ Ù„ÙƒÙ† ÙŠØªÙˆÙ‚Ù\\x81 Ø¨Ø¹Ø¯ Ø§ÙƒØªÙ…Ø§Ù„ Ø§Ù„ØªÙˆØµÙŠÙ„ .... ØªØ¹Ù‚ÙŠØ¨ ØªÙ… Ø§ØµÙ„Ø§Ø\\xad Ø§Ù„Ù…Ø´ÙƒÙ„Ø© Ø¨Ø¹Ø¯ Ù…Ø§ Ø\\xadÙˆÙ„Ø© Ø§Ù„Ù‡Ø§ØªÙ\\x81 Ø§Ù„Ù‰ Ø§Ù„Ù„ØºØ© Ø§Ù„Ø§Ù†Ø¬Ù„ÙŠØ²ÙŠØ© Ùˆ Ø§Ø³ØªØ®Ø¯Ù…Øª Ø§Ù„Ø¨Ø±Ù†Ø§Ù…Ø¬ Ù„Ù\\x81ØªØ±Ù‡ ÙˆØ¬ÙŠØ²Ø© Ùˆ Ø£Ø±Ø¬Ø¹Øª Ù†Ø¸Ø§Ù… Ø§Ù„Ù‡Ø§ØªÙ\\x81 Ø§Ù„Ù‰ Ø§Ù„Ø¹Ø±Ø¨ÙŠØ© Ùˆ ØªÙ… Ø\\xadÙ„ Ù…Ø´ÙƒÙ„Ø© Ø¥ØºÙ„Ø§Ù‚ Ø§Ù„ØªØ·Ø¨ÙŠÙ‚ Ø§Ù„Ø¨Ø±Ù†Ø§Ù…Ø¬ Ø¬ÙŠØ¯ Ø¬Ø¯Ø§ Ø´ÙƒØ±Ø§ Ù„ÙƒÙ…': 'Ø§Ù „Ø¨Ø ± Ù † Ø§Ù… Ø¬ Ù„ Ø§ÙŠØ¹Ù… Ù „ÙŠØºÙ„ Ù ‚ØªÙ„ Ù‚Ø§Ø¦ÙŠØ§ Ø¨Ø³Ø¨Ø¨ Ø £ Ù † Ø§ Ù „Ù † Ø¸Ø§Ù… Ù ÙŠ Ø§Ù„ Ù ‡ Ø§ØªÙ Ø¨Ø§Ù „ØºØ © Ø§Ù„ Ø¹Ø ± Ø¨ÙŠØ © Ù… Ø¹ Ø§Ù „Ø¹Ù„ Ù… Ø§Ù † Ù ‡ ØªÙ… ØªÙˆØµÙŠÙ „Ù ‡ Ø§Ù„ Ø³Ù… Ø§Ø¹Ø © Ø¨Ø§Ù „Ø¨Ø ± Ù † Ø§Ù… Ø¬ Ù„ ÙƒÙ † ÙŠØªÙˆÙ‚Ù Ø¨Ø¹Ø¯ Ø§ÙƒØªÙ… Ø§Ù „Ø§Ù„ ØªÙˆØµÙŠÙ „.... ØªØ¹Ù‚ÙŠØ¨ ØªÙ… Ø§ØµÙ„ Ø§Ø Ø§Ù „Ù… Ø´ÙƒÙ„ Ø © Ø¨Ø¹Ø ¯ Ù… Ø§ ØÙˆÙ „Ø © Ø§Ù„ Ù ‡ Ø§ØªÙ Ø§Ù „Ù ‰ Ø§Ù„ Ù „ØºØ © Ø§Ù„ Ø§Ù † Ø¬Ù „ÙŠØ²ÙŠØ © Ùˆ Ø§ Ø³ØªØ®Ø¯Ù… Øª Ø§Ù „Ø¨Ø ± Ù † Ø§Ù… Ø¬ Ù„ Ù ØªØ ± Ù ‡ ÙˆØ¬ÙŠØ²Ø © Ùˆ Ø £ Ø ± Ø¬Ø¹Øª Ù † Ø¸Ø§Ù … Ø§Ù „Ù ‡ Ø§ØªÙ Ø§Ù„ Ù ‰ Ø§Ù „Ø¹Ø ± Ø¨ÙŠØ © Ùˆ ØªÙ… ØÙ„ Ù… Ø´ÙƒÙ „Ø © Ø ¥ ØºÙ„ Ø§Ù ‚Ø§ Ù „ØªØ · Ø¨ÙŠÙ‚ Ø§Ù „Ø¨Ø ± Ù † Ø§Ù… Ø¬ Ø¬ÙŠØ¯ Ø¬Ø¯Ø§ Ø´ÙƒØ ± Ø§ Ù„ ÙƒÙ…', 'The volume setting works but the rest don,t do much..': 'The volume setting works but the rest don,t do much..', 'Briliant !': 'Briliant !', \"I dont agree with phonak trying to profit off peoples Disability. Usually service's like this are available to the deaf and hard of hearing communities for free and paid for by the federal government in the usa.\": \"I dont agree with phonak trying to profit off peoples Disability. Usually service's like this are available to the deaf and hard of hearing communities for free and paid for by the federal government in the usa.\", 'Hearing aids connect with my iPhone, but wonâ€™t connect with the app. Maddening!!!!': 'Hearing aids connect with my iPhone, but wonâ€™t connect with the app. Maddening!!!!', 'I enjoy listening to this app. It relaxes me on my way to work and back. Iâ€™m always stuck in traffic. Excellent 100 percent satisfied': 'I enjoy listening to this app. It relaxes me on my way to work and back. Iâ€™m always stuck in traffic. Excellent 100 percent satisfied', 'The worst app. Will not connect both hearing aids. Says cannot find devices. I give up. Very disappointed.': 'The worst app. Will not connect both hearing aids. Says cannot find devices. I give up. Very disappointed.', 'While the app works as advertised, if not a bit buggy. The lack of discreetly toggling the volume control physically on my hearing aids is a problem. \\nHaving this control on my apple watch will vastly improve the way I use my hearing aids daily. \\nWhile wearing my old hearing aids, I could discreetly turn them up during meetings and presentations no problems. Now, during the same situation, I need to get my phone out, open the app and toggle the volume control. Not very discreet and it could be looked at as being rude during meetings etc. \\nPlease. Add Apple Watch support.': 'While the app works as advertised, if not a bit buggy. The lack of discreetly toggling the volume control physically on my hearing aids is a problem. \\nHaving this control on my apple watch will vastly improve the way I use my hearing aids daily. \\nWhile wearing my old hearing aids, I could discreetly turn them up during meetings and presentations no problems. Now, during the same situation, I need to get my phone out, open the app and toggle the volume control. Not very discreet and it could be looked at as being rude during meetings etc. \\nPlease. Add Apple Watch support.', 'Update: 20200705. Recently improved.': 'Update: 20200705. Recently improved.', \"I am so disappointed that Signia failed to inform me that it's software is incapable of proper function with Android cell phones. You are liable for misrepresentation done during your sales pitch. RDS\": \"I am so disappointed that Signia failed to inform me that it's software is incapable of proper function with Android cell phones. You are liable for misrepresentation done during your sales pitch. RDS\", 'This is awful doesnâ€™t work canâ€™t tell battery life at all seems to fade as the day goes on': 'This is awful doesnâ€™t work canâ€™t tell battery life at all seems to fade as the day goes on', 'Iâ€™ve been using the Resound paired with a Cochlear device, and have had nothing but trouble with it and the apps. I traded a Samsung S8 Edge phone for an iPhone 6S plus ( my sisterâ€™s) so it would be more compatible. Iâ€™ve had this for over a year. Started having more trouble with dropping Bluetooth. Blaming the s6 for running out of memory (16GB), I recently bought a new iPhone XS. With 64GB. The past few days, the Resound worked great. Today it wonâ€™t connect at all. Iâ€™ve loaded and reloaded the app. Nothing. The iPhone Bluetooth works with everything else. When trying to listen to TV through the tv sound adapter, the adapter icon shows in the app, and the yellow and green lights on the adapter are steady, showing that the device is connected to the iPhone, but the hearing aid wonâ€™t connect to the app. Finally it lost Bluetooth connection altogether. Iâ€™m wearing a demo HA because my own has been sent back to the manufacturer for the upteenth time for various problems. The two stars are for both app AND hearing aid! I would have given one star but will give credit for those days when it DOES work right, because then itâ€™s great. I think the engineers at Resound need to go back and start all over again from scratch and then introduce a hearing device that will work consistently instead of one that only works part time!!': 'Iâ€™ve been using the Resound paired with a Cochlear device, and have had nothing but trouble with it and the apps. I traded a Samsung S8 Edge phone for an iPhone 6S plus ( my sisterâ€™s) so it would be more compatible. Iâ€™ve had this for over a year. Started having more trouble with dropping Bluetooth. Blaming the s6 for running out of memory (16GB), I recently bought a new iPhone XS. With 64GB. The past few days, the Resound worked great. Today it wonâ€™t connect at all. Iâ€™ve loaded and reloaded the app. Nothing. The iPhone Bluetooth works with everything else. When trying to listen to TV through the tv sound adapter, the adapter icon shows in the app, and the yellow and green lights on the adapter are steady, showing that the device is connected to the iPhone, but the hearing aid wonâ€™t connect to the app. Finally it lost Bluetooth connection altogether. Iâ€™m wearing a demo HA because my own has been sent back to the manufacturer for the upteenth time for various problems. The two stars are for both app AND hearing aid! I would have given one star but will give credit for those days when it DOES work right, because then itâ€™s great. I think the engineers at Resound need to go back and start all over again from scratch and then introduce a hearing device that will work consistently instead of one that only works part time!!', 'Idioma espaÃ±ol y sÃ³lo universal no deja sino ajustar volumen': 'Spanish language and only universal does not allow but adjust volume', 'This app is relatively useless. I can adjust the volume and direction but cannot do anything else. Bluetooth is a joke. App Bluetooth connection wonâ€™t stay active. Canâ€™t connect to anything. My phone calls fade in and out of the ear pieces. I sometimes hear on both ears, one or the other, or donâ€™t connect at all. Unless major improvements are made in the future I canâ€™t recommend purchasing the hearing aids tied to this app. I am regretting my decision spending over $6K knowing what I know now.': 'This app is relatively useless. I can adjust the volume and direction but cannot do anything else. Bluetooth is a joke. App Bluetooth connection wonâ€™t stay active. Canâ€™t connect to anything. My phone calls fade in and out of the ear pieces. I sometimes hear on both ears, one or the other, or donâ€™t connect at all. Unless major improvements are made in the future I canâ€™t recommend purchasing the hearing aids tied to this app. I am regretting my decision spending over $6K knowing what I know now.', 'App worked for a few weeks then would not connect to right side. Repeated attemps to try again failed. On one try again both sides went out. Fortunately the left side came on line but thr right remained off. I removed app from phone and waited a day to reinstall it. No luck. App is not functioning.': 'App worked for a few weeks then would not connect to right side. Repeated attemps to try again failed. On one try again both sides went out. Fortunately the left side came on line but thr right remained off. I removed app from phone and waited a day to reinstall it. No luck. App is not functioning.', 'Only works sometimes. Constantly freezing.': 'Only works sometimes. Constantly freezing.', \"Ancienne version aucun problÃ¨me! Celle-lÃ\\xa0 toujours un ou deux aides dÃ©connecter Ã\\xa0 tout moment, seul moyen c'est de redÃ©marrer mon cell Ã\\xa0 chaque fois, et super difficile Ã\\xa0 pairer ouffff beaucoup de travail Ã\\xa0 faire oticon, letsgo we waiting\": 'Old version no problem! This one always one or two helpers to connect at any time, only way is to restart my cell every time, and super difficult to pair ouffff a lot of work to do oticon, letsgo we waiting', 'Costco version of Quattro, RIE. iPhone 6. Could the latest app update affect sound quality of a streamed phone call? I feel like Iâ€™m getting a lot of sibilance/static sound at ends of words.  Donâ€™t recall that before but I could be dreaming.  \\nI have virtually none of the disconnect issues others are reporting.  Thankfully.': 'Costco version of Quattro, RIE. iPhone 6. Could the latest app update affect sound quality of a streamed phone call? I feel like Iâ€™m getting a lot of sibilance/static sound at ends of words.  Donâ€™t recall that before but I could be dreaming.  \\nI have virtually none of the disconnect issues others are reporting.  Thankfully.', 'Pas parfait, quelques bugs, Ã§a se dÃ©connecte souvent mais Ã§a se remet assez rapidement et facilement. Jâ€™apprÃ©cie de pouvoir rÃ©gler moi-mÃªme la puissance sans avoir Ã\\xa0 me rendre chez lâ€™audioprothÃ©siste. Câ€™est vraiment un plus': 'Pas parfait, quelques bugs, Ã§a se dÃ©connecte souvent mais Ã§a se remet assez rapidement et facilement. Jâ€™apprÃ©cie de pouvoir rÃ©gler moi-mÃªme la puissance sans avoir Ã\\xa0 me rendre chez lâ€™audioprothÃ©siste. Câ€™est vraiment un plus', 'Cannot get app out of demo mode.': 'Cannot get app out of demo mode.', 'Tengo i11Pro Max \\nEn ver. anterior no funcionaba bien los favoritos con GPS. \\nEn iPhone6 no tenÃ\\xada problema. Pero con i11 si. \\nPor ahora se han resolviÃ³ problema.': 'I have i11Pro Max\\nIn ver. Previous favorites with GPS did not work well.\\nOn iPhone6 \\u200b\\u200bI had no problem. But with i11 yes.\\nBy now problem have been resolved.', 'This is the buggiest app I have ever encountered! Total waste of time.': 'This is the buggiest app I have ever encountered! Total waste of time.', \"TrÃ¨s bonne application. Bravo et merci pour cette nouvelle mise a jour. Il ne manquait plus que cela. Comment utiliser les appels tÃ©lÃ©phoniques, en utilisant les aides auditives, entendre nos interlocuteurs par nos aides, et parler car sur (diffusion audio direct) sur l'application cela est trÃ¨s mal expliquÃ©. j'utilise (SamsungS9, et Linx Quattro 961 Super et merci pour votre travail.\": 'Very good application. Well done and thank you for this new update. It missed only this. How to use telephone calls, using hearing aids, hearing our interlocutors through our aids, and speaking because on (direct audio broadcast) on the application this is very poorly explained. I am using (SamsungS9, and Linx Quattro 961 Super and thanks for your work.', 'En baissant le volume au minimum  avec le potentiomÃ¨tre sur mon appareil auditif le volume se bloque Ã\\xa0 zÃ©ro et on ne peut le rallumer quâ€™avec lâ€™iPhone ou en enlevant la pile câ€™est trÃ¨s gÃªnant. Le potentiomÃ¨tre sur lâ€™appareil auditif devient inactif dÃ¨s quâ€™on baisse au maximum le volume.': 'By lowering the volume to the minimum with the potentiometer on my hearing aid the volume locks to zero and you can only turn it on with the iPhone or by removing the battery it is very troublesome . The potentiometer on the hearing aid becomes inactive as soon as the volume is lowered as far as possible.', 'No battery check': 'No battery check', 'Es muy prÃ¡ctica': 'Es muy prÃ¡ctica', 'Ãœberzeugend! Ich hatâ€™s bislang nicht gewusst, dass es einen solchen Test fÃ¼r das iPhone gibt.': 'Convincing! I didnâ € ™ t know there was such a test for the iPhone.', 'Funktioniert ganz brauchbar, leider wird nach jeder Telefonat, jeder Navi Ansage, jedem Benachritugungston per Audiostreaming, das Profil wieder auf Autosense und nicht das zuletzt gewÃ¤hlte Profil gewechselt. Das ist lÃ¤stig und unkomfortabel.': \"Works very well, unfortunately after every phone call, every navigation announcement, every notification tone via audio streaming, the profile is switched back to Autosense and not the last selected profile. It's bothersome and uncomfortable.\", 'Working with my hearing aid and my old phone': 'Working with my hearing aid and my old phone', 'Keine Verbindung mit meinem Huawei Mate 20 Pro mÃ¶glich. Ich habe zurzeit Test-HÃ¶rgerÃ¤te vor dem Kauf von Geers bekommen. Leider ist keine Verbindung mit meinem Huawei Mate 20 Pro mÃ¶glich. So werde ich die HÃ¶rgerÃ¤te leider nicht kaufen.': \"Cannot connect to my Huawei Mate 20 Pro. I currently got test hearing aids from Geers before buying them. Unfortunately, no connection to my Huawei Mate 20 Pro is possible. I'm not going to buy the hearing aids like that.\", 'This is a worthless piece of garbage. It will not connect to the phone. $5000 for a piece of. Cr ap. Never again.': 'This is a worthless piece of garbage. It will not connect to the phone. $5000 for a piece of. Cr ap. Never again.', 'Funktioniert einwandfrei. Funktionsumfang kann sicher noch verbessert werden. Die Unitron next Funktionen wÃ¤hren auch fÃ¼r die anderen Unitron GerÃ¤te interessant wie z. b Unitron JUMP moxi r': 'Funktioniert einwandfrei. Funktionsumfang kann sicher noch verbessert werden. Die Unitron next Funktionen wÃ¤hren auch fÃ¼r die anderen Unitron GerÃ¤te interessant wie z. b Unitron JUMP moxi r', 'Muito bom app': 'Very good app', 'Ãˆ veramente inutile, dopo un sacco di soldi spesi. Trova solo un apparecchio e fa vedere sempre quello, del sx non si hanno notizie. VERGOGNA': 'Ãˆ veramente inutile, dopo un sacco di soldi spesi. Trova solo un apparecchio e fa vedere sempre quello, del sx non si hanno notizie. VERGOGNA', 'Funktioniert nicht': 'Funktioniert nicht', 'De app verbindt zeer slecht met de hoorapparaten ( of de hoorapparaten met de telefoon of de app). De verbinding is 10, 20 keer per dag verbroken en het kost dan heel veel moeite weer opnieuw te verbinden. De communicatie van Starkey is ook slecht. Als ik mrt mijn problrmen bij de audicien kom, moet hij weer net Starkey telefoneren en dan komt meestal een half antwoord wat meer af dan toe functioneert. Starkey heeft al lang een software update van de hoorapparaten beloofd, maar er komt niets....': 'De app verbindt zeer slecht met de hoorapparaten ( of de hoorapparaten met de telefoon of de app). De verbinding is 10, 20 keer per dag verbroken en het kost dan heel veel moeite weer opnieuw te verbinden. De communicatie van Starkey is ook slecht. Als ik mrt mijn problrmen bij de audicien kom, moet hij weer net Starkey telefoneren en dan komt meestal een half antwoord wat meer af dan toe functioneert. Starkey heeft al lang een software update van de hoorapparaten beloofd, maar er komt niets....', 'Frustrerende â˜¹ï¸\\x8f. HÃ¥blÃ¸s. Kan ikke forbinde hÃ¸reapparaterne med min nye android telefon. Appen fungerer fint pÃ¥ min iPad. FÃ¥ nu lavet en app der dur. Please. Lisbet': 'Frustrerende â˜¹ï¸\\x8f. HÃ¥blÃ¸s. Kan ikke forbinde hÃ¸reapparaterne med min nye android telefon. Appen fungerer fint pÃ¥ min iPad. FÃ¥ nu lavet en app der dur. Please. Lisbet', 'EXTREMELY glitchy app, have to restart several times before it locates aids, which I place right next to phone, and has tendancy to drop connection with aids a few times a day. Very frustrating': 'EXTREMELY glitchy app, have to restart several times before it locates aids, which I place right next to phone, and has tendancy to drop connection with aids a few times a day. Very frustrating', \"I use Samsung galaxy N7 Neo and iI'm unable to pair it with the phone clip. Probably, my phone is not compatible with it. I guess\": \"I use Samsung galaxy N7 Neo and iI'm unable to pair it with the phone clip. Probably, my phone is not compatible with it. I guess\", 'Einfach in der Handhabung und das Preis Leistung VerhÃ¤ltnis stimmt.': 'Einfach in der Handhabung und das Preis Leistung VerhÃ¤ltnis stimmt.', 'Apparently I have no hearing loss and around 90% capacity in both ears, but it also says I am in the bottom 90% for hearing ability in my age group, which makes no sense. This feature doesnâ€™t work correctly at all. My partner also did this test and it says he has 30% hearing capacity in his right ear, which is much worse than his left ear, yet the app says he has no hearing loss, even though it is all far above 20dB on the hearing chart for his right ear.': 'Apparently I have no hearing loss and around 90% capacity in both ears, but it also says I am in the bottom 90% for hearing ability in my age group, which makes no sense. This feature doesnâ€™t work correctly at all. My partner also did this test and it says he has 30% hearing capacity in his right ear, which is much worse than his left ear, yet the app says he has no hearing loss, even though it is all far above 20dB on the hearing chart for his right ear.', \"PlutÃ´t bien, le spacial configurator est trÃ¨s utile dans certains milieux sonores genre restaurant, salle de spectacle, etc. Le rÃ©glage du volume trÃ¨s discret est intÃ©ressant. Il manque une remise Ã\\xa0 zÃ©ro des curseurs lorsque l'on arrÃªte l'application ou les aides. Enfin quand aura t on droit Ã\\xa0 l'Ã©coute de la tÃ©lÃ© et du smart phone directement dans les aides auditives sous AndoÃ¯d ?\": \"PlutÃ´t bien, le spacial configurator est trÃ¨s utile dans certains milieux sonores genre restaurant, salle de spectacle, etc. Le rÃ©glage du volume trÃ¨s discret est intÃ©ressant. Il manque une remise Ã\\xa0 zÃ©ro des curseurs lorsque l'on arrÃªte l'application ou les aides. Enfin quand aura t on droit Ã\\xa0 l'Ã©coute de la tÃ©lÃ© et du smart phone directement dans les aides auditives sous AndoÃ¯d ?\", 'Zufriedener Kunde': 'Zufriedener Kunde', 'Manche Einstellungen, SendelautstÃ¤rke, odet Skalen sollten genauer beschrieben werden, warum der Batteriestatus rechts nicht mehr abgezeigt wird, ein defekt im GerÃ¤t oder in der App? KÃ¶nnte man seinen Akustiket hinterlegen und Kontakt Ã¼ber Email aufnehmen, wÃ¤re in Pandemiezeiten eine Menge vorwÃ¤rts gebracht.': 'Manche Einstellungen, SendelautstÃ¤rke, odet Skalen sollten genauer beschrieben werden, warum der Batteriestatus rechts nicht mehr abgezeigt wird, ein defekt im GerÃ¤t oder in der App? KÃ¶nnte man seinen Akustiket hinterlegen und Kontakt Ã¼ber Email aufnehmen, wÃ¤re in Pandemiezeiten eine Menge vorwÃ¤rts gebracht.', 'App will not save.': 'App will not save.', 'I was becoming concerned about my hearing, so I uses this test. It broke down how I am hearing compared  to my peers. Normal is good enough for me.': 'I was becoming concerned about my hearing, so I uses this test. It broke down how I am hearing compared  to my peers. Normal is good enough for me.', 'funktioniert leider Ã¼berhaupt nicht, bei soviel Geld erwartet man ein anderes Service Schade': 'funktioniert leider Ã¼berhaupt nicht, bei soviel Geld erwartet man ein anderes Service Schade', 'Mala....se queda muchisimo': 'Mala....se queda muchisimo', 'So I love my resound Enzo 3D and I love love the ability to connect with my iPhone.\\nThat being said a few feedback comments:\\n1) The forced notifications especially on the recent Feb 2020 update are really annoying. I dutifully read the notification (turn on locations to always) and decided not to do that (my HA is always in my ear or in my dry n store I never have a need to locate it!) but the notification is still there.  Please donâ€™t force people to use a feature they donâ€™t want!  \\n2) Allow a direct feedback feature on your website or the App Store.  When I clicked help/contact it always tells me to contact my hearing professional.  Um some of us are pretty tech savvy and just need support or want to give feedback that our audiologist would not be of use.  Frankly I know more about iPhones and pairing etc than my Audie.  I should be able to directly contact resound for app issues!  But that seems to be the assumption that the HA industry makes that the consumer is 10000 years old and knows nothing about technology and that the audiologist is all knowing and can solve every problem.   Those of us that are under 50 get frustrated with that current model.': 'So I love my resound Enzo 3D and I love love the ability to connect with my iPhone.\\nThat being said a few feedback comments:\\n1) The forced notifications especially on the recent Feb 2020 update are really annoying. I dutifully read the notification (turn on locations to always) and decided not to do that (my HA is always in my ear or in my dry n store I never have a need to locate it!) but the notification is still there.  Please donâ€™t force people to use a feature they donâ€™t want!  \\n2) Allow a direct feedback feature on your website or the App Store.  When I clicked help/contact it always tells me to contact my hearing professional.  Um some of us are pretty tech savvy and just need support or want to give feedback that our audiologist would not be of use.  Frankly I know more about iPhones and pairing etc than my Audie.  I should be able to directly contact resound for app issues!  But that seems to be the assumption that the HA industry makes that the consumer is 10000 years old and knows nothing about technology and that the audiologist is all knowing and can solve every problem.   Those of us that are under 50 get frustrated with that current model.', \"Extremely slow. Keep crashing all the time. Improvement potential is huge. After the update in january the app don't crashreport any more, but besides that, it's more or less useless. I frequently have to forget and reinstall my Marvels and the time to connect is terrible. I have done all adjustments according to Marvek support and, and my Sony Xperia X Compact is compatible. 0,5 stars.\": \"Extremely slow. Keep crashing all the time. Improvement potential is huge. After the update in january the app don't crashreport any more, but besides that, it's more or less useless. I frequently have to forget and reinstall my Marvels and the time to connect is terrible. I have done all adjustments according to Marvek support and, and my Sony Xperia X Compact is compatible. 0,5 stars.\", 'Die App macht das, was sie soll. Schlicht, Ã¼bersichtlicher Funktionsumfang, einfach zu handhaben. SchÃ¶n fÃ¤nde ich eine ErlÃ¤uterung zu den situativen HÃ¶rprogrammen, aus der hervorgeht, welche akustischen Eingriffe in den jeweiligen Programmen erfolgen.': 'Die App macht das, was sie soll. Schlicht, Ã¼bersichtlicher Funktionsumfang, einfach zu handhaben. SchÃ¶n fÃ¤nde ich eine ErlÃ¤uterung zu den situativen HÃ¶rprogrammen, aus der hervorgeht, welche akustischen Eingriffe in den jeweiligen Programmen erfolgen.', \"Beaucoup trop longue Ã\\xa0 lancer, fonctionnement alÃ©atoire, elle aurait besoin d'un sÃ©rieux coup de boost.\": \"Beaucoup trop longue Ã\\xa0 lancer, fonctionnement alÃ©atoire, elle aurait besoin d'un sÃ©rieux coup de boost.\", 'Just rec\\'d My new Quattro\\'s two days ago from the VA. Now using the app and it paired up easily and works just fine with one minor exception. The \"Sound Focus\" option does not show up under the restaurant program. Instead I get a \"Speech Clarity\" option which seems to be the same as \"Noise Filter\" option. I have Quattros RIE 62 and am using a Samsung Galaxy J7 with Android 8.1.0, Are these compatible? Or, does the audiologist have to enable some option?': 'Just rec\\'d My new Quattro\\'s two days ago from the VA. Now using the app and it paired up easily and works just fine with one minor exception. The \"Sound Focus\" option does not show up under the restaurant program. Instead I get a \"Speech Clarity\" option which seems to be the same as \"Noise Filter\" option. I have Quattros RIE 62 and am using a Samsung Galaxy J7 with Android 8.1.0, Are these compatible? Or, does the audiologist have to enable some option?', 'The previous app for my hearing aids paired very easily. I like the formatting of this new app but it has a lot of difficulty pairing with my Bluetooth.': 'The previous app for my hearing aids paired very easily. I like the formatting of this new app but it has a lot of difficulty pairing with my Bluetooth.', \"The SoundSence Learn won't let me save a profile.\": \"The SoundSence Learn won't let me save a profile.\", 'The connection with bluetooth always falls.  Disgusting. Â·': 'The connection with bluetooth always falls.  Disgusting. Â·', 'ne fonctionne plus du tout. je suis sur android 10.': 'ne fonctionne plus du tout. je suis sur android 10.', 'I can hear better.': 'I can hear better.', 'Could not open app': 'Could not open app', \"Will not work with my Siemens hearing aids. Do not know if it's the app or the EasyTek unit. Whatever, it's a few hundred bucks of worthless electronics.\": \"Will not work with my Siemens hearing aids. Do not know if it's the app or the EasyTek unit. Whatever, it's a few hundred bucks of worthless electronics.\", 'Will not connect': 'Will not connect', 'Die Nutzungszeit wird nicht richtig angezeigt. Erst nach mehrmaligem Aus- und Einschalten wird diese aktualisiert. Wenn ich neue Batterien eingelegt habe, sind diese laut Angabe nach 2 Tagen nur noch bei 60 bis 50 %. Dieser Wert wird dann weitere 2 Tage angezeigt, bevor er dann weiter runter geht. 07.03.2020: seit ca. 4 Wochen funktioniert die Nutzungszeit gar nicht mehr. Es erscheint die Meldung, dass es ein Problem bei Oticon gibt. Dies per Mail gemeldet, keine Antwort darauf. FachkrÃ¤ftemangel': 'Die Nutzungszeit wird nicht richtig angezeigt. Erst nach mehrmaligem Aus- und Einschalten wird diese aktualisiert. Wenn ich neue Batterien eingelegt habe, sind diese laut Angabe nach 2 Tagen nur noch bei 60 bis 50 %. Dieser Wert wird dann weitere 2 Tage angezeigt, bevor er dann weiter runter geht. 07.03.2020: seit ca. 4 Wochen funktioniert die Nutzungszeit gar nicht mehr. Es erscheint die Meldung, dass es ein Problem bei Oticon gibt. Dies per Mail gemeldet, keine Antwort darauf. FachkrÃ¤ftemangel', 'Muito bom': 'Muito bom', 'This app has great intentions and great features when it doesnâ€™t crash. Then today I was notified that it was allowing malware into my phone!': 'This app has great intentions and great features when it doesnâ€™t crash. Then today I was notified that it was allowing malware into my phone!', 'Fair. App is loosing ability to maintain control as desired and syncing to phone no longer works.': 'Fair. App is loosing ability to maintain control as desired and syncing to phone no longer works.', 'Auf einer Apple Watch funktioniert die LautstÃ¤rkeregelung mittels der Crown nur gelegentlich,jedenfalls ist kein Muster zu erkennen, wann sie geht und wann nicht. Deinstallation und Neuinstallation der App, neu koppeln geht auch nicht. App und Watch und HÃ¶rgerÃ¤te zerena 5 sind updatemÃ¤ssig auf dem neusten Stand und die Watch neustes Modell. Sehr frustrierend. Das Ganze scheint nicht ausgereift zu sein.': 'Auf einer Apple Watch funktioniert die LautstÃ¤rkeregelung mittels der Crown nur gelegentlich,jedenfalls ist kein Muster zu erkennen, wann sie geht und wann nicht. Deinstallation und Neuinstallation der App, neu koppeln geht auch nicht. App und Watch und HÃ¶rgerÃ¤te zerena 5 sind updatemÃ¤ssig auf dem neusten Stand und die Watch neustes Modell. Sehr frustrierend. Das Ganze scheint nicht ausgereift zu sein.', 'I don\\'t know why a guide should require a password-protected login in the first place, but I can\\'t set it up. I tried with wifi and with Verizon, and all I keep getting is \"unknown server error.\"': 'I don\\'t know why a guide should require a password-protected login in the first place, but I can\\'t set it up. I tried with wifi and with Verizon, and all I keep getting is \"unknown server error.\"', 'Whilst in the car and radio was on I tried to change the volume  on my hearing aids but would  not allow this so frustrating': 'Whilst in the car and radio was on I tried to change the volume  on my hearing aids but would  not allow this so frustrating', 'Das HÃ¶rgerÃ¤t ohne die AP macht wenig Sinn, weil man es unter realistischen Bedingungen einstellen muÃŸ, aber die AP funktioniert nur mit Tricks. Die Kopplung funktioniert schlecht. Es ist stÃ¤ndig nÃ¶tig GerÃ¤t neustarten aus dem AP auswerfen, neu suchen, koppeln. Sobald die AP ausgeworfen wird geht der HÃ¶rgerÃ¤t auf Autosens, das gleiche wenn man das Handy in Ruhemodus versetzt. Es funktioniert nur dann, wenn die AP auf Handy aktiv bleibt! Einfach laufen lassen.': 'Das HÃ¶rgerÃ¤t ohne die AP macht wenig Sinn, weil man es unter realistischen Bedingungen einstellen muÃŸ, aber die AP funktioniert nur mit Tricks. Die Kopplung funktioniert schlecht. Es ist stÃ¤ndig nÃ¶tig GerÃ¤t neustarten aus dem AP auswerfen, neu suchen, koppeln. Sobald die AP ausgeworfen wird geht der HÃ¶rgerÃ¤t auf Autosens, das gleiche wenn man das Handy in Ruhemodus versetzt. Es funktioniert nur dann, wenn die AP auf Handy aktiv bleibt! Einfach laufen lassen.', 'Den tidligere App var grunden til at jeg kÃ¸bte Oticon frem for andre fabrikater. Den nye er ubrugelig og jeg fÃ¸ler mig total svigtet. Jeg kÃ¸ber bestemt ikke Oticon igen.': 'Den tidligere App var grunden til at jeg kÃ¸bte Oticon frem for andre fabrikater. Den nye er ubrugelig og jeg fÃ¸ler mig total svigtet. Jeg kÃ¸ber bestemt ikke Oticon igen.', 'Werkt niet': 'Werkt niet', 'Funktioniert nicht!': 'Funktioniert nicht!', 'A while back I was using the Phonak Remote APP. Worked very good. Then I got a message stating I jeeded the jew My Phonak App because it was better. No it is not. My Phonak APP does not work at all. I have tried everything in the reviews. I am pretty tech savvy. My phone calls do not come through my hearing aids any more. I have a Samsung Galaxy S9+. Go back to the old APP and trash this one.': 'A while back I was using the Phonak Remote APP. Worked very good. Then I got a message stating I jeeded the jew My Phonak App because it was better. No it is not. My Phonak APP does not work at all. I have tried everything in the reviews. I am pretty tech savvy. My phone calls do not come through my hearing aids any more. I have a Samsung Galaxy S9+. Go back to the old APP and trash this one.', \"I'm new to hearing aids as I received my first pair yesterday. I think the app is very user friendly making it easy for nontechnical people to use and adjust their hearing needs based on their environment. My reason for 3 stars is due to the fact that the app goes back to the default values when you switch your hearing preference (i.e. P1, the connect microphone, tv adapter, etc.). There should be a memory of your settings so you can switch back and forth comfortably without hurting your ears\": \"I'm new to hearing aids as I received my first pair yesterday. I think the app is very user friendly making it easy for nontechnical people to use and adjust their hearing needs based on their environment. My reason for 3 stars is due to the fact that the app goes back to the default values when you switch your hearing preference (i.e. P1, the connect microphone, tv adapter, etc.). There should be a memory of your settings so you can switch back and forth comfortably without hurting your ears\", 'Weshalb muss man so viele Berechtigungen zulassen um auf die app zuzugreifen zu kÃ¶nnen Datenschutz??? wo ist der.': 'Weshalb muss man so viele Berechtigungen zulassen um auf die app zuzugreifen zu kÃ¶nnen Datenschutz??? wo ist der.', 'This seems to be the most useless app I have ever seen. It constantly disconnects mostly my right aid but periodically both of my aids. To be able to pair them again I have to uninstall and then reinstall the app. The Oticon app I had for my Chilies was extremely useful and I fully expected that performance from this one. I rate this at one star only because there is no provision for less.': 'This seems to be the most useless app I have ever seen. It constantly disconnects mostly my right aid but periodically both of my aids. To be able to pair them again I have to uninstall and then reinstall the app. The Oticon app I had for my Chilies was extremely useful and I fully expected that performance from this one. I rate this at one star only because there is no provision for less.', 'How do i set it up to my phonak hearing aid': 'How do i set it up to my phonak hearing aid', 'This app is useless.  First of all my right hearing aid will pair with my iPhone on the Bluetooth setup, but the app says it isnâ€™t.  The left one is never able to pair.  All I want to do is have independent control of each volume.  Is that asking too much? Apparently.  My hearing aids were just sent to Phonak for repair, they are operating fine.  The app is totally useless.  Is it so hard to use mature technology (Bluetooth)?  Hey Phonak, step into the year 2010.  Oh, itâ€™s 2020!': 'This app is useless.  First of all my right hearing aid will pair with my iPhone on the Bluetooth setup, but the app says it isnâ€™t.  The left one is never able to pair.  All I want to do is have independent control of each volume.  Is that asking too much? Apparently.  My hearing aids were just sent to Phonak for repair, they are operating fine.  The app is totally useless.  Is it so hard to use mature technology (Bluetooth)?  Hey Phonak, step into the year 2010.  Oh, itâ€™s 2020!', 'Hat nur am Anfang funktioniert (alle Einstellungen am Smartphone und mit App nur mit externer Hilfe mÃ¶glich). Alle anderen Apps finden HÃ¶rgerÃ¤te, nur MyPhonak-App nicht. Kann mit HÃ¶rgerÃ¤te telefonieren, Musik hÃ¶ren, Videos schauen, Navigation hÃ¶ren, nur mit der MyPhonak-App gibt es keine Verbindung, kann also nichts Ã¼ber die App einstellen. App sollte ganz dringend Ã¼berarbeitet werden, so nicht nutzbar! Das ist ein Armutszeugnis fÃ¼r Phonak!': 'Hat nur am Anfang funktioniert (alle Einstellungen am Smartphone und mit App nur mit externer Hilfe mÃ¶glich). Alle anderen Apps finden HÃ¶rgerÃ¤te, nur MyPhonak-App nicht. Kann mit HÃ¶rgerÃ¤te telefonieren, Musik hÃ¶ren, Videos schauen, Navigation hÃ¶ren, nur mit der MyPhonak-App gibt es keine Verbindung, kann also nichts Ã¼ber die App einstellen. App sollte ganz dringend Ã¼berarbeitet werden, so nicht nutzbar! Das ist ein Armutszeugnis fÃ¼r Phonak!', 'Iâ€™ve been a major critic of the software performance in the past but I was very pleasantly surprised by yesterdayâ€™s update. Lo and behold, all of my connection and streaming issues were addressed and are no longer problematic. You have made my day!!': 'Iâ€™ve been a major critic of the software performance in the past but I was very pleasantly surprised by yesterdayâ€™s update. Lo and behold, all of my connection and streaming issues were addressed and are no longer problematic. You have made my day!!', 'Stops working every 3 days. Have to delete and reinstall. Bluetooth link fails often. Delete and reload. Very little function when it does work. Non responsive tech support. Going to convert back to old Connexx. It was reliable!': 'Stops working every 3 days. Have to delete and reinstall. Bluetooth link fails often. Delete and reload. Very little function when it does work. Non responsive tech support. Going to convert back to old Connexx. It was reliable!', 'Sehr gute Arbeit und HÃ¶rleistung': 'Sehr gute Arbeit und HÃ¶rleistung', 'The Signia App doesnâ€™t serve the purpose.  Start live session gets switched off within couple of minutes.\\nNot user friendly.  Not happy with your app.': 'The Signia App doesnâ€™t serve the purpose.  Start live session gets switched off within couple of minutes.\\nNot user friendly.  Not happy with your app.', 'My right ear does not hear well at all.  While testing it, the app repeatedly told me that because I hadnâ€™t heard anything for ten seconds I should restart. I ignored it and continued but this happened three times so I couldnâ€™t help but feel a bit punished for my bad hearing. \\nMini identified that ear at 33% hearing capacity and my other ear at 90%.  Their final overall verdict was that I have no hearing loss whatsoever (the best category!) despite the fact that the descriptions put me at moderate hearing loss, the second worst category.  I donâ€™t understand how I can be at 1/3 of my hearing in an ear and still qualify as no hearing loss and there seems to be no information in the app on why this would be other than that they use WHO standards.\\nLet me assure you that having one good ear doesnâ€™t always mean I can easily hear everything. The left side of my head does not point everywhere at once.': 'My right ear does not hear well at all.  While testing it, the app repeatedly told me that because I hadnâ€™t heard anything for ten seconds I should restart. I ignored it and continued but this happened three times so I couldnâ€™t help but feel a bit punished for my bad hearing. \\nMini identified that ear at 33% hearing capacity and my other ear at 90%.  Their final overall verdict was that I have no hearing loss whatsoever (the best category!) despite the fact that the descriptions put me at moderate hearing loss, the second worst category.  I donâ€™t understand how I can be at 1/3 of my hearing in an ear and still qualify as no hearing loss and there seems to be no information in the app on why this would be other than that they use WHO standards.\\nLet me assure you that having one good ear doesnâ€™t always mean I can easily hear everything. The left side of my head does not point everywhere at once.', \"Had to install on my wife's phone for some reason this will not install on a new one plus phone. Would be nice if they would updated for the new phones.\": \"Had to install on my wife's phone for some reason this will not install on a new one plus phone. Would be nice if they would updated for the new phones.\", 'The latest update to IOS 14.0.1 doesnâ€™t allow the option to select my hearing aids when making or answering a phone call.  Everything was working up until now. Someone help please': 'The latest update to IOS 14.0.1 doesnâ€™t allow the option to select my hearing aids when making or answering a phone call.  Everything was working up until now. Someone help please', 'LÃ¤uft nicht wirklich gut ðŸ‘\\x8d': 'LÃ¤uft nicht wirklich gut ðŸ‘\\x8d', 'Die App koppelt und reagiert langsam. Auch keine Kontrolle was ich eingestellt habe. Wenig einstellbar und wÃ¼rde mehr Optionen wÃ¼nschen': 'Die App koppelt und reagiert langsam. Auch keine Kontrolle was ich eingestellt habe. Wenig einstellbar und wÃ¼rde mehr Optionen wÃ¼nschen', 'Easy to use.not sure the battery level check works correctly as it bleeps 3 times every day, only for battery in aid to fail 2 hours later': 'Easy to use.not sure the battery level check works correctly as it bleeps 3 times every day, only for battery in aid to fail 2 hours later', \"Not very good ! No/bad location detection. No/bad TV detection. Doesn't perform as expected...certainly not for the money involved!\": \"Not very good ! No/bad location detection. No/bad TV detection. Doesn't perform as expected...certainly not for the money involved!\", 'Repeatedly drops connection to one or both hearing aids. IPhone imbedded app is still functional thus Bluetooth functionality is still intact. Frustrating to loose Apple Watch connection when â€œSmartâ€\\x9d 3D in inoperative.': 'Repeatedly drops connection to one or both hearing aids. IPhone imbedded app is still functional thus Bluetooth functionality is still intact. Frustrating to loose Apple Watch connection when â€œSmartâ€\\x9d 3D in inoperative.', 'Seems to be quite useless at present because it drops out and requires a lengthy proocess to re-connect - only to drop out again shortly after. Very poor adjunct to topend hearing aids.': 'Seems to be quite useless at present because it drops out and requires a lengthy proocess to re-connect - only to drop out again shortly after. Very poor adjunct to topend hearing aids.', 'Works properly about 80% of the time.': 'Works properly about 80% of the time.', 'I am sick of switching demo mode on and off every time I wanting to connect to hearing. Told by rep to look for updates still looking.!!!!': 'I am sick of switching demo mode on and off every time I wanting to connect to hearing. Told by rep to look for updates still looking.!!!!', 'I have used Resound 3D for a year. I  keep up with the updates! My iPhone 7 worked well. Currently iPhone 11. Apple Watch 3. I like the ability for control in multiple environments. The watch is great for switching setting on hearing aids when you want minimal distractions for those around you. One review said they used the app because they had to. iPhone has controls built in the Settings which work!  Hearing aids are not shown in blue tooth as they are made to function w iPhones.': 'I have used Resound 3D for a year. I  keep up with the updates! My iPhone 7 worked well. Currently iPhone 11. Apple Watch 3. I like the ability for control in multiple environments. The watch is great for switching setting on hearing aids when you want minimal distractions for those around you. One review said they used the app because they had to. iPhone has controls built in the Settings which work!  Hearing aids are not shown in blue tooth as they are made to function w iPhones.', 'Muy fÃ¡cil de manejar.me va genial con el dispositivo de la tv y es sÃºper Ãºtil para controlar el volÃºmen en cualquier situaciÃ³n.muy interesante la opciÃ³n de configurador espacial.me falta saber si podrÃ© oir las llamadas o los sonidos del smartphone,todavÃ\\xada no he preguntado': 'Muy fÃ¡cil de manejar.me va genial con el dispositivo de la tv y es sÃºper Ãºtil para controlar el volÃºmen en cualquier situaciÃ³n.muy interesante la opciÃ³n de configurador espacial.me falta saber si podrÃ© oir las llamadas o los sonidos del smartphone,todavÃ\\xada no he preguntado', \"It won't recognize my hearing aids unless I reboot my phone and make that the first program I open. If I turn the program off my aids go back to basic settings and if I want to use it again I have to reboot my phone. Today rebooting didn't work and my phone said I didn't have the program and it wasn't available in the Play Store. A few hours later it still wasn't available on my phone but I could now find it on the Play Store and open it from there. But it wouldn't connect. I'm trying uninstall\": \"It won't recognize my hearing aids unless I reboot my phone and make that the first program I open. If I turn the program off my aids go back to basic settings and if I want to use it again I have to reboot my phone. Today rebooting didn't work and my phone said I didn't have the program and it wasn't available in the Play Store. A few hours later it still wasn't available on my phone but I could now find it on the Play Store and open it from there. But it wouldn't connect. I'm trying uninstall\", 'I have these hearing aids for some time now and still cannot figure out the volume.  I had much cheaper hearing aids before these and liked them much better.   So sorry I let them talk me into these as this ap is terrible.  If I could I give no stars.   This is totally confusing to older users.   I am getting rid of these hearing aid.': 'I have these hearing aids for some time now and still cannot figure out the volume.  I had much cheaper hearing aids before these and liked them much better.   So sorry I let them talk me into these as this ap is terrible.  If I could I give no stars.   This is totally confusing to older users.   I am getting rid of these hearing aid.', 'App does not work on my android phone which is a year old, will not find Bluetooth.': 'App does not work on my android phone which is a year old, will not find Bluetooth.', 'The app is always disconnecting requiring me to delete the app, reinstall the app and then restarting the hearing aids. Everything else I tried does not work.': 'The app is always disconnecting requiring me to delete the app, reinstall the app and then restarting the hearing aids. Everything else I tried does not work.', 'I love the ability to tailor my hearing aids to different sound environments.  The Evoke hearing aids do well automatically sensing environments, but the app allows you to take it to the next level. \\nMy three favorite custom programs:  for Walt Disney Concert Hall; for my very noisy Cessna aircraft; and for hearing table conversations in loud restaurants. \\nUnfortunately, it does not show battery condition for each ear in any detailâ€”very odd.  When a battery fails, it wonâ€™t show until you start getting audio warnings. And itâ€™s impossible to tune and save frequency response except through the â€œfavoritesâ€\\x9d processâ€”which is best, A or B?': 'I love the ability to tailor my hearing aids to different sound environments.  The Evoke hearing aids do well automatically sensing environments, but the app allows you to take it to the next level. \\nMy three favorite custom programs:  for Walt Disney Concert Hall; for my very noisy Cessna aircraft; and for hearing table conversations in loud restaurants. \\nUnfortunately, it does not show battery condition for each ear in any detailâ€”very odd.  When a battery fails, it wonâ€™t show until you start getting audio warnings. And itâ€™s impossible to tune and save frequency response except through the â€œfavoritesâ€\\x9d processâ€”which is best, A or B?', 'Oli tyÃ¶lÃ¤s asentaa Nokia 5:een, mutta toimii ja sitten taas ei.': 'Oli tyÃ¶lÃ¤s asentaa Nokia 5:een, mutta toimii ja sitten taas ei.', 'App controls hearing aids to reasonable degree but is not perfection.': 'App controls hearing aids to reasonable degree but is not perfection.', 'I donâ€™t like resetting the volume on each setting that Iâ€™m comfortable with. It would be nice if my settings were saved.\\nI would like listen to my music on my phone with the phone volume off.\\nI would like to be able to have my hearing stay connected to my TV when I open certain apps on my phone that have sound.': 'I donâ€™t like resetting the volume on each setting that Iâ€™m comfortable with. It would be nice if my settings were saved.\\nI would like listen to my music on my phone with the phone volume off.\\nI would like to be able to have my hearing stay connected to my TV when I open certain apps on my phone that have sound.', 'ZusÃ¤tzliches Geld fÃ¼r Bluetooth aus dem Fenster geworfen. App funktioniert nicht. Eigentlich kein Stern verdient.': 'ZusÃ¤tzliches Geld fÃ¼r Bluetooth aus dem Fenster geworfen. App funktioniert nicht. Eigentlich kein Stern verdient.', 'Just reconnected to this app since one of my hearing aids needed replaced. Now when I either place a call or answer one it connects to the hearing aid app not the phone or speaker phone option to get the phone to work I have removed this app ,,,why': 'Just reconnected to this app since one of my hearing aids needed replaced. Now when I either place a call or answer one it connects to the hearing aid app not the phone or speaker phone option to get the phone to work I have removed this app ,,,why', 'ÐžÑ‡ÐµÐ½ÑŒ Ð¿Ð»Ð¾Ñ…Ð¾ Ñ€Ð°Ð±Ð¾Ñ‚Ð°ÐµÑ‚, ÐºÐ¾Ð³Ð´Ð° Ð¾Ñ‚ÐºÑ€Ñ‹Ð²Ð°ÐµÑˆÑŒ ÐµÐ³Ð¾, Ð¾Ð½Ð¾ Ð¿Ð¾Ñ‡Ñ‚Ð¸ Ð²Ñ\\x81ÐµÐ³Ð´Ð° Ð² Ñ\\x81Ð¾Ñ\\x81Ñ‚Ð¾Ñ\\x8fÐ½Ð¸Ð¸ Ð·Ð°Ð³Ñ€ÑƒÐ·ÐºÐ¸ (Ð½Ð°Ð´Ð¿Ð¸Ñ\\x81ÑŒ â€œÐ²Ñ‹Ð±ÐµÑ€Ð¸Ñ‚Ðµ Ð²Ð°Ñˆ com-dexâ€\\x9d Ð¸ Ð½Ð¸ÐºÐ°ÐºÐ¸Ðµ ÑƒÑ\\x81Ñ‚Ñ€Ð¾Ð¹Ñ\\x81Ñ‚Ð²Ð° Ð½Ðµ Ð¾Ñ‚Ð¾Ð±Ñ€Ð°Ð¶Ð°ÑŽÑ‚Ñ\\x81Ñ\\x8f, Ñ‚Ð¾Ð»ÑŒÐºÐ¾ ÐºÑ€ÑƒÑ‚Ð¸Ñ‚Ñ\\x81Ñ\\x8f ÐºÐ¾Ð»ÐµÑ\\x81Ð¸ÐºÐ¾ Ð·Ð°Ð³Ñ€ÑƒÐ·ÐºÐ¸).': 'ÐžÑ‡ÐµÐ½ÑŒ Ð¿Ð»Ð¾Ñ…Ð¾ Ñ€Ð°Ð±Ð¾Ñ‚Ð°ÐµÑ‚, ÐºÐ¾Ð³Ð´Ð° Ð¾Ñ‚ÐºÑ€Ñ‹Ð²Ð°ÐµÑˆÑŒ ÐµÐ³Ð¾, Ð¾Ð½Ð¾ Ð¿Ð¾Ñ‡Ñ‚Ð¸ Ð²Ñ\\x81ÐµÐ³Ð´Ð° Ð² Ñ\\x81Ð¾Ñ\\x81Ñ‚Ð¾Ñ\\x8fÐ½Ð¸Ð¸ Ð·Ð°Ð³Ñ€ÑƒÐ·ÐºÐ¸ (Ð½Ð°Ð´Ð¿Ð¸Ñ\\x81ÑŒ â€œÐ²Ñ‹Ð±ÐµÑ€Ð¸Ñ‚Ðµ Ð²Ð°Ñˆ com-dexâ€\\x9d Ð¸ Ð½Ð¸ÐºÐ°ÐºÐ¸Ðµ ÑƒÑ\\x81Ñ‚Ñ€Ð¾Ð¹Ñ\\x81Ñ‚Ð²Ð° Ð½Ðµ Ð¾Ñ‚Ð¾Ð±Ñ€Ð°Ð¶Ð°ÑŽÑ‚Ñ\\x81Ñ\\x8f, Ñ‚Ð¾Ð»ÑŒÐºÐ¾ ÐºÑ€ÑƒÑ‚Ð¸Ñ‚Ñ\\x81Ñ\\x8f ÐºÐ¾Ð»ÐµÑ\\x81Ð¸ÐºÐ¾ Ð·Ð°Ð³Ñ€ÑƒÐ·ÐºÐ¸).', 'Le constructeur de Phonak com air a renoncÃ© Ã\\xa0 mettre Ã\\xa0 jour lâ€™application qui me permettait de gÃ©rer mes appareils.\\nCâ€™est un vÃ©ritable lÃ¢chage de la clientÃ¨le : je me vois obligÃ© de changer des appareils qui par ailleurs fonctionnent trÃ¨s bien Ã\\xa0 cause de cette politique lamentable. Jâ€™irai acheter chez un autre constructeur plus fiable.': 'Le constructeur de Phonak com air a renoncÃ© Ã\\xa0 mettre Ã\\xa0 jour lâ€™application qui me permettait de gÃ©rer mes appareils.\\nCâ€™est un vÃ©ritable lÃ¢chage de la clientÃ¨le : je me vois obligÃ© de changer des appareils qui par ailleurs fonctionnent trÃ¨s bien Ã\\xa0 cause de cette politique lamentable. Jâ€™irai acheter chez un autre constructeur plus fiable.', 'PrÃ¡tico e fÃ¡cil de usar...ParabÃ©ns!!!': 'PrÃ¡tico e fÃ¡cil de usar...ParabÃ©ns!!!', 'Does not connect well with android phones.': 'Does not connect well with android phones.', 'No se deja instalar': 'No se deja instalar', 'Bin sehr zufrieden mit der App. Es wÃ¤re jedoch schÃ¶n, wenn auch HÃ¶hen und Tiefen eingestellt werden kÃ¶nnten.': 'Bin sehr zufrieden mit der App. Es wÃ¤re jedoch schÃ¶n, wenn auch HÃ¶hen und Tiefen eingestellt werden kÃ¶nnten.', 'Der er altid plads til forbedringer. Men overordnet set er programmet funktionel. Og giver en overblik. \\nKunne bestemt godt Ã¸nske bedre sammenhÃ¦ng mellem batteri tilstand. AltsÃ¥ den rigtige batteri tilstand og hvad der vises. Oplevet tit et jeg eks tjekker. Og batteri siger 80-90%. Og en time senere bipper de pga lav batteri. Det er lidt Ã¦rgerligt. Man bliver nÃ¸dttil altid at have batterier med, fordi man ikke kan stole pÃ¥ hvad programmet viser': 'Der er altid plads til forbedringer. Men overordnet set er programmet funktionel. Og giver en overblik. \\nKunne bestemt godt Ã¸nske bedre sammenhÃ¦ng mellem batteri tilstand. AltsÃ¥ den rigtige batteri tilstand og hvad der vises. Oplevet tit et jeg eks tjekker. Og batteri siger 80-90%. Og en time senere bipper de pga lav batteri. Det er lidt Ã¦rgerligt. Man bliver nÃ¸dttil altid at have batterier med, fordi man ikke kan stole pÃ¥ hvad programmet viser', 'I didnâ€™t know what I was expecting from this app, but I am impressed. The only issue for me personally is my own reaction time.': 'I didnâ€™t know what I was expecting from this app, but I am impressed. The only issue for me personally is my own reaction time.', 'Continue to have blue tooth problems. 1. Blue tooth off/on in the app doesnâ€™t turn blue tooth off\\n2. When I first turn hearing aids the app doesnâ€™t work. I have to toggle blue tooth off & on to made it work. Other devices that use blue tooth still come through the hearing aids even with blue tooth turned off in the thrive app. Not an Apple problem all other apps that use Bluetooth work as designed': 'Continue to have blue tooth problems. 1. Blue tooth off/on in the app doesnâ€™t turn blue tooth off\\n2. When I first turn hearing aids the app doesnâ€™t work. I have to toggle blue tooth off & on to made it work. Other devices that use blue tooth still come through the hearing aids even with blue tooth turned off in the thrive app. Not an Apple problem all other apps that use Bluetooth work as designed', \"It finally works!!! The only complaint I have is that it forces to connect to hearing aids, even when you don't want them to. For instance, in my car when I Bluetooth audio, it'll play over my speakers for about 10-15 seconds before stopping and instead connecting to my hearing aids. (Thank you dev team for responding, and for fixing the app!) :)\": \"It finally works!!! The only complaint I have is that it forces to connect to hearing aids, even when you don't want them to. For instance, in my car when I Bluetooth audio, it'll play over my speakers for about 10-15 seconds before stopping and instead connecting to my hearing aids. (Thank you dev team for responding, and for fixing the app!) :)\", 'Die App muss ich oft deinstallieren und wieder installieren, weil sie sich nicht Ã¶ffnen lÃ¤sst und meine selbst erstellten Programme sind dann weg und ich muss sie wieder neu erstellen.': 'Die App muss ich oft deinstallieren und wieder installieren, weil sie sich nicht Ã¶ffnen lÃ¤sst und meine selbst erstellten Programme sind dann weg und ich muss sie wieder neu erstellen.', 'If I had paid $50 for my hearing aids I would still be disgusted with the performance, the way they â€œworkâ€\\x9d with the app. Nine out of 10 times they donâ€™t connect. Iâ€™ve had them for a year and iâ€™ve tried everything suggested by developer. I donâ€™t have problems with any other technology products. How about fixing this until it works? When they connect, the hearing aids work fine. After paying $4000 youâ€™d think Iâ€™d entitled to a decent product': 'If I had paid $50 for my hearing aids I would still be disgusted with the performance, the way they â€œworkâ€\\x9d with the app. Nine out of 10 times they donâ€™t connect. Iâ€™ve had them for a year and iâ€™ve tried everything suggested by developer. I donâ€™t have problems with any other technology products. How about fixing this until it works? When they connect, the hearing aids work fine. After paying $4000 youâ€™d think Iâ€™d entitled to a decent product', 'Iâ€™d love my hearing aids even more if the app would stop disconnecting. \\nAt random times during the day I will check my app and 8 times out of 10 it has disconnected from my hearing devices. \\nOther than that I am happy with the way I can customize a scene for each environment Iâ€™m in. My family loves that they can have a conversation with them without having them repeat sentences!': 'Iâ€™d love my hearing aids even more if the app would stop disconnecting. \\nAt random times during the day I will check my app and 8 times out of 10 it has disconnected from my hearing devices. \\nOther than that I am happy with the way I can customize a scene for each environment Iâ€™m in. My family loves that they can have a conversation with them without having them repeat sentences!', 'The app worked okay for 2 months, then suddenly it kept putting volume to 0 so they were more like ear plugs than aids to hear. Took them to hearing aid company where purchased. She reinstalled the program, but nothing has changed. Not satisfied at all. Noticed others have had the same problem. Why not remedy the same reoccurring problem for all of us.': 'The app worked okay for 2 months, then suddenly it kept putting volume to 0 so they were more like ear plugs than aids to hear. Took them to hearing aid company where purchased. She reinstalled the program, but nothing has changed. Not satisfied at all. Noticed others have had the same problem. Why not remedy the same reoccurring problem for all of us.', 'Ich besitze ein Huawei Mate 20. Die App funktioniert nicht.': 'Ich besitze ein Huawei Mate 20. Die App funktioniert nicht.', \"I have reinstalled this app many times and it still can't find my hearing aids. Totally useless.\": \"I have reinstalled this app many times and it still can't find my hearing aids. Totally useless.\", \"This app is the perfect tool for tinnitus relief.\\nHowever, the only drawback I found is that the sound is not playing in the background while watching videos on youtube app or listening to music using the music app. This feature exists with other apps i.e. 'myNoise' app. In settings you can toggle on or off the feature 'Mix sound with other apps'.\\nPlease update. ðŸ™\\x8fðŸ\\x8f¼\": \"This app is the perfect tool for tinnitus relief.\\nHowever, the only drawback I found is that the sound is not playing in the background while watching videos on youtube app or listening to music using the music app. This feature exists with other apps i.e. 'myNoise' app. In settings you can toggle on or off the feature 'Mix sound with other apps'.\\nPlease update. ðŸ™\\x8fðŸ\\x8f¼\", 'Last update gave way much better responsibility and performance. Good job, it makes significantly better experience while using Oticonâ€™s hearing aids. \\nPs: Iâ€™d be glad to see possibility to set default volume level for Tv adapter. Right now with each reconnect itâ€™s setting up at maximum volume, quite frustrating and painful sometimes:)': 'Last update gave way much better responsibility and performance. Good job, it makes significantly better experience while using Oticonâ€™s hearing aids. \\nPs: Iâ€™d be glad to see possibility to set default volume level for Tv adapter. Right now with each reconnect itâ€™s setting up at maximum volume, quite frustrating and painful sometimes:)', 'Ich weiÃŸ nicht wofÃ¼r die App gut sein sollte, auÃŸer den Akkustand abzufragen. Dazu braucht sie dann meist nicht Sekunden sondern Minuten. Wenn ich mir dann vorstelle, dass ich Funktionen umstellen will....Da bin ich bei meinem High End GerÃ¤t mit anderen Hilfsmitteln viel schneller. Und ich habe auch ein High End Android Mobiltelefon. Warum ich meine Position eingeben muss ist mir auch vÃ¶llig unklar. Vielleicht um den nÃ¤chsten Akustiker anzuzeigen. Pustekuchen - wird keiner angezeigt. Neu machen': 'Ich weiÃŸ nicht wofÃ¼r die App gut sein sollte, auÃŸer den Akkustand abzufragen. Dazu braucht sie dann meist nicht Sekunden sondern Minuten. Wenn ich mir dann vorstelle, dass ich Funktionen umstellen will....Da bin ich bei meinem High End GerÃ¤t mit anderen Hilfsmitteln viel schneller. Und ich habe auch ein High End Android Mobiltelefon. Warum ich meine Position eingeben muss ist mir auch vÃ¶llig unklar. Vielleicht um den nÃ¤chsten Akustiker anzuzeigen. Pustekuchen - wird keiner angezeigt. Neu machen', 'Det er virkelig et savn at sms-lyden forsvandt, skynd jer at fÃ¥ den tilbage ðŸ˜\\x81': 'Det er virkelig et savn at sms-lyden forsvandt, skynd jer at fÃ¥ den tilbage ðŸ˜\\x81', 'Brakuje poÅ‚Ä…czenia z telefonami... Ale jest :) w koÅ„cu mamy poÅ‚Ä…czenie bluetooth :)': 'Brakuje poÅ‚Ä…czenia z telefonami... Ale jest :) w koÅ„cu mamy poÅ‚Ä…czenie bluetooth :)', 'Not perfect but improved': 'Not perfect but improved', 'Ich bin Ã¼berhaupt nicht zufrieden mit dieser App da sie sich nicht mit meinen HÃ¶rgerÃ¤ten verbindet. Hatte das selbe Problem schon mit meinem vorherigen Handy.': 'Ich bin Ã¼berhaupt nicht zufrieden mit dieser App da sie sich nicht mit meinen HÃ¶rgerÃ¤ten verbindet. Hatte das selbe Problem schon mit meinem vorherigen Handy.', 'Fantastique merci': 'Fantastique merci', 'This app changes things on itâ€™s own very unreliable app needs much improvements!!!!! Worst app ever !!!!\\nTime to fix this app paid 7 grand for hearing aids but canâ€™t use them to full potential because of this useless app make it work or give me back my  7 grand !!!!\\nI guess you just donâ€™t care you got your money I will bad mouth your products as much as I can do not pay for hearing aids from Signia as there app does not work it has been a hassle from day one works for awhile then stops have to pair earphones 3 times a day app takes forever to load conflicts with the IPhone when you play video just a useless useless app do not buy Signia products !!!!': 'This app changes things on itâ€™s own very unreliable app needs much improvements!!!!! Worst app ever !!!!\\nTime to fix this app paid 7 grand for hearing aids but canâ€™t use them to full potential because of this useless app make it work or give me back my  7 grand !!!!\\nI guess you just donâ€™t care you got your money I will bad mouth your products as much as I can do not pay for hearing aids from Signia as there app does not work it has been a hassle from day one works for awhile then stops have to pair earphones 3 times a day app takes forever to load conflicts with the IPhone when you play video just a useless useless app do not buy Signia products !!!!', 'Having problems with app': 'Having problems with app', \"Very hit and miss app. Doesn't even do the simple things consistently. It's a shame because the hearing aids from Starkey are terrific. Fix this damn thing.\": \"Very hit and miss app. Doesn't even do the simple things consistently. It's a shame because the hearing aids from Starkey are terrific. Fix this damn thing.\", 'Iâ€™m almost at the three year mark with my aids.  Iâ€™m happy with the aids except that in hot weather I have to remove them. If I donâ€™t theyâ€™ll quit anyway until they cool.\\nBiggest disappointment is the iphone app.  Disconnect one or both aids is common almost every day.  Have my phone on silent and when disconnect occurs I donâ€™t know a call is coming in.  Turning Bluetooth on and off to make it work is a bunch of crap.  Blaming the Apple operating system is also crap.  I havenâ€™t seen an update on this app in the three years Iâ€™ve had the aids.\\nTwo years ago I talked to a techy at Starkey who promised to let me know when a solution was found.  You guessed it, no call.\\nI just bought a $ 16.00 set of wireless bluetooth ear buds that work perfect with the iPhone. If they can figure it out for $ 16.00 why canâ€™t Starkey get it for thousands?': 'Iâ€™m almost at the three year mark with my aids.  Iâ€™m happy with the aids except that in hot weather I have to remove them. If I donâ€™t theyâ€™ll quit anyway until they cool.\\nBiggest disappointment is the iphone app.  Disconnect one or both aids is common almost every day.  Have my phone on silent and when disconnect occurs I donâ€™t know a call is coming in.  Turning Bluetooth on and off to make it work is a bunch of crap.  Blaming the Apple operating system is also crap.  I havenâ€™t seen an update on this app in the three years Iâ€™ve had the aids.\\nTwo years ago I talked to a techy at Starkey who promised to let me know when a solution was found.  You guessed it, no call.\\nI just bought a $ 16.00 set of wireless bluetooth ear buds that work perfect with the iPhone. If they can figure it out for $ 16.00 why canâ€™t Starkey get it for thousands?', 'Ä°ki open 1 cihazÄ± kullanÄ±yorum cihazlarÄ±mÄ± Bluetooth ile eÅŸleÅŸtiremiyorum acil yardÄ±m eriÅŸebilirlik menÃ¼sÃ¼nden iki cihaz gÃ¶rÃ¼nÃ¼yor fakat eÅŸle dediÄŸimde tek bir cihazÄ±m eÅŸleÅŸiyor ve iOS en son sÃ¼rÃ¼mÃ¼ olan 13.6 kullanÄ±yorum hata tekrar ediyor hiÃ§ bir ÅŸekilde cihazlarÄ±m eÅŸleÅŸmiyor bu konuda acil yardÄ±m istiyorum lÃ¼tfen': 'Ä°ki open 1 cihazÄ± kullanÄ±yorum cihazlarÄ±mÄ± Bluetooth ile eÅŸleÅŸtiremiyorum acil yardÄ±m eriÅŸebilirlik menÃ¼sÃ¼nden iki cihaz gÃ¶rÃ¼nÃ¼yor fakat eÅŸle dediÄŸimde tek bir cihazÄ±m eÅŸleÅŸiyor ve iOS en son sÃ¼rÃ¼mÃ¼ olan 13.6 kullanÄ±yorum hata tekrar ediyor hiÃ§ bir ÅŸekilde cihazlarÄ±m eÅŸleÅŸmiyor bu konuda acil yardÄ±m istiyorum lÃ¼tfen', 'I cant get my phone to connect to my hear aids': 'I cant get my phone to connect to my hear aids', 'Gostei pois tenho zumbido e o progama me faz relaxar e fÃ¡cil manuseio.': 'Gostei pois tenho zumbido e o progama me faz relaxar e fÃ¡cil manuseio.', 'Mas o menos': 'Mas o menos', 'This app is a dud. It stopped working a few months ago. It only has Demo mode now, wont even let me agree to T&C now. I have uninstalled and reinstalled to no avail.': 'This app is a dud. It stopped working a few months ago. It only has Demo mode now, wont even let me agree to T&C now. I have uninstalled and reinstalled to no avail.', \"It's ok but how do you block out back ground noises. That really bothers me\": \"It's ok but how do you block out back ground noises. That really bothers me\", 'My hearing aids will not pair with my phone. After installing app my phone is now changed. Apps are missing. I uninstalled the app. This was not worth the effort.': 'My hearing aids will not pair with my phone. After installing app my phone is now changed. Apps are missing. I uninstalled the app. This was not worth the effort.', \"I reloaded this app to take advantage of the new streaming feature and the included tinnitus sound package. It worked great for about two weeks. Then it stopped. I deleted and downloaded the app again today. Streaming works but the tinnitus package doesn't. What happened? How do I get it back?\": \"I reloaded this app to take advantage of the new streaming feature and the included tinnitus sound package. It worked great for about two weeks. Then it stopped. I deleted and downloaded the app again today. Streaming works but the tinnitus package doesn't. What happened? How do I get it back?\", 'I love it': 'I love it', 'Falta compatibilidad con sistema Android.': 'Falta compatibilidad con sistema Android.', 'Very good and functional': 'Very good and functional', 'This helps me use my hearing aids as I need to at a particular time.': 'This helps me use my hearing aids as I need to at a particular time.', \"Salve, di recente mi Ã¨ arrivato questo famosissimo suono nelle urechie SEMPRE non smette mai. Ho fatto giÃ\\xa0 appuntamento a l'ospedale di Siena ma fino quando ci andrÃ², qualcuno che a sofferto di questa malattia e a usato questo app QUALE suono le andato meglio? Spero che qualcuno mi darÃ\\xa0 una risposta.\": \"Salve, di recente mi Ã¨ arrivato questo famosissimo suono nelle urechie SEMPRE non smette mai. Ho fatto giÃ\\xa0 appuntamento a l'ospedale di Siena ma fino quando ci andrÃ², qualcuno che a sofferto di questa malattia e a usato questo app QUALE suono le andato meglio? Spero che qualcuno mi darÃ\\xa0 una risposta.\", \"The hearing aids themselves seem to work fine (I've had them now for about 4 months), the app for android however really sucks. It crashes numerous times a day and my Samsung S8 keeps telling me it's using too much battery. Just about every time I want to change something with the app it is disconnected from the hearing aids. The phone is always within hands reach. Really annoying.\": \"The hearing aids themselves seem to work fine (I've had them now for about 4 months), the app for android however really sucks. It crashes numerous times a day and my Samsung S8 keeps telling me it's using too much battery. Just about every time I want to change something with the app it is disconnected from the hearing aids. The phone is always within hands reach. Really annoying.\", 'Trop lente pour devenir opÃ©rationnelr': 'Trop lente pour devenir opÃ©rationnelr', 'Erstmal alles super.Was heiÃŸt super es ist perfekt, mittlerweile habe ich ein richtig schÃ¶nes hÃ¶r Erlebnis, Die VÃ¶gel singen klasse.Ps.WÃ¼nsche vielen das fergÃ¼nÃ¼gen.': 'Erstmal alles super.Was heiÃŸt super es ist perfekt, mittlerweile habe ich ein richtig schÃ¶nes hÃ¶r Erlebnis, Die VÃ¶gel singen klasse.Ps.WÃ¼nsche vielen das fergÃ¼nÃ¼gen.', 'Sehr freundlich und hilfsbereit': 'Sehr freundlich und hilfsbereit', 'Buena, recomendable': 'Buena, recomendable', 'I love the concept of Beyond, it worked well at the beginning when the app was last updated, but now two years later as I continually update my phone software, Beyond has not kept up with bug fixes and updating their app. I now frequently struggle with bluetooth connections to my aids losing phone conversations and interruptions while listening to music or podcasts. Please update to fix these issues.': 'I love the concept of Beyond, it worked well at the beginning when the app was last updated, but now two years later as I continually update my phone software, Beyond has not kept up with bug fixes and updating their app. I now frequently struggle with bluetooth connections to my aids losing phone conversations and interruptions while listening to music or podcasts. Please update to fix these issues.', 'Ð“Ð´Ðµ Ð²Ð·Ñ\\x8fÑ‚ÑŒ ÐºÐ¾Ð´ Ð´Ð¾Ñ\\x81Ñ‚ÑƒÐ¿Ð°??': 'Ð“Ð´Ðµ Ð²Ð·Ñ\\x8fÑ‚ÑŒ ÐºÐ¾Ð´ Ð´Ð¾Ñ\\x81Ñ‚ÑƒÐ¿Ð°??', 'S verzÃ\\xad Android 10 nefunguje vÅ¯bec do verze 9 fungovala NÄ›kolikrÃ¡t jsem Å¾Ã¡dala vÃ½vojÃ¡Å™e o aktualizaci na verzi 10 a Å¾Ã¡dnÃ¡ odpovÄ›Ä\\x8f dosud.': 'S verzÃ\\xad Android 10 nefunguje vÅ¯bec do verze 9 fungovala NÄ›kolikrÃ¡t jsem Å¾Ã¡dala vÃ½vojÃ¡Å™e o aktualizaci na verzi 10 a Å¾Ã¡dnÃ¡ odpovÄ›Ä\\x8f dosud.', 'ÐžÑ‡ÐµÐ½ÑŒ ÑƒÐ´Ð¾Ð±Ð½Ð¾ Ð¿Ñ€Ð¾Ñ…Ð¾Ð´Ð¸Ñ‚ÑŒ Ð¿Ñ€Ð¾Ð²ÐµÑ€ÐºÑƒ Ñ\\x81Ð²Ð¾ÐµÐ³Ð¾ Ñ\\x81Ð»ÑƒÑ…Ð°! Ð\\x9dÐ¾ Ð¿Ð¾ÐºÐ° Ð½Ðµ ÑƒÐ²ÐµÑ€ÐµÐ½ Ð² ÐµÐµ Ñ‚Ð¾Ñ‡Ð½Ð¾Ñ\\x81Ñ‚Ð¸, Ñ‚Ð°Ðº ÐºÐ°Ðº Ð½ÑƒÐ¶Ð½Ñ‹ ÐºÐ°Ð»Ð¸Ð±Ñ€Ð¾Ð²Ð°Ð½Ð½Ñ‹Ðµ Ð½Ð°ÑƒÑˆÐ½Ð¸ÐºÐ¸, Ð° Ð½Ð° Ð²Ñ‹Ð±Ð¾Ñ€ Ð¿Ñ€ÐµÐ´Ð»Ð°Ð³Ð°ÑŽÑ‚Ñ\\x81Ñ\\x8f Ñ‚Ð¾Ð»ÑŒÐºÐ¾ AirPods, ÐºÐ¾Ñ‚Ð¾Ñ€Ñ‹Ñ… Ñƒ Ð¼ÐµÐ½Ñ\\x8f Ð½ÐµÑ‚. Ð”Ð¾Ð±Ð°Ð²ÑŒÑ‚Ðµ Ñ…Ð¾Ñ‚Ñ\\x8fÐ± Ð½Ð°ÑƒÑˆÐ½Ð¸ÐºÐ¸ Ð¸Ð· ÐºÐ¾Ð¼Ð¿Ð»ÐµÐºÑ‚Ð° Ð¿Ð¾Ñ\\x81Ñ‚Ð°Ð²ÐºÐ¸ iPhone.': 'ÐžÑ‡ÐµÐ½ÑŒ ÑƒÐ´Ð¾Ð±Ð½Ð¾ Ð¿Ñ€Ð¾Ñ…Ð¾Ð´Ð¸Ñ‚ÑŒ Ð¿Ñ€Ð¾Ð²ÐµÑ€ÐºÑƒ Ñ\\x81Ð²Ð¾ÐµÐ³Ð¾ Ñ\\x81Ð»ÑƒÑ…Ð°! Ð\\x9dÐ¾ Ð¿Ð¾ÐºÐ° Ð½Ðµ ÑƒÐ²ÐµÑ€ÐµÐ½ Ð² ÐµÐµ Ñ‚Ð¾Ñ‡Ð½Ð¾Ñ\\x81Ñ‚Ð¸, Ñ‚Ð°Ðº ÐºÐ°Ðº Ð½ÑƒÐ¶Ð½Ñ‹ ÐºÐ°Ð»Ð¸Ð±Ñ€Ð¾Ð²Ð°Ð½Ð½Ñ‹Ðµ Ð½Ð°ÑƒÑˆÐ½Ð¸ÐºÐ¸, Ð° Ð½Ð° Ð²Ñ‹Ð±Ð¾Ñ€ Ð¿Ñ€ÐµÐ´Ð»Ð°Ð³Ð°ÑŽÑ‚Ñ\\x81Ñ\\x8f Ñ‚Ð¾Ð»ÑŒÐºÐ¾ AirPods, ÐºÐ¾Ñ‚Ð¾Ñ€Ñ‹Ñ… Ñƒ Ð¼ÐµÐ½Ñ\\x8f Ð½ÐµÑ‚. Ð”Ð¾Ð±Ð°Ð²ÑŒÑ‚Ðµ Ñ…Ð¾Ñ‚Ñ\\x8fÐ± Ð½Ð°ÑƒÑˆÐ½Ð¸ÐºÐ¸ Ð¸Ð· ÐºÐ¾Ð¼Ð¿Ð»ÐµÐºÑ‚Ð° Ð¿Ð¾Ñ\\x81Ñ‚Ð°Ð²ÐºÐ¸ iPhone.', 'Nach anfÃ¤nglichen Schwierigkeiten aufgrund schlechter Beschreibung der Firma Oticon und mit Hilfe meines HÃ¶rgerÃ¤teakustikers klappt es jetzt.': 'Nach anfÃ¤nglichen Schwierigkeiten aufgrund schlechter Beschreibung der Firma Oticon und mit Hilfe meines HÃ¶rgerÃ¤teakustikers klappt es jetzt.', 'Die App ist sehr schlecht zu nutzen, ist nicht mal einen Punkt wert. Die Fernbedinung ging ganz am Anfang. Jetzt schon lange nicht mehr.Also nutzlos. Nachdem ich die App ausgeschaltet habe findet sie nicht mal mehr meine HÃ¶rgerÃ¤te. Diese nutzlose App muss unbedingt verbessert werden und auf allen Handys genutzt werden kÃ¶nnen. Ingrid Poschmann': 'Die App ist sehr schlecht zu nutzen, ist nicht mal einen Punkt wert. Die Fernbedinung ging ganz am Anfang. Jetzt schon lange nicht mehr.Also nutzlos. Nachdem ich die App ausgeschaltet habe findet sie nicht mal mehr meine HÃ¶rgerÃ¤te. Diese nutzlose App muss unbedingt verbessert werden und auf allen Handys genutzt werden kÃ¶nnen. Ingrid Poschmann', 'Iâ€™ve used this app for the best part of five years. \\nPros: \\nMute function really simple and quick - I use ear defenders when using machinery, so switching on/off external mic is essential to stop feedback whilst still being able to stream music & audiobooks. \\nComfort in noise function works quite well.\\nCustomising the the mic direction is a good feature for environments like car and outdoors (so you can hear people behind you). \\nExternal mic control for different programs is very useful. For example: reducing external noise for phone streaming. \\nMusic streaming is exceptional (although thatâ€™s a function of the iPhone & hearing aid and you donâ€™t need the app to do it). \\nCons:\\nConnectivity is erratic. Bluetooth needs switching on & off many times a day to get the aids to connect to the app & the iPhone. Luckily thatâ€™s fairly simple on the iPhone. \\nApp crashes too often. \\nSoundspace used to be quick and easy to access, so you could make swift and discreet adjustments in new environments. In the more recent updates you have to create a memory before launching ... a real backwards step. \\nSoundspace is more of a gimmick than the really effective audio adjuster it could be. \\nAll in all I use the app every day, but it could be so much better.': 'Iâ€™ve used this app for the best part of five years. \\nPros: \\nMute function really simple and quick - I use ear defenders when using machinery, so switching on/off external mic is essential to stop feedback whilst still being able to stream music & audiobooks. \\nComfort in noise function works quite well.\\nCustomising the the mic direction is a good feature for environments like car and outdoors (so you can hear people behind you). \\nExternal mic control for different programs is very useful. For example: reducing external noise for phone streaming. \\nMusic streaming is exceptional (although thatâ€™s a function of the iPhone & hearing aid and you donâ€™t need the app to do it). \\nCons:\\nConnectivity is erratic. Bluetooth needs switching on & off many times a day to get the aids to connect to the app & the iPhone. Luckily thatâ€™s fairly simple on the iPhone. \\nApp crashes too often. \\nSoundspace used to be quick and easy to access, so you could make swift and discreet adjustments in new environments. In the more recent updates you have to create a memory before launching ... a real backwards step. \\nSoundspace is more of a gimmick than the really effective audio adjuster it could be. \\nAll in all I use the app every day, but it could be so much better.', 'J ai Ã©normÃ©ment de mal Ã\\xa0 connecter mes Paradises a l application my phonak': 'J ai Ã©normÃ©ment de mal Ã\\xa0 connecter mes Paradises a l application my phonak', \"I have 2 aids, with longer wires.  I stream my phone to my hearing aids, always.\\nSigniaâ€™s App is totally useless.  I use Appleâ€™s accessibility/hearing devices shortcut.  It covers a bunch more functions than the app.\\nWhen i wander away from my phone (at work) my right aid has good range.  Left cutâ€™s out before right.  Also, every time i take aids out of charger i must up the volume of left aid.  We tried changing the programming to achieve balance, with no luck.\\nBattery life is mediocre.  I put my aids in at 5:45am regularly.  When i get home from work (2:00) i must put both aids into the charger.  When boss gets home (5:30) i put both aids in until 10:00.  Rinse and repeat.\\nOne good comment.  I do woodworking/diy activities every weekend.  These aids handle cup style hearing protection with no feedback.  My son's have noticed a difference in my hearing abilities during the weekend.\\nOne good\": \"I have 2 aids, with longer wires.  I stream my phone to my hearing aids, always.\\nSigniaâ€™s App is totally useless.  I use Appleâ€™s accessibility/hearing devices shortcut.  It covers a bunch more functions than the app.\\nWhen i wander away from my phone (at work) my right aid has good range.  Left cutâ€™s out before right.  Also, every time i take aids out of charger i must up the volume of left aid.  We tried changing the programming to achieve balance, with no luck.\\nBattery life is mediocre.  I put my aids in at 5:45am regularly.  When i get home from work (2:00) i must put both aids into the charger.  When boss gets home (5:30) i put both aids in until 10:00.  Rinse and repeat.\\nOne good comment.  I do woodworking/diy activities every weekend.  These aids handle cup style hearing protection with no feedback.  My son's have noticed a difference in my hearing abilities during the weekend.\\nOne good\", \"I just tried to uninstall & reinstall this app and it didn't help. It is still unstable on my Galaxy S10+ and now my left hearing aid is dead. Very unhappy! UPDATE: I give you credit for responding. I will contact my local rep and see what happens from there. I will update my comments further after my appointment. Thank you!\": \"I just tried to uninstall & reinstall this app and it didn't help. It is still unstable on my Galaxy S10+ and now my left hearing aid is dead. Very unhappy! UPDATE: I give you credit for responding. I will contact my local rep and see what happens from there. I will update my comments further after my appointment. Thank you!\", 'This app stinks. Why do I have to uninstall then reinstall the app to make it work. Or I have to say to forget this device then repair the aides to get the app to recognize them. This happens daily. Not only that but this is my 4th pair of hearing aides in under a year. They just stop working. A very bad product. Go buy something else.': 'This app stinks. Why do I have to uninstall then reinstall the app to make it work. Or I have to say to forget this device then repair the aides to get the app to recognize them. This happens daily. Not only that but this is my 4th pair of hearing aides in under a year. They just stop working. A very bad product. Go buy something else.', 'The app would not find my aids. When I tried to return after turning aids off and back on, it picked up as if it had found my aids but would not do anything.': 'The app would not find my aids. When I tried to return after turning aids off and back on, it picked up as if it had found my aids but would not do anything.', \"Setup was easy but Iâ€™ve been stuck on the â€œsafety informationâ€\\x9d modal pop up which makes the app completely useless. I tap to not show the message again and nothing happens. There is no button to close or dismiss the dialog so I canâ€™t use the app at all. Even force quitting doesn't make it go away.\": \"Setup was easy but Iâ€™ve been stuck on the â€œsafety informationâ€\\x9d modal pop up which makes the app completely useless. I tap to not show the message again and nothing happens. There is no button to close or dismiss the dialog so I canâ€™t use the app at all. Even force quitting doesn't make it go away.\", 'horrible....connects when it wants to': 'horrible....connects when it wants to', 'Good when it is working. Loses contact with the hearing aids too frequently then is hard to get it to reconnect. Just spent 20 minutes fooling with it before it hooked up. Donâ€™t know why they canâ€™t fix this.': 'Good when it is working. Loses contact with the hearing aids too frequently then is hard to get it to reconnect. Just spent 20 minutes fooling with it before it hooked up. Donâ€™t know why they canâ€™t fix this.', 'Update 29 Apr 2020 -App still working 100% time prefect with iPhone XS MAX.': 'Update 29 Apr 2020 -App still working 100% time prefect with iPhone XS MAX.', 'Takes longer to load hard to connect at times. Eats the battery.': 'Takes longer to load hard to connect at times. Eats the battery.', \"Ho un Huawei 9 Lite e dopo la fatica di collegarlo, tutte le volte che mi allontano non si riconnette e devo chiudere l'App piÃ¹ volte e ritentare. Preferisco lasciar perdere e finirla lÃ¬. Non capisco che programmatori abbia la Oticon. In auto il cellulare si riconnette automaticamente sempre. Privilegiano il protocollo Bluetooth Apple per semplicitÃ\\xa0 ma quanti hanno un iPhone?\": \"Ho un Huawei 9 Lite e dopo la fatica di collegarlo, tutte le volte che mi allontano non si riconnette e devo chiudere l'App piÃ¹ volte e ritentare. Preferisco lasciar perdere e finirla lÃ¬. Non capisco che programmatori abbia la Oticon. In auto il cellulare si riconnette automaticamente sempre. Privilegiano il protocollo Bluetooth Apple per semplicitÃ\\xa0 ma quanti hanno un iPhone?\", 'I have a note 9. The app. does not see the H A. most of the time, in status mode, when I want to change from home to tv or vice versa. I have to restart the phone so the app gives the status and after being able to change mode from the home. Hi guys, I have been using ur suggestions it works, however I have to delete or stop the app. each time I switch from any situation offered in the app. Thanks 05/04 Exactly, every time I switch programs. Even just opening the App. It rarely gives the status': 'I have a note 9. The app. does not see the H A. most of the time, in status mode, when I want to change from home to tv or vice versa. I have to restart the phone so the app gives the status and after being able to change mode from the home. Hi guys, I have been using ur suggestions it works, however I have to delete or stop the app. each time I switch from any situation offered in the app. Thanks 05/04 Exactly, every time I switch programs. Even just opening the App. It rarely gives the status', 'ì˜¤ë¥¸ìª½ìœ¼ë¡œ ì–´ë–»ê²Œ ë°”ê¿”ìš”?': 'ì˜¤ë¥¸ìª½ìœ¼ë¡œ ì–´ë–»ê²Œ ë°”ê¿”ìš”?', 'ã‚¹ãƒˆãƒ¬ã‚¹ç·©å’Œã\\x81«å¸Œæœ›ã\\x81ŒæŒ\\x81ã\\x81¦ã\\x81¾ã\\x81—ã\\x81Ÿã€‚': 'ã‚¹ãƒˆãƒ¬ã‚¹ç·©å’Œã\\x81«å¸Œæœ›ã\\x81ŒæŒ\\x81ã\\x81¦ã\\x81¾ã\\x81—ã\\x81Ÿã€‚', 'De remote control app is na een recente update uitgebreid met een demomodus en de optie van twee streamers, waaronder de Compilot-II. Maar de Phonak app kan de Compilot-II nu niet meer vinden. Het koppelen van Compilot-II met mijn smartphone via Bluetooth is geen probleem. Herinstallatie kan niet, want deze app is niet meer te vinden in Play Store; wel deze myPhonak app, maar die werkt niet met Compilot-II Graag de Phonak remote control app weer beschikbaar stellen van vÃ³Ã³r de update.': 'De remote control app is na een recente update uitgebreid met een demomodus en de optie van twee streamers, waaronder de Compilot-II. Maar de Phonak app kan de Compilot-II nu niet meer vinden. Het koppelen van Compilot-II met mijn smartphone via Bluetooth is geen probleem. Herinstallatie kan niet, want deze app is niet meer te vinden in Play Store; wel deze myPhonak app, maar die werkt niet met Compilot-II Graag de Phonak remote control app weer beschikbaar stellen van vÃ³Ã³r de update.', 'This app is great when hearing aids are connected but I never know when they are connected! I have to go through connect multiple times a day and the same is true with my ipad.  PLEASE update for us!!': 'This app is great when hearing aids are connected but I never know when they are connected! I have to go through connect multiple times a day and the same is true with my ipad.  PLEASE update for us!!', 'Huawei p20 pro: Bluetoothverbindung braucht sehr lange. Nur sehr wenige Funktionen. Einstellungen Ã¤ndern sich ohne direkten Eingriff Mit dem neuesten Update der App ist die Bluetooth Verbindung mit dem Handy sehr schnell. Gratulation': 'Huawei p20 pro: Bluetoothverbindung braucht sehr lange. Nur sehr wenige Funktionen. Einstellungen Ã¤ndern sich ohne direkten Eingriff Mit dem neuesten Update der App ist die Bluetooth Verbindung mit dem Handy sehr schnell. Gratulation', 'When you will be able to add some functions like in iPhone versions especially talking or listening music through hearing aids?': 'When you will be able to add some functions like in iPhone versions especially talking or listening music through hearing aids?', 'It shows on my screen. I thought thatâ€™s something needs my attention, but nothing happened when trying to click on it. Itâ€™s just annoying.': 'It shows on my screen. I thought thatâ€™s something needs my attention, but nothing happened when trying to click on it. Itâ€™s just annoying.', 'App excelente.. IndiscutÃ\\xadvel que ajuda no sono, mas minha Ãºnica sugestÃ£o Ã© com relaÃ§Ã£o ao som de chuva, poderia fazÃª-lo de modo que o inÃ\\xadcio e o fim sejam iguais, assim nÃ£o seria perceptÃ\\xadvel a repetiÃ§Ã£o da faixa.. De resto, nota mil!!': 'App excelente.. IndiscutÃ\\xadvel que ajuda no sono, mas minha Ãºnica sugestÃ£o Ã© com relaÃ§Ã£o ao som de chuva, poderia fazÃª-lo de modo que o inÃ\\xadcio e o fim sejam iguais, assim nÃ£o seria perceptÃ\\xadvel a repetiÃ§Ã£o da faixa.. De resto, nota mil!!', 'Errorã\\x81§ä½¿ã\\x81ˆã\\x81ªã\\x81„': 'Errorã\\x81§ä½¿ã\\x81ˆã\\x81ªã\\x81„', 'Leider hat das heutige Update es nicht mÃ¶glich gemacht, die Signia nx7 (eine Woche alt) und das Huawei Mate 20 Pro (Emui 10.1) Ã¼ber Audio zum zusammen arbeiten zu bringen. Touchcontrol lÃ¤uft weiterhin.... Update: Nach einigen Emails mit dem sehr bemÃ¼hten Service sind die Entwickler auf ein Problem gestoÃŸen, es muss auch der Telefonklingelton aktiviert sein, dann funktioniert es. Im Vibrationmodus dann nicht. Danke fÃ¼r den Einsatz, dafÃ¼r jetzt schon 4 Sterne.': 'Leider hat das heutige Update es nicht mÃ¶glich gemacht, die Signia nx7 (eine Woche alt) und das Huawei Mate 20 Pro (Emui 10.1) Ã¼ber Audio zum zusammen arbeiten zu bringen. Touchcontrol lÃ¤uft weiterhin.... Update: Nach einigen Emails mit dem sehr bemÃ¼hten Service sind die Entwickler auf ein Problem gestoÃŸen, es muss auch der Telefonklingelton aktiviert sein, dann funktioniert es. Im Vibrationmodus dann nicht. Danke fÃ¼r den Einsatz, dafÃ¼r jetzt schon 4 Sterne.', 'I have to use this app to use my COMDEX device. The app is minimal and easy to use. But, there are glitches. Connection issues and worst still, developers seem to have abandoned the app as the last update was some 2-3 years ago, despite the app needing much improvement': 'I have to use this app to use my COMDEX device. The app is minimal and easy to use. But, there are glitches. Connection issues and worst still, developers seem to have abandoned the app as the last update was some 2-3 years ago, despite the app needing much improvement', 'I have used this app for 3 years. I learned I should never put app on any devise other than iPhone . The app drops my connection every day and I have to reinstall every day. Additionally my very expensive hearing aids work only half the time. Will send them back when home again. The sound is not as good as other hearing devises that I have had so I will be going back to the Resound hearing devise I used to have. Audiologist pushes these Widex but never again .': 'I have used this app for 3 years. I learned I should never put app on any devise other than iPhone . The app drops my connection every day and I have to reinstall every day. Additionally my very expensive hearing aids work only half the time. Will send them back when home again. The sound is not as good as other hearing devises that I have had so I will be going back to the Resound hearing devise I used to have. Audiologist pushes these Widex but never again .', 'Intrusif': 'Intrusif', 'Anita Abele sehr kompetent, danke fÃ¼r das gesprÃ¤ch klaus wittenberg': 'Anita Abele sehr kompetent, danke fÃ¼r das gesprÃ¤ch klaus wittenberg', 'Use with blue tooth switch on. My earing aids are amazing and this app lets me have Audible app on as well.': 'Use with blue tooth switch on. My earing aids are amazing and this app lets me have Audible app on as well.', \"Before the app was updated it worked fine. But after this new version it's been chaois ever since. The spp disconnects the hearing aids and reconnects them too frequently!! These hearing aids are not cheap to be going through this anguish.\": \"Before the app was updated it worked fine. But after this new version it's been chaois ever since. The spp disconnects the hearing aids and reconnects them too frequently!! These hearing aids are not cheap to be going through this anguish.\", 'ã‚¹ãƒžãƒ›é€£å‹•å…¨ã\\x81\\x8fä½¿ã\\x81ˆã\\x81ªã\\x81„ã€‚å\\x8fˆã\\x81¯æœ€åˆ\\x9dã\\x81‹ã‚‰ãƒšã‚¢ãƒªãƒ³ã‚°ã‚„ã‚Šç›´ã\\x81—(ã\\x81“ã‚Œã\\x81Œé\\x9d¢å€’ã\\x81§æ™‚é–“é•·ã\\x81„)ã€‚ã‚¹ãƒžãƒ›é€£å‹•ã\\x81\\xa0ã\\x81‹ã‚‰ã\\x81“ã\\x81®ãƒ¡ãƒ¼ã‚«ãƒ¼é\\x81¸ã‚“ã\\x81\\xa0ã\\x81®ã\\x81«è»Šè²·ã\\x81ˆã‚‹ã\\x81\\x8fã‚‰ã\\x81„ã\\x81®é‡‘é¡\\x8dé¨™ã\\x81•ã‚Œã\\x81Ÿæ°—åˆ†ã€‚': 'ã‚¹ãƒžãƒ›é€£å‹•å…¨ã\\x81\\x8fä½¿ã\\x81ˆã\\x81ªã\\x81„ã€‚å\\x8fˆã\\x81¯æœ€åˆ\\x9dã\\x81‹ã‚‰ãƒšã‚¢ãƒªãƒ³ã‚°ã‚„ã‚Šç›´ã\\x81—(ã\\x81“ã‚Œã\\x81Œé\\x9d¢å€’ã\\x81§æ™‚é–“é•·ã\\x81„)ã€‚ã‚¹ãƒžãƒ›é€£å‹•ã\\x81\\xa0ã\\x81‹ã‚‰ã\\x81“ã\\x81®ãƒ¡ãƒ¼ã‚«ãƒ¼é\\x81¸ã‚“ã\\x81\\xa0ã\\x81®ã\\x81«è»Šè²·ã\\x81ˆã‚‹ã\\x81\\x8fã‚‰ã\\x81„ã\\x81®é‡‘é¡\\x8dé¨™ã\\x81•ã‚Œã\\x81Ÿæ°—åˆ†ã€‚', \"Something has happened to the app. It worked fine for 4 months and then went haywire. I've reinstalled it four times and still it works intermittently. When I got the aids the audiologist checked the list for compatible phones so that's not it. What's going on? August 11 and I still have to restart the app every time I want to make an adjustment. It's very inefficient.\": \"Something has happened to the app. It worked fine for 4 months and then went haywire. I've reinstalled it four times and still it works intermittently. When I got the aids the audiologist checked the list for compatible phones so that's not it. What's going on? August 11 and I still have to restart the app every time I want to make an adjustment. It's very inefficient.\", 'Great job with the upgrades. Love the profiles.': 'Great job with the upgrades. Love the profiles.', 'Muito bom!!!': 'Muito bom!!!', 'Just a week ago I went to the doctors and they said that my hearing was pretty good for my age group but when this test said I have worse hearing than 87% of people in my age group I knew it wasnâ€™t a reliable source.': 'Just a week ago I went to the doctors and they said that my hearing was pretty good for my age group but when this test said I have worse hearing than 87% of people in my age group I knew it wasnâ€™t a reliable source.', 'I just got into the \"in the ear\" hearing aids and this app. allows me to customize my hearing to fit the environment l\\'m in. I love it.': 'I just got into the \"in the ear\" hearing aids and this app. allows me to customize my hearing to fit the environment l\\'m in. I love it.', \"I absolutely love my Starkey Livio AI hearing aids. But the app on my S10+ is very unstable. Even my phone tells me it excessively crashes. I understand this app is a work in progress and fairly new. I'm comfortable using apps and at changing settings on my phone as needed. Right now I will not use the app until the next update and cross my fingers.\": \"I absolutely love my Starkey Livio AI hearing aids. But the app on my S10+ is very unstable. Even my phone tells me it excessively crashes. I understand this app is a work in progress and fairly new. I'm comfortable using apps and at changing settings on my phone as needed. Right now I will not use the app until the next update and cross my fingers.\", 'The hearing aids will not connect with my\\n iPhone SE, with newest update!! I have closed and opened both many times on many days but now, they just cannot get past â€œ8â€\\x9d at all!! \\nHELP!!': 'The hearing aids will not connect with my\\n iPhone SE, with newest update!! I have closed and opened both many times on many days but now, they just cannot get past â€œ8â€\\x9d at all!! \\nHELP!!', 'I have an samsung s20 phone. Since March, 2020 I have lost phone connectivity in the right hearing aid twice. The app does not resolve the issue unless you delete all blue tooth profiles that connect to the hearing aids. 1st upair in blue tooth settings. Pull down menu and press devices. Then delete all hearing aid profiles. Restart app to pair. It should work.': 'I have an samsung s20 phone. Since March, 2020 I have lost phone connectivity in the right hearing aid twice. The app does not resolve the issue unless you delete all blue tooth profiles that connect to the hearing aids. 1st upair in blue tooth settings. Pull down menu and press devices. Then delete all hearing aid profiles. Restart app to pair. It should work.', 'Diese App ist das letzte. HÃ¶rgerÃ¤te sind neu aber die Software ist absolut dÃ¤nischer Mist. GerÃ¤te verbinden sich vielleicht nach dem 10 Versuch. Die App findet mal das linke oder rechte HÃ¶rgerÃ¤t. Manchmal hÃ¤ngt sich das Programm komplett auf, also Neuinstallation. Und das dann 5x und mehr hintereinander. Ich werde die GerÃ¤te zurÃ¼ckgeben an Fielmann. Habe die Schnauze voll von diesem Mist. Momentan sitze ich hier und versuche diesen Mist seit einer 3/4Std. Zum laufen zu bekommen. Ach ja, am Handy': 'Diese App ist das letzte. HÃ¶rgerÃ¤te sind neu aber die Software ist absolut dÃ¤nischer Mist. GerÃ¤te verbinden sich vielleicht nach dem 10 Versuch. Die App findet mal das linke oder rechte HÃ¶rgerÃ¤t. Manchmal hÃ¤ngt sich das Programm komplett auf, also Neuinstallation. Und das dann 5x und mehr hintereinander. Ich werde die GerÃ¤te zurÃ¼ckgeben an Fielmann. Habe die Schnauze voll von diesem Mist. Momentan sitze ich hier und versuche diesen Mist seit einer 3/4Std. Zum laufen zu bekommen. Ach ja, am Handy', 'Just got my new single aid. The application disconnects if the battery compartment is open. Reconnection is impossible unless I delete and reinstall the application.Seems to me there should be more control ability for pitch frequency.': 'Just got my new single aid. The application disconnects if the battery compartment is open. Reconnection is impossible unless I delete and reinstall the application.Seems to me there should be more control ability for pitch frequency.', 'Works well to aid in sleeping': 'Works well to aid in sleeping', 'Funciona perfeitamente no meu LG. Obrigado': 'Funciona perfeitamente no meu LG. Obrigado', 'Fontionne quelque fois?': 'Fontionne quelque fois?', 'I have headphones plugged in that are working perfectly fine with other apps. For some reason this app says I donâ€™t have headphones plugged in and wonâ€™t let me take the test...': 'I have headphones plugged in that are working perfectly fine with other apps. For some reason this app says I donâ€™t have headphones plugged in and wonâ€™t let me take the test...', 'Tells me what I need to know and does what I tell it to do..so easy': 'Tells me what I need to know and does what I tell it to do..so easy', 'I really want to give a five star; but the APP and hearing aids fall extremely below the mark established by the manufacture. Deeds not words; plrase do not offer what you cannot produce': 'I really want to give a five star; but the APP and hearing aids fall extremely below the mark established by the manufacture. Deeds not words; plrase do not offer what you cannot produce', 'Von Update zu Update wird die Performance schlechter.\\nEs dauert gefÃ¼hlt fast eine Minute bis die App endlich verbunden und aktiv ist.\\nLeistungsverbesserung geht anders.\\nSorry ITâ€˜ler aber die Luft nach oben wird immer mehr statt weniger ðŸ™„.\\nStrengt euch an, das geht sicher besser ðŸ¤“': 'Von Update zu Update wird die Performance schlechter.\\nEs dauert gefÃ¼hlt fast eine Minute bis die App endlich verbunden und aktiv ist.\\nLeistungsverbesserung geht anders.\\nSorry ITâ€˜ler aber die Luft nach oben wird immer mehr statt weniger ðŸ™„.\\nStrengt euch an, das geht sicher besser ðŸ¤“', 'Diese App ist nicht zu gebrauchen. Traurig, dass man HÃ¶rgerÃ¤te fÃ¼r mehrere Tausend Euro kauft und es wird eine so schlechte App dazu geliefert. Die VorgÃ¤ngerversion lief halbwegs, die jetzige ist grottenschlecht ðŸ˜“': 'Diese App ist nicht zu gebrauchen. Traurig, dass man HÃ¶rgerÃ¤te fÃ¼r mehrere Tausend Euro kauft und es wird eine so schlechte App dazu geliefert. Die VorgÃ¤ngerversion lief halbwegs, die jetzige ist grottenschlecht ðŸ˜“', 'Tolle App, sehr funktional, Ã¼bersichtlich, leicht zu bedienen, gute Auswertung der Tests, zuverlÃ¤ssige Messungen.': 'Tolle App, sehr funktional, Ã¼bersichtlich, leicht zu bedienen, gute Auswertung der Tests, zuverlÃ¤ssige Messungen.', 'Lovely app first class': 'Lovely app first class', 'I really like the hearing aids. The app is erratic at best. It has great potential, but is inconsistent. It connects to streamer, sometimes and 2 minutes later it needs to be reset to turn aids back to universal. It often shows one aid or other or other needing to reconnect. It appeared issues were fixed in last update, but apparently not. If developers read this I an using a samsung 950u, which is on your applicable phone list. Again I love the aids, and see good fixes soon to app.': 'I really like the hearing aids. The app is erratic at best. It has great potential, but is inconsistent. It connects to streamer, sometimes and 2 minutes later it needs to be reset to turn aids back to universal. It often shows one aid or other or other needing to reconnect. It appeared issues were fixed in last update, but apparently not. If developers read this I an using a samsung 950u, which is on your applicable phone list. Again I love the aids, and see good fixes soon to app.', 'Love this app. I control my hearing aids from my phone. Extremely convenient.': 'Love this app. I control my hearing aids from my phone. Extremely convenient.', 'Jammer dat er niet meer instelmogelijkheden in de app zitten. Apparaat kan volgens mij veel meer': 'Jammer dat er niet meer instelmogelijkheden in de app zitten. Apparaat kan volgens mij veel meer', 'Problemi dell applicazione con cellulari Asus. Spesso, come ora da qualche giorno ormai, l applicazione non trova gli apparecchi regolarmente presenti nell elenco Bluetooth. Funzionante d-phonak e apparecchio tv, ma l applicazione non li trova...': 'Problemi dell applicazione con cellulari Asus. Spesso, come ora da qualche giorno ormai, l applicazione non trova gli apparecchi regolarmente presenti nell elenco Bluetooth. Funzionante d-phonak e apparecchio tv, ma l applicazione non li trova...', 'Hey guys you are supposed to be smarter than Germans when it comes to engineering but wow you missed the boat on this app. How this app passed your 5 levels of approval is beyond me. How about a rework.': 'Hey guys you are supposed to be smarter than Germans when it comes to engineering but wow you missed the boat on this app. How this app passed your 5 levels of approval is beyond me. How about a rework.', 'You guys were sort of heading in the right direction until this latest update. Stability to keep my setting in the app is now basically gone. Not registering one of the hearing aids has now become the norm when I load the app. Sometimes it works but most times not. Basically the app needs a lot of work to work properly on my LG V20.': 'You guys were sort of heading in the right direction until this latest update. Stability to keep my setting in the app is now basically gone. Not registering one of the hearing aids has now become the norm when I load the app. Sometimes it works but most times not. Basically the app needs a lot of work to work properly on my LG V20.', \"Ok except the settings I input to the app don't seem to be retained for more than a few minutes. So pretty useless on that count .\": \"Ok except the settings I input to the app don't seem to be retained for more than a few minutes. So pretty useless on that count .\", \"Doesn't work.\": \"Doesn't work.\", 'Thanks, otherwise good. Stock Apple ear buds not a good choice for hearing anything': 'Thanks, otherwise good. Stock Apple ear buds not a good choice for hearing anything', 'Ich komm total prima mit der App zurecht. Tolle Sache': 'Ich komm total prima mit der App zurecht. Tolle Sache', 'Very frustrated! It says found hearing aids but say to connect them. Doesnâ€™t pass the step to link with Bluetooth and nothing of the app is accessible including the help section. Badly developed app. New se 2020 phone. Considering to go back to Costco and get hearing aids reimbursed': 'Very frustrated! It says found hearing aids but say to connect them. Doesnâ€™t pass the step to link with Bluetooth and nothing of the app is accessible including the help section. Badly developed app. New se 2020 phone. Considering to go back to Costco and get hearing aids reimbursed', 'Got wife new phone No app only says alpha version and no longer connects to her hearing aids. Useless!!!': 'Got wife new phone No app only says alpha version and no longer connects to her hearing aids. Useless!!!', 'Like every other app from this outfit the Signia app is pretty useless.  Most of the time the app does not seem to actually change anything on my hearing aids.  One of the things that would be really useful is the directional feature.  The original app I was using did noticeably change the area from where the sound was coming from.  This app fails to do this.  It is amazing to me that Signia would offer this poorly coded app for their product.  If I had known the Signia app was so bad I would haves\\nbought a different brand.': 'Like every other app from this outfit the Signia app is pretty useless.  Most of the time the app does not seem to actually change anything on my hearing aids.  One of the things that would be really useful is the directional feature.  The original app I was using did noticeably change the area from where the sound was coming from.  This app fails to do this.  It is amazing to me that Signia would offer this poorly coded app for their product.  If I had known the Signia app was so bad I would haves\\nbought a different brand.', 'Even with blue tooth turned off on the app it still picks up my portable speakers that connect are connected to blue tooth. This only happens when I get out of range from my iPhone. When I get back in range the only sound I get is thru the hearing aids. The app disconnects the speakers from blue tooth?  I have to start all over again.': 'Even with blue tooth turned off on the app it still picks up my portable speakers that connect are connected to blue tooth. This only happens when I get out of range from my iPhone. When I get back in range the only sound I get is thru the hearing aids. The app disconnects the speakers from blue tooth?  I have to start all over again.', 'An sich eine tolle Idee, aber tatsÃ¤chlich stark abhÃ¤ngig vom verwendeten KopfhÃ¶rer. Vermutlich spielen die Impedanz und der Wirkungsgrad eine erhebliche Rolle fÃ¼r die LautstÃ¤rke, die bei mittlerer Einstellung aus dem KopfhÃ¶rer kommt. Ich erhalte â€žbessereâ€œ Ergebnisse mit den originalen Apple-In-Ears als mit einem geschlossenen Bose QC25 KopfhÃ¶rer. Vielleicht, weil die an meinem Telefon einfach nur lauter sind?!\\nMan mÃ¼sste einen KopfhÃ¶rer kalibrieren kÃ¶nnen, indem man diesen Ã¼ber das Telefon-Mikrofon stÃ¼lpt. Dann kÃ¶nnte die Software die LautstÃ¤rke normieren, indem TesttÃ¶ne Ã¼ber den KopfhÃ¶rer ausgegeben und deren LautstÃ¤rke mit dem Mikrofon gemessen wird. Ansonsten sollte die Software zumindest das originale Apple-Equipment kennen und â€žkalibriertâ€œ zur Auswahl anbieten. \\nWenn man den Test von Zeit zu Zeit wiederholt, sollte man das tunlichst mit dem selben KopfhÃ¶rer machen, um die Ergebnisse vergleichen zu kÃ¶nnen. Leider zeigt die Historie nicht mit an, mit welchem KopfhÃ¶rer vergangene Tests gemacht wurden, obwohl man es auswÃ¤hlen bzw. erfassen kann. Das ist der Nachvollziehbarkeit bzw. Reproduzierbarkeit abtrÃ¤glich und insofern schade.\\nAuÃŸerdem kommt wÃ¤hrend des Tests von einem Ohr zwischendurch Rauschen auf dem anderen Ohr. Das wird nirgendwo beschrieben und ist daher vermutlich so nicht gewollt. Es irritiert auch.': 'An sich eine tolle Idee, aber tatsÃ¤chlich stark abhÃ¤ngig vom verwendeten KopfhÃ¶rer. Vermutlich spielen die Impedanz und der Wirkungsgrad eine erhebliche Rolle fÃ¼r die LautstÃ¤rke, die bei mittlerer Einstellung aus dem KopfhÃ¶rer kommt. Ich erhalte â€žbessereâ€œ Ergebnisse mit den originalen Apple-In-Ears als mit einem geschlossenen Bose QC25 KopfhÃ¶rer. Vielleicht, weil die an meinem Telefon einfach nur lauter sind?!\\nMan mÃ¼sste einen KopfhÃ¶rer kalibrieren kÃ¶nnen, indem man diesen Ã¼ber das Telefon-Mikrofon stÃ¼lpt. Dann kÃ¶nnte die Software die LautstÃ¤rke normieren, indem TesttÃ¶ne Ã¼ber den KopfhÃ¶rer ausgegeben und deren LautstÃ¤rke mit dem Mikrofon gemessen wird. Ansonsten sollte die Software zumindest das originale Apple-Equipment kennen und â€žkalibriertâ€œ zur Auswahl anbieten. \\nWenn man den Test von Zeit zu Zeit wiederholt, sollte man das tunlichst mit dem selben KopfhÃ¶rer machen, um die Ergebnisse vergleichen zu kÃ¶nnen. Leider zeigt die Historie nicht mit an, mit welchem KopfhÃ¶rer vergangene Tests gemacht wurden, obwohl man es auswÃ¤hlen bzw. erfassen kann. Das ist der Nachvollziehbarkeit bzw. Reproduzierbarkeit abtrÃ¤glich und insofern schade.\\nAuÃŸerdem kommt wÃ¤hrend des Tests von einem Ohr zwischendurch Rauschen auf dem anderen Ohr. Das wird nirgendwo beschrieben und ist daher vermutlich so nicht gewollt. Es irritiert auch.', 'All good': 'All good', 'Muy Ãºtil, excelente': 'Muy Ãºtil, excelente', 'Poor hearing': 'Poor hearing', 'Useless..a bit like the hearing aids it is supposed to control.. It only connected once... Now nothing!': 'Useless..a bit like the hearing aids it is supposed to control.. It only connected once... Now nothing!', 'will no longer pair, can\\'t get out of demo mode. It worked great prior to them \"improving\" it.': 'will no longer pair, can\\'t get out of demo mode. It worked great prior to them \"improving\" it.', 'App loses connectivity. Have to reinstall the app every few weeks. Latest uninstall then reinstall, it found my Hering aids but would not connect after 2 reboots. Updated phone to Samsung galaxy A50. Android v.10 app finds hearing aids, asks if I want to pair it and then spends 5 minutes trying to and says reboot aids. Vicious never ending cycle. Waste of time and money in buying the best hearing aids from this company. And I cannot carry my iPad around when going out. Terrible support and app.': 'App loses connectivity. Have to reinstall the app every few weeks. Latest uninstall then reinstall, it found my Hering aids but would not connect after 2 reboots. Updated phone to Samsung galaxy A50. Android v.10 app finds hearing aids, asks if I want to pair it and then spends 5 minutes trying to and says reboot aids. Vicious never ending cycle. Waste of time and money in buying the best hearing aids from this company. And I cannot carry my iPad around when going out. Terrible support and app.', 'Where oh where did my Resound icon disappear to! If you updated my hearing aids how do I retrieve my icon so I can adjust my aids. Help me now.': 'Where oh where did my Resound icon disappear to! If you updated my hearing aids how do I retrieve my icon so I can adjust my aids. Help me now.', \"I don't understand the point of the app at all. It doesn't do anything I can't do manually by using the buttons on my new aids. I thought there might be some cool functionality but there's nothing that I can discern.\": \"I don't understand the point of the app at all. It doesn't do anything I can't do manually by using the buttons on my new aids. I thought there might be some cool functionality but there's nothing that I can discern.\", 'Ã“timo': 'Ã“timo', 'I am so disappointed in these $7,000 hearing aids that I picked up one week ago. This app is junk keeps disconnecting. The Sound Sense feature disappears  and leaves only the equalizer. I have had to reinstall it 10times. Tone link  does work like the website shows either. Not happy.': 'I am so disappointed in these $7,000 hearing aids that I picked up one week ago. This app is junk keeps disconnecting. The Sound Sense feature disappears  and leaves only the equalizer. I have had to reinstall it 10times. Tone link  does work like the website shows either. Not happy.', 'Das letzte Update hat der App gutgetan': 'Das letzte Update hat der App gutgetan', 'Very good easy-to-use': 'Very good easy-to-use', 'sumiu o acesso remoto Ã\\xa0 fonoaudiÃ³loga! jÃ¡ instalei, desinstalei, reiniciei o celular e nada!': 'remote access to the speech therapist is gone! I already installed, uninstalled, restarted the phone and nothing!', \"I've had these hearing aids about 18 months. At first my Samsung S5 would work with the app. Then the app was upgraded & the S5 wouldn't work. Bought a Samsung S9 & app worked most of the time until this weekend (5/16/2020). Now app WILL NOT find hearing aids. Tried reinstalling app, no luck. Tried the beata, no luck. Don't know if I need another new phone but I'm not buying a new phone every 18 months for a hearing app. I'll look for a different manufacturer.\": \"I've had these hearing aids about 18 months. At first my Samsung S5 would work with the app. Then the app was upgraded & the S5 wouldn't work. Bought a Samsung S9 & app worked most of the time until this weekend (5/16/2020). Now app WILL NOT find hearing aids. Tried reinstalling app, no luck. Tried the beata, no luck. Don't know if I need another new phone but I'm not buying a new phone every 18 months for a hearing app. I'll look for a different manufacturer.\", 'Necesito un poco mÃ¡s volumen': 'Necesito un poco mÃ¡s volumen', 'Sobald ein Update kommt funktioniert die HÃ¶rgerÃ¤teaktualisierung nicht mehr, mit heutigem Update funktioniert nicht einmal mehr das ich eine Anfrage erstellen kann....\\nJungs so wird das nichts mehr mit uns\\niPhone 11 Pro IOS 13.4': 'Sobald ein Update kommt funktioniert die HÃ¶rgerÃ¤teaktualisierung nicht mehr, mit heutigem Update funktioniert nicht einmal mehr das ich eine Anfrage erstellen kann....\\nJungs so wird das nichts mehr mit uns\\niPhone 11 Pro IOS 13.4', 'Working great': 'Working great', 'Good. You need to update the app with a locater for misplaced aids.': 'Good. You need to update the app with a locater for misplaced aids.', 'After iOS 14, is a disaster app.': 'After iOS 14, is a disaster app.', 'App cannot add data to Apple Health on iOS 14': 'App cannot add data to Apple Health on iOS 14', 'Ergebnis aus der App in Health gespeichert, iPhone hat das Ergebnis direkt auslesen kÃ¶nnen und den Sound um meine schlecht hÃ¶renden Frequenzen aufgepeppt! Unglaublich, ich kann die Musik wieder so genieÃŸen als ob ich wieder 20 wÃ¤re! â\\x9d¤ï¸\\x8fâ\\x9d¤ï¸\\x8fâ\\x9d¤ï¸\\x8fâ\\x9d¤ï¸\\x8fâ\\x9d¤ï¸\\x8f': 'Result from the app saved in Health, iPhone was able to read out the result directly and spiced up the sound by my poorly hearing frequencies! Unbelievable, I can enjoy the music again as if I were 20 again! â ¤ï¸ â ¤ï¸ â ¤ï¸ â ¤ï¸ â ¤ï¸', 'Following information sent by phonak I am now able to connect to the app everytime many thanks update worked for the first few times now will not connect again. One frustrated user': 'Following information sent by phonak I am now able to connect to the app everytime many thanks update worked for the first few times now will not connect again. One frustrated user', 'Hard time getting the aids to pair and then the hearing aids keep disconnecting.  Apple and wides Ned to get a fix for this. I depend on the app.': 'Hard time getting the aids to pair and then the hearing aids keep disconnecting.  Apple and wides Ned to get a fix for this. I depend on the app.', \"Android support for hearing aids is poor, I have Galaxy s20 ultra and an iPhone XS plus. On the iPhone the Evoke app works perfectly as well as Com-Dex if I use the streamer. On the Galaxy Evoke pairing is a pain, drops connection, Com-Dex never connects. Widex needs to fix yes, but Android is a poor platform for those with Accessibility needs, if you really want to enjoy them get an iPhone. Calls stream perfectly and you'll enjoy your aids.\": \"Android support for hearing aids is poor, I have Galaxy s20 ultra and an iPhone XS plus. On the iPhone the Evoke app works perfectly as well as Com-Dex if I use the streamer. On the Galaxy Evoke pairing is a pain, drops connection, Com-Dex never connects. Widex needs to fix yes, but Android is a poor platform for those with Accessibility needs, if you really want to enjoy them get an iPhone. Calls stream perfectly and you'll enjoy your aids.\", 'Still new to it, but so good so fsr': 'Still new to it, but so good so far', \"Doesn't do a good job, Doesn't connect at all\": \"Doesn't do a good job, Doesn't connect at all\", 'Slow slow slow does not hold new setting returns to previous setting': 'Slow slow slow does not hold new setting returns to previous setting', 'FrÃ¼her konnte ich die HÃ¶rgerÃ¤te einzeln ansteuern. Jetzt gibt es keine Seitentrennung mehr...': 'FrÃ¼her konnte ich die HÃ¶rgerÃ¤te einzeln ansteuern. Jetzt gibt es keine Seitentrennung mehr...', 'You would think that Starkey would get the hint with so many numerous complaints about their crappy app. It never connects properly. I am constantly rebooting my phone, reconnecting my hearing aids, opening closing my hearing aids and then it works for a few minutes maybe a few hours and then nothing. Trying to stream a phone call and realizing you only have one ear functioning is beyond frustrating. The entire app, when it does work, is beyond confusing and not user-friendly. Even my audiologist cannot answer many of my questions.': 'You would think that Starkey would get the hint with so many numerous complaints about their crappy app. It never connects properly. I am constantly rebooting my phone, reconnecting my hearing aids, opening closing my hearing aids and then it works for a few minutes maybe a few hours and then nothing. Trying to stream a phone call and realizing you only have one ear functioning is beyond frustrating. The entire app, when it does work, is beyond confusing and not user-friendly. Even my audiologist cannot answer many of my questions.', 'Bin am HÃ¶rgerÃ¤te testen. Oticon bitet in der App praktisch nur LautstÃ¤rke einstellen und  Programmwechsel. Das geht mit dem HÃ¶rgerÃ¤t selbst viel besser. Individuelle Einstellungen und Programme Fehlanzeige. Hearing Fitness ist vÃ¶lliger BlÃ¶dsinn und dient wohl nur zum Datensammeln fÃ¼r Oticon. Schade um den Speicherplatz im Handy. Bin mal auf Widex gespannt, die App macht einen guten Eindruck.': \"I'm testing my hearing aids. Oticon offers practically only setting the volume and changing programs in the app. It works much better with the hearing aid itself. Individual settings and programs are not available. Hearing fitness is utter nonsense and is only used to collect data for Oticon. It's a shame about the storage space in the cell phone. I'm curious about Widex, the app makes a good impression.\", 'Ottima': 'Great', \"Doesn't work on latest Android unless you disable full screen gestures and enable the navbar. Limited functionality compared to competitors' apps.\": \"Doesn't work on latest Android unless you disable full screen gestures and enable the navbar. Limited functionality compared to competitors' apps.\", 'I have IPhone 11 Pro. The Smart 3D app says connected to Bluetooth and app is working. BUT...the connection does not show on Bluetooth in settings and the devices wheel keeps turning trying to show the Smart3D. Talked with Apple Care and we went through many options to no avail. All other devices paired to Bluetooth are showing. Apple says this is an issue with the Smart 3D app as my issue started with latest app update. Please fix so I can use the app with Bluetooth.': 'I have IPhone 11 Pro. The Smart 3D app says connected to Bluetooth and app is working. BUT...the connection does not show on Bluetooth in settings and the devices wheel keeps turning trying to show the Smart3D. Talked with Apple Care and we went through many options to no avail. All other devices paired to Bluetooth are showing. Apple says this is an issue with the Smart 3D app as my issue started with latest app update. Please fix so I can use the app with Bluetooth.', \"Je installer cette application Le Bluetooth marche trÃ¨s bien mais pourquoi il marche uniquement la gauche et pas la droite J'ai un smartphone Galaxy s9 Y a-t-il un rÃ©glage ou autre Merci\": 'I install this application The Bluetooth works fine but why it only works on the left and not on the right I have a Galaxy s9 smartphone Is there a setting or other Thank you', 'Not pairing after update to app': 'Not pairing after update to app', 'Eigendlich eine gute App wenn sie auch funktionieren wÃ¼rde. Bei der ersten Einrichtung war alles OK aber dann kam die ErnÃ¼chterung einmal aus dem Bluetooth heraus und nichts geht mehr. Die HÃ¶rgerÃ¤te verbinden sich nicht mehr und wenn dann wird nur ein GerÃ¤t erkannt. Schade da werde ich den Kauf der HÃ¶rgerÃ¤te noch ein Mal Ã¼berdenken. Denn ich muÃŸ immerhin 3000 â‚¬ dazu zahlen und da kann mann ja wohl erwarten das alles funktioniert. Ich habe ein Huawei P20 Lite.': \"Actually a good app if it worked. With the first setup everything was OK but then the disillusionment came out of the Bluetooth and nothing works. The hearing aids no longer connect and if so, only one device is recognized. It's a shame I'll reconsider buying the hearing aids. After all, I have to pay 3000 â‚¬ and you can expect everything to work. I have a Huawei P20 Lite.\", 'Erforderliche Einstellungen mÃ¶glichðŸ‘\\x8d': 'Required settings possibleðŸ ‘', 'Frustrating': 'Frustrating', 'Amazing': 'Amazing', 'Keeps losing communication with my hearing aids.': 'Keeps losing communication with my hearing aids.', 'OK when it works but every few days it has to be deleted and reloaded in order to connect to the hearing aids. Very aggravating app.': 'OK when it works but every few days it has to be deleted and reloaded in order to connect to the hearing aids. Very aggravating app.', \"Peccato non dare la possibilitÃ\\xa0 di salvare il tinnitus in eeprom!! Ãˆ cosÃ¬ soggettivo che non servirebbe affatto ogni volta recarsi dall'audioprotesista per questa stupida modifica Ã¨ davvero seccante!! Per piacere nel prossimo aggiornamento date questa possibilitÃ\\xa0!\": 'Too bad not to give the possibility to save the tinnitus in eeprom !! It is so subjective that it would be useless to go to the hearing care professional every time for this stupid modification is really annoying !! Please give this chance in the next update!', 'I very much like the funtionality but this app is terrible with its BT connection. Pairing to my LG (less than 2 yrs old) is extremly difficult and unreliable. I dont belive Oticon is properly supporting android users like it does with apple phones. Also the BT connection to the TV is not reliable. Also why cant you stream phone calls and music without the need for the connect clip, which is awkward to use??. Apple users do not need a connect clip.': 'I very much like the funtionality but this app is terrible with its BT connection. Pairing to my LG (less than 2 yrs old) is extremly difficult and unreliable. I dont belive Oticon is properly supporting android users like it does with apple phones. Also the BT connection to the TV is not reliable. Also why cant you stream phone calls and music without the need for the connect clip, which is awkward to use??. Apple users do not need a connect clip.', 'In Ordnung gefÃ¤llt mir.': 'Okay, I like it.', 'Facile Ã\\xa0 utiliser et agrÃ©able.': 'Easy to use and pleasant.', 'Why cant i now, use this app Cant get streaming.': 'Why cant i now, use this app Cant get streaming.', \"Not good, extremely frustrating. Moto g7 power phone and hearings aids constantly drop in the app. This is brand new to me and almost had me thinking I had faulty hearing aids. But it sucks that I can't enjoy my hearing aids to the fullest potential like everyone else who are not having this connection issue. Hope this is fixed very soon.\": \"Not good, extremely frustrating. Moto g7 power phone and hearings aids constantly drop in the app. This is brand new to me and almost had me thinking I had faulty hearing aids. But it sucks that I can't enjoy my hearing aids to the fullest potential like everyone else who are not having this connection issue. Hope this is fixed very soon.\", 'Shame it only works sending music or phone calls through the hearing aid with iphone.': 'Shame it only works sending music or phone calls through the hearing aid with iphone.', 'This Most  recent update: Version 1.7.6 will not pair with my hearing aids. Everything was working great but then I updated the app and now it wonâ€™t pair. They are paired just fine with my iPhone. I see them under Accessibility. I have deleted the app, re downloaded it, rebooted my devices, some the forget these devices, put new batteries in the hearing aids but the app refuses to pair. The My iPhone X pairs just fine with them so I am controlling the volume through Settings but it does not allow the fine tuning I use on occasion. It has to be the app. Fail.\\nUpdate: after trying dozens of times to get my hearing aids to pair I finally succeeded tonight. The app was finding my hearing aids but refusing to pair. These are the steps IN ORDER that I followed tonight that finally worked. Under settings tell your phone to Forget this deviceâ€”forget the paired hearing aids. Then download the app. Follow the steps to have the app find your hearing aids. You may have to let it search multiple times. When the app says it has found your hearing aids you just return to Accessibility under Settings and follow the steps to pair the hearing aids. Return to the app and it will attempt to pair the app. If you get a Red X with a failed pair, allow it to try again. I finally got a green check mark and I am paired now. You cannot have the aids already paired through the Settings app before starting the Smart 3D app.': 'This Most  recent update: Version 1.7.6 will not pair with my hearing aids. Everything was working great but then I updated the app and now it wonâ€™t pair. They are paired just fine with my iPhone. I see them under Accessibility. I have deleted the app, re downloaded it, rebooted my devices, some the forget these devices, put new batteries in the hearing aids but the app refuses to pair. The My iPhone X pairs just fine with them so I am controlling the volume through Settings but it does not allow the fine tuning I use on occasion. It has to be the app. Fail.\\nUpdate: after trying dozens of times to get my hearing aids to pair I finally succeeded tonight. The app was finding my hearing aids but refusing to pair. These are the steps IN ORDER that I followed tonight that finally worked. Under settings tell your phone to Forget this deviceâ€”forget the paired hearing aids. Then download the app. Follow the steps to have the app find your hearing aids. You may have to let it search multiple times. When the app says it has found your hearing aids you just return to Accessibility under Settings and follow the steps to pair the hearing aids. Return to the app and it will attempt to pair the app. If you get a Red X with a failed pair, allow it to try again. I finally got a green check mark and I am paired now. You cannot have the aids already paired through the Settings app before starting the Smart 3D app.', \"If I could give this zero stars I would. It's worthless for me. It won't even find my hearing aids.\": \"If I could give this zero stars I would. It's worthless for me. It won't even find my hearing aids.\", \"Can't remotely control my hearing aid functions\": \"Can't remotely control my hearing aid functions\", 'Seid zwei Monaten schon kein Update mehr und das schlimme kommt noch erst 1140 â‚¬ bezahlt fÃ¼r beide HÃ¶rgerÃ¤te die nicht richtig funktionieren wenn man Telefonieren will muss man Radio oder Fernsehen aus machen oder leiser machen damit man vernÃ¼nftig Tele kann . Nach meinem Ermessen ist da nachhole Bedarf 100% angesagt ansonsten funktioniert sie aber wie gesagt nicht wenn man Telefonieren will usw einfach unterste Schublade â€¼ï¸\\x8fâ€¼ï¸\\x8fðŸ¤¢ðŸ¤®ðŸ¤®': 'No more update for two months and the bad is still to come 1140 â‚¬ paid for both hearing aids that do not work properly. If you want to make a phone call, you have to turn off the radio or television or turn it down so that you can telephoto sensibly. In my opinion, there is 100% catch-up demand, otherwise it does not work, as I said, when you want to make a phone call, etc. just bottom drawer â € ¼ï¸ â € ¼ï¸ ðŸ¤ ¢ ðŸ¤®ðŸ¤®', 'This has been an ongoing problem since last year. I wrote a more scathing review but I guess it was deleted. Too harsh? The app needs bass, mid, treble slides for each aid. It needs to be able to save settings and keep settings during a hearing session. In other words, if I switch back and forth from universal to restaurant, I want the volume and tone controls to stay where I put them until I turn the aids off. It should have volume control for each aid and keep and maintain the Bluetooth connection and connect quickly with startup. This is not harsh but a fact. Do this and people will feel you have some control over the variability in your hearing from day to day. I am ready to buy new aids but this must be fixed first.\\nHope this wasnâ€™t too harsh.': 'This has been an ongoing problem since last year. I wrote a more scathing review but I guess it was deleted. Too harsh? The app needs bass, mid, treble slides for each aid. It needs to be able to save settings and keep settings during a hearing session. In other words, if I switch back and forth from universal to restaurant, I want the volume and tone controls to stay where I put them until I turn the aids off. It should have volume control for each aid and keep and maintain the Bluetooth connection and connect quickly with startup. This is not harsh but a fact. Do this and people will feel you have some control over the variability in your hearing from day to day. I am ready to buy new aids but this must be fixed first.\\nHope this wasnâ€™t too harsh.', 'I simply love it.': 'I simply love it.', 'Die App funktioniert nicht. Sie schaltet eigene HÃ¶rprogrann nach Belieben aus und ersetzt sie durch das Standardprogramm. M': 'Die App funktioniert nicht. Sie schaltet eigene HÃ¶rprogrann nach Belieben aus und ersetzt sie durch das Standardprogramm. M', 'Ich verwende diese App eigentlich lediglich dafÃ¼r, die LautstÃ¤rke zu regeln. Seit der neuen Version verbinden sich die HÃ¶rgerÃ¤te gar nicht mehr oder nur teilweise. Meistens gebe ich nach zehn Minuten Bluetooth und GerÃ¤te ein - & ausschalten auf. Nach LÃ¶schen aller bluetooth GerÃ¤te gelang einmalig eine Verbindung vor geraumer Zeit. Weitere Funktionen sind keine in der App, die mich reiten wÃ¼rden zu nutzen. FÃ¼r mich unbrauchbar. Die VorgÃ¤nger App funktionierte. Schade!': 'Ich verwende diese App eigentlich lediglich dafÃ¼r, die LautstÃ¤rke zu regeln. Seit der neuen Version verbinden sich die HÃ¶rgerÃ¤te gar nicht mehr oder nur teilweise. Meistens gebe ich nach zehn Minuten Bluetooth und GerÃ¤te ein - & ausschalten auf. Nach LÃ¶schen aller bluetooth GerÃ¤te gelang einmalig eine Verbindung vor geraumer Zeit. Weitere Funktionen sind keine in der App, die mich reiten wÃ¼rden zu nutzen. FÃ¼r mich unbrauchbar. Die VorgÃ¤nger App funktionierte. Schade!', 'Love the fact they connect with Bluetooth. Allows me the capability to know when my phone is ringing.': 'Love the fact they connect with Bluetooth. Allows me the capability to know when my phone is ringing.', 'Diese App ist eine Frechheit. Anscheinend sollen einige Vertriebsformen unterstÃ¼tzt und andere ausgebotet werden. Einfach unverschÃ¤mt. HÃ¤tte ich das gewusst hÃ¤tte ich diese GerÃ¤te nicht genommen.': 'Diese App ist eine Frechheit. Anscheinend sollen einige Vertriebsformen unterstÃ¼tzt und andere ausgebotet werden. Einfach unverschÃ¤mt. HÃ¤tte ich das gewusst hÃ¤tte ich diese GerÃ¤te nicht genommen.', \"Updated this app, now it doesn't work. Can I go back to the way it was?\": \"Updated this app, now it doesn't work. Can I go back to the way it was?\", \"It's okay... Not enough control over the ear pieces. Does NOT DO what it SHOULD DO for hearing aids THIS EXPENSIVE! Not as good as my $100 aids!\": \"It's okay... Not enough control over the ear pieces. Does NOT DO what it SHOULD DO for hearing aids THIS EXPENSIVE! Not as good as my $100 aids!\", 'Reagiert mit Galaxy s10 plus nur gelegentlich, selbst bei voller LautstÃ¤rke': 'Reagiert mit Galaxy s10 plus nur gelegentlich, selbst bei voller LautstÃ¤rke', 'Es muy mala. No tiene nada que no tengas en el audifono. Eso cuando funciona.': \"She's so bad. It doesn't have anything you don't have in the headset. That when it works.\", 'Una excelente app para cuidar de tu audiciÃ³n.': 'An excellent app to take care of your hearing.', 'Nach dem Update funktionieren meine HÃ¶rgerÃ¤te Ã¼berhaupt nicht mehr richtig. Laufend sind sie nicht verbunden. Die vorherige Version war optimal und besser zu handhaben. Ich bin Ã¼berhaupt nicht zufrieden damit . Es kann nicht sein dass ich in der Ã–ffentlichkeit die HÃ¶rgerÃ¤te aus dem Ohr nehmen muss und neu starten. Beheben Sie dies bitte sofort, ich habe schlieÃŸlich eine Menge Geld bezahlt, da erwarte ich , dass es funktioniert. MfG': \"After the update, my hearing aids won't work properly at all. They are not continuously connected. The previous version was optimal and easier to use. I'm not happy with it at all. It can't be that I have to take the hearing aids out of my ear and start again in public. Please fix this immediately, I ended up paying a lot of money so I expect it to work. Kind regards\", 'Clugy Bluetooth interface have to repair every day to get connected.': 'Clugy Bluetooth interface have to repair every day to get connected.', 'The app stopped working. Was fine for 3 months. It will not find the hearing aids. Searching and searching. Have reinstalled multiple times in my LG6 phone. Sent a message to support. No answer. This sucks. I have no way to select settings for my very expensive Audeo M 90 RT hearing aids.': 'The app stopped working. Was fine for 3 months. It will not find the hearing aids. Searching and searching. Have reinstalled multiple times in my LG6 phone. Sent a message to support. No answer. This sucks. I have no way to select settings for my very expensive Audeo M 90 RT hearing aids.', 'I switched from Starkey to Oticon 2 months ago. With respect to hearing aid functionality I agree with an earlier reviewer that blue tooth performance is erratic. No having this problem with any other bluetooth device. I feel the clarity and programability (thank you for my excellent audiologist) are much better than my 5 year old Starkeys. However your app need a major upgrade. Connectivity takes way too long. Often on hearing aid says it is not connected even when the app shows the battery level for both. Opening and closing the battery case one or more times is required even after unpairing and re-pairing. Also the battery strength remaining as shown in the app appears to be completely wrong. For such a great company itâ€™s a shame you cannot create a more functional app.': 'I switched from Starkey to Oticon 2 months ago. With respect to hearing aid functionality I agree with an earlier reviewer that blue tooth performance is erratic. No having this problem with any other bluetooth device. I feel the clarity and programability (thank you for my excellent audiologist) are much better than my 5 year old Starkeys. However your app need a major upgrade. Connectivity takes way too long. Often on hearing aid says it is not connected even when the app shows the battery level for both. Opening and closing the battery case one or more times is required even after unpairing and re-pairing. Also the battery strength remaining as shown in the app appears to be completely wrong. For such a great company itâ€™s a shame you cannot create a more functional app.', 'TrÃ¨s bonne application.': 'Very good application.', 'Paired once with hearing aid the stopped pairing. Can not pair to hearing aids': 'Paired once with hearing aid the stopped pairing. Can not pair to hearing aids', 'Das Download ging unkompliziert und schnell': 'The download was quick and easy', 'Works awesome so far.': 'Works awesome so far.', 'Had these hearing aids for 2 weeks, used the app. Everything was fine, this week, I canâ€™t get it to recognize both hearing aids,  canâ€™t get off the page to re connect, so itâ€™s either one or the other, \\nThis isnâ€™t OK for the price I paid. \\nThank goodness I can use them manually but then whatâ€™s the point of the ability to have a particular program? \\nSo disappointed.': 'Had these hearing aids for 2 weeks, used the app. Everything was fine, this week, I canâ€™t get it to recognize both hearing aids,  canâ€™t get off the page to re connect, so itâ€™s either one or the other, \\nThis isnâ€™t OK for the price I paid. \\nThank goodness I can use them manually but then whatâ€™s the point of the ability to have a particular program? \\nSo disappointed.', 'Have used 10 days. \\n1) When I adjust a setting, software reverts back to defaults when use another phone app. MyPhonak app should hold setting changes and include a â€œdefaultâ€\\x9d button to revert back when user decides. \\n2) TV Connector + mic should have a separate mute button for TV sound as well as mic sound.   May be in TV room but reading etc. and not want to hear TV thru aids. \\n3) AutoSense setting page changes not retained when move from AutoSense to another program and then back. \\n4) My audiologist said to make iPhone setting changes to avoid some of above issues. Well written app software should not require user to change preferred phone settings in order to avoid above and other issues.': 'Have used 10 days. \\n1) When I adjust a setting, software reverts back to defaults when use another phone app. MyPhonak app should hold setting changes and include a â€œdefaultâ€\\x9d button to revert back when user decides. \\n2) TV Connector + mic should have a separate mute button for TV sound as well as mic sound.   May be in TV room but reading etc. and not want to hear TV thru aids. \\n3) AutoSense setting page changes not retained when move from AutoSense to another program and then back. \\n4) My audiologist said to make iPhone setting changes to avoid some of above issues. Well written app software should not require user to change preferred phone settings in order to avoid above and other issues.', 'Muito bom, eficiente no tratamento do Zumbido': 'Muito bom, eficiente no tratamento do Zumbido', 'Very intermittent!!': 'Very intermittent!!', \"VerÃ¤nderungen werden nicht bestÃ¤tigt. Als HÃ¶rgeschÃ¤digter kann man diese dann 'erahnen'. Der Automatik-button lÃ¤sst keine VerÃ¤nderung erkennen\": \"Changes are not confirmed. As a hearing impaired person you can 'guess' this. The automatic button shows no change\", \"Soooooo sad that a company charges $3,500 for a small chip chooses not hire decent software developers... On top of that my audiologist never mentioned anything about this app, probably because they were hoping that I won't know about it until the trial period was over. I will NEVER buy a Starkey hearing aid ever again. Thanks for the reply, but it still does not justify why do you have such an horrible app. On top of that, using it only for non-directly related things, such as remote control, is not true (to put it politely). You can change the sound profiles, lower/higher the volume, change the tinnitus masking volume/speed etc in the app, and only in the app. Of course, and unfortunately, it changes profiles automatically in the same environment (without obvious change in the background or foreground noise levels) making the hearing aid itself very uncomfortable to wear.\": \"Soooooo sad that a company charges $3,500 for a small chip chooses not hire decent software developers... On top of that my audiologist never mentioned anything about this app, probably because they were hoping that I won't know about it until the trial period was over. I will NEVER buy a Starkey hearing aid ever again. Thanks for the reply, but it still does not justify why do you have such an horrible app. On top of that, using it only for non-directly related things, such as remote control, is not true (to put it politely). You can change the sound profiles, lower/higher the volume, change the tinnitus masking volume/speed etc in the app, and only in the app. Of course, and unfortunately, it changes profiles automatically in the same environment (without obvious change in the background or foreground noise levels) making the hearing aid itself very uncomfortable to wear.\", 'Will not download to galaxy s9!': 'Will not download to galaxy s9!', \"Il y a 2 semaines que j'ai changÃ© mes prothÃ¨ses cependant j'utilise davantage les anciennes. Le niveau d'Ã©coute avec les nouvelles n'est pas top. Je rencontre des difficultÃ©s Ã\\xa0 trouver le bon rÃ©glage avec les nouvelles. Je vais devoir retourner chez Unisson pour trouver un arrangement et m'orientÃ©e vers autre chose. Est ce normal de ne pas avoir le rÃ©glage directionnel dans l'application.\": \"Il y a 2 semaines que j'ai changÃ© mes prothÃ¨ses cependant j'utilise davantage les anciennes. Le niveau d'Ã©coute avec les nouvelles n'est pas top. Je rencontre des difficultÃ©s Ã\\xa0 trouver le bon rÃ©glage avec les nouvelles. Je vais devoir retourner chez Unisson pour trouver un arrangement et m'orientÃ©e vers autre chose. Est ce normal de ne pas avoir le rÃ©glage directionnel dans l'application.\", 'Tolle \"Fernbedienung\". Die App sendet mit jeder Aktion einen kodierten, hochfrequenten Ton. Wie ne Fledermaus. Wenn die HÃ¶rgerÃ¤te das hÃ¶ren, reagieren sie. Funktioniert quasi Ã¼ber deren Mikrofone. Die App kommt komplett ohne Bluetooth aus, das schont alle Batterien. Allerdings kann man deswegen auch nicht z.B. Musik oder Telefonate streamen. Ohne Bluetooth bekommt die App natÃ¼rlich auch keine RÃ¼ckmeldung vom HÃ¶rsystem. Das was angezeigt wird, ist lediglich der letzte Befehl den man gesendet hat.': 'Great \"remote control\". The app sends a coded, high-frequency tone with every action. Like a bat. When the hearing aids hear that, they respond. Works almost through their microphones. The app works completely without Bluetooth, which saves batteries. However, for this reason one cannot e.g. Stream music or phone calls. Without Bluetooth, of course, the app doesn\\'t get any feedback from the hearing system. What is displayed is just the last command that you sent.', \"Crashes continuously. Nice when it works. All your settings have to be redone everytime it reloads. Doesn't remember anything. C'mon it's 2020 not 1990. Fix it Signia!\": \"Crashes continuously. Nice when it works. All your settings have to be redone everytime it reloads. Doesn't remember anything. C'mon it's 2020 not 1990. Fix it Signia!\", 'No se pueden ver las otras opiniones malas, solo muestra las de 5 estrellas': \"Can't see the other bad reviews, only show 5-star\", 'As I set a specific custom program, that program holds until I get an incoming phone call, message, or text, Immediately the selected program is released and the Universal program is set. \\nThe combination of aids and application should hold the selected program until the aids are powered down or the program is changed.\\nIPHONE v 11': 'As I set a specific custom program, that program holds until I get an incoming phone call, message, or text, Immediately the selected program is released and the Universal program is set. \\nThe combination of aids and application should hold the selected program until the aids are powered down or the program is changed.\\nIPHONE v 11', 'Funciona muito bem...': 'It Works very well...', 'Not much difference in sound when turning volume up or down': 'Not much difference in sound when turning volume up or down', \"This app saved my life. Relieving my tinnitus at the age of 34 when it's time to sleep. Thank you so much.\": \"This app saved my life. Relieving my tinnitus at the age of 34 when it's time to sleep. Thank you so much.\", 'Hard to get connected. Sometimes you have to restart your phone several times.': 'Hard to get connected. Sometimes you have to restart your phone several times.', \"App works as described. But doesn't have and exit, after starting and making adjustment. Have to close through Android\": \"App works as described. But doesn't have and exit, after starting and making adjustment. Have to close through Android\", 'When working it is a great app.  However it seems to loose track of its blue tooth connection.  They are always available in the control panel but often the app goes into a demo mode and looses connection.': 'When working it is a great app.  However it seems to loose track of its blue tooth connection.  They are always available in the control panel but often the app goes into a demo mode and looses connection.', \"Since 70% of the Smartphone's in use operate with the Android platform, why are your instructions only geared to the iOS system. No one can help when it comes to all of the features that are available with the bluetooth connection.\": \"Since 70% of the Smartphone's in use operate with the Android platform, why are your instructions only geared to the iOS system. No one can help when it comes to all of the features that are available with the bluetooth connection.\", \"MalgrÃ© que j'ai Android 10 et que le soft m'annonce que la diffusion directe marche... Ã‡a ne marche pas... Bref assez dÃ©Ã§u d'avoir pris ses appareils\": \"Although I have Android 10 and the app tells me that direct broadcasting works ... it doesn't ... In short, quite disappointed to have taken his devices\", 'Nur die LautstÃ¤rke kann variiert und  ein- und ausgeschaltet werden': 'Only the volume can be varied and switched on and off', 'App geht nach dem Update: Alle Berechtigungen der App wurden nach dem Update zurÃ¼ck gesetzt. Also alle Berechtigungen manual in Android setzen, dann Neustart und dann sollte es gehen. KÃ¶nnte man auch vom Ersteller als Hinweis erwarten!': 'App goes after the update: All permissions of the app were reset after the update. So set all permissions manual in Android, then restart and then it should work. You could also expect a hint from the creator!', 'Que no me conecta mi audÃ\\xadfono solo puedes un audÃ\\xadfono y no me deja poner las dos': 'That my hearing aid does not connect me, you can only one hearing aid and it does not let me put both', 'Not very consistent. At 1st I was able to adjust the direction of the reception but they must have changed the app & you can only choose auto tv outside & 1 other.': 'Not very consistent. At 1st I was able to adjust the direction of the reception but they must have changed the app & you can only choose auto tv outside & 1 other.', 'I tried an earlier version of this app years ago and found it very \"clunky\" to use. It was much easier to use the onboard hearing aid switches or streamer, so I deleted it. This version is even worse as it won\\'t stay connected once the hearing aids are paired. You may have better luck if you\\'re using an iPhone as both of my experiences involved connecting with an Android phone.': 'I tried an earlier version of this app years ago and found it very \"clunky\" to use. It was much easier to use the onboard hearing aid switches or streamer, so I deleted it. This version is even worse as it won\\'t stay connected once the hearing aids are paired. You may have better luck if you\\'re using an iPhone as both of my experiences involved connecting with an Android phone.', \"I have had the belt clip for three years now. I absolutely love it. Phone calls are crystal clear. Recently I got the device for the TV. I can now hear the TV programs crystal clear. I don't like having to change from one device to the other one on my phone.\": \"I have had the belt clip for three years now. I absolutely love it. Phone calls are crystal clear. Recently I got the device for the TV. I can now hear the TV programs crystal clear. I don't like having to change from one device to the other one on my phone.\", 'Excelente me ayuda mucho': 'Excellent helps me a lot', 'MagnÃ\\xadficos': 'MagnÃ\\xadficos', \"Can't adjust volume separately for my left and right hearing aid.\": \"Can't adjust volume separately for my left and right hearing aid.\", \"My hearing aids work perfict and connect to my phone for phone calls and for listening to music but this app will not connect at all. It will not let me controll my hearing aids at all and just keeps sherching for blue tooth signal. Im using the stream line mike and it is fully charged and im usung new battries in my hearing aids but it still will not connect to your app. I am using a LG Stylo 4plus Android operating system. Whats up don't??? Don't you think we are important customers???\": \"My hearing aids work perfict and connect to my phone for phone calls and for listening to music but this app will not connect at all. It will not let me controll my hearing aids at all and just keeps sherching for blue tooth signal. Im using the stream line mike and it is fully charged and im usung new battries in my hearing aids but it still will not connect to your app. I am using a LG Stylo 4plus Android operating system. Whats up don't??? Don't you think we are important customers???\", \"Absolument invivable s'appairer les aides. Aujourd'hui je viens de passer 3 heures pour appairer les aides. RedÃ©marrer le tÃ©lÃ©phone vider les cachÃ©s installer l'app ma dÃ©sinstaller etc.. essayer sur un autre tÃ©lÃ©phone d'une autre marque. A devenir dingue et je dois le prÃ©ciser je suis informaticien. A oublier..... BoÃ®tier TV vendu pour Bluetooth portÃ©e 15m. C'est du pipeau!! Perte du signal aprÃ¨s 5m\": \"Absolutely unlivable to pair aids. Today I just spent 3 hours to pair the aids. Restart the phone clear the caches install the app my uninstall etc. try on another phone from another brand. To become crazy and I must specify it I am a computer scientist. To forget ..... TV box sold for Bluetooth range 15m. It's a pipe !! Loss of signal after 5m\", \"Drops one or both aids multiple times a day.  Turning them off/on or killing the app don't fix the issue routinely either.\": \"Drops one or both aids multiple times a day.  Turning them off/on or killing the app don't fix the issue routinely either.\", 'Adaptateur tv qui mentionne Â« cette section est actuellement indisponible en raison dâ€™une source sonore externe Â» ... mais aucune indication pour rÃ©soudre la situation : on fait quoi ?': 'TV adapter which mentions \"this section is currently unavailable due to an external sound source\" ... but no indication to resolve the situation: what do we do?', 'Doesnâ€™t work with my new iPad. Bluetooth is on, Iâ€™ve rebooted but still wonâ€™t find my hearing aids, works fine on my iPhone. Very disappointed as it was one of the reasons for buying a new iPad.': 'Doesnâ€™t work with my new iPad. Bluetooth is on, Iâ€™ve rebooted but still wonâ€™t find my hearing aids, works fine on my iPhone. Very disappointed as it was one of the reasons for buying a new iPad.', \"doent doesn't work\": \"doent doesn't work\", \"8/5/20 ..my linx quatro failed completely, at only 18 months old,..got back from repairs, working fine and now has streaming ability, which requires android 10 minimum...( but my phone is android 7 ), so I'll be upgrading my three year old phone soon.\": \"8/5/20 ..my linx quatro failed completely, at only 18 months old,..got back from repairs, working fine and now has streaming ability, which requires android 10 minimum...( but my phone is android 7 ), so I'll be upgrading my three year old phone soon.\", 'Good with your own work to make it work': 'Good with your own work to make it work', 'Very disappointed in the app. You set the volume and treble/bass. The wonâ€™t hold the setting. It continuously goes back to the default setting.': 'Very disappointed in the app. You set the volume and treble/bass. The wonâ€™t hold the setting. It continuously goes back to the default setting.', 'De mieux en mieux !': 'Better and better !', \"The connection to my hearing aids from my phone has been lost with the new app. This is really horrible. I've tried downloading three times. It sees the hearing aids but won't connect. Very every every frustrating.\": \"The connection to my hearing aids from my phone has been lost with the new app. This is really horrible. I've tried downloading three times. It sees the hearing aids but won't connect. Very every every frustrating.\", 'ç¢ºã\\x81‹ã\\x81«ä»–ã\\x81®æ–¹ã\\x81Œè¨€ã\\x81£ã\\x81¦ã\\x81„ã‚‹ã‚ˆã\\x81†ã\\x81«ä½¿ã\\x81„ã\\x81¥ã‚‰ã\\x81„ã\\x81¨ã\\x81“ã‚\\x8dã\\x81Œã\\x81‚ã‚Šã\\x81¾ã\\x81™ã€‚ iPhoneã\\x81«ã\\x81»ã\\x81™ã‚‹æ°—ã\\x81Œã\\x81•ã‚‰ã\\x81•ã‚‰ã\\x81ªã\\x81„å½“æ–¹ã\\x81«ã\\x81¨ã\\x81£ã\\x81¦ã\\x81¯ã\\x81‚ã\\x81¾ã‚Šä½¿ã\\x81ˆã\\x81ªã\\x81„ã‚¢ãƒ—ãƒªã\\x81§ã\\x81™ã€‚ ã‚³ãƒ\\x8dã‚¯ãƒˆã‚¯ãƒªãƒƒãƒ—ã\\x81«ï¼•ä¸‡ã\\x81¯ã\\x81ªã\\x81‹ã\\x81ªã\\x81‹.....é›»è©±ã\\x81Œå¤šã\\x81„ã\\x81®ã\\x81§ã‚¢ãƒ³ãƒ‰ãƒ\\xadã‚¤ãƒ‰ã\\x81§ã‚‚ã\\x81¤ã\\x81ªã\\x81Œã‚‹ã‚ˆã\\x81†ã\\x81«ã\\x81ªã‚“ã\\x81¨ã\\x81‹ã\\x81—ã\\x81¦æ¬²ã\\x81—ã\\x81„ã\\x81§ã\\x81™ã€‚': 'ç ¢ ºã ‹ã« ä »–ã ®æ – ¹ã Œè¨ € ã £ ã ¦ã„ ã ‚‹ ã‚ˆã † ã «ä½¿ã„ ã ¥ ã ‚‰ ã„ ã ¨ã “ã‚ ã Œã ‚ã‚Šã ¾ã ™ ã €‚ iPhoneã «ã» ã ™ ã ‚‹ æ ° —ã Œã • ã ‚‰ ã • ã‚ ‰ ã ªã „å½“ æ – ¹ã «ã ¨ã £ ã ¦ã ¯ã‚ ã ¾ã‚Šä½¿ã ˆã ªã „ã‚ ¢ ãƒ — ãƒªã §ã ™ ã € ‚ã‚³ãƒ ã‚¯ãƒˆã‚¯ãƒªãƒƒãƒ — ã« ï¼ • ä¸ ‡ ã ¯ã ªã ‹ã ªã‹ ..... é ›» è © ± ã Œå¤šã „ã ®ã §ã‚ ¢ ãƒ³ãƒ ‰ ãƒã‚¤ãƒ ‰ ã §ã‚‚ã ¤ã ªã Œã ‚‹ ã‚ˆã † ã «ã ªã‚ “ã ¨ã‹ ã —ã ¦æ¬²ã —ã „ã §ã ™ ã €‚', '\"Not connected\" every day or so, but usually reconnects. Running Android 7. I wish the app were designed to run more reliably on other than only select Android phones. Otherwise, the app and aids are fine...very impressed actually.': '\"Not connected\" every day or so, but usually reconnects. Running Android 7. I wish the app were designed to run more reliably on other than only select Android phones. Otherwise, the app and aids are fine...very impressed actually.', 'The app is great .... when it works. Every 1 to 2 weeks it no longer connects to the hearing aids, though my Galaxy S10e says they are connected to the phone and they still work for streaming with the phone.. UPDATE: It now works fine until there is an Android update, when I have to reinstall the app. But I can live with that.': 'The app is great .... when it works. Every 1 to 2 weeks it no longer connects to the hearing aids, though my Galaxy S10e says they are connected to the phone and they still work for streaming with the phone.. UPDATE: It now works fine until there is an Android update, when I have to reinstall the app. But I can live with that.', 'Sehr einfach zu haendeln': 'Very easy to use', 'Habe Erst begonnen': 'Just started', 'Need more information about this product': 'Need more information about this product', 'Too expensive': 'Too expensive', 'Nicht zu verbinden mit Huawei P30 pro': 'Cannot be connected to Huawei P30 pro', 'Wish I could get rid of background noise': 'Wish I could get rid of background noise', \"This is a very poor product. There are several maddening UI issues, but the HUGE problem is that- once you set the parameters you want on the hearing aids - it defaults back to Autosense. Completely defeats the entire purpose of the program. FIX THIS FAST, or I won't keep the hearing aids.\": \"This is a very poor product. There are several maddening UI issues, but the HUGE problem is that- once you set the parameters you want on the hearing aids - it defaults back to Autosense. Completely defeats the entire purpose of the program. FIX THIS FAST, or I won't keep the hearing aids.\", 'The fact that the hearing aids donâ€™t stay connected to the app doesnâ€™t bother me. So what as long as the settings hold. What is an issue is when the settings are made in the app for the TV adapter the settings donâ€™t hold and revert to the maximum level. To the extent additional hearing damage occurs I see a class action on the horizon for Oticon.\\n9/12/20. I may have additional hearing problems because the volume jumps to the highest level when using the TV adapter. Oticon is not very strong in the technology arena for the prices charged.': 'The fact that the hearing aids donâ€™t stay connected to the app doesnâ€™t bother me. So what as long as the settings hold. What is an issue is when the settings are made in the app for the TV adapter the settings donâ€™t hold and revert to the maximum level. To the extent additional hearing damage occurs I see a class action on the horizon for Oticon.\\n9/12/20. I may have additional hearing problems because the volume jumps to the highest level when using the TV adapter. Oticon is not very strong in the technology arena for the prices charged.', 'Couple of issues:\\n1) if my phone is NOT on silent, as soon as I lock it, my hearing aid switches to Autosense. If I am listening to something on my phone (through aids) or when I hang up a phone call, the app \\nswitches my aids back to Autosense. \\n2) after updating software, I lost all my preset remote control settings and havenâ€™t been able to recreate them exactly, since.': 'Couple of issues:\\n1) if my phone is NOT on silent, as soon as I lock it, my hearing aid switches to Autosense. If I am listening to something on my phone (through aids) or when I hang up a phone call, the app \\nswitches my aids back to Autosense. \\n2) after updating software, I lost all my preset remote control settings and havenâ€™t been able to recreate them exactly, since.', 'This has helped me block out my tinnitus quite well. The only suggestion Iâ€™d make is to have the selected sound play continuously when userâ€™s choose to have it repeated. Currently the sound fades out for a couple of seconds and then continues according to however many times the user chooses to repeat it. If someone is attempting to fall asleep, this could wake them up. \\nAlso, a few more sound options would be great too!': 'This has helped me block out my tinnitus quite well. The only suggestion Iâ€™d make is to have the selected sound play continuously when userâ€™s choose to have it repeated. Currently the sound fades out for a couple of seconds and then continues according to however many times the user chooses to repeat it. If someone is attempting to fall asleep, this could wake them up. \\nAlso, a few more sound options would be great too!', 'My iPhone X does not have a button to press so this is useless': 'My iPhone X does not have a button to press so this is useless', 'Constantly disconnects from my hearing aids. I have to keep removing the app and reinstalling it and it takes hours before it finds my hearing aids. They have been updated and have new batteries. The phonak remote by another company that used to exist was much much better. This is useless': 'Constantly disconnects from my hearing aids. I have to keep removing the app and reinstalling it and it takes hours before it finds my hearing aids. They have been updated and have new batteries. The phonak remote by another company that used to exist was much much better. This is useless', 'Hallo finde eure GerÃ¤te super die app ist fast super ðŸ‘\\x8d \\nGenial wÃ¤re es wenn es eine passende UnterstÃ¼tzung fÃ¼r die Apple Watch geb dann gibts 5 Punkte das wÃ¤re sooooo genial \\nPlease Apple Watch app\\nThank you very much': 'Hello think your devices are great, the app is almost great ðŸ ‘\\nIt would be great if there was a suitable support for the Apple Watch then there are 5 points that would be sooooo great\\nPlease Apple Watch app\\nThank you very much', 'Gut. Aber verliert oft die Verbindung zu den HÃ¶rhilfen. Seit letztem iPhone Update zeigt Bluetooth nicht mehr die gekoppelten HÃ¶rgerÃ¤te an und sucht stÃ¤ndig neue GerÃ¤te. Verbraucht unnÃ¶tig Akku.': 'Well. But often loses contact with the hearing aids. Since the last iPhone update, Bluetooth no longer shows the paired hearing aids and is constantly looking for new devices. Uses battery unnecessarily.', \"I just installed this updated version expecting it to reward me with ALL the features that are displayed here on the sight, only to be disappointed that all of the higher level functions are all greyed in the phone apps hearing aid application & not available to me. Instead what I get is the same as the older simpler app with no change at all. The hearing aids are Rexton Sig 8's, what's the issue?\": \"I just installed this updated version expecting it to reward me with ALL the features that are displayed here on the sight, only to be disappointed that all of the higher level functions are all greyed in the phone apps hearing aid application & not available to me. Instead what I get is the same as the older simpler app with no change at all. The hearing aids are Rexton Sig 8's, what's the issue?\", 'Updated review as of 27 Jan 20. Seems a recent revision cured some ills. So, rating has improved. Older: Piss poor. Now that Android P Beta is out, this app is further behind. Edit: now at Android Q. This app is a dinosaur.': 'Updated review as of 27 Jan 20. Seems a recent revision cured some ills. So, rating has improved. Older: Piss poor. Now that Android P Beta is out, this app is further behind. Edit: now at Android Q. This app is a dinosaur.', \"Har nu haft den ibrug ca. 1 mÃ¥ned. Det var let at installere og parre hÃ¸reapparater. Fordelen ved app'en er den lette og prÃ¦cise skift mellem funktioner og lydbilled.\": 'Has now had it in use approx. 1 month. It was easy to install and pair hearing aids. The advantage of the app is the easy and precise switching between functions and sound image.', 'So far wonderful experience': 'So far wonderful experience', 'Application trÃ¨s instable qui se dÃ©connecte rÃ©guliÃ¨rement et qui ne permet pas de gÃ©rer efficacement des appareils auditifs.': 'Very unstable application which disconnects regularly and which does not allow effective management of hearing aids.', 'This app surprised me with how easy and how well it works.': 'This app surprised me with how easy and how well it works.', 'Infelizmente, o aplicativo nÃ£o conecta no iOs 13.3, o que Ã© uma pena, hÃ¡ dois meses sem atualizaÃ§Ãµes. ðŸ˜•': 'Unfortunately, the app does not connect to iOs 13.3, which is a shame, there have been no updates for two months. ðŸ˜ •', 'Very buggy Bluetooth. If you turn off media or phone have to Uninstaller and reinstall to get it working again. Nerds more options for which notifications you want. Need ability to not auto start media when these activate.': 'Very buggy Bluetooth. If you turn off media or phone have to Uninstaller and reinstall to get it working again. Nerds more options for which notifications you want. Need ability to not auto start media when these activate.', 'I have to go to the app every few hours to \"boost up\" the volume, then it fades down and i have to move the slider back and forth to get the volune back up.': 'I have to go to the app every few hours to \"boost up\" the volume, then it fades down and i have to move the slider back and forth to get the volune back up.', \"Stops when your screen times out. Who develops a sound app that doesn't continue when your screen cuts off? That's crazy!\": \"Stops when your screen times out. Who develops a sound app that doesn't continue when your screen cuts off? That's crazy!\", 'It is comical to think I spent $5000 for this dud. \\nConnecting to the app is a daily battle generally solved only by rebooting my iphone, or ipad.\\nIf it were $500, I would not complain, but I want my $5000 back.': 'It is comical to think I spent $5000 for this dud. \\nConnecting to the app is a daily battle generally solved only by rebooting my iphone, or ipad.\\nIf it were $500, I would not complain, but I want my $5000 back.', 'Gracias de antemano por facilitarme la vida, pero hay algunas cosas mejorables, por ejemplo siempre que suena una notificaciÃ³n se desconfigura el ambiente tengo programado y pasa automÃ¡ticamente a AutoSense.': 'Thanks in advance for making my life easier, but there are some things that could be improved, for example whenever a notification sounds, the environment I have programmed is deconfigured and it automatically goes to AutoSense.', \"Can't get Resound Assist. Only can get 1 program. My Resound is only good for volume control.\": \"Can't get Resound Assist. Only can get 1 program. My Resound is only good for volume control.\", 'Not adjusting volume': 'Not adjusting volume', \"Basically it's nonfunctional. Junk app my hearing aids are laying right on my new android phone. Hearing aids have brand new batteries . This app did work before part time never been happy with app .\": \"Basically it's nonfunctional. Junk app my hearing aids are laying right on my new android phone. Hearing aids have brand new batteries . This app did work before part time never been happy with app .\", 'Very good.': 'Very good.', 'Constantly having to restart the app as it loses connectivity with one of the hearing aids': 'Constantly having to restart the app as it loses connectivity with one of the hearing aids', 'Drivea&draivBis thissaiv': 'Drivea&draivBis thissaiv', 'Die app verbindet sich zwischen Galaxy S9+ und Signia Pure Charge&Go 3x. Leider funktioniert das streamen oder telefonieren mittels Bluetooth nicht, was aber im Prospekt als Funktion aufgelistet ist. Des weiteren fehlt mir ein equalizer, wÃ¤re sehr sinnvoll beim Musik hÃ¶ren.': 'The app connects between the Galaxy S9 + and Signia Pure Charge & Go 3x. Unfortunately streaming or phone calls via Bluetooth does not work, but this is listed as a function in the brochure. Furthermore, I am missing an equalizer, which would be very useful when listening to music.', 'Jammer dat de verbinding elke keer weer van zijn Bluetooth afgaat, verbinden duurt vaak meer dan een minuut en dat is hinderlijk in het gebruik als je Hoortoestellen opnieuw in wil stellen.': 'It is a pity that the connection goes off its Bluetooth every time, connecting often takes more than a minute and that is a nuisance to use if you want to reset hearing aids.', 'Leicht zu bedienen.': 'Easy to use.', \"Ð\\xadÑ‚Ð¾ Ð¿Ñ€Ð¸Ð»Ð¾Ð¶ÐµÐ½Ð¸Ðµ Ð»ÐµÐ³ÐºÐ¾ Ñ\\x81Ñ‚Ð°Ð½Ð¾Ð²Ð¸Ñ‚Ñ\\x81Ñ\\x8f Ð½Ð° Ñ\\x81Ð¼Ð°Ñ€Ñ‚Ñ„Ð¾Ð½ Ñ\\x81 Ñ\\x81Ð¾Ð¾Ñ‚Ð²ÐµÑ‚Ñ\\x81Ð²ÑƒÑŽÑ‰Ð¸Ð¼ ÑƒÑ€Ð¾Ð²Ð½ÐµÐ¼ Android Ð¸ Bluetooth 4.2. Ð\\x9dÐ¾!!! Ð•Ñ\\x81Ð»Ð¸ Ñ‡ÐµÑ€ÐµÐ· Ð¿Ñ€Ð¸Ð»Ð¾Ð¶ÐµÐ½Ð¸Ðµ Ð¾Ð±Ð½Ð¾Ð²Ð¸Ñ‚ÑŒ Ñ\\x81Ð»ÑƒÑ…Ð¾Ð²Ñ‹Ðµ Ð°Ð¿Ð¿Ð°Ñ€Ð°Ñ‚Ñ‹ Ð´Ð¾ Ð¿Ð¾Ñ\\x81Ð»ÐµÐ´Ð½Ð¹ Ð²ÐµÑ€Ñ\\x81Ð¸Ð¸, Ñ‚Ð¾ Ð¾Ð½Ð¸ ÑƒÐ¶Ðµ Ð½Ðµ Ñ\\x81Ð¾Ð¿Ñ€Ñ\\x8fÐ³Ð°ÑŽÑ‚Ñ\\x81Ñ\\x8f Ñ\\x81 ÑƒÑ\\x81Ñ‚Ñ€Ð¾Ð¹Ñ\\x81Ñ‚Ð²Ð¾Ð¼, Bluetooth ÐºÐ¾Ñ‚Ð¾Ð¾Ð³Ð¾ Ð½Ð¸Ð¶Ðµ 5!!! Ð¢Ð¾ ÐµÑ\\x81Ñ‚ÑŒ, Ð¿Ð¾Ñ\\x81Ð»Ðµ Ð¾Ð±Ð½Ð¾Ð²Ð»ÐµÐ½Ð¸Ñ\\x8f Ð¡Ð\\x90, Ñ\\x8f Ð½Ðµ Ð¼Ð¾Ð³Ñƒ Ð¿Ð¾Ð»ÑŒÐ·Ð¾Ð²Ð°Ñ‚ÑŒÑ\\x81Ñ\\x8f Ð¿Ñ€Ð¸Ð»Ð¾Ð¶ÐµÐ½Ð¸ÐµÐ¼ Ð½Ð° Ñ\\x81Ð²Ð¾ÐµÐ¼ Ñ‚ÐµÐ»ÐµÑ„Ð¾Ð½Ðµ Ñ\\x81 Bluetooth 4.2. Ð\\xadÑ‚Ð¾ Ð½Ð¸Ð³Ð´Ðµ Ð½Ðµ Ð¾Ð³Ð¾Ð²Ð°Ñ€Ð¸Ð²Ð°ÐµÑ‚Ñ\\x81Ñ\\x8f. There is a new version of software for Quattro 961, but it doesn't operate ( requare to recharge HA while it has full battery).\": 'ÐÑ‚Ð¾ Ð¿Ñ € Ð¸Ð »Ð¾Ð¶ÐµÐ½Ð¸Ðµ Ð» ÐµÐ³ÐºÐ Ñ Ñ‚Ð ° Ð½Ð¾Ð²Ð¸Ñ‚Ñ Ñ Ð½Ð ° Ñ Ð¼Ð ° Ñ € Ñ‚Ñ „Ð¾Ð½ Ñ Ñ Ð¾Ð¾Ñ‚Ð²ÐµÑ‚Ñ Ð²ÑƒÑŽÑ ‰ Ð¸Ð¼ ÑƒÑ € Ð¾Ð²Ð½ÐµÐ¼ Android Ð¸ Bluetooth 4.2. Ð Ð¾ !!! Ð • Ñ Ð »Ð¸ Ñ ‡ ÐµÑ € ÐµÐ · Ð¿Ñ € Ð¸Ð» Ð¾Ð¶ÐµÐ½Ð¸Ðµ Ð¾Ð ± Ð½Ð¾Ð²Ð¸Ñ‚ÑŒ Ñ Ð »ÑƒÑ… Ð¾Ð²Ñ‹ Ðµ Ð ° Ð¿Ð¿Ð ° Ñ € Ð ° Ñ‚Ñ ‹Ð´Ð¾ Ð¿Ð¾Ñ Ð» ÐµÐ´Ð½Ð¹ Ð²ÐµÑ € Ñ Ð¸Ð¸, Ñ‚Ð¾ Ð¾Ð½Ð¸ ÑƒÐ¶Ðµ Ð½Ðµ Ñ Ð¾Ð¿Ñ € Ñ Ð³Ð ° ÑŽÑ ‚Ñ Ñ Ñ ÑƒÑ Ñ‚Ñ € Ð¾Ð¹Ñ Ñ‚Ð²Ð¾Ð¼, Bluetooth ÐºÐ¾Ñ‚Ð¾Ð¾Ð³Ð¾ Ð½Ð¸Ð¶Ðµ 5 !!! Ð ¢ Ð¾ ÐµÑ Ñ‚ÑŒ, Ð¿Ð¾Ñ Ð »Ðµ Ð¾Ð ± Ð½Ð¾Ð²Ð» ÐµÐ½Ð¸Ñ Ð¡Ð, Ñ Ð½Ðµ Ð¼Ð¾Ð³Ñƒ Ð¿Ð¾Ð »ÑŒÐ · Ð¾Ð²Ð ° Ñ‚ÑÑÑ € Ð¸Ð »Ð¾Ð¶ÐµÐ½Ð¸ÐµÐ¼ Ð½Ð ° Ñ Ð²Ð¾ÐµÐ¼ Ñ‚ÐµÐ» ÐµÑ „Ð¾Ð½Ðµ Ñ Bluetooth 4.2. ÐÑ‚Ð¾ Ð½Ð¸Ð³Ð´Ðµ Ð½Ðµ Ð¾Ð³Ð¾Ð²Ð ° Ñ € Ð¸Ð²Ð ° ÐµÑ‚Ñ Ñ. There is a new version of software for Quattro 961, but it does not operate (requires to recharge HA while it has full battery).', 'éŸ³é‡\\x8fã\\x81¨ã‚µã‚¦ãƒ³ãƒ‰ãƒ\\x90ãƒ©ãƒ³ã‚¹ã‚’è¨\\xadå®šã\\x81—ã\\x81¦ã‚‚ã\\x81™ã\\x81\\x90ã\\x81«æ¨™æº–ã\\x81‚ã\\x81Ÿã\\x81„ã\\x81«æˆ»ã\\x81£ã\\x81¦ã\\x81—ã\\x81¾ã\\x81†ã€‚': \"éŸ³é ‡ ã ¨ã‚µã‚¦ãƒ³ãƒ ‰ ãƒ ãƒ © ãƒ³ã‚¹ã‚'è¨å®šã —ã ¦ã‚‚ã ™ ã ã «æ¨ ™ æº – ã ‚Ã Ÿã„ ã «æˆ» ã £ ã ¦ã —ã ¾ã † ã € ‚\", 'Ik heb n demo versie? Hoe krijg ik de normale?': 'I have a demo version? How do I get normal?', 'SHOPPING CENTER NORTE': 'SHOPPING CENTER NORTE', 'Mit dem App., dass seit Anfang an super funktioniert, sind die neuen HÃ¶rgerÃ¤te noch besser. \\nIch wÃ¼rde mir noch eine LÃ¶sung wÃ¤hrend der Autofahrt wÃ¼nschen, da dann das Auto die Bluetoothveebindung belegt und das App dann nicht verwendet werden kann.': 'The new hearing aids are even better with the app that has worked great from the start.\\nI would still like a solution while driving, as the car then occupies the Bluetooth connection and the app cannot be used.', 'Fungerar bra': 'Works well', 'Brukar inte recensera appar men kÃ¤nde mig tvungen att gÃ¶ra balansen pÃ¥ recensionerna lite mer rÃ¤ttvis. \\nBra funktioner och mÃ¶jligheter Ã¤ven vÃ¤ldigt tydliga reglage.': 'Do not usually review apps but felt compelled to do the balance of the reviews a little more fairly.\\nGood functions and possibilities are also very clear controls.', 'Nie wieder - funktionieren nicht einwandfrei - schalten unkontrolliert ab - Handy GerÃ¤te Verbindung ebenfalls nicht konstant gut - telefonische Reklamationserledigung eine unertrÃ¤gliche Zumutung.': 'Never again - do not work properly - switch off uncontrollably - mobile phone device connection also not consistently good - telephone complaint handling is an unbearable imposition.', 'Lovely': 'Lovely', 'Ich finde die HÃ¶rgerÃ¤te von nuear (starkey) Klasse, aber die App passt vom technischen Fortschritt Ã¼berhaupt nicht dazu. Von UX (User Experience) haben die Programmierer wohl noch nie etwas gehÃ¶rt, auÃŸerdem ist die App extrem langsam im Vergleich zu anderen Konkurrenz Produkten. Des Weiteren hÃ¤ngen sich die HÃ¶rgerÃ¤te und Organe oft auf. Keine Empfehlung meinerseits. Schade, den die HÃ¶rgerÃ¤te sind sehr gut. Wann gibt es hier eine neue Version?': \"I think the hearing aids are of nuear (starkey) class, but the app doesn't match them at all because of technical progress. The programmers have probably never heard of UX (User Experience), and the app is extremely slow compared to other competing products. Furthermore, the hearing aids and organs often hang up. No recommendation on my part. It's a shame the hearing aids are very good. When will there be a new version here?\", \"I'm install this awesome app in order to handle my hearing aid, but unfortunately I'm disappointed that it dissent works with my android Huwawi P30 lite!!! I'm trying several times to reinstall it, but also doesn't work I hope to help me what is the problem, I'm already send email to you for support with no response\": \"I'm install this awesome app in order to handle my hearing aid, but unfortunately I'm disappointed that it dissent works with my android Huwawi P30 lite!!! I'm trying several times to reinstall it, but also doesn't work I hope to help me what is the problem, I'm already send email to you for support with no response\", 'Novo celular mas nada de conectar meu celular moto g8 Power xt2041 bluetooth 5.0 e Android 10 mais nem Ã¡udio direito e agora nem o controlr de volume resoud socorro ... Ele disse que meu celular e incompatÃ\\xadvel mais na verdade e o aparelho dele e incompatÃ\\xadvel com a Android resoud nunca mais .....lolo troco iate por um melhor ...': 'New cell phone but nothing to connect my cell phone moto g8 Power xt2041 bluetooth 5.0 and Android 10 more nor right audio and now nor the volume control resoud help ... He said that my cell is incompatible more in fact and his device and incompatible with Android resoud never again ..... lolo exchange yacht for a better ...', \"Update: Still not working deently. Old: Unbelivable. 6 months to correct minor things an it simply hangs after connecting with the hear aids. I I'm seriously thinking to return your very expensive product and ask for indemnity.\": \"Update: Still not working deently. Old: Unbelivable. 6 months to correct minor things an it simply hangs after connecting with the hear aids. I I'm seriously thinking to return your very expensive product and ask for indemnity.\", 'I have mild loss in one ear and moderate in the other. Iâ€™ve been tracking for a couple decades via audiologists. Results from the app as graphed are accurate enough. However, it says my hearing is normal with no loss. That is a faulty conclusion of the app.': 'I have mild loss in one ear and moderate in the other. Iâ€™ve been tracking for a couple decades via audiologists. Results from the app as graphed are accurate enough. However, it says my hearing is normal with no loss. That is a faulty conclusion of the app.', 'Seems the app is using quite a bit of Battery. This is of course Not very good.\\nThere are connection issues. Either with the app or with the general BT conn to the hearing devices.': 'Seems the app is using quite a bit of Battery. This is of course Not very good.\\nThere are connection issues. Either with the app or with the general BT conn to the hearing devices.', 'Ich habe leider vergeblich probiert, mich zu registrieren. Leider klappte es nicht. Dann wollte ich mein Passwort zurÃ¼cksetzen, man schrieb, ich bekÃ¤me eine email, darauf warte ich vergeblich. \\nDer Test ist super, genau fÃ¼r mein GehÃ¶r. Ich wollte mich halt gerne bei der Health App auf meinem Handy registrieren. Aber wie gesagt leider vergeblich, schade schade. Ich habe nirgendwo Einstellungen gesehen wo ich irgendwas Ã¤ndern kann oder zurÃ¼cksetzen kann deswegen versuche ich hier ein Feedback zu bekommen, herzlichen Dank.': \"Unfortunately, I tried in vain to register. Unfortunately it didn't work. Then I wanted to reset my password, they wrote that I would receive an email, I wait for that in vain.\\nThe test is great, right for my hearing. I just wanted to register with the health app on my mobile phone. But as I said, unfortunately in vain, too bad. I haven't seen any settings anywhere where I can change anything or reset something, so I'm trying to get feedback here, thank you very much.\", \"Thank you for your quick reply. Well I was hoping to stream from my Samsung Note 10+, but this app says not compatible. They are Linx Quattro Pro 961, and the phone has Android 10 with Bluetooth 5. Whats the trick. Maybe, I'll get Oticon.\": \"Thank you for your quick reply. Well I was hoping to stream from my Samsung Note 10+, but this app says not compatible. They are Linx Quattro Pro 961, and the phone has Android 10 with Bluetooth 5. Whats the trick. Maybe, I'll get Oticon.\", 'Good. Works well!': 'Good. Works well!', \"It's brilliant and helps a lot.\": \"It's brilliant and helps a lot.\", 'Nach dem letzten Update verbindet sich die App nicht mehr mit den HÃ¶rgerÃ¤ten. Auch Neuinstallation bringt nichts. Nicht wirklich gut...!': 'After the last update, the app no \\u200b\\u200blonger connects to the hearing aids. Reinstallation does not help either. Not really good...!', \"This app needs work. It keeps losing connection with my hearing aids. I have to keep on force stopping the app in order for it to work. Update. I had to get a new phone. Had a Samsung 9 plus. Now have the Note 20 Ultra. Updated this app and now I don't have getting the phone calls through my hearing aids!\": \"This app needs work. It keeps losing connection with my hearing aids. I have to keep on force stopping the app in order for it to work. Update. I had to get a new phone. Had a Samsung 9 plus. Now have the Note 20 Ultra. Updated this app and now I don't have getting the phone calls through my hearing aids!\", 'ÐžÑ‚Ð²Ñ€Ð°Ñ‚Ð¸Ñ‚ÐµÐ»ÑŒÐ½Ð¾! Ð\\xa0Ð°Ð·Ñ€Ð°Ð±Ð¾Ñ‚Ñ‡Ð¸ÐºÐ¸, Ñ\\x81Ð´ÐµÐ»Ð°Ð¹Ñ‚Ðµ, Ñ‡Ñ‚Ð¾Ð±Ñ‹ Ð¼Ð½Ðµ Ð½Ðµ Ð¿Ñ€Ð¸Ñ…Ð¾Ð´Ð¸Ð»Ð¾Ñ\\x81ÑŒ ÐºÐ°Ð¶Ð´Ñ‹Ð¹ Ñ€Ð°Ð· Ð¿Ð¾-Ð½Ð¾Ð²Ð¾Ð¼Ñƒ Ñ\\x81Ð¾Ð¿Ñ€Ñ\\x8fÐ¶Ð°Ñ‚ÑŒ Ð°Ð¿Ð¿Ð°Ñ€Ð°Ñ‚Ñ‹ Ñ\\x81 ÑƒÑ\\x81Ñ‚Ñ€Ð¾Ð¹Ñ\\x81Ñ‚Ð²Ð¾Ð¼! (Huawei P20 lite)': 'ÐžÑ‚Ð²Ñ € Ð ° Ñ‚Ð¸Ñ‚ÐµÐ »ÑŒÐ½Ð¾! Ð ° Ð · Ñ € Ð ° Ð ± Ð¾Ñ‚Ñ ‡ Ð¸ÐºÐ¸, Ñ Ð´ÐµÐ »Ð ° Ð¹Ñ‚Ðµ, Ñ ‡ Ñ‚Ð¾Ð ± Ñ‹ Ð¼Ð½Ðµ Ð½Ðµ Ð¿Ñ € Ð¸Ñ… Ð¾Ð´Ð¸Ð »Ð¾Ñ ÑŒ ÐºÐ ° Ð¶Ð´Ñ‹ Ð¹ Ñ € Ð ° Ð · Ð¿Ð¾-Ð½Ð¾Ð²Ð¾Ð¼Ñƒ Ñ Ð¾Ð¿Ñ € Ñ Ð¶Ð ° Ñ‚ÑŒ Ð ° Ð¿Ð¿ Ð ° Ñ € Ð ° Ñ‚Ñ ‹Ñ ÑƒÑ Ñ‚Ñ € Ð¾Ð¹Ñ Ñ‚Ð²Ð¾Ð¼! (Huawei P20 lite)', 'Fa pena': 'It hurts', 'App works as described. But doesn\\'t have and exit, after starting and making adjustment. Have to close through Android Normally and app when you use the back button you will see a \"close app\" or it will exit it with the back button. This app you have to open close all to close. It will gives the impression that the Favorite setting may not be saved.': 'App works as described. But doesn\\'t have and exit, after starting and making adjustment. Have to close through Android Normally and app when you use the back button you will see a \"close app\" or it will exit it with the back button. This app you have to open close all to close. It will gives the impression that the Favorite setting may not be saved.', 'Me esta ayudando': 'Is helping me', 'Alle zelf voorgeprogrammeerde programmaâ€™s die door de audicien zijn ingeladen zijn er allemaal uit. Dit vanwege gehoorverlies en tinnitus. Waardeloos dus. Alles is door elkaar gegooid. Voorheen een zeer tevreden gebruiker van de app.': 'All self-programmed programs that have been loaded by the hearing care professional have all been removed. This because of hearing loss and tinnitus. So worthless. Everything is jumbled. Previously a very satisfied user of the app.', 'Leider kein Symbol fÃ¼r die Maske, auch nicht nach dem deinstallieren und neu Installieren.': 'Unfortunately no symbol for the mask, not even after uninstalling and reinstalling.', 'LÃ¤uft nach Anfangsstadium.': 'Runs at the beginning stage.', 'My user controls went away! My main reason for using this app was having control over MY hearing devices. No longer can control direction. What the hell was it hurting, why remove it? Guess next time I will have to buy aids from a company that understands these things are MINE and I expect to have full control over them!': 'My user controls went away! My main reason for using this app was having control over MY hearing devices. No longer can control direction. What the hell was it hurting, why remove it? Guess next time I will have to buy aids from a company that understands these things are MINE and I expect to have full control over them!', 'ì\\x9d´ê±¸ë¡œ ì˜ˆì\\xa0„ì—\\x90 ìžˆë\\x8d˜ ì\\x9d´ëª… ì‚¬ë\\x9d¼ì¡ŒìŠµë‹ˆë‹¤. ì‹\\xa0ê¸°í•˜ê²Œ ì§„ì§œ íš¨ê³¼ ìžˆì–´ìš”': 'ì ´ê ± ¸ë¡œ ì˜ˆì „ì— ìžˆë ˜ ì ´ëª… ì‚¬ë ¼ì¡ŒìŠµë‹ ˆë ‹¤. ì ‹ê¸ ° í • ˜ê²Œ ì§„ ì§œ íš¨ê³¼ ìžˆì – ´ìš ”', \"I am unable to reinstall the app again, once it's gone by itself you simply can't use it for the seimems easy Tek Bluetooth\": \"I am unable to reinstall the app again, once it's gone by itself you simply can't use it for the seimems easy Tek Bluetooth\", 'Perfect.': 'Perfect.', 'ðŸ‘\\x8dðŸ‘\\x8dðŸ‘\\x8dðŸ‘\\x8dðŸ‘\\x8d': '‘đŸ‘ ÐŸ ‘đ‘ đŸ ‘', 'No matter what I do, your \"new\" app will not recognize my Phonak hearing aids. Go back to the old app. It didn\\'t do much, but it worked.': 'No matter what I do, your \"new\" app will not recognize my Phonak hearing aids. Go back to the old app. It didn\\'t do much, but it worked.', 'I love trulink easy to use': 'I love trulink easy to use', 'The change to new version was quite abrupt. No really need the required GPS for location it should remain as an option not as currently. Recommend save last volume for last used program. Do not reset to zero after disconnect. The previous version was easier to handle with the program semicircle display.': 'The change to new version was quite abrupt. No really need the required GPS for location it should remain as an option not as currently. Recommend save last volume for last used program. Do not reset to zero after disconnect. The previous version was easier to handle with the program semicircle display.', 'Type dappareils : Linx 2961 Trench langage please Tank you': \"Type d'appareil : Linx 2961 Trench language please Thank you\", 'Please put the Phone Mic option back on the app. I used it constantly when watching tv with others. I put the app in phone mic mode and put my phone by the tv speaker and could hear the show perfectly, without cranking my hearing aids volume or the tv volume so much that others could not watch with me.  Very disappointed that the phone mic is gone. New app looks good but worthless to me now.': 'Please put the Phone Mic option back on the app. I used it constantly when watching tv with others. I put the app in phone mic mode and put my phone by the tv speaker and could hear the show perfectly, without cranking my hearing aids volume or the tv volume so much that others could not watch with me.  Very disappointed that the phone mic is gone. New app looks good but worthless to me now.', 'Leider scheint es auch Verbindungsprobleme  oder Sendeeinheit den HÃ¶rgerÃ¤ten zu geben da schon wenige Zentimeter von den HÃ¶rgerÃ¤ten entfernt bricht die Verbindung ab. Und jedesmal muss man sich neu verbinden um zu telefonieren oder so.\\nUnd warum bekomme alle die hier was aktuelles schreiben vom Entwickler antworten die Vom letztem Jahr zurÃ¼ckliegen Antworten !!!!!': 'Unfortunately, there also seem to be problems with the connection or the transmitter unit to the hearing aids, as the connection breaks off just a few centimeters away from the hearing aids. And every time you have to reconnect to make a call or something.\\nAnd why do all those who write something up-to-date here from the developer answer the answers from last year !!!!!', \"Wasn't what I expected at all. I didn't want more noises, I wanted less sounds.\": \"Wasn't what I expected at all. I didn't want more noises, I wanted less sounds.\", 'ã\\x81¨ã\\x81¦ã‚‚ãƒªãƒ©ãƒƒã‚¯ã‚¹ã\\x81§ã\\x81\\x8dã\\x81¾ã\\x81—ã\\x81Ÿã€‚': 'ã ¨ã ¦ã‚‚ãƒªãƒ © ãƒƒã‚¯ã‚¹ã §ã ã ¾ã —ã Ÿã € ‚', \"Nach der letzten Aktualisierung findet die App die HG's nicht. Und das Handy findet auch keine Anderen Bluetooth GerÃ¤te mehr. Das LÃ¶schen der Benutzerdaten und des Caches incl. Neustart des Handy reicht nicht. Erst Deinstallation und Neustart, und das Handy findet wieder Bluetooth GerÃ¤te. Sowohl beim Eigenen als auch bei Kundenhandy. B. P..... HÃ¶rgerÃ¤teakustiker\": \"After the last update, the app cannot find the HG's. And the cell phone cannot find any other Bluetooth devices either. Deleting the user data and the cache including restarting the cell phone is not enough. First uninstall and restart, and the mobile phone will find Bluetooth devices again. Both with your own and with customer cell phones. B. P ..... hearing care professional\", \"It continuously drops my hearing aids. Uninstalled and reinstalled it without any success. I'm using the battery operated models. Attempted the rechargeable but they would not keep the charge. Although the app performed better. They do locate and connect to the hearing aids. But it freezes/locks up after that.\": \"It continuously drops my hearing aids. Uninstalled and reinstalled it without any success. I'm using the battery operated models. Attempted the rechargeable but they would not keep the charge. Although the app performed better. They do locate and connect to the hearing aids. But it freezes/locks up after that.\", '... leider mit HUAWEI P30 Pro nicht mehr mÃ¶glich.... sehr schade, denn ich war mit der App mehr als zufrieden': '... unfortunately no longer possible with the HUAWEI P30 Pro .... a shame, because I was more than satisfied with the app', 'DÃ©sastreux, bruits de fond, parasites': 'Disastrous, background noise, interference', 'service, daily installs can reach 3000+. Ping me at Skype: +8618990290838  / Whatsapp:+8618990290838. Every one can get a test promtion for 3 days now!': 'service, daily installs can reach 3000+. Ping me at Skype: +8618990290838  / Whatsapp:+8618990290838. Every one can get a test promtion for 3 days now!', 'Bought a high dollar â€œtop of the lineâ€\\x9d model. This guide does not even identify the model, nor recognize the hearing professional. Wouldnâ€™t recommend wasting your time with this app.': 'Bought a high dollar â€œtop of the lineâ€\\x9d model. This guide does not even identify the model, nor recognize the hearing professional. Wouldnâ€™t recommend wasting your time with this app.', 'Die Bluetooth Verbindung zu den Silk NX ist nicht immer gegeben. Kein Ton beim Batteriecheck. Keine Ã„nderung der LautstÃ¤rke oder Frequenz. Die Anzeige â€žTelefon zu laut/leiseâ€œ nervt. Gute Fernsteuerung sieht anders aus.': 'The Bluetooth connection to the Silk NX is not always available. No sound during battery check. No change in volume or frequency. The display â € œTelephone too loud / quietâ € is annoying. Good remote control looks different.', 'After updating to latest release, can no longer login to my account. Nor can I create a new one. It always responds with a message that something went wrong at their end.': 'After updating to latest release, can no longer login to my account. Nor can I create a new one. It always responds with a message that something went wrong at their end.', 'I think all Resound hearing aids should be allowed for Resound Smart 3D because some people are not allowed to leave and get hearing aids fix during coronavirus at this moment and it can be a long time to get it fix.': 'I think all Resound hearing aids should be allowed for Resound Smart 3D because some people are not allowed to leave and get hearing aids fix during coronavirus at this moment and it can be a long time to get it fix.', 'Mis alleen ondersteuning voor de Apple Watch.   Het zou fijn zijn als de batterijniveau te zien is op de Apple Watch als complicatie.': 'Only miss support for the Apple Watch. It would be nice if the battery level could be seen on the Apple Watch as a complication.', 'Einfache Handhabung und dadurch sehr nutzerfreundlich!': 'Simple handling and therefore very user-friendly!', 'Thanks for the quick reply. It working ! Great! But only reinstalling seemed to make it work. Using S10 note+.': 'Thanks for the quick reply. It working ! Great! But only reinstalling seemed to make it work. Using S10 note+.', 'No consigo enlazar mi telÃ©fono con los audÃ\\xadfonos, un desastre, tanto el telÃ©fono como los audÃ\\xadfonos deberÃ\\xadan soportar la app': \"I can't pair my phone with the headphones, a disaster, both the phone and the headphones should support the app\", 'App falha ao informar a duraÃ§Ã£o da bateria. A bateria estÃ¡ no fim e quando ligo o app, ele informa que estÃ¡ em 100%.': 'App fails to report battery life. The battery is low and when I turn on the app, it says it is at 100%.', 'Det virker vÃ¦ldig fint.': 'It works very well.', 'It is echoing a lot and also switches off Bluetooth from one minute to next .  It would be good if you could have it on all my devices phone I pad and computer and also the Apple Watch. It is also making clicking noises without doing anything myself': 'It is echoing a lot and also switches off Bluetooth from one minute to next .  It would be good if you could have it on all my devices phone I pad and computer and also the Apple Watch. It is also making clicking noises without doing anything myself', 'â€¢ Have had hearing aids for (3) years\\nâ€¢ App constantly disconnects daily ðŸ˜¡\\nâ€¢ Re-booting app is waste of time\\nâ€¢ App is (4) years old\\nâ€¢ 2 stars out/5.. app review shows customers are not happyðŸ¤® They never fix it?\\nâ€¢ Donâ€™t waste your $$$$/time \\nâ€¢ Huge disappointment.. never again ðŸ˜¡': 'â€¢ Have had hearing aids for (3) years\\nâ€¢ App constantly disconnects daily ðŸ˜¡\\nâ€¢ Re-booting app is waste of time\\nâ€¢ App is (4) years old\\nâ€¢ 2 stars out/5.. app review shows customers are not happyðŸ¤® They never fix it?\\nâ€¢ Donâ€™t waste your $$$$/time \\nâ€¢ Huge disappointment.. never again ðŸ˜¡', 'Connection issues are numerous. A detailed written manual would at least help a little. Very poor communication': 'Connection issues are numerous. A detailed written manual would at least help a little. Very poor communication', 'My app and hearing aids finally allow me to answer my android phone without having to disable them to be able to converse. ðŸ™‚ðŸ‘\\x8d': 'My app and hearing aids finally allow me to answer my android phone without having to disable them to be able to converse. ðŸ™‚ðŸ‘\\x8d', 'LÃ¤st sich wirklich gut einstellen': 'Adjusts really well', 'Alles ok': 'Everything OK', 'Es erscheint manchmal eine Meldung\" HandylautStÃ¤rke zu hoch\". Was hast das mit meinen HÃ¶rgerÃ¤teakustiker zu tun? Sonst ok.': 'Sometimes a message \"Cell phone volume too high\" appears. What does this have to do with my hearing care professional? Otherwise ok.', 'Looses contact with buds. Spatial settings not stored.': 'Looses contact with buds. Spatial settings not stored.', 'Aceptable pero poco mÃ¡s. Hay que iniciarla de nuevo cada vez que el mÃ³vil entra en reposo, deberÃ\\xada quedar latente en memoria. Controles de sonido muy simples,no diferencia entre oÃ\\xaddos. Para salir del paso, se le puede sacar muchÃ\\xadsimo mÃ¡s partido.': 'Acceptable but little more. It must be started again every time the mobile goes to sleep, it should remain latent in memory. Very simple sound controls, no difference between ears. To get out of the way, you can get a lot more out of it.', 'Die App ist einfach zu bedienen und extrem funktional, z.B. bietet sie einem an, einen Termin beim lokalen Akustiker per Klick in den Kalender zu Ã¼bernehmen. Klasse!': 'The app is easy to use and extremely functional, e.g. she offers you the option of adding an appointment with the local acoustician to the calendar with a click. Class!', 'Super Service': 'Super Service', '11æ—¥(ç\\x81«)ã\\x81‹ã‚‰ä½¿ã\\x81ˆã\\x81ªã\\x81„ã€‚æ—©ã\\x81\\x8få…ƒã\\x81«æˆ»ã\\x81—ã\\x81¦â\\x9d•': '11æ— ¥ (ç «) ã‹ ã ‚‰ ä½¿ã ˆã ªã„ ã € ‚æ— © ã å… ƒã« æˆ »ã —ã ¦â •', 'Error comes up on the main screen when app is opened. Please fix as I need this back for my hearing aids.': 'Error comes up on the main screen when app is opened. Please fix as I need this back for my hearing aids.', 'Excelente app': 'Excelente app', 'Quite convenient and easy-to-use!': 'Quite convenient and easy-to-use!', 'If you adjust any settings it only last \\nFor maybe two hours. \\nI hate that no support.\\nRoof you': 'If you adjust any settings it only last \\nFor maybe two hours. \\nI hate that no support.\\nRoof you', \"Awful. Wasted hours and still not installed properly. Doesn't even deserve one star\": \"Awful. Wasted hours and still not installed properly. Doesn't even deserve one star\", 'Eigentlich nicht zu verwenden. Springt sofort wieder ins Auto Programm, wenn man das Smartphone benutzt oder irgendeine Nachricht ankommt. Sinnlos. Schade. Ist mir ein RÃ¤tsel, das keine LÃ¶sung zu finden ist. Der Vorschlag der Entwickler, alle BenachrichtigungstÃ¶ne abzuschalten und alle anderen Bluetooth Verbindungen zu trennen ist natÃ¼rlich totaler Quatsch. Denkt mal darÃ¼ber nach, wozu man ein Smartphone hat.': \"Not really to be used. Immediately jump back to the car program when you use your smartphone or receive any message. Pointless. Too bad. It is a mystery to me that no solution can be found. The developers' suggestion to turn off all notification tones and disconnect all other Bluetooth connections is, of course, total nonsense. Think about what a smartphone is for.\", 'Excelente muy util la app ayuda muchon': 'Excellent very useful the app helps a lot', \"App isn't working well with iOS 14\": \"App isn't working well with iOS 14\", 'No compatible with iOS 14. Safety information pops up and doesnâ€™t go away even when the box â€œdonâ€™t show this againâ€\\x9d is ticked. Canâ€™t change the settings because of that': 'No compatible with iOS 14. Safety information pops up and doesnâ€™t go away even when the box â€œdonâ€™t show this againâ€\\x9d is ticked. Canâ€™t change the settings because of that', 'App virker egentlig nogenlunde. Men jeg giver kun en stjerne, da den ikke bliver opdateret. Nu er det snart et Ã¥r siden Widex skrev, at de var ved at se pÃ¥ nogle rettelser til ios13. NÃ¥ - for nu hedder det ios14. Widex kom nu ind i kampen og fÃ¥ denne app opdateret!\\nMvh. chjerrild': \"The app actually works fairly well. But I only give one star as it is not updated. Now it's almost a year since Widex wrote that they were looking at some fixes for ios13. Well - for now it's called ios14. Widex now get into the fight and get this app updated!\\nSincerely. chjerrild\", 'Ich bin Mega enttÃ¤uscht, jedes simple GerÃ¤t ist mit Bluetooth einfacher zu koppeln und bedienen als diese mehrere Tausend Euro teuren Styletto 3x. Ich bin beruflich darauf angewiesen mehrmals tÃ¤glich Ã¼ber die App die Einstellungen anzupassen. Seit den letzten Updates ist dies meistens nicht mehr mÃ¶glich. Ich werde eine RÃ¼ckgabe der HÃ¶rgerÃ¤te vornehmen, absolut inakzeptabel.!': \"I'm mega disappointed, every simple device is easier to pair and operate with Bluetooth than this Styletto 3x, which costs several thousand euros. For my job, I have to adjust the settings several times a day using the app. Since the last updates, this is mostly no longer possible. I will make a return of the hearing aids, absolutely unacceptable.\", 'Keine Steuerung der HÃ¶rgerÃ¤te mehr mÃ¶glich. Und das bei dem Preis !!!!! \\nNach dem Sicherheitshinweis kommt man nicht weiter': 'Control of hearing aids is no longer possible. And that for the price !!!!!\\nAfter the safety notice, you will not get any further', \"Omigosh, that's a real nice prototype of a device to support Android. My Android ear buds wirelessly bluetooth-connect to any Bluetooth audio device made by anybody. But yours require that i buy a small suitcase from you to make one, and only one device work. That's not being Bluetooth compatible. That's just being compatible with your own equipment, quite a different situation indeed. The marketing for this high-end hearing aid is very disingenuous, and intentionally misleading.\": \"Omigosh, that's a real nice prototype of a device to support Android. My Android ear buds wirelessly bluetooth-connect to any Bluetooth audio device made by anybody. But yours require that i buy a small suitcase from you to make one, and only one device work. That's not being Bluetooth compatible. That's just being compatible with your own equipment, quite a different situation indeed. The marketing for this high-end hearing aid is very disingenuous, and intentionally misleading.\", 'Good app for tinnatus, can customise the sounds to hit the sweet spot for you. 1 stsr deducted because it keeps randomly shutting its self off': 'Good app for tinnitus, can customise the sounds to hit the sweet spot for you. 1 star deducted because it keeps randomly shutting its self off', 'Super Hilfreich...ðŸ‘\\x8dðŸ‘\\x8dðŸ‘\\x8d': 'Super helpful ... ðŸ ‘ðŸ‘ ðŸ ‘', \"TrÃ¨s dÃ©Ã§ue !! l'ancienne appli fonctionnait trÃ¨s bien avec Huawei !!! A ce prix lÃ\\xa0 les prothÃ¨ses haut de gamme, il faudrait faire un effort de compatibilitÃ© avec les tÃ©lÃ©phones qui sont eux aussi des hauts de gamme....TrÃ¨s dÃ©Ã§ue !! Pour info, et comme proposÃ© par sonova, j'ai adressÃ© un mail oÃ¹ il m'a Ã©tÃ© dit qu'il n'y avait pas de compatibilitÃ© avec Huawei... En gros, mon portable est quasi neuf, super performant mais je dois le changer pour Ãªtre compatible avec des appareils Ã\\xa0 ce prix lÃ\\xa0 !!!\": 'Very disappointed !! the old app worked great with Huawei !!! At this price, top-of-the-range prostheses, it would be necessary to make an effort of compatibility with the telephones which are also high-end .... Very disappointed !! For info, and as proposed by sonova, I sent an email where I was told that there was no compatibility with Huawei ... Basically my cell phone is almost new, super efficient but I have to change it to be compatible with devices at this price!', \"TrÃ¨s bien, facile d'utilisation\": 'Very good, easy to use', 'Excelente ayuda': 'Excellent help', \"Been using this app for over 3 years for my Rexons. It has gone thru many phones & Android versions. Can't remember if it has been updated, but based on its never been obsoleted. Must have bee well programmed. Its a keeper.\": \"Been using this app for over 3 years for my Rexons. It has gone thru many phones & Android versions. Can't remember if it has been updated, but based on its never been obsoleted. Must have bee well programmed. Its a keeper.\", 'If you want hearing aids that amplifies background volume really well and drowns out the conversation of someone beside you, then this one is for you. The last adjustment on the right for clarity does absolutely nothing. These aides are a complete waste of your money. And there seems to be very little concern by anyone to help improve the issues. Calling Widex help line is a complete waste of time and effort.': 'If you want hearing aids that amplifies background volume really well and drowns out the conversation of someone beside you, then this one is for you. The last adjustment on the right for clarity does absolutely nothing. These aides are a complete waste of your money. And there seems to be very little concern by anyone to help improve the issues. Calling Widex help line is a complete waste of time and effort.', 'Not intuitive hard to navigate': 'Not intuitive hard to navigate', 'Iâ€™ve had to work with multiple issues:  1) with every Apple update I have to go through multiple efforts to reconnect the hearing aids to the phone; 2) when on a phone call the system does multiple drops; and 3) the hearing aids can not reconnect if I move too far from my phone.  After returning to the phone I have to manually turn off each hearing aid repeatably until they finally reconnect.  The app makes $7000 hearing aids useless.': 'Iâ€™ve had to work with multiple issues:  1) with every Apple update I have to go through multiple efforts to reconnect the hearing aids to the phone; 2) when on a phone call the system does multiple drops; and 3) the hearing aids can not reconnect if I move too far from my phone.  After returning to the phone I have to manually turn off each hearing aid repeatably until they finally reconnect.  The app makes $7000 hearing aids useless.', 'Will not Connect': 'Will not Connect', 'Waardeloze app: werkt wel, werkt niet, onvoorspelbaar wanneer wel en wanneer niet. Dwz het werkt allemaal wel maar dat wordt niet of wel aangegeven (of gebrekkig) op de app. Bv. Links wel en rechts niet of andersom. Wat een een geklungel.': \"Worthless app: works, doesn't work, unpredictable when and when not. Ie it all works but that is not or is indicated (or defective) on the app. Eg. Left yes and right no or vice versa. What a fumbling.\", 'Melhora muito a funcionalidade da audiÃ§Ã£o': 'Greatly improves hearing functionality', \"Very very disappointed. Confirms my opinion that for the technology that's available today it's a con game to sell you junk for exorbitant prices. Was told this app would stream phone calls and would pair with phone to stream music. Hah!!! What a joke this industry is.\": \"Very very disappointed. Confirms my opinion that for the technology that's available today it's a con game to sell you junk for exorbitant prices. Was told this app would stream phone calls and would pair with phone to stream music. Hah!!! What a joke this industry is.\", 'Con S8 no funciona y con iphone 5 SE tampoco': 'With S8 it does not work and with iphone 5 SE neither', \"Can't get comdex program to link with codex unit, will connect to phone, stream music and make calls, just can't control volume. Any help would be appreciated 3 years on and no reply.\": \"Can't get comdex program to link with codex unit, will connect to phone, stream music and make calls, just can't control volume. Any help would be appreciated 3 years on and no reply.\", 'Great.': 'Great.', 'Makes control easy': 'Makes control easy', 'Great app but could be excellent. It drops out left ear while Bluetooth talking on phone, then comes back on? Bluetooth cracks and pops when dial tone is activating, then continues cracking during the conversation. Iâ€™ve rebooted the app several time, turned off the Bluetooth and reactivated it a gain and again.... just doesnâ€™t get any better. I have the newest 11 iPhone and it works well with raycon earbud for phone calls and music/books.  Something needs to be done to fix it! I rely on my hearing aids for my interactions and itâ€™s not cutting it!': 'Great app but could be excellent. It drops out left ear while Bluetooth talking on phone, then comes back on? Bluetooth cracks and pops when dial tone is activating, then continues cracking during the conversation. Iâ€™ve rebooted the app several time, turned off the Bluetooth and reactivated it a gain and again.... just doesnâ€™t get any better. I have the newest 11 iPhone and it works well with raycon earbud for phone calls and music/books.  Something needs to be done to fix it! I rely on my hearing aids for my interactions and itâ€™s not cutting it!', 'ì†Œë¦¬ê°€ì•ˆë“¤ë\\xa0¤ìš”': 'ì † Œë¦¬ê ° € ì • ˆë “¤ë ¤ìš”', 'Not very good.': 'Not very good.', 'I never got my hearing aids to connect. They are 3 years old. Went back to my old app.': 'I never got my hearing aids to connect. They are 3 years old. Went back to my old app.', \"App won't work with new phone and kept randomly unpairing from one or the other device !\": \"App won't work with new phone and kept randomly unpairing from one or the other device !\", 'APP was working fine for awhile...helped me find my lost hearimg aid 2 times...but now with update, i cant make it recocognize the hearing aids. They are rechargeable, tried putting regular batteries in, as one or the othe other was missing and it would recognize the otber but not both...go figure. Tried turning phone (samsung galaxy 9+) on and off. Removed smart3d app, and reinstalled. All numerous times. Checked settings to be sure blue tooth had both hearing aids. Nothing works ! Help!': 'APP was working fine for awhile...helped me find my lost hearimg aid 2 times...but now with update, i cant make it recocognize the hearing aids. They are rechargeable, tried putting regular batteries in, as one or the othe other was missing and it would recognize the otber but not both...go figure. Tried turning phone (samsung galaxy 9+) on and off. Removed smart3d app, and reinstalled. All numerous times. Checked settings to be sure blue tooth had both hearing aids. Nothing works ! Help!', 'I like the app but I need the ability to turn the app down a lot for the TV volume it is too loud at 0.I have to turn my hearing aids off and on to pair with my iPad. That is inconvenient.': 'I like the app but I need the ability to turn the app down a lot for the TV volume it is too loud at 0.I have to turn my hearing aids off and on to pair with my iPad. That is inconvenient.', 'Bin sehr zufrieden ! Nur Wind macht Probleme !!!': 'I am very pleased ! Only wind causes problems!', 'Has vastly helped me with my hearing': 'Has vastly helped me with my hearing', \"I'm a true disbeliever and thought what a load of rubbish ðŸ—‘!!!! Then I tried it and it actually WORKS! brilliant app made by a genuine hearing aid specialist\": \"I'm a true disbeliever and thought what a load of rubbish ðŸ—‘!!!! Then I tried it and it actually WORKS! brilliant app made by a genuine hearing aid specialist\", 'ãƒ\\x90ã‚°ã\\x81§ã\\x81—ã‚‡ã\\x81†ã\\x81‹ï¼Ÿ\\n3é€±é–“ç¨‹å‰\\x8dã\\x81‹ã‚‰è¨\\xadå®šã\\x81—ã\\x81Ÿæ™‚ã\\x81¯ã\\x81¡ã‚ƒã‚“ã\\x81¨è¨\\xadå®šé€šã‚Šã\\x81ªã\\x81®ã\\x81§ã\\x81™ã\\x81Œæ•°æ™‚é–“å¾Œã\\x81«é\\x81•ã\\x81†è¨\\xadå®šã\\x81«å¤‰ã\\x81ˆã‚ˆã\\x81†ã\\x81¨ã‚¢ãƒ—ãƒªã‚’é–‹ã\\x81‘ã‚‹ã\\x81¨éŸ³é‡\\x8fã\\x81¯ä¸\\xadé–“ã\\x81®ã\\x81®8ã\\x81«æˆ»ã\\x81£ã\\x81¦ã‚µã‚¦ãƒ³ãƒ‰ãƒ\\x90ãƒ©ãƒ³ã‚¹ã‚‚0ã\\x81«ã\\x81ªã‚Šã\\x81¾ã\\x81™ã€‚\\nä¿®æ\\xad£ã\\x81Šé¡˜ã\\x81„ã\\x81—ã\\x81¾ã\\x81™ã€‚': \"ãƒ ã ‚° ã §ã —ã‚ ‡ ã † ã ‹ï¼Ÿ\\n3é € ± é– “ç¨‹ å ‰ ã ‹ã‚ ‰ è¨å®šã —ã Ÿæ ™ ‚ã ¯ã ¡ã‚ƒã‚ “ã ¨è¨å®šé € šã‚Šã ªã ®ã §ã ™ ã Œæ • ° æ ™ ‚é–“ å¾Œã «é • ã † è¨å®šã« å¤ ‰ ã ˆã‚ˆã † ã ¨ã ‚¢ ãƒ — ãƒªã‚'é–‹ ã 'ã ‚‹ ã ¨éŸ³é ‡ ã ¯ä¸é– “ã ®ã ®8ã« æˆ »ã £ ã ¦ã‚µã‚¦ãƒ³ãƒ ‰ ãƒ ãƒ © ãƒ³ã‚¹ã‚‚0ã «ã ªã‚Šã ¾ã ™ ã €‚\\nä¿®æ £ ã Šé¡˜ã „ã —ã ¾ã ™ ã €‚\", 'Appairage difficile Ã‰mission bluetooth durÃ©e trop courte': 'Pairing difficult Bluetooth transmission too short', 'Because the phone is out of reach I have to go settings and accessibility to re- pair. I thought you solved this problem.': 'Because the phone is out of reach I have to go settings and accessibility to re- pair. I thought you solved this problem.', 'The app is great - when it connects. Unfortunately are there permanent issues when connection to the hearing aids. Of 10 connection attempts fail 8-9. The app usually connects only to 1 aid (not both) and swaps with each new connection try from only left connected to only right connected (and vise versa). Unfortunately painful for daily use because the app features are great and helpful.': 'The app is great - when it connects. Unfortunately are there permanent issues when connection to the hearing aids. Of 10 connection attempts fail 8-9. The app usually connects only to 1 aid (not both) and swaps with each new connection try from only left connected to only right connected (and vise versa). Unfortunately painful for daily use because the app features are great and helpful.', \"Unpredictable. There is no rhyme or rhythm to its failures. Sometimes it works other times it doesn't. It's frustrating!\": \"Unpredictable. There is no rhyme or rhythm to its failures. Sometimes it works other times it doesn't. It's frustrating!\", 'best app for tinnitus relief. Thanks a lot for developing this app.': 'best app for tinnitus relief. Thanks a lot for developing this app.', 'No se escuchan audios de whatsapp. Y de otros programas. \\nPara llamadas, youtube y netflix muy bueno.': 'No whatsapp audios are heard. And from other programs.\\nVery good for calls, youtube and netflix.', \"The app changes the audio settings when using bluetooth audio. Jack's things way up. When your done with the bluetooth audio the levels do not revert back. You end up listening to a loud hiss. Not a good thing for multi-thousand dollar hearing aids. Please fix ASAP.\": \"The app changes the audio settings when using bluetooth audio. Jack's things way up. When your done with the bluetooth audio the levels do not revert back. You end up listening to a loud hiss. Not a good thing for multi-thousand dollar hearing aids. Please fix ASAP.\", 'Intermittently works. Spatial configurator has disappeared from the app. Uninstalled and reinstalled and still missing': 'Intermittently works. Spatial configurator has disappeared from the app. Uninstalled and reinstalled and still missing', \"Won't connect\": \"Won't connect\", 'Much better sounds and I love the app.': 'Much better sounds and I love the app.', 'Nach mehreren Installationen, Neustarts usw kann die App zwar die HÃ¶rgerÃ¤te koppeln, aber die Fernbedienung erkennt meine HÃ¶rgerÃ¤te nicht! Lausig programmiert, sorry! Danke fÃ¼r ihre schnelle Antwort, ich hoffe, dass die Anpassung nicht auf den Nimmerleinstag verschoben wird... ðŸ¤ª Ich werde als Huawei Besitzer als Mensch 2. Klasse behandelt! Das ist unterirdisch fÃ¼r solch eine Top-Firma. Die App. hat immer noch dieselben Probleme.... ðŸ‘ŽðŸ‘Ž': \"After several installations, reboots, etc., the app can pair the hearing aids, but the remote control does not recognize my hearing aids! Lousy programmed, sorry! Thanks for your quick reply, I hope that the adjustment will not be postponed to the never-ending day ... ðŸ¤ª As a Huawei owner, I am treated as a 2nd class person! It's underground for such a top company. The app. still has the same problems .... ðŸ‘ŽðŸ‘Ž\", 'Great app. Would like to see a mute option for the bluetooth mode, for times when loud commercials come on': 'Great app. Would like to see a mute option for the bluetooth mode, for times when loud commercials come on', \"This app started well! Then they updated it and now doesn't connect to my hearing aids. Really angry and upset with this! Fix it!!!\": \"This app started well! Then they updated it and now doesn't connect to my hearing aids. Really angry and upset with this! Fix it!!!\", 'Keeps dropping out': 'Keeps dropping out', 'Leider funktioniert die Kopplung mit dem S9+ nicht wie vorher. Bluetooth muss bei jedem Appstart neu eingeschaltet werden. AuÃŸerdem blockiert das HÃ¶rgerÃ¤t jeden Anruf und muss vor jedem GesprÃ¤ch deaktiviert werden. Schade. Das Musik hÃ¶ren vom Handy klappt hingegen tadellos.': 'Unfortunately, the coupling with the S9 + does not work as before. Bluetooth must be switched on again each time the app is started. The hearing aid also blocks all calls and must be deactivated before each call. Too bad. Listening to music from the cell phone, however, works perfectly.', 'This app is horrible. I have to almost pair my hearing aids everyday and sometimes twice a day. Drives me absolutely crazy.\\nAlso my hearings wonâ€™t stream to my Apple Watch 3 series. If answer my phone it will not stream to my hearing aids I do t understand. I got the watch do I can listen to music without having my phone with me and it will not connect to my hearing aids. Why????': 'This app is horrible. I have to almost pair my hearing aids everyday and sometimes twice a day. Drives me absolutely crazy.\\nAlso my hearings wonâ€™t stream to my Apple Watch 3 series. If answer my phone it will not stream to my hearing aids I do t understand. I got the watch do I can listen to music without having my phone with me and it will not connect to my hearing aids. Why????', 'Le rÃ©glage du volume des appareils auditifs dÃ©pend du volume du tÃ©lÃ©phone ðŸ˜ŸðŸ˜ŸðŸ˜Ÿ': 'The volume control of hearing aids depends on the volume of the telephone ðŸ˜ŸðŸ˜ŸðŸ˜Ÿ', 'informative': 'informative', 'Please support ipad :(': 'Please support ipad :(', 'When I am in a custom setting and receive either a text or phone call, I lose the setting and it goes back to The default of AutoSense 3.0. Since I get a lot of texts and phone calls this is very annoying. Never had this issue with my previous ComPilot II. Being a veteran I have the option of returning the rechargeable aids back to the VA and get a different set.': 'When I am in a custom setting and receive either a text or phone call, I lose the setting and it goes back to The default of AutoSense 3.0. Since I get a lot of texts and phone calls this is very annoying. Never had this issue with my previous ComPilot II. Being a veteran I have the option of returning the rechargeable aids back to the VA and get a different set.', 'MUY BUENA (EXCITOS)': 'VERY GOOD (EXCITED)', 'If there was a button to activate when you start hearing the tones, and then could activate again when the tones are no longer heard, then it could be used by a blind person.\\nAs it is, you cannot hold the button because of the VoiceOver gestures.': 'If there was a button to activate when you start hearing the tones, and then could activate again when the tones are no longer heard, then it could be used by a blind person.\\nAs it is, you cannot hold the button because of the VoiceOver gestures.', 'Worked to start with, then stopped. Twice. Try again. Re-installed app (again), now it has picked up only one aid, despite both being connected to phone. \\nApparently itâ€™s not ready for iOS 14. Ho hum.': 'Worked to start with, then stopped. Twice. Try again. Re-installed app (again), now it has picked up only one aid, despite both being connected to phone. \\nApparently itâ€™s not ready for iOS 14. Ho hum.', 'App not efficient, Bluetooth takes to long to connect, when app is opened': 'App not efficient, Bluetooth takes to long to connect, when app is opened', 'Leider keine Telefonate mehr per iPhone 11pro bricht den Kontakt zum iPhone ab.\\nLeider scheint es auch Verbindungsprobleme  oder Sendeeinheit den HÃ¶rgerÃ¤ten zu geben da schon wenige Zentimeter von den HÃ¶rgerÃ¤ten entfernt bricht die Verbindung ab. Und jedesmal muss man sich neu verbinden um zu telefonieren oder so.\\nUnd warum bekomme alle die hier was aktuelles schreiben vom Entwickler antworten die Vom letztem Jahr zurÃ¼ckliegen Antworten !!!!!': 'Unfortunately, no more phone calls via iPhone 11pro breaks the contact with the iPhone.\\nUnfortunately, there also seem to be problems with the connection or the transmitter unit to the hearing aids, as the connection breaks off just a few centimeters away from the hearing aids. And every time you have to reconnect to make a call or something.\\nAnd why do all those who write something up-to-date here from the developer answer the answers from last year !!!!!', 'Jeg har nÃ¥ blitt mye bedre kjent med mine hÃ¸reapperater,og jeg mÃ¥tte nok dessverre si at jeg ikke lenger er sÃ¥pass grÃ¥dig fornÃ¸yd alikavel?!\\nI begynnelsen var det selvsagt stor forskjell men etterhvert som jeg ble bedre kjent med dem sÃ¥ har det hvist seg at jeg hÃ¸rer altfor mye stÃ¸y som har alltid vert det store hindret i livet!\\nDet er  stÃ¸y som Ã¸delegger hele poenget med Ã¥ kunne hÃ¸re og fÃ¸re en samtale med andre!!!\\nOg det har gjort slik at jeg fremdeles har store problemer med Ã¥ klare Ã¥ kommunisere med andre osv......\\nJeg fÃ¸ler at jeg stÃ¥r pÃ¥ samme stedet sommer jeg alltid hard gjort ðŸ™‚': \"I have now become much better acquainted with my hearing aids, and I must unfortunately say that I am no longer so happy you are satisfied anyway ?!\\nIn the beginning, of course, there was a big difference, but as I got to know them better, it has turned out that I hear too much noise, which has always been the big obstacle in life!\\nIt is noise that destroys the whole point of being able to hear and have a conversation with others !!!\\nAnd it has made me still have big problems with being able to communicate with others etc ......\\nI feel like I'm standing in the same place this summer I'm always hard done ‚Ÿ‚\", 'No good last update was ok why update me to one that never connects??? Not happy': 'No good last update was ok why update me to one that never connects??? Not happy', 'PÃ©ssimo': 'Poor', 'Bei Over-Ear-KopfhÃ¶rern stehen 2(!) Sennheiser-Modelle zur Auswahl.\\nBei wirklich SchwerhÃ¶rigen kann es vorkommen,\\ndass sie 10 Sekunden lang nichts hÃ¶ren wÃ¤hrend des Tests.\\nDann bricht der Test wegen InaktivitÃ¤t ab.\\nEinen Tinnitus kann man mit der App nicht diagnostizieren.\\n\"HÃ¶ren Sie auÃŸer dem Test-Ton noch andere GerÃ¤usche?\"\\nDiese Frage bleibt auÃŸen vor.': 'There are 2 (!) Sennheiser models to choose from when it comes to over-ear headphones.\\nWith the really hard of hearing it can happen\\nthat they will not hear anything for 10 seconds during the test.\\nThen the test breaks off due to inactivity.\\nYou cannot diagnose tinnitus with the app.\\n\"Do you hear any other noises besides the test tone?\"\\nThat question is left out.', 'Ustabil app, treg til Ã¥ koble til, fÃ¥ funksjoner med ikke oppladbare hÃ¸reapparater.': 'Unstable app, slow to connect, few features with non-rechargeable hearing aids.', 'TOP': 'TOP', 'Funktioniert prima ich bin sehr zufrieden': \"Works fine, I'm very satisfied\", 'When you change a program and save it, the saved program goes away after a while and you have to reprogram it again.': 'When you change a program and save it, the saved program goes away after a while and you have to reprogram it again.', \"It doesn't work all the time for my hearings aids.\": \"It doesn't work all the time for my hearings aids.\", \"While great, too limiting. Would be great to add more balance controls (don't want to keep adjusting my phone audio just the Elite 75t, oops Jabra GN made ALL BUDS RIGHT EAR CONTROL. WE NEED LEFT OR RIGHT WITH SEPARATE SIDE CONTROLS. ALL THE BABY BOOM GEN ARE NOW SENIORS THAT HAVE MONEY AND WANT BETTER!!!!\": \"While great, too limiting. Would be great to add more balance controls (don't want to keep adjusting my phone audio just the Elite 75t, oops Jabra GN made ALL BUDS RIGHT EAR CONTROL. WE NEED LEFT OR RIGHT WITH SEPARATE SIDE CONTROLS. ALL THE BABY BOOM GEN ARE NOW SENIORS THAT HAVE MONEY AND WANT BETTER!!!!\", \"For the few things it does, it's ok. Wish the Android version would catch up to the iPhone version.\": \"For the few things it does, it's ok. Wish the Android version would catch up to the iPhone version.\", \"Ne fonctionne pas avec un P20 Huawei qui fonctionne pourtant sous Android Il serait bien que l'application fonctionne avec une gamme plus Ã©tendue de tÃ©lÃ©phones...\": 'Does not work with a Huawei P20 which however works on Android It would be good if the application works with a wider range of phones ...', 'Blu-toos muÃŸ jeden Morgen wieder neu gestartet werden geht auch anders': 'Blu-toos has to be restarted every morning, there is another way', 'Seid ihr doof oder was? Jedesmal erhÃ¶ht ihr die Android Version nachdem ihr ein neues Update raushaut? Was ist das fÃ¼r eine Logik?': 'Are you stupid or what? Every time you increase the Android version after you get a new update out? What kind of logic is that?', 'Sehr funktional,absolut notwendig': 'Very functional, absolutely necessary', 'My $150 wireless headphones can handle phone calls and music streaming just fine. My $8200 Sonova hearing aids cannot unless my phone is literally one foot from them. If my phone goes in my pocket forget about it. So frustrated. This app is useless.': 'My $150 wireless headphones can handle phone calls and music streaming just fine. My $8200 Sonova hearing aids cannot unless my phone is literally one foot from them. If my phone goes in my pocket forget about it. So frustrated. This app is useless.', 'Wenn ich gewuÃŸt hÃ¤tte, daÃŸ nur mit iPhone etc. und nicht mit huaweigerÃ¤ten steuern lÃ¤ÃŸt, hÃ¤tte ich nach einem anderen GerÃ¤t gesucht. .. viele andere Dinge wurden schon entsprechend bemÃ¤ngelt.': 'If I had known that you can only control with iPhone etc. and not with Huawei devices, I would have looked for another device. .. many other things have been criticized accordingly.', 'Great!': 'Great!', 'Often doesnt respond.': 'Often doesnt respond.', 'Wonâ€™t work 95% of the time\\nHave tryed the new update worked the first time then went back to adjust an it lost left side an caint find it am in the same place it found it the first time. This is terrible if I could give it a minus star I would': 'Wonâ€™t work 95% of the time\\nHave tryed the new update worked the first time then went back to adjust an it lost left side an caint find it am in the same place it found it the first time. This is terrible if I could give it a minus star I would', \"They only thing I don't like about it is that I have to restart my phone every time I go from normal hearing to the TV or from the TV back to normal hearing\": \"They only thing I don't like about it is that I have to restart my phone every time I go from normal hearing to the TV or from the TV back to normal hearing\", 'Muymuymuymuymuymuymuy mala no vale para nada cualquier dispositivo Bluetooth se conecta a cualquier movil y marca esto noo la peor aplicacion': 'Muymuymuymuymuymuymuy bad is not worth anything any Bluetooth device connects to any mobile and makes this not the worst application', 'Exelente aplicacion con esto puedo controlar mi aparato auditivo': 'Excellent application with this I can control my hearing aid', 'Application trÃ¨s limitÃ©': 'Very limited application', 'Tinnitus Manager has not worked more than it has. Then i am told by u guys rhat itll be fixed next update. Was fixed, i left it alone, now tinnitus manager not working again. Defeats the purpose of having the app if i cant use it. I specifically have this hearing aid for tinnitus, tinnitus manager barely works. I guess ull tell me again to wait for the next update. Last time that took 3 months. I am missing my reliable, durable widex aid. Ur just telling people there phones arent compatible.smh': 'Tinnitus Manager has not worked more than it has. Then i am told by u guys rhat itll be fixed next update. Was fixed, i left it alone, now tinnitus manager not working again. Defeats the purpose of having the app if i cant use it. I specifically have this hearing aid for tinnitus, tinnitus manager barely works. I guess ull tell me again to wait for the next update. Last time that took 3 months. I am missing my reliable, durable widex aid. Ur just telling people there phones arent compatible.smh', 'I enjoy using the hearing aids when taking a phone call. The quality of the connection has declined over the last several months. In addition, if I put the phone in my pocket during the call, the connection becomes nearly impossible to stand.': 'I enjoy using the hearing aids when taking a phone call. The quality of the connection has declined over the last several months. In addition, if I put the phone in my pocket during the call, the connection becomes nearly impossible to stand.', 'Love this app! It makes it so much easier to adjust my hearings aids instead of pushing buttons. Thank you!': 'Love this app! It makes it so much easier to adjust my hearings aids instead of pushing buttons. Thank you!', 'Everything you do with loading this app is a pain. Once you finally get it loaded on an iOS device itâ€™s not bad': 'Everything you do with loading this app is a pain. Once you finally get it loaded on an iOS device itâ€™s not bad', 'Ù…Ø¯Ø§Ø± Ø±Ø§Ø³Øª ÙˆÚ†Ù¾ Ø¯Ø§Ø±Ø§ÛŒ Ù…Ø®ØªØµØ§Øª Ø§Ø³Øª': 'Ù… Ø¯Ø§Ø ± Ø ± Ø§Ø³Øª ÙˆÚ † Ù¾ Ø¯Ø§Ø ± Ø§ÛŒ Ù… Ø®ØªØµØ§Øª Ø§Ø³Øª', 'Med mine tidligere Oticon fik jeg telefon samtaler klart igennem fra min iPhone. Det kan jeg ikke med mine Signia Pure som jeg senest fik fra det offentlige. Ã˜v ðŸ˜Ÿ': 'With my previous Oticon, I got phone calls clearly through from my iPhone. I can not do that with my Signia Pure that I last got from the public sector. Therefore', 'Plein de bugs et la reconnaissance ne marche presque jamais': 'Full of bugs and recognition hardly ever works', 'Hi have had this app a few months now but recently it keeps loosing Bluetooth please make an update to correct it only holds Bluetooth for a few minutes now': 'Hi have had this app a few months now but recently it keeps losing Bluetooth please make an update to correct it only holds Bluetooth for a few minutes now', 'Mit meinem Smartphon P30 Pro lÃ¤ÃŸt sich die App myPhonak mit den HÃ¶rgerÃ¤ten nicht koppeln.': 'The myPhonak app cannot be connected to the hearing aids with my P30 Pro smartphone.', 'Wat een geweldige uitkomst. Vooral alle mogelijkheden via de app op de smartphone.\\nOok fantastisch wat ik allemaal weer hoor maar bovenal is het genot voor alle mensen om me heen dat ik weer alles hoor en TV etc op normaal volume kunnen staan.\\nConclusie: perfecte oplossing voor mij en mijn familie.': 'What a great outcome. Especially all options via the app on the smartphone.\\nAlso fantastic what I hear again, but above all the pleasure for all the people around me that I can hear everything again and TV etc can be at normal volume.\\nConclusion: perfect solution for me and my family.', 'Super interessante': 'Super interesting', \"Having heaps of trouble to get this to work. I have Android phone. My Audiologist has an iPhone. Set my hearing aids on her phone. Worked great. It can't find my aids on my phone.\": \"Having heaps of trouble to get this to work. I have Android phone. My Audiologist has an iPhone. Set my hearing aids on her phone. Worked great. It can't find my aids on my phone.\", 'when working it works well but requires new downloads more frequently than most apps.': 'when working it works well but requires new downloads more frequently than most apps.', 'Thrive Hearing aids': 'Thrive Hearing aids', 'Helaas is de app er niet op verbeterd na de update!! Snel schakelen tussen de opties kan niet meer. De ingevoerde gegevens moet je steeds weer opnieuw invoeren. Geluid is ook niet al te best!!!\\nHoop dat er een update komt met echte verbeteringen!!!\\nDank voor uw antwoord. De laatste IOS-update gebruik ik maar dit heeft geen invloed op de app.\\nHoop op gebruiksgemak van de oticon app. Het is nu steeds een ergernis!!ðŸ˜¢\\nIntussen is de app verbeterd. \\nBlijft jammer dat het opstarten tÃ© lang duurt. Als voorbeeld: wil je even TV meekijken en je moet dan de app activeren is de TV toespraak al voorbij.ðŸ˜\\x8f': \"Unfortunately the app has not improved after the update !! It is no longer possible to quickly switch between the options. You have to enter the entered data again and again. Sound isn't too good either !!!\\nHope there is an update with real improvements !!!\\nThanks for your answer. I am using the latest iOS update, but this does not affect the app.\\nHope for ease of use of the oticon app. It is always an annoyance now !! ðŸ˜ ¢\\nThe app has since been improved.\\nIt is a pity that the start-up takes too long. As an example: if you want to watch TV and you have to activate the app, the TV speech is already over.ðŸ˜\", 'Waardeloos. Om de haverklap is de verbinding weg en niet te herstellen. Na de laconieke reactie van Resound ( Nl dat de de app slechts voor een aantal telefoons werkt) stel ik vast dat Beter Horen mij nooit geÃ¯nformeerd heeft toen ze me â‚¬4500,- voor het setje lieten betalen.': 'Worthless. Every now and then the connection is gone and cannot be restored. After the laconic response from Resound (NL that the app only works for a number of telephones) I note that Beter Horen never informed me when they charged me € 4,500 for the set.', 'This app is great.': 'This app is great.', 'This is the worst app I have ever used. It ruins the usefulness of the hearing aid. What a shame. This is very upsetting due to their cost.': 'This is the worst app I have ever used. It ruins the usefulness of the hearing aid. What a shame. This is very upsetting due to their cost.', 'Very handy': 'Very handy', 'Auf Huawei P8 lite funktioniert die App nicht wie es sein soll. Die Verbindung zu den Hoergeraeten funktioniert meist nicht.': \"The app doesn't work as it should on the Huawei P8 lite. The connection to the hearing aids usually does not work.\", 'Used to work. Basically use it to control volume only now. Hearing Fitness no longer works. Always get a something went wrong on our end error message.': 'Used to work. Basically use it to control volume only now. Hearing Fitness no longer works. Always get a something went wrong on our end error message.', 'Na telefonie Xaomi Mi 9 lite aplikacja dziaÅ‚a doskonale.': 'The application works perfectly on the Xiaomi Mi 9 lite.', 'When this app works, it works very well! Since I do not have an iPhone (the preferred device) finding support is difficult. My provider is helpful, but doesnt have the breadth of tech knowledge needed for every non- apple phone. After an app upgrade, it didnt work. Was told my LG phone is not \"guaranteed compatible.\" Had to remove the paired devices in bluetooth menu before I could reload and get the SW to work. For $5k I expect a better app & app support!': 'When this app works, it works very well! Since I do not have an iPhone (the preferred device) finding support is difficult. My provider is helpful, but doesnt have the breadth of tech knowledge needed for every non- apple phone. After an app upgrade, it didnt work. Was told my LG phone is not \"guaranteed compatible.\" Had to remove the paired devices in bluetooth menu before I could reload and get the SW to work. For $5k I expect a better app & app support!', 'Lâ€™app non funziona!!! Continua a dire spegni questo riparti con questo......non vale niente!!!! Sono molto delusa!!! Non si riesce sistemare rumori esterni che sono molto forti... insomma non va': \"The app doesn't work !!! Keep saying turn this off, restart with this ...... it's worth nothing !!!! I am very disappointed!!! It is not possible to fix external noises which are very loud ... in short, it doesn't work\", 'ìµœì‹\\xa0ë³´ì²\\xadê¸°ê°€ ì•ˆë“œë¡œì\\x9d´ë“œ ìŠ¤ë§ˆíŠ¸í\\x8f°ì\\x9d€ í†µí™”.ìŠ¤íŠ¸ë¦¬ë°\\x8d ì»¤ë„¥í\\x81´ë¦½ìœ¼ë¡œë§Œ ë\\x90˜ê³\\xa0 ì—°ê²° ë‹¤ì\\x9d´ë\\xa0‰íŠ¸ë¡œ ì•ˆë\\x90˜ëŠ”ê±´ ìš”ì¦˜ì‹œëŒ€ì—\\x90 ìž¥ì‚¬ì•ˆí•˜ê²\\xa0ë‹¤ëŠ”ê±°ì£\\xa0? ë‹¤ë¥¸ íšŒì‚¬ ìµœì‹\\xa0 ë³´ì²\\xadê¸°ëŠ” ë\\x90˜ëŠ”ë\\x8d° ì˜¤í‹°ì½˜ë§Œ ì•ˆë“œë¡œì\\x9d´ë“œ ì§\\x81ì\\xa0‘ ìŠ¤íŠ¸ë¦¬ë°\\x8d ì•ˆë\\x90˜ë„¤ìš”.': \"ìµœì ‹ë³´ì²ê¸ ° ê ° € ì • ˆë“ œë¡œì ´ë “œ ìŠ¤ë§ˆíŠ¸í ° ì € í † µí ™” .ìŠ¤íŠ¸ë¦¬ë ° ì »¤ë„ ¥ í ´ë¦½ìœ¼ë¡œë§Œ ë ˜ê³ ì— ° ê² ° ë ‹¤ì ´ë ‰ íŠ¸ë¡œ ì • ˆë ˜ëŠ” ê ± ´ ìš ” ì¦˜ì ‹œëŒ € ì— ìž ¥ ì‚¬ì • ˆí • ˜ê² ë‹ ¤ëŠ ”ê ± ° ì £? ë ‹¤ë ¥ ¸ íšŒì‚¬ ìµœì‹ ë³´ì²ê¸ ° ëŠ ”ë ˜ëŠ” ë ° ì˜¤í ‹° ì½˜ë§Œ ì • ˆë“ œë¡œì ´ë “œ ì § ì 'ìŠ¤íŠ¸ë¦¬ë ° ì • ˆë ˜ë „¤ìš”.\", 'Worked great when I first got them now background noises drown out my ability to hear. I feel like sometimes they are plugged and keep me from hearing others speak to me I have 2 hesring aids and I still dont hear well': 'Worked great when I first got them now background noises drown out my ability to hear. I feel like sometimes they are plugged and keep me from hearing others speak to me I have 2 hesring aids and I still dont hear well', \"Won't find both of my hearing aids. App fights with Samsung home app and my cars bluetooth connection. I had to remove my car from my phone so my hearing aids would work with the bluetooth.\": \"Won't find both of my hearing aids. App fights with Samsung home app and my cars bluetooth connection. I had to remove my car from my phone so my hearing aids would work with the bluetooth.\", 'Solo me sirve para ver el estado de las pilas': 'It only helps me to see the status of the batteries', 'I have had the hearing aid back to the VA in Tucson AZ 12 time and sent them to Colorado  one time.  Still have problems with the Bluetooth.  Dropped signal and poor TV redemption.  As hearing aids only will do the job but donâ€™t count on the Bluetooth application.': 'I have had the hearing aid back to the VA in Tucson AZ 12 time and sent them to Colorado  one time.  Still have problems with the Bluetooth.  Dropped signal and poor TV redemption.  As hearing aids only will do the job but donâ€™t count on the Bluetooth application.', 'Last update caused problems. How can I go back one version. Aids are fading in and out.\\nNot happy with performance at all. Clearness of sound phases in and out': 'Last update caused problems. How can I go back one version. Aids are fading in and out.\\nNot happy with performance at all. Clearness of sound phases in and out', 'oticon opn s3ã\\x81§ä½¿ç”¨ã\\x81—ã\\x81¦ã\\x81„ã\\x81¾ã\\x81™ã€‚\\néŸ³é‡\\x8fä¸Šã\\x81’ä¸‹ã\\x81’ã‚„ã‚»ãƒƒãƒˆå¤‰æ›´ã\\x81Œç°¡å\\x8d˜ã\\x81«è¡Œã\\x81ˆã‚‹ã\\x81®ã\\x81¨ã€\\x81è£œè\\x81´å™¨ã\\x81®æƒ…å\\xa0±ã\\x81Œã\\x81™ã\\x81\\x90ã\\x81«è¦‹ã‚‰ã‚Œã‚‹ã\\x81Ÿã‚\\x81é‡\\x8då®\\x9dã\\x81—ã\\x81¦ã\\x81„ã\\x81¾ã\\x81™ã€‚\\nã\\x81Ÿã\\x81\\xa0ã€\\x81ãƒ‡ã‚¶ã‚¤ãƒ³ã\\x81¯å‰\\x8dã\\x81®æ–¹ã\\x81Œã‚ªã‚·ãƒ£ãƒ¬ã\\x81§å¥½ã\\x81\\x8dã\\x81\\xa0ã\\x81£ã\\x81Ÿâ€¦â€¦ã€‚\\nå¤‰ã‚\\x8fã\\x81£ã\\x81¦ã\\x81—ã\\x81¾ã\\x81£ã\\x81¦å°‘ã\\x81—æ®‹å¿µã\\x81§ã\\x81™ã€‚': \"oticon opn s3ã §ä½¿ç ”¨ã —ã ¦ã„ ã ¾ã ™ ã € ‚\\néŸ³é ‡ ä¸Šã 'ä¸ ‹ã' ã‚ „ã‚ »ãƒƒãƒˆå¤ ‰ æ› ´ã Œç ° ¡å ˜ã «è¡Œã ˆã‚ ‹ã ®ã ¨ ã € è £ œè ´å ™ ¨ã ®æƒ… å ± ã Œã ™ ã ã «è¦‹ ã ‚‰ ã‚Œã‚ ‹ã Ÿã‚ é ‡ å® ã —ã ¦ã „ã ¾ã ™ ã €‚\\nã Ÿã ã € ãƒ ‡ ã‚¶ã‚¤ãƒ³ã ¯å ‰ ã ®æ – ¹ã Œã‚ªã ‚· ãƒ £ ãƒ¬ã §å ¥ ½ã ã ã £ ã Ÿâ € ¦â € ¦ã € ‚\\nå¤ ‰ ã ‚ã £ ã ¦ã —ã ¾ã £ ã ¦å °‘ ã —æ® ‹å¿µã §ã ™ ã €‚\", \"Hearing aids won't connect. Like the old app better.\": \"Hearing aids won't connect. Like the old app better.\", \"Shortcut disappeared from my phone and I can't get it back.?????\": \"Shortcut disappeared from my phone and I can't get it back.?????\", \"I like that you can change the tone for streaming, but when I stop streaming the tone stays how it was for streaming. I then have to reset the tone for general use. In other words, have two settings that are remembered for each favorite so when you begin to stream it would use the stream settings and revert back to normal when I stop streaming. It's getting there, but not quite a 5 star yet. Thanks.\": \"I like that you can change the tone for streaming, but when I stop streaming the tone stays how it was for streaming. I then have to reset the tone for general use. In other words, have two settings that are remembered for each favorite so when you begin to stream it would use the stream settings and revert back to normal when I stop streaming. It's getting there, but not quite a 5 star yet. Thanks.\", 'Why not make a program for Android phones ðŸ¤”': 'Why not make a program for Android phones ðŸ¤”', 'Works excetionally well and allows customization with the hearing levels.': 'Works excetionally well and allows customization with the hearing levels.', 'No pressure sensitivity on new iPhone. So it says that i am not pressing the button.\\nCome On!!! You as App Developer have to consider that. Donâ€™t you know what devices are out actually? You have to adapt to every possibility and every device - even more the new ones.\\ni would have given (0) until you fix that problem.': 'No pressure sensitivity on new iPhone. So it says that i am not pressing the button.\\nCome On!!! You as App Developer have to consider that. Donâ€™t you know what devices are out actually? You have to adapt to every possibility and every device - even more the new ones.\\ni would have given (0) until you fix that problem.', 'Very cool! ðŸ‘\\x8d': 'Very cool! ðŸ‘\\x8d', 'muy buena': 'very good', 'Best ever hearing aid service.': 'Best ever hearing aid service.', 'Able,to adjust perfectly!!': 'Able,to adjust perfectly!!', 'I understand it. It is a pity. I have not samsung and phone clip. Thank you for the quick and good answer.': 'I understand it. It is a pity. I have not samsung and phone clip. Thank you for the quick and good answer.', 'Der Unterschied zwischen weich und hart ist sehr wenig': 'Der Unterschied zwischen weich und hart ist sehr wenig', 'Very accurate according to the test I had at an ear testing heath facility. \\nThe fact that it is fairly accurate, when iOS 14 comes out, my ear bud pro will be a good alternative to 6,000 hearing aids': 'Very accurate according to the test I had at an ear testing heath facility. \\nThe fact that it is fairly accurate, when iOS 14 comes out, my ear bud pro will be a good alternative to 6,000 hearing aids', 'Great service!!!!!!': 'Great service!!!!!!', 'ì£¼ì\\x9d€ë‹˜ ì\\x9d˜ê²¬ ì\\xa0„ì\\xa0\\x81ë\\x8f™ì\\x9d˜ ìµœê·¼ì—…ê·¸ë\\xa0ˆì\\x9d´ë“œí›„ ë³¼ë¥¨ ì¡°ì\\xa0•í•´ë\\x8f„ ìµœì´ˆìƒ\\x81íƒœë¡œë³µê·€ë\\x90˜ëŠ”ë\\x8d° ë¹\\xa0ë¥¸ìˆ˜ì\\xa0•ì—…ë\\x8d°ì\\x9d´í„°ë¶€íƒ\\x81ë“œë¦½ë‹ˆë‹¤.': 'ì £ ¼ì € ë ‹˜ ì ˜ê²¬ ì„ ì ë ™ ì ˜ ìµœê · ¼ì—… ê · ¸ë ˆì ´ë “œí› „ë³¼ë ¥ ¨ ì¡ ° ì • í • ´ë „ìµœì´ˆìƒ íƒœë¡œë³µê · € ë ˜ëŠ” ë ° ë¹ ë ¥ ¸ìˆ˜ì • ì—… ë ° ì ´í „° ë¶ € íƒ ë“ œë¦ ‹Ë ‹ˆë‹ ¤.', 'Much too slow to connect. Sometimes 5 - 10 minutes if at all.': 'Much too slow to connect. Sometimes 5 - 10 minutes if at all.', 'I am happy with my new aids... Second pair of oticons, but cannot believe that the landline connection cannot work without disconnecting my clip from my cellular. All because I have an android. What a step backwards.': 'I am happy with my new aids... Second pair of oticons, but cannot believe that the landline connection cannot work without disconnecting my clip from my cellular. All because I have an android. What a step backwards.', 'Very good ,makes communication very easy to understand': 'Very good ,makes communication very easy to understand', \"Won't change settings on app. Except on and off. So I'm still fiddling with aids to change environment. Why?!\": \"Won't change settings on app. Except on and off. So I'm still fiddling with aids to change environment. Why?!\", 'Does not stay connected and has a hard time pairing. That should be your last concern (does the app look good) your concern should be does the app keep you connected': 'Does not stay connected and has a hard time pairing. That should be your last concern (does the app look good) your concern should be does the app keep you connected', 'Muito bom! Uma pena que para utilizar com os aparelhos auditivos o celular precisa ser top de linha, e nÃ£o funciona com os novos, bons, porÃ©m classe 2.': 'Very good! A pity that to use with hearing aids the cell phone needs to be top of the line, and does not work with the new, good, but class 2.', 'Works best if store tech installs multiple programs...': 'Works best if store tech installs multiple programs...', \"I have a moto zforce Android phone. The Aids work great but this app absolutely eats my phone's battery. A two day battery goes from full charge at 6:30am to 0% at noon.\": \"I have a moto zforce Android phone. The Aids work great but this app absolutely eats my phone's battery. A two day battery goes from full charge at 6:30am to 0% at noon.\", 'Left aids responses , very little on right': 'Left aids responses , very little on right', 'Had to buy a new phone ZTE this app does not work with it I hope they will update it soon': 'Had to buy a new phone ZTE this app does not work with it I hope they will update it soon', 'Challenging': 'Challenging', 'QR-Code wird nicht angenommen. Keine EinfÃ¼hrung. Bei der BetÃ¤tigung der wenigen Funktionen keine wahrnehmbaren VerÃ¤nderungen. Kein erkennbarer Nutzen dieser Anwendung...': 'QR-Code wird nicht angenommen. Keine EinfÃ¼hrung. Bei der BetÃ¤tigung der wenigen Funktionen keine wahrnehmbaren VerÃ¤nderungen. Kein erkennbarer Nutzen dieser Anwendung...', 'Apparently, Starky has put its money behind Apple devices. There has been no changes or advances with this Android app for the several years. I will never buy Starky again.': 'Apparently, Starky has put its money behind Apple devices. There has been no changes or advances with this Android app for the several years. I will never buy Starky again.', 'Imposible conectar, elimino, no me sirve': 'Impossible to connect, I delete, it does not serve me', 'Brilliant, Easy to use but be aware that changes made are temporary, when you switch off the hearing aids they revert to settings that are set by the audiology.': 'Brilliant, Easy to use but be aware that changes made are temporary, when you switch off the hearing aids they revert to settings that are set by the audiology.', 'Using an iPhone (IOS version 13.5) the app fails to reconnect every time the phone comes back into range of the hearing aids after being out of range for less than 5 minutes!  To get it to reconnect, have to restart the aids - I have got so fed up with this that I have now removed it from my phone. Also could not find how to delete saved profiles. Spent a long time looking for this until finally admitted defeat.': 'Using an iPhone (IOS version 13.5) the app fails to reconnect every time the phone comes back into range of the hearing aids after being out of range for less than 5 minutes!  To get it to reconnect, have to restart the aids - I have got so fed up with this that I have now removed it from my phone. Also could not find how to delete saved profiles. Spent a long time looking for this until finally admitted defeat.', 'Love the hearing aids, hate the app. The Bluetooth function on the HAs has been checked twice and found to be fine.  Nonetheless, 3-4 times a day my HAs disconnect from the app.   The HAs stay connected to the phone, but not the app.  At some level this is not surprising since the app has not been updated in 6 months.  That time period must cover several iOS updates. I am running iOS 13.5.1 on an iPhone 8.': 'Love the hearing aids, hate the app. The Bluetooth function on the HAs has been checked twice and found to be fine.  Nonetheless, 3-4 times a day my HAs disconnect from the app.   The HAs stay connected to the phone, but not the app.  At some level this is not surprising since the app has not been updated in 6 months.  That time period must cover several iOS updates. I am running iOS 13.5.1 on an iPhone 8.', 'Needs individual ear volume adjustment': 'Needs individual ear volume adjustment', \"Just like prior users, this app really needs some work. Hearing aids disconnect constantly from the app. So, always fooling around to reattach and make adjustments. Geo tags don't work if disconnected. So, veey cumbersome.\": \"Just like prior users, this app really needs some work. Hearing aids disconnect constantly from the app. So, always fooling around to reattach and make adjustments. Geo tags don't work if disconnected. So, veey cumbersome.\", 'This app totally failed to find my hearing aids after several hours of trying': 'This app totally failed to find my hearing aids after several hours of trying', 'No telecare': 'No telecare', 'When I set the volume and leave app it will turn heating and to 0': 'When I set the volume and leave app it will turn heating and to 0', 'O aplicativo Ã© Ã³timo, muito completo, conteÃºdo excelente para indicar a leitura aos pacientes, porÃ©m alguns detalhes na traduÃ§Ã£o e erros de digitaÃ§Ã£o nos textos acredito que podem nÃ£o causar uma boa impressÃ£o, podendo inclusive diminuir sua credibilidade. Algo fÃ¡cil de corrigir.': 'The application is great, very complete, excellent content to indicate reading to patients, but some details in the translation and typos in the texts I believe may not cause a good impression and may even decrease its credibility. Something easy to correct.', 'Cannot get app to work correctly.....': 'Cannot get app to work correctly.....', 'iphone bluetooth works great\\napp canâ€™t stay connected to the aides for more thsn a day': 'iphone bluetooth works great\\napp canâ€™t stay connected to the sides for more than a day', 'Where is the heart rate icon? Only the â€œBodyâ€\\x9d & â€œBrainâ€\\x9d are showing.  Have advance settings set on.  I have livio 2400 edge': 'Where is the heart rate icon? Only the â€œBodyâ€\\x9d & â€œBrainâ€\\x9d are showing.  Have advance settings set on.  I have livio 2400 edge', 'Funktioniert sehr schlecht. Oft keine Verbindung...': 'Works very badly. Often no connection ...', \"Doesn't connect to my phone....useless!!\": \"Doesn't connect to my phone....useless!!\", 'I have a better understanding after multiple email exchanges of how to clear or deal with connectivity issues with my Livio 2000 aids, Samsung Galaxy 10+ and the app. As such I have changed my rating to better reflect actual performance from 1 Star to 3 Stars. As performance changes for the better i will consider raising the ratings. Streaming calls and media is the best feature upgrade when i changed my phone': 'I have a better understanding after multiple email exchanges of how to clear or deal with connectivity issues with my Livio 2000 aids, Samsung Galaxy 10+ and the app. As such I have changed my rating to better reflect actual performance from 1 Star to 3 Stars. As performance changes for the better i will consider raising the ratings. Streaming calls and media is the best feature upgrade when i changed my phone', 'Sehr positiv um schnell fragen zu stellen und Informationen zu bekommen': 'Very positive to ask questions quickly and get information', 'Ich hoere alles deutlich und klar.': 'I hear everything clearly and clearly.', 'Relief': 'Relief', 'Die App ist eine Sterbehilfe !!! Die funktioniert mit Samsung Note 9 auch nicht ???????? kennt kein Bluetooth ??': \"The app is an euthanasia !!! It doesn't work with Samsung Note 9 either ???????? knows no bluetooth ??\", 'I lost my right hearing aid and had it replaced. I cannot get the Oticon app to see the new hearing aid. It lists the previous (lost) hearing aid serial # and find no way of changing that. I cannot use any of the controls and features for the new hearing aid.': 'I lost my right hearing aid and had it replaced. I cannot get the Oticon app to see the new hearing aid. It lists the previous (lost) hearing aid serial # and find no way of changing that. I cannot use any of the controls and features for the new hearing aid.', \"Doesn't work\": \"Doesn't work\", 'Excellent': 'Excellent', 'service, daily installs can reach 3000+. Ping me at Skype and Whatsapp: +8615282351612  ã€\\x81Facebookï¼šASO880 . Every one can get a test promtoin fot 3 days now!': 'service, daily installs can reach 3000+. Ping me at Skype and Whatsapp: +8615282351612  ã€\\x81Facebookï¼šASO880 . Every one can get a test promtoin fot 3 days now!', 'Older version continually caused problems with hearing aids ... weird LOUD noises, feedback and just was not worth using. Got the Beta release it works....': 'Older version continually caused problems with hearing aids ... weird LOUD noises, feedback and just was not worth using. Got the Beta release it works....', 'Bom...mas Ãºltima versÃ£o nÃ£o Ã© boa mal uso': 'Good ... but the latest version is not good misuse', 'Repeat attempts to use this app have been fruitless. Login fails, reset fails and getting a response from developers fails. Deleting the app.': 'Repeat attempts to use this app have been fruitless. Login fails, reset fails and getting a response from developers fails. Deleting the app.', 'Trop peu de paramÃ¨tres rÃ©glables': 'Too few adjustable parameters', 'I was able to play radio and other music from my iPhone into the hearing aids before the latest update.  Now it just doesnâ€™t work at all even after doing the two-step pairing process.  Trash.': 'I was able to play radio and other music from my iPhone into the hearing aids before the latest update.  Now it just doesnâ€™t work at all even after doing the two-step pairing process.  Trash.', 'Leichte Bedienung': 'Easy operation', 'ZloÅ¾itÃ© pripojenie, po strate signÃ¡lu, Ä\\x8dasto je potrebnÃ© opakovaÅ¥ pÃ¡rovanie, s opakovanÃ½m vypÃ\\xadnanÃ\\xadm slÃºchadlÃ¡. KeÄ\\x8f je pripojenÃ© slÃºchadlo applikÃ¡cia funguje dobre.': 'ZloÅ¾itÃ© pripojenie, po strate signÃ¡lu, Ä\\x8dasto je potrebnÃ© opakovaÅ¥ pÃ¡rovanie, s opakovanÃ½m vypÃ\\xadnanÃ\\xadm slÃºchadlÃ¡. KeÄ\\x8f je pripojenÃ© slÃºchadlo applikÃ¡cia funguje dobre.', 'Inconsistent connectivity to aids ... Purchased in November 2019. Supposed to be compatible, but 9 out of 10 times, I cannot connect... Making this app USELESS.': 'Inconsistent connectivity to aids ... Purchased in November 2019. Supposed to be compatible, but 9 out of 10 times, I cannot connect... Making this app USELESS.', 'very useful\\nplease apple watch app': 'very useful\\nplease apple watch app', 'The Bluetooth connection has to be reset virtually every time you use the app. I have an Iphone with no other Bluetooth problems which leads me to feel your app is faulty. Even when connected it doesnâ€™t stream the phone to the aids when in use': 'The Bluetooth connection has to be reset virtually every time you use the app. I have an Iphone with no other Bluetooth problems which leads me to feel your app is faulty. Even when connected it doesnâ€™t stream the phone to the aids when in use', 'La pega que tengo es que con cualquier auricular bluetooth de poca monta puedo recibir llamadas del movil y estos de mÃ¡s de cinco mil euros no...Ahora si compro el accesorio ReSound Phone Clip+ ya mi telÃ©fono si es compatible....no me convence para nada.': 'The downside I have is that with any small-time bluetooth headset I can receive calls from my mobile and these over five thousand euros are not ... Now if I buy the ReSound Phone Clip + accessory and my phone if it is compatible .. ..not convince me at all.', 'Ok': 'Ok', 'Very good app to buy & store your purchased items': 'Very good app to buy & store your purchased items', 'Adorei': 'I loved it', 'Logo Bluetooth clignote en permanence je ne peux donc faire aucun rÃ©glage': \"Bluetooth logo constantly flashing so I can't make any settings\", 'es lÃ¤uft ja schon alles besser mit der neuesten Version, aber....\\nder Aufbau zur TV Box geht schon besser - aber es wird doch recht lange nach der Blue thooth Verbindung gesucht, klappt aber dann, wenn ich das Iphone neu gestartet habe, Ã¤rgerlich!!!\\nund nach dem abschalten der TV Box sucht die app immer noch die blue tooth Verbindung, sucht und sucht und am Morgen ist der Akku so gut wie leer, auch Ã¤rgerlich!!!\\nWarum schaltet sich die App dann nicht aus?, selbst wenn ich mein Iphone ausschalte sucht sie immer weiter .\\nUnd der Button in den Einstellungen ist da auch keine Hilfe, funktioniert wann und wenn er will.\\nAlso noch etwas verbessern, auf dem Weg sind Sie ja schon': \"everything works better with the newest version, but ....\\nthe setup to the TV box works better - but the search for the blue thooth connection takes a long time, but it works when I restart the iphone, annoying!\\nand after switching off the TV box the app is still looking for the blue tooth connection, searching and searching and in the morning the battery is as good as empty, also annoying !!!\\nThen why doesn't the app turn off? Even if I turn off my iPhone, it keeps searching.\\nAnd the button in the settings is of no help either, works when and when it wants.\\nSo improve something, you are already on the way\", \"C'est la bonne version mise Ã\\xa0 jour\": 'This is the correct updated version', 'Ich bin Ã¼berhaupt nicht zu Frieden mit der App. Erst dachte ich das alles Supi ist. Aber nach lÃ¤ngerem Tragen der HÃ¶rgerÃ¤te und Testen der App, bin ich total EnttÃ¤uscht. Egal was ich einstelle, es geht immer wieder auf den Ausgang der Einstellungen zurÃ¼ck. Das ist im Berufsleben sehr Anstrengend. Werde warscheinlich noch mal andere HÃ¶rgerÃ¤te testen, wo die App auch Funtioniert.': \"I'm not at peace with the app at all. At first I thought that everything was great. But after wearing the hearing aids for a long time and testing the app, I am totally disappointed. No matter what I set, it always goes back to the starting point of the settings. That's very exhausting in professional life. I will probably try other hearing aids again, where the app also works.\", \"Unfreaking real! The app actually worked pretty well. Now they decided a new update would suit everyone. Only problem is they don't test it before pushing it out. I can no longer connect. Tried repairing. Resetting and deleting/reinstalling the app. Great job you clowns at Phonak.\": \"Unfreaking real! The app actually worked pretty well. Now they decided a new update would suit everyone. Only problem is they don't test it before pushing it out. I can no longer connect. Tried repairing. Resetting and deleting/reinstalling the app. Great job you clowns at Phonak.\", \"It's great! You can mix & match the sounds you want, the UI is well made and simple to use, there's no ads. I keep it on basically all day & night and it doesn't drain my battery either.\": \"It's great! You can mix & match the sounds you want, the UI is well made and simple to use, there's no ads. I keep it on basically all day & night and it doesn't drain my battery either.\", 'Since latest update the app does not recognize my left ear aid.': 'Since latest update the app does not recognize my left ear aid.', \"Only works sometimes. Hard to connect or reconnect when you're having problems.\": \"Only works sometimes. Hard to connect or reconnect when you're having problems.\", 'Aide pouf rÃ©glages': 'Help footstool settings', 'å¼€å\\x8f‘è€…ï¼Œä»€ä¹ˆæ—¶å€™æ”¯æŒ\\x81è€³å†…å¼\\x8fåŠ©å\\x90¬å™¨å•Š': 'å¼ € å ‘è €… ï¼Œä» € ä¹ˆæ — ¶å € ™ æ ”¯æŒ è € ³å †… å¼ åŠ © å ¬å ™ ¨å • Š', \"Je vient d'acquÃ©rir un tÃ©lÃ©phone Samsung pour tÃ©lÃ©phone professionnel impossible de le connecter avec mes appareils auditifs je suis obligÃ© de prendre mon tÃ©lÃ©phone personnelle (iphone) pour pouvoir appeler mes client dommage\": 'I have just bought a Samsung phone for business phone which cannot be connected with my hearing aids I have to take my personal phone (iphone) to be able to call my clients pity', \"I'm using this app for about few weeks, whenever I use this app to stream in coming or out going calls through Bluetooth, as soon as call ends the Phone restarts again, this is bit annoying\": \"I'm using this app for about few weeks, whenever I use this app to stream in coming or out going calls through Bluetooth, as soon as call ends the Phone restarts again, this is bit annoying\", 'Very good app. Light, without advertisements and fulfills its purpose very well.': 'Very good app. Light, without advertisements and fulfills its purpose very well.', 'NÃ£o Ã© todos celulares que pegar. Este app dar muito deveito. Precisa melhorar muito.': 'It is not all cell phones to pick up. This app is very useful. It needs to improve a lot.', 'Right ear soynds like im listening to a sea shell constant': \"Right ear sounds like i'm listening to a seashell constant\", 'Es muy prÃ¡ctica la app': 'The app is very practical', \"Good app except I keep having to delete and redownload. The app suddenly can't find one or both hearing aids.\": \"Good app except I keep having to delete and redownload. The app suddenly can't find one or both hearing aids.\", 'NOT SO GOOD KEEP HAVE ADJUSTED SOUND': 'NOT SO GOOD KEEP HAVE ADJUSTED SOUND', 'Muy util app, colocarle indicador al nivel de sonido.': 'Very useful app, place an indicator to the sound level.', 'Not really getting a total increase in volume ..:(': 'Not really getting a total increase in volume ..:(', 'Since installing the update my iPhone doesnâ€™t recognize the TV Box even though it is streaming audio.': 'Since installing the update my iPhone doesnâ€™t recognize the TV Box even though it is streaming audio.', 'Fonctionne mal': 'Works badly', 'I would give it a 5 but It may be my Hearing Aids. Can the app be downloaded to my Samsung Smart Watch? If so, how? Thanks': 'I would give it a 5 but It may be my Hearing Aids. Can the app be downloaded to my Samsung Smart Watch? If so, how? Thanks', 'Steuerung zu grob!': 'Control too rough!', \"Impossible de rÃ©gler individuellement R&L,se dÃ©connecte Ã©galement,pas de sonnerie tÃ©lÃ©phone:j'ai des Starkey halo IQ2400 qui fonctionnent bien mieux avec l'application :rÃ©glages de connexion, indÃ©pendant R&L sonnerie de tÃ©l,et pas de coupures intempestives\": 'Cannot set R&L individually, also logs out, no phone ringing: I have Starkey halo IQ2400s that work much better with the app: connection settings, independent R&L ringing, and no untimely cuts', 'Negativa': 'Negative', 'buena y Ãºtil aplicaciÃ³n gratuita': 'good and useful free app', 'awn, bF, w. bb~': 'awn, bF, w. bb~', 'Not sure whatâ€™s worse, the hearing aid or the app...$2,500 down the drain....Iâ€™d rather keep saying â€œwhat?â€\\x9d....': 'Not sure whatâ€™s worse, the hearing aid or the app...$2,500 down the drain....Iâ€™d rather keep saying â€œwhat?â€\\x9d....', 'Awesome': 'Awesome', 'Man sollte vieleicht jede Seite separat einstellen kÃ¶nnen,das wÃ¤re sehr hilfreich.': 'Perhaps you should be able to set each page separately, that would be very helpful.', \"Can't get blue tooth to sync.\": \"Can't get bluetooth to sync.\", 'Le logiciel ne veut plus fonctionner ????': 'The software does not want to work anymore ????', 'Update to latest version and graphics showed app was trying to connect and failed despite the fact it was working albeit with no control.': 'Update to latest version and graphics showed app was trying to connect and failed despite the fact it was working albeit with no control.', \"OK, but the update to release 10044.4400 has been made. What's new? Because I seem to hear better than before, in particular the most understandable and clear voice, in short, improved and also in general.\": \"OK, but the update to release 10044.4400 has been made. What's new? Because I seem to hear better than before, in particular the most understandable and clear voice, in short, improved and also in general.\", 'Einfach zu bedienen und effektvoll': 'Easy to use and effective', 'Funktioniert': 'Works', 'Das iPhone muÃŸ dann neu gestartet werden?': 'Das iPhone muÃŸ dann neu gestartet werden?', 'Ã‡a marche pas trop voir pas du tout': \"It doesn't work too much to see not at all\", 'Habe die App installiert, danach musste ich mein Smartphone alle 3 Tage einen Neustart machen': 'I installed the app, after which I had to restart my smartphone every 3 days', \"This app partially (one side) worked on my i-Phone 5, but doesn't work on my Ulefone Armor 3 with Oreo 8. It only worked on a Samsung tablet. Bluetooth for audio is working on all devices.\": \"This app partially (one side) worked on my i-Phone 5, but doesn't work on my Ulefone Armor 3 with Oreo 8. It only worked on a Samsung tablet. Bluetooth for audio is working on all devices.\", 'I am working at a hospital effected by COVID-19. IM using this app when I have some moments to myself to listen to nature sounds, music, and or white noise to help me relax before continuing on with the day. It really helps.': 'I am working at a hospital effected by COVID-19. IM using this app when I have some moments to myself to listen to nature sounds, music, and or white noise to help me relax before continuing on with the day. It really helps.', 'Verwende die App erst seit einigen Tagen und bin recht zufrieden damit. Was mir unbedingt fehlt wÃ¤re ein Dunkelmodus, um in abgedunkelten RÃ¤umen, dezent die App zu benutzen.': \"I've only been using the app for a few days and I'm pretty happy with it. What I absolutely miss would be a dark mode to use the app discreetly in darkened rooms.\", 'Great sound therapy!': 'Great sound therapy!', \"It's a bit slow on opening, if you need to change the sound quickly.\": \"It's a bit slow on opening, if you need to change the sound quickly.\", 'These are very frustrating \\nOne day  the right wonâ€™t work\\nThe next day the left is on the blink\\nIf they didnâ€™t cost so much I would through them in the fire ðŸ”¥\\nShitful': 'These are very frustrating \\nOne day  the right wonâ€™t work\\nThe next day the left is on the blink\\nIf they didnâ€™t cost so much I would through them in the fire ðŸ”¥\\nShitful', 'Only works half the time': 'Only works half the time', 'This application is useless. It allows you to create custom scenes to fine-tune your hearing aids, but it doesnâ€™t store them in the hearing aids, the instance you get a notification over Bluetooth for something else it resets to the default scene that is stored in your hearing aid.\\n \\nOne of the feedback responses I saw in the app store fir a negative review indicated that you can turn off notifications from classic Bluetooth devices, and indicated that this is expected behavior, and only scenes that are stored in the hearing aids can be made default.  It doesnâ€™t mention how you go about turning off notifications, or how to determine what is a classic Bluetooth connection and what isnâ€™t.\\nThe response reeked with condescension and disgust at you superior people having to deal with us pesky users. \\n \\nIt is utterly ludicrous that you released this application with this limitation.  It makes the application utterly useless.  It is completely unacceptable that the only way that I can put a program in my hearing aids is by going to my hearing professional, and in my case since itâ€™s the VA that can take 6 to 10 weeks.\\n \\nStop mouthing platitudes and fix this disgrace!': 'This application is useless. It allows you to create custom scenes to fine-tune your hearing aids, but it doesnâ€™t store them in the hearing aids, the instance you get a notification over Bluetooth for something else it resets to the default scene that is stored in your hearing aid.\\n \\nOne of the feedback responses I saw in the app store fir a negative review indicated that you can turn off notifications from classic Bluetooth devices, and indicated that this is expected behavior, and only scenes that are stored in the hearing aids can be made default.  It doesnâ€™t mention how you go about turning off notifications, or how to determine what is a classic Bluetooth connection and what isnâ€™t.\\nThe response reeked with condescension and disgust at you superior people having to deal with us pesky users. \\n \\nIt is utterly ludicrous that you released this application with this limitation.  It makes the application utterly useless.  It is completely unacceptable that the only way that I can put a program in my hearing aids is by going to my hearing professional, and in my case since itâ€™s the VA that can take 6 to 10 weeks.\\n \\nStop mouthing platitudes and fix this disgrace!', 'Learned alot': 'Learned alot', 'No sound No sound': 'No sound No sound', 'Ging bis jetzt alles prima. Werde nun noch abwarten , wie es mit den HÃ¶rgerÃ¤ten klappt....': 'So far everything went fine. Will now wait and see how it works with the hearing aids ....', 'Works for me.': 'Works for me.', 'Habe ein neues Smartphone mit Android 10 bekommen leider funktioniert die app erst wenn ich das Handy neu starte. Es wÃ¤re gut wenn ein neues Update kommen wÃ¼rde um die Software zu aktualisieren.': 'Habe ein neues Smartphone mit Android 10 bekommen leider funktioniert die app erst wenn ich das Handy neu starte. Es wÃ¤re gut wenn ein neues Update kommen wÃ¼rde um die Software zu aktualisieren.', 'Thorough and free': 'Thorough and free', 'Makes a huge difference to lost high frequencies and reduces tinitis.': 'Makes a huge difference to lose high frequencies and reduces tinnitus.', 'The relaxation breathing exercise would be good If I didnâ€™t want to ram a pencil into my ear every time I listen to this guy.  His voice isnâ€™t soothing or relaxing. He reminds me of my college economics professor that was as dry as popcorn farts.  Jeezle ... get someone with a better voice personality than this guy.': 'The relaxation breathing exercise would be good If I didnâ€™t want to ram a pencil into my ear every time I listen to this guy.  His voice isnâ€™t soothing or relaxing. He reminds me of my college economics professor that was as dry as popcorn farts.  Jeezle ... get someone with a better voice personality than this guy.', 'For the amount money they cost, you would think it would be better quality sounding & I hate the app. I wish I could get my money back & go with another company.': 'For the amount money they cost, you would think it would be better quality sounding & I hate the app. I wish I could get my money back & go with another company.', 'Not what was first visualized': 'Not what was first visualized', \"Harder to use than the app it replaced. If you are using several programs, I use four, can't tell difference in them. Not satisfied with this app.\": \"Harder to use than the app it replaced. If you are using several programs, I use four, can't tell difference in them. Not satisfied with this app.\", 'Sehr gut.': 'Sehr gut.', 'Work Very good! Thanks!': 'Work Very good! Thanks!', 'Iâ€™ve had many problems with this app.  Very frustrating to say the least.  I can connect on my iPhone and have some basic control.  The app is not stable, why even offer it?': 'Iâ€™ve had many problems with this app.  Very frustrating to say the least.  I can connect on my iPhone and have some basic control.  The app is not stable, why even offer it?', \"As a tinnitus sufferer, I like the versatility of the Opticon On app. I find that I change the amplitude of the masker when I need more distraction. I may try to get my hearing specialist to add some more programs if possible, as I find I use different ones in different settings. With Android I use the Connect clip often to stream from my phone and Bluetooth in the car. Helpful as well in noisy environments if I can place the microphone clip closer to the subject I'm conversing with.\": \"As a tinnitus sufferer, I like the versatility of the Opticon On app. I find that I change the amplitude of the masker when I need more distraction. I may try to get my hearing specialist to add some more programs if possible, as I find I use different ones in different settings. With Android I use the Connect clip often to stream from my phone and Bluetooth in the car. Helpful as well in noisy environments if I can place the microphone clip closer to the subject I'm conversing with.\", 'Hallo ReSound Team, ich habe ein Handy Xiaomi Redmi Note 5. Androidversion 9. Zur Zeit lÃ¤ÃŸt sich die App leider nicht nutzen. Kann ich hoffen das eine Anpassung erfolgt? Oder ist es erforderlich sich ein neues Handy zu zulegen?': 'Hello ReSound Team, I have a Xiaomi Redmi Note 5 mobile phone. Android version 9. Unfortunately, the app cannot be used at the moment. Can I hope that there will be an adjustment? Or is it necessary to get a new cell phone?', 'Excelente app. Muchas gracias': 'Excellent app. Thanks a lot', 'ì˜µì…˜ì\\x9d´ ë§Žì•„ì„œ ë‚´ ê·€ì—\\x90 ë§žëŠ” ì†Œë¦¬ë¥¼ ì°¾ì\\x9d„ìˆ˜ìžˆëŠ”ê²Œ ì°¸ ì¢‹ìœ¼ë„¤ìš”.': 'ì˜µì… ˜ì ´ ë§Žì • „ì„ œ ë‚´ ê · € ì— ë§žëŠ ”ì † Œë¦¬ë ¥ ¼ ì ° ¾ì„ ìˆ˜ìžˆëŠ ”ê²Œ ì ° ¸ ì ¢ ‹ìœ¼ë„ ¤ìš ”.', 'Great app': 'Great app', \"Had to factory reset note 4, now app doesn't work, requires a clip? OK I checked with the audiologist. She said I need smart 3d. Only that one now says it isn't compatible with my note 4 even though it worked until about 3 weeks ago when I had to factory reset my phone. Edit 4/28/20: thank you, at least I'm not going crazy. If I buy a note 8 will I have streaming over Bluetooth with my current hearing aids from Costco? Or must they be upgraded too? Previa. Edit 042820: returning hearing aids.\": \"Had to factory reset note 4, now app doesn't work, requires a clip? OK I checked with the audiologist. She said I need smart 3d. Only that one now says it isn't compatible with my note 4 even though it worked until about 3 weeks ago when I had to factory reset my phone. Edit 4/28/20: thank you, at least I'm not going crazy. If I buy a note 8 will I have streaming over Bluetooth with my current hearing aids from Costco? Or must they be upgraded too? Previa. Edit 042820: returning hearing aids.\", 'Most useful app': 'Most useful app', 'Sie waren sehr freundlich und hilfreich. Danke': 'They were very friendly and helpful. Thank you', 'Static noise in background on some settings. Uninstalled due to no update in 2.5 years.': 'Static noise in background on some settings. Uninstalled due to no update in 2.5 years.', 'This App is a great addition to my hearing loss. Linking to the TV makes a big difference. \\nThe issue I have is that when I swipe to TV/Micro-Mu after a few uses, the TV Streamer 2 option disappears and only the Surroundings option is available which is frustrating. \\nRebooting my phone solves the issue. Iâ€™ve also reinstalled the App. None of these make a permanent difference. Thank you.': 'This App is a great addition to my hearing loss. Linking to the TV makes a big difference. \\nThe issue I have is that when I swipe to TV/Micro-Mu after a few uses, the TV Streamer 2 option disappears and only the Surroundings option is available which is frustrating. \\nRebooting my phone solves the issue. Iâ€™ve also reinstalled the App. None of these make a permanent difference. Thank you.', 'En possession de Styletto, ceux-ci sont parfaitement connectÃ©s en Bluetooth au tÃ©lÃ©phone mais non reconnu par cette application (mais aucun problÃ¨me avec lâ€™appli Signia App).': 'In possession of Styletto, they are perfectly connected by Bluetooth to the phone but not recognized by this application (but no problem with the Signia App).', 'El ruido del mar es fantÃ¡stico, me ayuda para coger el sueÃ±o. Gracias.': 'The noise of the sea is fantastic, it helps me to sleep. Thank you.', 'No iPhone se funcionava super bem troquei pelo Android 10 com Bluetooth 5.0 perdi a transmissÃ£o direta de Ã¡udio e o app para ajustes de volume apresenta muitas falhas de conectividade.... Aguardo resoluÃ§Ã£o.': 'On the iPhone it worked very well, I switched to Android 10 with Bluetooth 5.0 I lost the direct audio transmission and the volume adjustment app has many connectivity failures .... I await resolution.', 'It does not connect consistently with my hearing aids. Very frustrating!': 'It does not connect consistently with my hearing aids. Very frustrating!', 'Need more time to evaluate..': 'Need more time to evaluate..', 'Now I am getting messages to rate this useless app! Rubbish illogical set up. QR code not working. Manual set up no battery check? I just want a clear volume control and battery check!': 'Now I am getting messages to rate this useless app! Rubbish illogical set up. QR code not working. Manual set up no battery check? I just want a clear volume control and battery check!', \"Can't get it out of demo mode without deleting and reinstalling. Fortunately I remembered my password.\": \"Can't get it out of demo mode without deleting and reinstalling. Fortunately I remembered my password.\", 'iPhone gjenkjenner ikke hÃ¸reapparater - problemer med oppdatering? Har fjernet og lastet ned ny app - intet hjelper! Er appen oppdatert til siste iPhone-versjon?': 'iPhone does not recognize hearing aids - problems with updating? Have removed and downloaded new app - nothing helps! Is the app updated to the latest iPhone version?', 'These are by far the BEST hearing AIDS I have ever had and Iâ€™ve worn hearing AIDS for 30 years BUT ever since this last update I keep losing connectivity between my app and the hearing aids and Iâ€™m finding its after I have used my remote microphone or my streaming box for tv. Sometimes I lose it for no reason. I end up having to shut everything down and re-pair. I would give them 5 stars otherwise!': 'These are by far the BEST hearing AIDS I have ever had and Iâ€™ve worn hearing AIDS for 30 years BUT ever since this last update I keep losing connectivity between my app and the hearing aids and Iâ€™m finding its after I have used my remote microphone or my streaming box for tv. Sometimes I lose it for no reason. I end up having to shut everything down and re-pair. I would give them 5 stars otherwise!', \"C'est assez difficile de trouver des bons rÃ©glages. Le gros problÃ¨me c'est en milieu bruyant comme les mariages... Pour moi, c'est la puissance qu'on devrait pouvoir rÃ©gler facilement.\": \"It's pretty hard to find good settings. The big problem is in a noisy environment like weddings ... For me, it's the power that we should be able to adjust easily.\", \"Doesn't hold the settings I enter. Someone needs to develop a more reliable app.\": \"Doesn't hold the settings I enter. Someone needs to develop a more reliable app.\", 'Sucks. Will only pair one of 2 hearing aids.': 'Sucks. Will only pair one of 2 hearing aids.', 'I had no problem connecting to my previous iPhone. I got a new iPhone last week. It is a SE2020.  It shows â€œconnectedâ€\\x9d in the app. There is no icon on the phone and no connection to phone calls. Yes, Bluetooth is on and shows connected. Cannot hear notifications or calls. So other than volume control and battery used it is useless.\\n*Update: after deleting the app and reloading a few times it finally worked. I have no idea why this happened but happy to have the app working for me now! Iâ€™ve changed the rating.': 'I had no problem connecting to my previous iPhone. I got a new iPhone last week. It is a SE2020.  It shows â€œconnectedâ€\\x9d in the app. There is no icon on the phone and no connection to phone calls. Yes, Bluetooth is on and shows connected. Cannot hear notifications or calls. So other than volume control and battery used it is useless.\\n*Update: after deleting the app and reloading a few times it finally worked. I have no idea why this happened but happy to have the app working for me now! Iâ€™ve changed the rating.', 'I like the app but could do with a bit more info on how to use the different functions': 'I like the app but could do with a bit more info on how to use the different functions', 'Unable to complete hearing test. Never switches between pictures and numbers. Closes after caning the test.': 'Unable to complete hearing test. Never switches between pictures and numbers. Closes after caning the test.', 'wont put bot aids on at once or hook up to phone': 'wont put bot aids on at once or hook up to phone', 'Bonjour derniÃ¨re mise a jour pas au point... Je possÃ¨de un redmi note 8 pro et je peux mÃªme pas me servir de la derniÃ¨re mise a jour.. , de plus appareil qui ce dÃ©connecte tout seul mÃªme charger a bloc, donc dÃ©Ã§u de cette mise a jour .. cordialement': 'Bonjour derniÃ¨re mise a jour pas au point... Je possÃ¨de un redmi note 8 pro et je peux mÃªme pas me servir de la derniÃ¨re mise a jour.. , de plus appareil qui ce dÃ©connecte tout seul mÃªme charger a bloc, donc dÃ©Ã§u de cette mise a jour .. cordialement', 'TrÃ¨s bien et super pratique': 'Very good and super practical', 'disconnect from the app for no reason is very inconvenient.fails to connect to phone audio': 'disconnect from the app for no reason is very inconvenient.fails to connect to phone audio', \"Good features for tailoring sound but can't keep it for long. Switches to auto as soon as phone goes in standby. Even a Ring doorbell notification switches it to auto. Not a useable app in practice\": \"Good features for tailoring sound but can't keep it for long. Switches to auto as soon as phone goes in standby. Even a Ring doorbell notification switches it to auto. Not a useable app in practice\", 'Es un desmadre': 'Es un desmadre', 'Los 2 primeros aÃ±os funcionÃ³ perfectamente, ahora no hay manera. Se han mandado a arreglar y la aplicaciÃ³n con los audÃ\\xadfonos no va. Estoy cabreadÃ\\xadsimo': \"The first 2 years it worked perfectly, now there is no way. They have been ordered to be fixed and the application with the headphones does not work. I'm so pissed off\", 'Hier geht auch nix, ohne einen Profi zu bitten alles einzurichten. Sowas muss doch einfach gehen. Ich finde das echt blÃ¶d. Extra passendes Handy gekauft und nix geht. Ich geb wohl auf. Ich komme ja nicht mal Ã¼ber die Annehmen-Prozedur HH hinaus. FRUSTRIEREND!': \"Nothing goes here without asking a professional to set everything up. Something like that just has to work. I think that's really stupid. Bought an extra suitable mobile phone and nothing works. I guess I'm giving up. I can't even get past the HH accept procedure. FRUSTRATING!\", 'This app rarely works with my hearing aids.  It worked far better a year ago, now itâ€™s a total waste of time.  I am deleting it.': 'This app rarely works with my hearing aids.  It worked far better a year ago, now itâ€™s a total waste of time.  I am deleting it.', 'Words easy and well': 'Words easy and well', 'Som muito fino.Voz de mulher Ã© muito fino.': \"Very fine sound. Woman's voice is very fine.\", 'Useless': 'Useless', 'Einfach nicht zu gebrauchen! Was nÃ¼tzt ein HÃ¶rgerÃ¤t, wenn dieses nicht umzustellen ist, weil die App keine Verbindung bekommt.': 'Just useless! What use is a hearing aid if it cannot be changed because the app cannot connect?', 'Wish it worked better for Android, specially a pixel XL3': 'Wish it worked better for Android, specially a pixel XL3', 'Experiencing a very narrow variation in volume and tone.': 'Experiencing a very narrow variation in volume and tone.', 'It is difficult to get it to connect to the pendant requires several attempts. Occasionally drops connection to ear peice.': 'It is difficult to get it to connect to the pendant requires several attempts. Occasionally drops connection to ear peice.', 'When screen is off any changes revert back to where you started. Not good.': 'When screen is off any changes revert back to where you started. Not good.', 'I just love that i can hear alot better than I use to.': 'I just love that i can hear alot better than I use to.', 'Unable to connect to both hearing aids, as mentioned by many users': 'Unable to connect to both hearing aids, as mentioned by many users', 'biggest problem when you close the app is that it does not run in the background, and has to be restarted each time. real bummer,': 'biggest problem when you close the app is that it does not run in the background, and has to be restarted each time. real bummer,', 'Passiert nix. Grauer Bildschirm.': 'Passiert nix. Grauer Bildschirm.', 'Nice experience.': 'Nice experience.', 'Ganz schlechtes App': 'Ganz schlechtes App', 'The downloaded app does not have the same features as what is pictured': 'The downloaded app does not have the same features as what is pictured'}\n"
     ]
    }
   ],
   "source": [
    "translations = {}\n",
    "\n",
    "\n",
    "for column in df_en.columns:\n",
    "    # unique elements of the column\n",
    "    unique_elements = df_en['review'].unique()\n",
    "    for element in unique_elements:\n",
    "        # add translation to the dictionary\n",
    "        translations[element] = translator.translate(element).text\n",
    "        \n",
    "    \n",
    "print(translations)\n",
    "\n",
    "\n"
   ]
  },
  {
   "cell_type": "code",
   "execution_count": 75,
   "metadata": {},
   "outputs": [
    {
     "data": {
      "text/html": [
       "<div>\n",
       "<style scoped>\n",
       "    .dataframe tbody tr th:only-of-type {\n",
       "        vertical-align: middle;\n",
       "    }\n",
       "\n",
       "    .dataframe tbody tr th {\n",
       "        vertical-align: top;\n",
       "    }\n",
       "\n",
       "    .dataframe thead th {\n",
       "        text-align: right;\n",
       "    }\n",
       "</style>\n",
       "<table border=\"1\" class=\"dataframe\">\n",
       "  <thead>\n",
       "    <tr style=\"text-align: right;\">\n",
       "      <th></th>\n",
       "      <th>review</th>\n",
       "      <th>stars</th>\n",
       "      <th>product_id</th>\n",
       "      <th>original_review</th>\n",
       "    </tr>\n",
       "  </thead>\n",
       "  <tbody>\n",
       "    <tr>\n",
       "      <th>0</th>\n",
       "      <td>Great</td>\n",
       "      <td>5</td>\n",
       "      <td>2.806230e+11</td>\n",
       "      <td>Ottimo</td>\n",
       "    </tr>\n",
       "    <tr>\n",
       "      <th>1</th>\n",
       "      <td>Can't tell the difference between the 3 settings</td>\n",
       "      <td>1</td>\n",
       "      <td>4.041600e+10</td>\n",
       "      <td>Can't tell the difference between the 3 settings</td>\n",
       "    </tr>\n",
       "    <tr>\n",
       "      <th>2</th>\n",
       "      <td>This app is horrible.  It does not connect to ...</td>\n",
       "      <td>1</td>\n",
       "      <td>2.808510e+11</td>\n",
       "      <td>This app is horrible.  It does not connect to ...</td>\n",
       "    </tr>\n",
       "    <tr>\n",
       "      <th>3</th>\n",
       "      <td>Nice app and would be great if can remember my...</td>\n",
       "      <td>4</td>\n",
       "      <td>2.815580e+11</td>\n",
       "      <td>Nice app and would be great if can remember my...</td>\n",
       "    </tr>\n",
       "    <tr>\n",
       "      <th>4</th>\n",
       "      <td>When I adjust the setting it is too shrill for...</td>\n",
       "      <td>1</td>\n",
       "      <td>4.038078e+10</td>\n",
       "      <td>Als ik de instelling aanpas is het te schel vo...</td>\n",
       "    </tr>\n",
       "    <tr>\n",
       "      <th>...</th>\n",
       "      <td>...</td>\n",
       "      <td>...</td>\n",
       "      <td>...</td>\n",
       "      <td>...</td>\n",
       "    </tr>\n",
       "    <tr>\n",
       "      <th>195</th>\n",
       "      <td>The hearing aid is as previously pointed out w...</td>\n",
       "      <td>1</td>\n",
       "      <td>2.801820e+11</td>\n",
       "      <td>HÃ¶rapparaten Ã¤r som tidigare pÃ¥pekats bra, ...</td>\n",
       "    </tr>\n",
       "    <tr>\n",
       "      <th>196</th>\n",
       "      <td>The functions on the iPad are OK.\\nThe older m...</td>\n",
       "      <td>3</td>\n",
       "      <td>4.019572e+10</td>\n",
       "      <td>Die Funktionen auf dem iPad sind i.O.\\nMit dem...</td>\n",
       "    </tr>\n",
       "    <tr>\n",
       "      <th>197</th>\n",
       "      <td>It does not work for Xiaomi mi mobile max 2, p...</td>\n",
       "      <td>1</td>\n",
       "      <td>2.805900e+11</td>\n",
       "      <td>No funciona para el mÃ³vil de Xiaomi mi mÃ¡x 2...</td>\n",
       "    </tr>\n",
       "    <tr>\n",
       "      <th>198</th>\n",
       "      <td>I use a Xiaomi mobile phone and the app only o...</td>\n",
       "      <td>1</td>\n",
       "      <td>2.807070e+11</td>\n",
       "      <td>Ich benutze ein Xiaomi Handy und die App biete...</td>\n",
       "    </tr>\n",
       "    <tr>\n",
       "      <th>199</th>\n",
       "      <td>Would prefer more frequency flexibility.</td>\n",
       "      <td>3</td>\n",
       "      <td>4.041600e+10</td>\n",
       "      <td>Would prefer more frequency flexibility.</td>\n",
       "    </tr>\n",
       "  </tbody>\n",
       "</table>\n",
       "<p>200 rows × 4 columns</p>\n",
       "</div>"
      ],
      "text/plain": [
       "                                                review  stars    product_id  \\\n",
       "0                                                Great      5  2.806230e+11   \n",
       "1     Can't tell the difference between the 3 settings      1  4.041600e+10   \n",
       "2    This app is horrible.  It does not connect to ...      1  2.808510e+11   \n",
       "3    Nice app and would be great if can remember my...      4  2.815580e+11   \n",
       "4    When I adjust the setting it is too shrill for...      1  4.038078e+10   \n",
       "..                                                 ...    ...           ...   \n",
       "195  The hearing aid is as previously pointed out w...      1  2.801820e+11   \n",
       "196  The functions on the iPad are OK.\\nThe older m...      3  4.019572e+10   \n",
       "197  It does not work for Xiaomi mi mobile max 2, p...      1  2.805900e+11   \n",
       "198  I use a Xiaomi mobile phone and the app only o...      1  2.807070e+11   \n",
       "199           Would prefer more frequency flexibility.      3  4.041600e+10   \n",
       "\n",
       "                                       original_review  \n",
       "0                                               Ottimo  \n",
       "1     Can't tell the difference between the 3 settings  \n",
       "2    This app is horrible.  It does not connect to ...  \n",
       "3    Nice app and would be great if can remember my...  \n",
       "4    Als ik de instelling aanpas is het te schel vo...  \n",
       "..                                                 ...  \n",
       "195  HÃ¶rapparaten Ã¤r som tidigare pÃ¥pekats bra, ...  \n",
       "196  Die Funktionen auf dem iPad sind i.O.\\nMit dem...  \n",
       "197  No funciona para el mÃ³vil de Xiaomi mi mÃ¡x 2...  \n",
       "198  Ich benutze ein Xiaomi Handy und die App biete...  \n",
       "199           Would prefer more frequency flexibility.  \n",
       "\n",
       "[200 rows x 4 columns]"
      ]
     },
     "execution_count": 75,
     "metadata": {},
     "output_type": "execute_result"
    }
   ],
   "source": [
    "\n",
    "df_en.replace(translations, inplace = True)\n",
    "\n",
    "# check translation\n",
    "df_en['original_review']=df['review']\n",
    "df_en[:200]\n",
    "#df_en.to_csv('Final_translated.csv', index=False)"
   ]
  },
  {
   "cell_type": "code",
   "execution_count": 42,
   "metadata": {},
   "outputs": [
    {
     "data": {
      "text/html": [
       "        <script type=\"text/javascript\">\n",
       "        window.PlotlyConfig = {MathJaxConfig: 'local'};\n",
       "        if (window.MathJax) {MathJax.Hub.Config({SVG: {font: \"STIX-Web\"}});}\n",
       "        if (typeof require !== 'undefined') {\n",
       "        require.undef(\"plotly\");\n",
       "        requirejs.config({\n",
       "            paths: {\n",
       "                'plotly': ['https://cdn.plot.ly/plotly-latest.min']\n",
       "            }\n",
       "        });\n",
       "        require(['plotly'], function(Plotly) {\n",
       "            window._Plotly = Plotly;\n",
       "        });\n",
       "        }\n",
       "        </script>\n",
       "        "
      ]
     },
     "metadata": {},
     "output_type": "display_data"
    },
    {
     "data": {
      "application/vnd.plotly.v1+json": {
       "config": {
        "plotlyServerURL": "https://plot.ly"
       },
       "data": [
        {
         "alignmentgroup": "True",
         "bingroup": "x",
         "hovertemplate": "stars=%{x}<br>count=%{y}<extra></extra>",
         "legendgroup": "",
         "marker": {
          "color": "turquoise",
          "line": {
           "color": "rgb(8,48,107)",
           "width": 1.5
          }
         },
         "name": "",
         "offsetgroup": "",
         "orientation": "v",
         "showlegend": false,
         "type": "histogram",
         "x": [
          5,
          1,
          1,
          4,
          1,
          1,
          2,
          1,
          5,
          4,
          3,
          4,
          1,
          5,
          5,
          3,
          2,
          1,
          5,
          4,
          3,
          5,
          5,
          4,
          1,
          2,
          1,
          1,
          3,
          5,
          4,
          5,
          4,
          5,
          5,
          4,
          3,
          1,
          3,
          1,
          1,
          1,
          1,
          3,
          1,
          1,
          5,
          3,
          1,
          1,
          1,
          4,
          1,
          1,
          5,
          4,
          4,
          1,
          2,
          1,
          5,
          5,
          1,
          4,
          3,
          5,
          1,
          5,
          5,
          1,
          1,
          3,
          2,
          1,
          2,
          2,
          3,
          2,
          1,
          1,
          3,
          5,
          3,
          1,
          1,
          1,
          1,
          1,
          1,
          1,
          1,
          4,
          5,
          5,
          1,
          5,
          4,
          1,
          1,
          1,
          1,
          1,
          4,
          1,
          5,
          1,
          5,
          4,
          4,
          2,
          1,
          1,
          2,
          5,
          5,
          5,
          1,
          3,
          1,
          2,
          2,
          1,
          4,
          3,
          1,
          4,
          4,
          2,
          1,
          3,
          1,
          2,
          1,
          5,
          2,
          1,
          1,
          1,
          2,
          5,
          1,
          5,
          5,
          1,
          4,
          1,
          3,
          1,
          1,
          1,
          1,
          3,
          4,
          1,
          1,
          1,
          1,
          1,
          1,
          2,
          1,
          5,
          5,
          3,
          1,
          5,
          2,
          1,
          5,
          3,
          4,
          4,
          5,
          1,
          1,
          1,
          3,
          1,
          1,
          1,
          1,
          3,
          1,
          1,
          1,
          1,
          5,
          1,
          1,
          1,
          1,
          1,
          1,
          5,
          1,
          1,
          3,
          1,
          1,
          3,
          4,
          2,
          3,
          1,
          5,
          5,
          1,
          5,
          4,
          5,
          3,
          5,
          5,
          4,
          5,
          3,
          2,
          1,
          5,
          3,
          5,
          1,
          1,
          5,
          1,
          3,
          3,
          1,
          1,
          2,
          2,
          1,
          1,
          2,
          1,
          4,
          4,
          1,
          5,
          1,
          3,
          2,
          3,
          5,
          5,
          3,
          3,
          5,
          5,
          1,
          1,
          1,
          3,
          4,
          1,
          1,
          1,
          1,
          1,
          1,
          5,
          3,
          4,
          4,
          3,
          5,
          5,
          1,
          1,
          1,
          3,
          1,
          4,
          2,
          5,
          3,
          2,
          2,
          1,
          5,
          2,
          1,
          1,
          1,
          1,
          5,
          2,
          3,
          1,
          1,
          5,
          5,
          2,
          2,
          1,
          1,
          1,
          1,
          3,
          1,
          1,
          1,
          4,
          1,
          1,
          5,
          1,
          5,
          1,
          3,
          2,
          2,
          3,
          3,
          3,
          2,
          2,
          3,
          1,
          3,
          2,
          4,
          5,
          1,
          1,
          1,
          1,
          4,
          1,
          4,
          3,
          1,
          1,
          1,
          1,
          5,
          2,
          1,
          4,
          4,
          5,
          1,
          4,
          2,
          1,
          4,
          2,
          1,
          1,
          4,
          5,
          2,
          3,
          5,
          4,
          1,
          4,
          1,
          1,
          2,
          1,
          1,
          1,
          4,
          4,
          1,
          3,
          1,
          3,
          5,
          2,
          5,
          5,
          5,
          3,
          4,
          4,
          5,
          5,
          2,
          5,
          1,
          5,
          5,
          1,
          3,
          4,
          1,
          2,
          1,
          1,
          1,
          1,
          3,
          5,
          1,
          1,
          2,
          5,
          4,
          1,
          2,
          4,
          2,
          1,
          5,
          5,
          4,
          3,
          1,
          1,
          5,
          4,
          1,
          1,
          3,
          5,
          5,
          2,
          5,
          2,
          1,
          3,
          1,
          1,
          4,
          5,
          3,
          1,
          5,
          5,
          1,
          1,
          1,
          5,
          5,
          4,
          5,
          1,
          4,
          2,
          2,
          1,
          2,
          1,
          3,
          5,
          1,
          1,
          1,
          1,
          4,
          5,
          5,
          1,
          1,
          5,
          1,
          5,
          1,
          5,
          1,
          5,
          5,
          1,
          1,
          3,
          1,
          5,
          5,
          1,
          5,
          5,
          5,
          2,
          2,
          4,
          1,
          1,
          1,
          1,
          1,
          5,
          1,
          1,
          3,
          1,
          1,
          4,
          1,
          5,
          2,
          2,
          3,
          1,
          4,
          5,
          2,
          1,
          1,
          1,
          1,
          1,
          5,
          1,
          1,
          5,
          2,
          2,
          1,
          1,
          5,
          1,
          1,
          1,
          2,
          2,
          1,
          5,
          1,
          1,
          3,
          1,
          2,
          4,
          1,
          5,
          5,
          1,
          2,
          5,
          3,
          2,
          1,
          1,
          1,
          5,
          2,
          1,
          5,
          5,
          3,
          5,
          2,
          4,
          3,
          3,
          2,
          1,
          3,
          2,
          1,
          1,
          4,
          5,
          5,
          1,
          1,
          1,
          1,
          2,
          1,
          1,
          1,
          5,
          2,
          1,
          1,
          2,
          4,
          4,
          5,
          4,
          3,
          1,
          1,
          4,
          2,
          1,
          4,
          4,
          1,
          1,
          3,
          4,
          3,
          3,
          4,
          5,
          1,
          5,
          1,
          1,
          3,
          1,
          1,
          4,
          1,
          4,
          1,
          5,
          2,
          3,
          3,
          3,
          5,
          4,
          4,
          1,
          1,
          2,
          5,
          5,
          4,
          1,
          5,
          1,
          3,
          1,
          1,
          3,
          2,
          3,
          5,
          5,
          5,
          1,
          2,
          1,
          1,
          4,
          5,
          2,
          3,
          4,
          1,
          5,
          5,
          5,
          5,
          5,
          1,
          5,
          5,
          3,
          1,
          1,
          1,
          1,
          1,
          4,
          3,
          3,
          1,
          5,
          5,
          1,
          5,
          1,
          5,
          2,
          1,
          2,
          5,
          5,
          5,
          1,
          3,
          4,
          2,
          1,
          1,
          4,
          5,
          4,
          3,
          3,
          2,
          5,
          5,
          4,
          1,
          5,
          5,
          2,
          1,
          1,
          5,
          2,
          1,
          1,
          1,
          1,
          1,
          4,
          5,
          1,
          5,
          5,
          5,
          1,
          2,
          1,
          1,
          4,
          5,
          1,
          1,
          2,
          5,
          5,
          1,
          5,
          2,
          1,
          2,
          1,
          1,
          4,
          5,
          5,
          1,
          1,
          1,
          2,
          1,
          5,
          3,
          2,
          3,
          1,
          5,
          1,
          1,
          4,
          1,
          2,
          2,
          1,
          2,
          5,
          4,
          2,
          5,
          1,
          1,
          2,
          1,
          3,
          1,
          1,
          4,
          2,
          5,
          4,
          2,
          2,
          1,
          3,
          1,
          2,
          1,
          5,
          1,
          1,
          5,
          3,
          1,
          4,
          1,
          5,
          2,
          1,
          2,
          5,
          1,
          5,
          1,
          1,
          1,
          1,
          4,
          5,
          1,
          4,
          5,
          1,
          1,
          5,
          1,
          5,
          1,
          1,
          5,
          4,
          2,
          1,
          3,
          1,
          2,
          1,
          1,
          5,
          1,
          3,
          4,
          3,
          5,
          1,
          5,
          5,
          5,
          4,
          5,
          2,
          5,
          4,
          1,
          3,
          1,
          5,
          1,
          1,
          5,
          5,
          3,
          2,
          2,
          4,
          1,
          1,
          1,
          5,
          1,
          5,
          5,
          5,
          5,
          5,
          1,
          5,
          5,
          5,
          5,
          5,
          3,
          5,
          2,
          1,
          2,
          2,
          5,
          2,
          1,
          4,
          1,
          1,
          3,
          5,
          5,
          5,
          1,
          1,
          1,
          5,
          5,
          5,
          5,
          1,
          5,
          2,
          1,
          5,
          2,
          1,
          4,
          1,
          1,
          3,
          5,
          5,
          2,
          4,
          4,
          2,
          1,
          5,
          2,
          1,
          4,
          1,
          1,
          3,
          5,
          1,
          1,
          5,
          4,
          5,
          2,
          5,
          2,
          1,
          5,
          2,
          4,
          1,
          1,
          1,
          5,
          5,
          1,
          1,
          5,
          5,
          2,
          1,
          1,
          5,
          4,
          5,
          1,
          1,
          1,
          2,
          4,
          4,
          5,
          3,
          1,
          2,
          1,
          5,
          1,
          5,
          5,
          2,
          5,
          4,
          1,
          1,
          1,
          2,
          5,
          5,
          2,
          4,
          1,
          1,
          5,
          5,
          5,
          5,
          5,
          5,
          1,
          5,
          5,
          1,
          3,
          1,
          5,
          1,
          1,
          4,
          1,
          3,
          1,
          4,
          2,
          1,
          1,
          4,
          3,
          1,
          4,
          3,
          5,
          4,
          1,
          2,
          1,
          1,
          1,
          5,
          1,
          1,
          1,
          3,
          3,
          3,
          2,
          4,
          2,
          3,
          1,
          4,
          1,
          1
         ],
         "xaxis": "x",
         "yaxis": "y"
        }
       ],
       "layout": {
        "barmode": "relative",
        "legend": {
         "tracegroupgap": 0
        },
        "margin": {
         "t": 60
        },
        "template": {
         "data": {
          "bar": [
           {
            "error_x": {
             "color": "#2a3f5f"
            },
            "error_y": {
             "color": "#2a3f5f"
            },
            "marker": {
             "line": {
              "color": "#E5ECF6",
              "width": 0.5
             }
            },
            "type": "bar"
           }
          ],
          "barpolar": [
           {
            "marker": {
             "line": {
              "color": "#E5ECF6",
              "width": 0.5
             }
            },
            "type": "barpolar"
           }
          ],
          "carpet": [
           {
            "aaxis": {
             "endlinecolor": "#2a3f5f",
             "gridcolor": "white",
             "linecolor": "white",
             "minorgridcolor": "white",
             "startlinecolor": "#2a3f5f"
            },
            "baxis": {
             "endlinecolor": "#2a3f5f",
             "gridcolor": "white",
             "linecolor": "white",
             "minorgridcolor": "white",
             "startlinecolor": "#2a3f5f"
            },
            "type": "carpet"
           }
          ],
          "choropleth": [
           {
            "colorbar": {
             "outlinewidth": 0,
             "ticks": ""
            },
            "type": "choropleth"
           }
          ],
          "contour": [
           {
            "colorbar": {
             "outlinewidth": 0,
             "ticks": ""
            },
            "colorscale": [
             [
              0,
              "#0d0887"
             ],
             [
              0.1111111111111111,
              "#46039f"
             ],
             [
              0.2222222222222222,
              "#7201a8"
             ],
             [
              0.3333333333333333,
              "#9c179e"
             ],
             [
              0.4444444444444444,
              "#bd3786"
             ],
             [
              0.5555555555555556,
              "#d8576b"
             ],
             [
              0.6666666666666666,
              "#ed7953"
             ],
             [
              0.7777777777777778,
              "#fb9f3a"
             ],
             [
              0.8888888888888888,
              "#fdca26"
             ],
             [
              1,
              "#f0f921"
             ]
            ],
            "type": "contour"
           }
          ],
          "contourcarpet": [
           {
            "colorbar": {
             "outlinewidth": 0,
             "ticks": ""
            },
            "type": "contourcarpet"
           }
          ],
          "heatmap": [
           {
            "colorbar": {
             "outlinewidth": 0,
             "ticks": ""
            },
            "colorscale": [
             [
              0,
              "#0d0887"
             ],
             [
              0.1111111111111111,
              "#46039f"
             ],
             [
              0.2222222222222222,
              "#7201a8"
             ],
             [
              0.3333333333333333,
              "#9c179e"
             ],
             [
              0.4444444444444444,
              "#bd3786"
             ],
             [
              0.5555555555555556,
              "#d8576b"
             ],
             [
              0.6666666666666666,
              "#ed7953"
             ],
             [
              0.7777777777777778,
              "#fb9f3a"
             ],
             [
              0.8888888888888888,
              "#fdca26"
             ],
             [
              1,
              "#f0f921"
             ]
            ],
            "type": "heatmap"
           }
          ],
          "heatmapgl": [
           {
            "colorbar": {
             "outlinewidth": 0,
             "ticks": ""
            },
            "colorscale": [
             [
              0,
              "#0d0887"
             ],
             [
              0.1111111111111111,
              "#46039f"
             ],
             [
              0.2222222222222222,
              "#7201a8"
             ],
             [
              0.3333333333333333,
              "#9c179e"
             ],
             [
              0.4444444444444444,
              "#bd3786"
             ],
             [
              0.5555555555555556,
              "#d8576b"
             ],
             [
              0.6666666666666666,
              "#ed7953"
             ],
             [
              0.7777777777777778,
              "#fb9f3a"
             ],
             [
              0.8888888888888888,
              "#fdca26"
             ],
             [
              1,
              "#f0f921"
             ]
            ],
            "type": "heatmapgl"
           }
          ],
          "histogram": [
           {
            "marker": {
             "colorbar": {
              "outlinewidth": 0,
              "ticks": ""
             }
            },
            "type": "histogram"
           }
          ],
          "histogram2d": [
           {
            "colorbar": {
             "outlinewidth": 0,
             "ticks": ""
            },
            "colorscale": [
             [
              0,
              "#0d0887"
             ],
             [
              0.1111111111111111,
              "#46039f"
             ],
             [
              0.2222222222222222,
              "#7201a8"
             ],
             [
              0.3333333333333333,
              "#9c179e"
             ],
             [
              0.4444444444444444,
              "#bd3786"
             ],
             [
              0.5555555555555556,
              "#d8576b"
             ],
             [
              0.6666666666666666,
              "#ed7953"
             ],
             [
              0.7777777777777778,
              "#fb9f3a"
             ],
             [
              0.8888888888888888,
              "#fdca26"
             ],
             [
              1,
              "#f0f921"
             ]
            ],
            "type": "histogram2d"
           }
          ],
          "histogram2dcontour": [
           {
            "colorbar": {
             "outlinewidth": 0,
             "ticks": ""
            },
            "colorscale": [
             [
              0,
              "#0d0887"
             ],
             [
              0.1111111111111111,
              "#46039f"
             ],
             [
              0.2222222222222222,
              "#7201a8"
             ],
             [
              0.3333333333333333,
              "#9c179e"
             ],
             [
              0.4444444444444444,
              "#bd3786"
             ],
             [
              0.5555555555555556,
              "#d8576b"
             ],
             [
              0.6666666666666666,
              "#ed7953"
             ],
             [
              0.7777777777777778,
              "#fb9f3a"
             ],
             [
              0.8888888888888888,
              "#fdca26"
             ],
             [
              1,
              "#f0f921"
             ]
            ],
            "type": "histogram2dcontour"
           }
          ],
          "mesh3d": [
           {
            "colorbar": {
             "outlinewidth": 0,
             "ticks": ""
            },
            "type": "mesh3d"
           }
          ],
          "parcoords": [
           {
            "line": {
             "colorbar": {
              "outlinewidth": 0,
              "ticks": ""
             }
            },
            "type": "parcoords"
           }
          ],
          "pie": [
           {
            "automargin": true,
            "type": "pie"
           }
          ],
          "scatter": [
           {
            "marker": {
             "colorbar": {
              "outlinewidth": 0,
              "ticks": ""
             }
            },
            "type": "scatter"
           }
          ],
          "scatter3d": [
           {
            "line": {
             "colorbar": {
              "outlinewidth": 0,
              "ticks": ""
             }
            },
            "marker": {
             "colorbar": {
              "outlinewidth": 0,
              "ticks": ""
             }
            },
            "type": "scatter3d"
           }
          ],
          "scattercarpet": [
           {
            "marker": {
             "colorbar": {
              "outlinewidth": 0,
              "ticks": ""
             }
            },
            "type": "scattercarpet"
           }
          ],
          "scattergeo": [
           {
            "marker": {
             "colorbar": {
              "outlinewidth": 0,
              "ticks": ""
             }
            },
            "type": "scattergeo"
           }
          ],
          "scattergl": [
           {
            "marker": {
             "colorbar": {
              "outlinewidth": 0,
              "ticks": ""
             }
            },
            "type": "scattergl"
           }
          ],
          "scattermapbox": [
           {
            "marker": {
             "colorbar": {
              "outlinewidth": 0,
              "ticks": ""
             }
            },
            "type": "scattermapbox"
           }
          ],
          "scatterpolar": [
           {
            "marker": {
             "colorbar": {
              "outlinewidth": 0,
              "ticks": ""
             }
            },
            "type": "scatterpolar"
           }
          ],
          "scatterpolargl": [
           {
            "marker": {
             "colorbar": {
              "outlinewidth": 0,
              "ticks": ""
             }
            },
            "type": "scatterpolargl"
           }
          ],
          "scatterternary": [
           {
            "marker": {
             "colorbar": {
              "outlinewidth": 0,
              "ticks": ""
             }
            },
            "type": "scatterternary"
           }
          ],
          "surface": [
           {
            "colorbar": {
             "outlinewidth": 0,
             "ticks": ""
            },
            "colorscale": [
             [
              0,
              "#0d0887"
             ],
             [
              0.1111111111111111,
              "#46039f"
             ],
             [
              0.2222222222222222,
              "#7201a8"
             ],
             [
              0.3333333333333333,
              "#9c179e"
             ],
             [
              0.4444444444444444,
              "#bd3786"
             ],
             [
              0.5555555555555556,
              "#d8576b"
             ],
             [
              0.6666666666666666,
              "#ed7953"
             ],
             [
              0.7777777777777778,
              "#fb9f3a"
             ],
             [
              0.8888888888888888,
              "#fdca26"
             ],
             [
              1,
              "#f0f921"
             ]
            ],
            "type": "surface"
           }
          ],
          "table": [
           {
            "cells": {
             "fill": {
              "color": "#EBF0F8"
             },
             "line": {
              "color": "white"
             }
            },
            "header": {
             "fill": {
              "color": "#C8D4E3"
             },
             "line": {
              "color": "white"
             }
            },
            "type": "table"
           }
          ]
         },
         "layout": {
          "annotationdefaults": {
           "arrowcolor": "#2a3f5f",
           "arrowhead": 0,
           "arrowwidth": 1
          },
          "coloraxis": {
           "colorbar": {
            "outlinewidth": 0,
            "ticks": ""
           }
          },
          "colorscale": {
           "diverging": [
            [
             0,
             "#8e0152"
            ],
            [
             0.1,
             "#c51b7d"
            ],
            [
             0.2,
             "#de77ae"
            ],
            [
             0.3,
             "#f1b6da"
            ],
            [
             0.4,
             "#fde0ef"
            ],
            [
             0.5,
             "#f7f7f7"
            ],
            [
             0.6,
             "#e6f5d0"
            ],
            [
             0.7,
             "#b8e186"
            ],
            [
             0.8,
             "#7fbc41"
            ],
            [
             0.9,
             "#4d9221"
            ],
            [
             1,
             "#276419"
            ]
           ],
           "sequential": [
            [
             0,
             "#0d0887"
            ],
            [
             0.1111111111111111,
             "#46039f"
            ],
            [
             0.2222222222222222,
             "#7201a8"
            ],
            [
             0.3333333333333333,
             "#9c179e"
            ],
            [
             0.4444444444444444,
             "#bd3786"
            ],
            [
             0.5555555555555556,
             "#d8576b"
            ],
            [
             0.6666666666666666,
             "#ed7953"
            ],
            [
             0.7777777777777778,
             "#fb9f3a"
            ],
            [
             0.8888888888888888,
             "#fdca26"
            ],
            [
             1,
             "#f0f921"
            ]
           ],
           "sequentialminus": [
            [
             0,
             "#0d0887"
            ],
            [
             0.1111111111111111,
             "#46039f"
            ],
            [
             0.2222222222222222,
             "#7201a8"
            ],
            [
             0.3333333333333333,
             "#9c179e"
            ],
            [
             0.4444444444444444,
             "#bd3786"
            ],
            [
             0.5555555555555556,
             "#d8576b"
            ],
            [
             0.6666666666666666,
             "#ed7953"
            ],
            [
             0.7777777777777778,
             "#fb9f3a"
            ],
            [
             0.8888888888888888,
             "#fdca26"
            ],
            [
             1,
             "#f0f921"
            ]
           ]
          },
          "colorway": [
           "#636efa",
           "#EF553B",
           "#00cc96",
           "#ab63fa",
           "#FFA15A",
           "#19d3f3",
           "#FF6692",
           "#B6E880",
           "#FF97FF",
           "#FECB52"
          ],
          "font": {
           "color": "#2a3f5f"
          },
          "geo": {
           "bgcolor": "white",
           "lakecolor": "white",
           "landcolor": "#E5ECF6",
           "showlakes": true,
           "showland": true,
           "subunitcolor": "white"
          },
          "hoverlabel": {
           "align": "left"
          },
          "hovermode": "closest",
          "mapbox": {
           "style": "light"
          },
          "paper_bgcolor": "white",
          "plot_bgcolor": "#E5ECF6",
          "polar": {
           "angularaxis": {
            "gridcolor": "white",
            "linecolor": "white",
            "ticks": ""
           },
           "bgcolor": "#E5ECF6",
           "radialaxis": {
            "gridcolor": "white",
            "linecolor": "white",
            "ticks": ""
           }
          },
          "scene": {
           "xaxis": {
            "backgroundcolor": "#E5ECF6",
            "gridcolor": "white",
            "gridwidth": 2,
            "linecolor": "white",
            "showbackground": true,
            "ticks": "",
            "zerolinecolor": "white"
           },
           "yaxis": {
            "backgroundcolor": "#E5ECF6",
            "gridcolor": "white",
            "gridwidth": 2,
            "linecolor": "white",
            "showbackground": true,
            "ticks": "",
            "zerolinecolor": "white"
           },
           "zaxis": {
            "backgroundcolor": "#E5ECF6",
            "gridcolor": "white",
            "gridwidth": 2,
            "linecolor": "white",
            "showbackground": true,
            "ticks": "",
            "zerolinecolor": "white"
           }
          },
          "shapedefaults": {
           "line": {
            "color": "#2a3f5f"
           }
          },
          "ternary": {
           "aaxis": {
            "gridcolor": "white",
            "linecolor": "white",
            "ticks": ""
           },
           "baxis": {
            "gridcolor": "white",
            "linecolor": "white",
            "ticks": ""
           },
           "bgcolor": "#E5ECF6",
           "caxis": {
            "gridcolor": "white",
            "linecolor": "white",
            "ticks": ""
           }
          },
          "title": {
           "x": 0.05
          },
          "xaxis": {
           "automargin": true,
           "gridcolor": "white",
           "linecolor": "white",
           "ticks": "",
           "title": {
            "standoff": 15
           },
           "zerolinecolor": "white",
           "zerolinewidth": 2
          },
          "yaxis": {
           "automargin": true,
           "gridcolor": "white",
           "linecolor": "white",
           "ticks": "",
           "title": {
            "standoff": 15
           },
           "zerolinecolor": "white",
           "zerolinewidth": 2
          }
         }
        },
        "title": {
         "text": "Reviews Score"
        },
        "xaxis": {
         "anchor": "y",
         "domain": [
          0,
          1
         ],
         "title": {
          "text": "stars"
         }
        },
        "yaxis": {
         "anchor": "x",
         "domain": [
          0,
          1
         ],
         "title": {
          "text": "count"
         }
        }
       }
      },
      "text/html": [
       "<div>                            <div id=\"96ab4b17-17a6-4686-bff7-ebaef392d3bf\" class=\"plotly-graph-div\" style=\"height:525px; width:100%;\"></div>            <script type=\"text/javascript\">                require([\"plotly\"], function(Plotly) {                    window.PLOTLYENV=window.PLOTLYENV || {};                                    if (document.getElementById(\"96ab4b17-17a6-4686-bff7-ebaef392d3bf\")) {                    Plotly.newPlot(                        \"96ab4b17-17a6-4686-bff7-ebaef392d3bf\",                        [{\"alignmentgroup\": \"True\", \"bingroup\": \"x\", \"hovertemplate\": \"stars=%{x}<br>count=%{y}<extra></extra>\", \"legendgroup\": \"\", \"marker\": {\"color\": \"turquoise\", \"line\": {\"color\": \"rgb(8,48,107)\", \"width\": 1.5}}, \"name\": \"\", \"offsetgroup\": \"\", \"orientation\": \"v\", \"showlegend\": false, \"type\": \"histogram\", \"x\": [5, 1, 1, 4, 1, 1, 2, 1, 5, 4, 3, 4, 1, 5, 5, 3, 2, 1, 5, 4, 3, 5, 5, 4, 1, 2, 1, 1, 3, 5, 4, 5, 4, 5, 5, 4, 3, 1, 3, 1, 1, 1, 1, 3, 1, 1, 5, 3, 1, 1, 1, 4, 1, 1, 5, 4, 4, 1, 2, 1, 5, 5, 1, 4, 3, 5, 1, 5, 5, 1, 1, 3, 2, 1, 2, 2, 3, 2, 1, 1, 3, 5, 3, 1, 1, 1, 1, 1, 1, 1, 1, 4, 5, 5, 1, 5, 4, 1, 1, 1, 1, 1, 4, 1, 5, 1, 5, 4, 4, 2, 1, 1, 2, 5, 5, 5, 1, 3, 1, 2, 2, 1, 4, 3, 1, 4, 4, 2, 1, 3, 1, 2, 1, 5, 2, 1, 1, 1, 2, 5, 1, 5, 5, 1, 4, 1, 3, 1, 1, 1, 1, 3, 4, 1, 1, 1, 1, 1, 1, 2, 1, 5, 5, 3, 1, 5, 2, 1, 5, 3, 4, 4, 5, 1, 1, 1, 3, 1, 1, 1, 1, 3, 1, 1, 1, 1, 5, 1, 1, 1, 1, 1, 1, 5, 1, 1, 3, 1, 1, 3, 4, 2, 3, 1, 5, 5, 1, 5, 4, 5, 3, 5, 5, 4, 5, 3, 2, 1, 5, 3, 5, 1, 1, 5, 1, 3, 3, 1, 1, 2, 2, 1, 1, 2, 1, 4, 4, 1, 5, 1, 3, 2, 3, 5, 5, 3, 3, 5, 5, 1, 1, 1, 3, 4, 1, 1, 1, 1, 1, 1, 5, 3, 4, 4, 3, 5, 5, 1, 1, 1, 3, 1, 4, 2, 5, 3, 2, 2, 1, 5, 2, 1, 1, 1, 1, 5, 2, 3, 1, 1, 5, 5, 2, 2, 1, 1, 1, 1, 3, 1, 1, 1, 4, 1, 1, 5, 1, 5, 1, 3, 2, 2, 3, 3, 3, 2, 2, 3, 1, 3, 2, 4, 5, 1, 1, 1, 1, 4, 1, 4, 3, 1, 1, 1, 1, 5, 2, 1, 4, 4, 5, 1, 4, 2, 1, 4, 2, 1, 1, 4, 5, 2, 3, 5, 4, 1, 4, 1, 1, 2, 1, 1, 1, 4, 4, 1, 3, 1, 3, 5, 2, 5, 5, 5, 3, 4, 4, 5, 5, 2, 5, 1, 5, 5, 1, 3, 4, 1, 2, 1, 1, 1, 1, 3, 5, 1, 1, 2, 5, 4, 1, 2, 4, 2, 1, 5, 5, 4, 3, 1, 1, 5, 4, 1, 1, 3, 5, 5, 2, 5, 2, 1, 3, 1, 1, 4, 5, 3, 1, 5, 5, 1, 1, 1, 5, 5, 4, 5, 1, 4, 2, 2, 1, 2, 1, 3, 5, 1, 1, 1, 1, 4, 5, 5, 1, 1, 5, 1, 5, 1, 5, 1, 5, 5, 1, 1, 3, 1, 5, 5, 1, 5, 5, 5, 2, 2, 4, 1, 1, 1, 1, 1, 5, 1, 1, 3, 1, 1, 4, 1, 5, 2, 2, 3, 1, 4, 5, 2, 1, 1, 1, 1, 1, 5, 1, 1, 5, 2, 2, 1, 1, 5, 1, 1, 1, 2, 2, 1, 5, 1, 1, 3, 1, 2, 4, 1, 5, 5, 1, 2, 5, 3, 2, 1, 1, 1, 5, 2, 1, 5, 5, 3, 5, 2, 4, 3, 3, 2, 1, 3, 2, 1, 1, 4, 5, 5, 1, 1, 1, 1, 2, 1, 1, 1, 5, 2, 1, 1, 2, 4, 4, 5, 4, 3, 1, 1, 4, 2, 1, 4, 4, 1, 1, 3, 4, 3, 3, 4, 5, 1, 5, 1, 1, 3, 1, 1, 4, 1, 4, 1, 5, 2, 3, 3, 3, 5, 4, 4, 1, 1, 2, 5, 5, 4, 1, 5, 1, 3, 1, 1, 3, 2, 3, 5, 5, 5, 1, 2, 1, 1, 4, 5, 2, 3, 4, 1, 5, 5, 5, 5, 5, 1, 5, 5, 3, 1, 1, 1, 1, 1, 4, 3, 3, 1, 5, 5, 1, 5, 1, 5, 2, 1, 2, 5, 5, 5, 1, 3, 4, 2, 1, 1, 4, 5, 4, 3, 3, 2, 5, 5, 4, 1, 5, 5, 2, 1, 1, 5, 2, 1, 1, 1, 1, 1, 4, 5, 1, 5, 5, 5, 1, 2, 1, 1, 4, 5, 1, 1, 2, 5, 5, 1, 5, 2, 1, 2, 1, 1, 4, 5, 5, 1, 1, 1, 2, 1, 5, 3, 2, 3, 1, 5, 1, 1, 4, 1, 2, 2, 1, 2, 5, 4, 2, 5, 1, 1, 2, 1, 3, 1, 1, 4, 2, 5, 4, 2, 2, 1, 3, 1, 2, 1, 5, 1, 1, 5, 3, 1, 4, 1, 5, 2, 1, 2, 5, 1, 5, 1, 1, 1, 1, 4, 5, 1, 4, 5, 1, 1, 5, 1, 5, 1, 1, 5, 4, 2, 1, 3, 1, 2, 1, 1, 5, 1, 3, 4, 3, 5, 1, 5, 5, 5, 4, 5, 2, 5, 4, 1, 3, 1, 5, 1, 1, 5, 5, 3, 2, 2, 4, 1, 1, 1, 5, 1, 5, 5, 5, 5, 5, 1, 5, 5, 5, 5, 5, 3, 5, 2, 1, 2, 2, 5, 2, 1, 4, 1, 1, 3, 5, 5, 5, 1, 1, 1, 5, 5, 5, 5, 1, 5, 2, 1, 5, 2, 1, 4, 1, 1, 3, 5, 5, 2, 4, 4, 2, 1, 5, 2, 1, 4, 1, 1, 3, 5, 1, 1, 5, 4, 5, 2, 5, 2, 1, 5, 2, 4, 1, 1, 1, 5, 5, 1, 1, 5, 5, 2, 1, 1, 5, 4, 5, 1, 1, 1, 2, 4, 4, 5, 3, 1, 2, 1, 5, 1, 5, 5, 2, 5, 4, 1, 1, 1, 2, 5, 5, 2, 4, 1, 1, 5, 5, 5, 5, 5, 5, 1, 5, 5, 1, 3, 1, 5, 1, 1, 4, 1, 3, 1, 4, 2, 1, 1, 4, 3, 1, 4, 3, 5, 4, 1, 2, 1, 1, 1, 5, 1, 1, 1, 3, 3, 3, 2, 4, 2, 3, 1, 4, 1, 1], \"xaxis\": \"x\", \"yaxis\": \"y\"}],                        {\"barmode\": \"relative\", \"legend\": {\"tracegroupgap\": 0}, \"margin\": {\"t\": 60}, \"template\": {\"data\": {\"bar\": [{\"error_x\": {\"color\": \"#2a3f5f\"}, \"error_y\": {\"color\": \"#2a3f5f\"}, \"marker\": {\"line\": {\"color\": \"#E5ECF6\", \"width\": 0.5}}, \"type\": \"bar\"}], \"barpolar\": [{\"marker\": {\"line\": {\"color\": \"#E5ECF6\", \"width\": 0.5}}, \"type\": \"barpolar\"}], \"carpet\": [{\"aaxis\": {\"endlinecolor\": \"#2a3f5f\", \"gridcolor\": \"white\", \"linecolor\": \"white\", \"minorgridcolor\": \"white\", \"startlinecolor\": \"#2a3f5f\"}, \"baxis\": {\"endlinecolor\": \"#2a3f5f\", \"gridcolor\": \"white\", \"linecolor\": \"white\", \"minorgridcolor\": \"white\", \"startlinecolor\": \"#2a3f5f\"}, \"type\": \"carpet\"}], \"choropleth\": [{\"colorbar\": {\"outlinewidth\": 0, \"ticks\": \"\"}, \"type\": \"choropleth\"}], \"contour\": [{\"colorbar\": {\"outlinewidth\": 0, \"ticks\": \"\"}, \"colorscale\": [[0.0, \"#0d0887\"], [0.1111111111111111, \"#46039f\"], [0.2222222222222222, \"#7201a8\"], [0.3333333333333333, \"#9c179e\"], [0.4444444444444444, \"#bd3786\"], [0.5555555555555556, \"#d8576b\"], [0.6666666666666666, \"#ed7953\"], [0.7777777777777778, \"#fb9f3a\"], [0.8888888888888888, \"#fdca26\"], [1.0, \"#f0f921\"]], \"type\": \"contour\"}], \"contourcarpet\": [{\"colorbar\": {\"outlinewidth\": 0, \"ticks\": \"\"}, \"type\": \"contourcarpet\"}], \"heatmap\": [{\"colorbar\": {\"outlinewidth\": 0, \"ticks\": \"\"}, \"colorscale\": [[0.0, \"#0d0887\"], [0.1111111111111111, \"#46039f\"], [0.2222222222222222, \"#7201a8\"], [0.3333333333333333, \"#9c179e\"], [0.4444444444444444, \"#bd3786\"], [0.5555555555555556, \"#d8576b\"], [0.6666666666666666, \"#ed7953\"], [0.7777777777777778, \"#fb9f3a\"], [0.8888888888888888, \"#fdca26\"], [1.0, \"#f0f921\"]], \"type\": \"heatmap\"}], \"heatmapgl\": [{\"colorbar\": {\"outlinewidth\": 0, \"ticks\": \"\"}, \"colorscale\": [[0.0, \"#0d0887\"], [0.1111111111111111, \"#46039f\"], [0.2222222222222222, \"#7201a8\"], [0.3333333333333333, \"#9c179e\"], [0.4444444444444444, \"#bd3786\"], [0.5555555555555556, \"#d8576b\"], [0.6666666666666666, \"#ed7953\"], [0.7777777777777778, \"#fb9f3a\"], [0.8888888888888888, \"#fdca26\"], [1.0, \"#f0f921\"]], \"type\": \"heatmapgl\"}], \"histogram\": [{\"marker\": {\"colorbar\": {\"outlinewidth\": 0, \"ticks\": \"\"}}, \"type\": \"histogram\"}], \"histogram2d\": [{\"colorbar\": {\"outlinewidth\": 0, \"ticks\": \"\"}, \"colorscale\": [[0.0, \"#0d0887\"], [0.1111111111111111, \"#46039f\"], [0.2222222222222222, \"#7201a8\"], [0.3333333333333333, \"#9c179e\"], [0.4444444444444444, \"#bd3786\"], [0.5555555555555556, \"#d8576b\"], [0.6666666666666666, \"#ed7953\"], [0.7777777777777778, \"#fb9f3a\"], [0.8888888888888888, \"#fdca26\"], [1.0, \"#f0f921\"]], \"type\": \"histogram2d\"}], \"histogram2dcontour\": [{\"colorbar\": {\"outlinewidth\": 0, \"ticks\": \"\"}, \"colorscale\": [[0.0, \"#0d0887\"], [0.1111111111111111, \"#46039f\"], [0.2222222222222222, \"#7201a8\"], [0.3333333333333333, \"#9c179e\"], [0.4444444444444444, \"#bd3786\"], [0.5555555555555556, \"#d8576b\"], [0.6666666666666666, \"#ed7953\"], [0.7777777777777778, \"#fb9f3a\"], [0.8888888888888888, \"#fdca26\"], [1.0, \"#f0f921\"]], \"type\": \"histogram2dcontour\"}], \"mesh3d\": [{\"colorbar\": {\"outlinewidth\": 0, \"ticks\": \"\"}, \"type\": \"mesh3d\"}], \"parcoords\": [{\"line\": {\"colorbar\": {\"outlinewidth\": 0, \"ticks\": \"\"}}, \"type\": \"parcoords\"}], \"pie\": [{\"automargin\": true, \"type\": \"pie\"}], \"scatter\": [{\"marker\": {\"colorbar\": {\"outlinewidth\": 0, \"ticks\": \"\"}}, \"type\": \"scatter\"}], \"scatter3d\": [{\"line\": {\"colorbar\": {\"outlinewidth\": 0, \"ticks\": \"\"}}, \"marker\": {\"colorbar\": {\"outlinewidth\": 0, \"ticks\": \"\"}}, \"type\": \"scatter3d\"}], \"scattercarpet\": [{\"marker\": {\"colorbar\": {\"outlinewidth\": 0, \"ticks\": \"\"}}, \"type\": \"scattercarpet\"}], \"scattergeo\": [{\"marker\": {\"colorbar\": {\"outlinewidth\": 0, \"ticks\": \"\"}}, \"type\": \"scattergeo\"}], \"scattergl\": [{\"marker\": {\"colorbar\": {\"outlinewidth\": 0, \"ticks\": \"\"}}, \"type\": \"scattergl\"}], \"scattermapbox\": [{\"marker\": {\"colorbar\": {\"outlinewidth\": 0, \"ticks\": \"\"}}, \"type\": \"scattermapbox\"}], \"scatterpolar\": [{\"marker\": {\"colorbar\": {\"outlinewidth\": 0, \"ticks\": \"\"}}, \"type\": \"scatterpolar\"}], \"scatterpolargl\": [{\"marker\": {\"colorbar\": {\"outlinewidth\": 0, \"ticks\": \"\"}}, \"type\": \"scatterpolargl\"}], \"scatterternary\": [{\"marker\": {\"colorbar\": {\"outlinewidth\": 0, \"ticks\": \"\"}}, \"type\": \"scatterternary\"}], \"surface\": [{\"colorbar\": {\"outlinewidth\": 0, \"ticks\": \"\"}, \"colorscale\": [[0.0, \"#0d0887\"], [0.1111111111111111, \"#46039f\"], [0.2222222222222222, \"#7201a8\"], [0.3333333333333333, \"#9c179e\"], [0.4444444444444444, \"#bd3786\"], [0.5555555555555556, \"#d8576b\"], [0.6666666666666666, \"#ed7953\"], [0.7777777777777778, \"#fb9f3a\"], [0.8888888888888888, \"#fdca26\"], [1.0, \"#f0f921\"]], \"type\": \"surface\"}], \"table\": [{\"cells\": {\"fill\": {\"color\": \"#EBF0F8\"}, \"line\": {\"color\": \"white\"}}, \"header\": {\"fill\": {\"color\": \"#C8D4E3\"}, \"line\": {\"color\": \"white\"}}, \"type\": \"table\"}]}, \"layout\": {\"annotationdefaults\": {\"arrowcolor\": \"#2a3f5f\", \"arrowhead\": 0, \"arrowwidth\": 1}, \"coloraxis\": {\"colorbar\": {\"outlinewidth\": 0, \"ticks\": \"\"}}, \"colorscale\": {\"diverging\": [[0, \"#8e0152\"], [0.1, \"#c51b7d\"], [0.2, \"#de77ae\"], [0.3, \"#f1b6da\"], [0.4, \"#fde0ef\"], [0.5, \"#f7f7f7\"], [0.6, \"#e6f5d0\"], [0.7, \"#b8e186\"], [0.8, \"#7fbc41\"], [0.9, \"#4d9221\"], [1, \"#276419\"]], \"sequential\": [[0.0, \"#0d0887\"], [0.1111111111111111, \"#46039f\"], [0.2222222222222222, \"#7201a8\"], [0.3333333333333333, \"#9c179e\"], [0.4444444444444444, \"#bd3786\"], [0.5555555555555556, \"#d8576b\"], [0.6666666666666666, \"#ed7953\"], [0.7777777777777778, \"#fb9f3a\"], [0.8888888888888888, \"#fdca26\"], [1.0, \"#f0f921\"]], \"sequentialminus\": [[0.0, \"#0d0887\"], [0.1111111111111111, \"#46039f\"], [0.2222222222222222, \"#7201a8\"], [0.3333333333333333, \"#9c179e\"], [0.4444444444444444, \"#bd3786\"], [0.5555555555555556, \"#d8576b\"], [0.6666666666666666, \"#ed7953\"], [0.7777777777777778, \"#fb9f3a\"], [0.8888888888888888, \"#fdca26\"], [1.0, \"#f0f921\"]]}, \"colorway\": [\"#636efa\", \"#EF553B\", \"#00cc96\", \"#ab63fa\", \"#FFA15A\", \"#19d3f3\", \"#FF6692\", \"#B6E880\", \"#FF97FF\", \"#FECB52\"], \"font\": {\"color\": \"#2a3f5f\"}, \"geo\": {\"bgcolor\": \"white\", \"lakecolor\": \"white\", \"landcolor\": \"#E5ECF6\", \"showlakes\": true, \"showland\": true, \"subunitcolor\": \"white\"}, \"hoverlabel\": {\"align\": \"left\"}, \"hovermode\": \"closest\", \"mapbox\": {\"style\": \"light\"}, \"paper_bgcolor\": \"white\", \"plot_bgcolor\": \"#E5ECF6\", \"polar\": {\"angularaxis\": {\"gridcolor\": \"white\", \"linecolor\": \"white\", \"ticks\": \"\"}, \"bgcolor\": \"#E5ECF6\", \"radialaxis\": {\"gridcolor\": \"white\", \"linecolor\": \"white\", \"ticks\": \"\"}}, \"scene\": {\"xaxis\": {\"backgroundcolor\": \"#E5ECF6\", \"gridcolor\": \"white\", \"gridwidth\": 2, \"linecolor\": \"white\", \"showbackground\": true, \"ticks\": \"\", \"zerolinecolor\": \"white\"}, \"yaxis\": {\"backgroundcolor\": \"#E5ECF6\", \"gridcolor\": \"white\", \"gridwidth\": 2, \"linecolor\": \"white\", \"showbackground\": true, \"ticks\": \"\", \"zerolinecolor\": \"white\"}, \"zaxis\": {\"backgroundcolor\": \"#E5ECF6\", \"gridcolor\": \"white\", \"gridwidth\": 2, \"linecolor\": \"white\", \"showbackground\": true, \"ticks\": \"\", \"zerolinecolor\": \"white\"}}, \"shapedefaults\": {\"line\": {\"color\": \"#2a3f5f\"}}, \"ternary\": {\"aaxis\": {\"gridcolor\": \"white\", \"linecolor\": \"white\", \"ticks\": \"\"}, \"baxis\": {\"gridcolor\": \"white\", \"linecolor\": \"white\", \"ticks\": \"\"}, \"bgcolor\": \"#E5ECF6\", \"caxis\": {\"gridcolor\": \"white\", \"linecolor\": \"white\", \"ticks\": \"\"}}, \"title\": {\"x\": 0.05}, \"xaxis\": {\"automargin\": true, \"gridcolor\": \"white\", \"linecolor\": \"white\", \"ticks\": \"\", \"title\": {\"standoff\": 15}, \"zerolinecolor\": \"white\", \"zerolinewidth\": 2}, \"yaxis\": {\"automargin\": true, \"gridcolor\": \"white\", \"linecolor\": \"white\", \"ticks\": \"\", \"title\": {\"standoff\": 15}, \"zerolinecolor\": \"white\", \"zerolinewidth\": 2}}}, \"title\": {\"text\": \"Reviews Score\"}, \"xaxis\": {\"anchor\": \"y\", \"domain\": [0.0, 1.0], \"title\": {\"text\": \"stars\"}}, \"yaxis\": {\"anchor\": \"x\", \"domain\": [0.0, 1.0], \"title\": {\"text\": \"count\"}}},                        {\"responsive\": true}                    ).then(function(){\n",
       "                            \n",
       "var gd = document.getElementById('96ab4b17-17a6-4686-bff7-ebaef392d3bf');\n",
       "var x = new MutationObserver(function (mutations, observer) {{\n",
       "        var display = window.getComputedStyle(gd).display;\n",
       "        if (!display || display === 'none') {{\n",
       "            console.log([gd, 'removed!']);\n",
       "            Plotly.purge(gd);\n",
       "            observer.disconnect();\n",
       "        }}\n",
       "}});\n",
       "\n",
       "// Listen for the removal of the full notebook cells\n",
       "var notebookContainer = gd.closest('#notebook-container');\n",
       "if (notebookContainer) {{\n",
       "    x.observe(notebookContainer, {childList: true});\n",
       "}}\n",
       "\n",
       "// Listen for the clearing of the current output cell\n",
       "var outputEl = gd.closest('.output');\n",
       "if (outputEl) {{\n",
       "    x.observe(outputEl, {childList: true});\n",
       "}}\n",
       "\n",
       "                        })                };                });            </script>        </div>"
      ]
     },
     "metadata": {},
     "output_type": "display_data"
    }
   ],
   "source": [
    "import matplotlib.pyplot as plt\n",
    "import seaborn as sns\n",
    "color = sns.color_palette()\n",
    "%matplotlib inline\n",
    "import plotly.offline as py\n",
    "py.init_notebook_mode(connected=True)\n",
    "import plotly.graph_objs as go\n",
    "import plotly.tools as tls\n",
    "import plotly.express as px\n",
    "# Product Scores\n",
    "fig = px.histogram(df_en, x=\"stars\")\n",
    "fig.update_traces(marker_color=\"turquoise\",marker_line_color='rgb(8,48,107)',\n",
    "                  marker_line_width=1.5)\n",
    "fig.update_layout(title_text='Reviews Score')\n",
    "fig.show()"
   ]
  },
  {
   "cell_type": "code",
   "execution_count": 43,
   "metadata": {},
   "outputs": [
    {
     "data": {
      "image/png": "[encoded data removed]",
      "text/plain": [
       "<Figure size 432x288 with 1 Axes>"
      ]
     },
     "metadata": {
      "needs_background": "light"
     },
     "output_type": "display_data"
    }
   ],
   "source": [
    "\n",
    "import nltk\n",
    "from nltk.corpus import stopwords\n",
    "from wordcloud import WordCloud \n",
    "# Create stopword list:\n",
    "stopwords = set(stopwords.words('english'))\n",
    "stopwords.update([\"br\", \"href\"])\n",
    "textt = \" \".join(review for review in df_en.review)\n",
    "wordcloud = WordCloud(stopwords=stopwords).generate(textt)\n",
    "plt.imshow(wordcloud, interpolation='bilinear')\n",
    "plt.axis(\"off\")\n",
    "\n",
    "#plt.savefig('wordcloud11.png')\n",
    "plt.show()"
   ]
  },
  {
   "cell_type": "code",
   "execution_count": 44,
   "metadata": {},
   "outputs": [],
   "source": [
    "# assign reviews with score > 3 as positive sentiment\n",
    "# score < 3 negative sentiment\n",
    "# remove score = 3\n",
    "df_en = df_en[df_en['stars'] != 3]\n",
    "df_en['sentiment'] = df_en['stars'].apply(lambda rating : +1 if rating > 3 else -1)"
   ]
  },
  {
   "cell_type": "code",
   "execution_count": 45,
   "metadata": {},
   "outputs": [],
   "source": [
    "# split df - positive and negative sentiment:\n",
    "positive = df_en[df_en['sentiment'] == 1]\n",
    "negative = df_en[df_en['sentiment'] == -1]"
   ]
  },
  {
   "cell_type": "code",
   "execution_count": 46,
   "metadata": {},
   "outputs": [
    {
     "data": {
      "image/png": "[encoded data removed]",
      "text/plain": [
       "<Figure size 432x288 with 1 Axes>"
      ]
     },
     "metadata": {
      "needs_background": "light"
     },
     "output_type": "display_data"
    }
   ],
   "source": [
    "import nltk\n",
    "from nltk.corpus import stopwords\n",
    "stopwords = set(stopwords.words('english'))\n",
    "stopwords.update([\"br\", \"href\",\"good\",\"great\"]) \n",
    "## good and great removed because they were included in negative sentiment\n",
    "pos = \" \".join(review for review in positive.review)\n",
    "wordcloud2 = WordCloud(stopwords=stopwords).generate(pos)\n",
    "plt.imshow(wordcloud2, interpolation='bilinear')\n",
    "plt.axis(\"off\")\n",
    "plt.show()"
   ]
  },
  {
   "cell_type": "code",
   "execution_count": 47,
   "metadata": {},
   "outputs": [
    {
     "data": {
      "image/png": "[encoded data removed]",
      "text/plain": [
       "<Figure size 432x288 with 1 Axes>"
      ]
     },
     "metadata": {
      "needs_background": "light"
     },
     "output_type": "display_data"
    }
   ],
   "source": [
    "neg = \" \".join(review for review in negative.review)\n",
    "wordcloud3 = WordCloud(stopwords=stopwords).generate(neg)\n",
    "plt.imshow(wordcloud3, interpolation='bilinear')\n",
    "plt.axis(\"off\")\n",
    "#plt.savefig('wordcloud33.png')\n",
    "plt.show()"
   ]
  },
  {
   "cell_type": "code",
   "execution_count": 48,
   "metadata": {},
   "outputs": [
    {
     "data": {
      "application/vnd.plotly.v1+json": {
       "config": {
        "plotlyServerURL": "https://plot.ly"
       },
       "data": [
        {
         "alignmentgroup": "True",
         "bingroup": "x",
         "hovertemplate": "sentimentt=%{x}<br>count=%{y}<extra></extra>",
         "legendgroup": "",
         "marker": {
          "color": "indianred",
          "line": {
           "color": "rgb(8,48,107)",
           "width": 1.5
          }
         },
         "name": "",
         "offsetgroup": "",
         "orientation": "v",
         "showlegend": false,
         "type": "histogram",
         "x": [
          "positive",
          "negative",
          "negative",
          "positive",
          "negative",
          "negative",
          "negative",
          "negative",
          "positive",
          "positive",
          "positive",
          "negative",
          "positive",
          "positive",
          "negative",
          "negative",
          "positive",
          "positive",
          "positive",
          "positive",
          "positive",
          "negative",
          "negative",
          "negative",
          "negative",
          "positive",
          "positive",
          "positive",
          "positive",
          "positive",
          "positive",
          "positive",
          "negative",
          "negative",
          "negative",
          "negative",
          "negative",
          "negative",
          "negative",
          "positive",
          "negative",
          "negative",
          "negative",
          "positive",
          "negative",
          "negative",
          "positive",
          "positive",
          "positive",
          "negative",
          "negative",
          "negative",
          "positive",
          "positive",
          "negative",
          "positive",
          "positive",
          "negative",
          "positive",
          "positive",
          "negative",
          "negative",
          "negative",
          "negative",
          "negative",
          "negative",
          "negative",
          "negative",
          "negative",
          "positive",
          "negative",
          "negative",
          "negative",
          "negative",
          "negative",
          "negative",
          "negative",
          "negative",
          "positive",
          "positive",
          "positive",
          "negative",
          "positive",
          "positive",
          "negative",
          "negative",
          "negative",
          "negative",
          "negative",
          "positive",
          "negative",
          "positive",
          "negative",
          "positive",
          "positive",
          "positive",
          "negative",
          "negative",
          "negative",
          "negative",
          "positive",
          "positive",
          "positive",
          "negative",
          "negative",
          "negative",
          "negative",
          "negative",
          "positive",
          "negative",
          "positive",
          "positive",
          "negative",
          "negative",
          "negative",
          "negative",
          "negative",
          "positive",
          "negative",
          "negative",
          "negative",
          "negative",
          "negative",
          "positive",
          "negative",
          "positive",
          "positive",
          "negative",
          "positive",
          "negative",
          "negative",
          "negative",
          "negative",
          "negative",
          "positive",
          "negative",
          "negative",
          "negative",
          "negative",
          "negative",
          "negative",
          "negative",
          "negative",
          "positive",
          "positive",
          "negative",
          "positive",
          "negative",
          "negative",
          "positive",
          "positive",
          "positive",
          "positive",
          "negative",
          "negative",
          "negative",
          "negative",
          "negative",
          "negative",
          "negative",
          "negative",
          "negative",
          "negative",
          "negative",
          "positive",
          "negative",
          "negative",
          "negative",
          "negative",
          "negative",
          "negative",
          "positive",
          "negative",
          "negative",
          "negative",
          "negative",
          "positive",
          "negative",
          "negative",
          "positive",
          "positive",
          "negative",
          "positive",
          "positive",
          "positive",
          "positive",
          "positive",
          "positive",
          "positive",
          "negative",
          "negative",
          "positive",
          "positive",
          "negative",
          "negative",
          "positive",
          "negative",
          "negative",
          "negative",
          "negative",
          "negative",
          "negative",
          "negative",
          "negative",
          "negative",
          "positive",
          "positive",
          "negative",
          "positive",
          "negative",
          "negative",
          "positive",
          "positive",
          "positive",
          "positive",
          "negative",
          "negative",
          "negative",
          "positive",
          "negative",
          "negative",
          "negative",
          "negative",
          "negative",
          "negative",
          "positive",
          "positive",
          "positive",
          "positive",
          "positive",
          "negative",
          "negative",
          "negative",
          "negative",
          "positive",
          "negative",
          "positive",
          "negative",
          "negative",
          "negative",
          "positive",
          "negative",
          "negative",
          "negative",
          "negative",
          "negative",
          "positive",
          "negative",
          "negative",
          "negative",
          "positive",
          "positive",
          "negative",
          "negative",
          "negative",
          "negative",
          "negative",
          "negative",
          "negative",
          "negative",
          "negative",
          "positive",
          "negative",
          "negative",
          "positive",
          "negative",
          "positive",
          "negative",
          "negative",
          "negative",
          "negative",
          "negative",
          "negative",
          "negative",
          "positive",
          "positive",
          "negative",
          "negative",
          "negative",
          "negative",
          "positive",
          "negative",
          "positive",
          "negative",
          "negative",
          "negative",
          "negative",
          "positive",
          "negative",
          "negative",
          "positive",
          "positive",
          "positive",
          "negative",
          "positive",
          "negative",
          "negative",
          "positive",
          "negative",
          "negative",
          "negative",
          "positive",
          "positive",
          "negative",
          "positive",
          "positive",
          "negative",
          "positive",
          "negative",
          "negative",
          "negative",
          "negative",
          "negative",
          "negative",
          "positive",
          "positive",
          "negative",
          "negative",
          "positive",
          "negative",
          "positive",
          "positive",
          "positive",
          "positive",
          "positive",
          "positive",
          "positive",
          "negative",
          "positive",
          "negative",
          "positive",
          "positive",
          "negative",
          "positive",
          "negative",
          "negative",
          "negative",
          "negative",
          "negative",
          "negative",
          "positive",
          "negative",
          "negative",
          "negative",
          "positive",
          "positive",
          "negative",
          "negative",
          "positive",
          "negative",
          "negative",
          "positive",
          "positive",
          "positive",
          "negative",
          "negative",
          "positive",
          "positive",
          "negative",
          "negative",
          "positive",
          "positive",
          "negative",
          "positive",
          "negative",
          "negative",
          "negative",
          "negative",
          "positive",
          "positive",
          "negative",
          "positive",
          "positive",
          "negative",
          "negative",
          "negative",
          "positive",
          "positive",
          "positive",
          "positive",
          "negative",
          "positive",
          "negative",
          "negative",
          "negative",
          "negative",
          "negative",
          "positive",
          "negative",
          "negative",
          "negative",
          "negative",
          "positive",
          "positive",
          "positive",
          "negative",
          "negative",
          "positive",
          "negative",
          "positive",
          "negative",
          "positive",
          "negative",
          "positive",
          "positive",
          "negative",
          "negative",
          "negative",
          "positive",
          "positive",
          "negative",
          "positive",
          "positive",
          "positive",
          "negative",
          "negative",
          "positive",
          "negative",
          "negative",
          "negative",
          "negative",
          "negative",
          "positive",
          "negative",
          "negative",
          "negative",
          "negative",
          "positive",
          "negative",
          "positive",
          "negative",
          "negative",
          "negative",
          "positive",
          "positive",
          "negative",
          "negative",
          "negative",
          "negative",
          "negative",
          "negative",
          "positive",
          "negative",
          "negative",
          "positive",
          "negative",
          "negative",
          "negative",
          "negative",
          "positive",
          "negative",
          "negative",
          "negative",
          "negative",
          "negative",
          "negative",
          "positive",
          "negative",
          "negative",
          "negative",
          "negative",
          "positive",
          "negative",
          "positive",
          "positive",
          "negative",
          "negative",
          "positive",
          "negative",
          "negative",
          "negative",
          "negative",
          "positive",
          "negative",
          "negative",
          "positive",
          "positive",
          "positive",
          "negative",
          "positive",
          "negative",
          "negative",
          "negative",
          "negative",
          "negative",
          "positive",
          "positive",
          "positive",
          "negative",
          "negative",
          "negative",
          "negative",
          "negative",
          "negative",
          "negative",
          "negative",
          "positive",
          "negative",
          "negative",
          "negative",
          "negative",
          "positive",
          "positive",
          "positive",
          "positive",
          "negative",
          "negative",
          "positive",
          "negative",
          "negative",
          "positive",
          "positive",
          "negative",
          "negative",
          "positive",
          "positive",
          "positive",
          "negative",
          "positive",
          "negative",
          "negative",
          "negative",
          "negative",
          "positive",
          "negative",
          "positive",
          "negative",
          "positive",
          "negative",
          "positive",
          "positive",
          "positive",
          "negative",
          "negative",
          "negative",
          "positive",
          "positive",
          "positive",
          "negative",
          "positive",
          "negative",
          "negative",
          "negative",
          "negative",
          "positive",
          "positive",
          "positive",
          "negative",
          "negative",
          "negative",
          "negative",
          "positive",
          "positive",
          "negative",
          "positive",
          "negative",
          "positive",
          "positive",
          "positive",
          "positive",
          "positive",
          "negative",
          "positive",
          "positive",
          "negative",
          "negative",
          "negative",
          "negative",
          "negative",
          "positive",
          "negative",
          "positive",
          "positive",
          "negative",
          "positive",
          "negative",
          "positive",
          "negative",
          "negative",
          "negative",
          "positive",
          "positive",
          "positive",
          "negative",
          "positive",
          "negative",
          "negative",
          "negative",
          "positive",
          "positive",
          "positive",
          "negative",
          "positive",
          "positive",
          "positive",
          "negative",
          "positive",
          "positive",
          "negative",
          "negative",
          "negative",
          "positive",
          "negative",
          "negative",
          "negative",
          "negative",
          "negative",
          "negative",
          "positive",
          "positive",
          "negative",
          "positive",
          "positive",
          "positive",
          "negative",
          "negative",
          "negative",
          "negative",
          "positive",
          "positive",
          "negative",
          "negative",
          "negative",
          "positive",
          "positive",
          "negative",
          "positive",
          "negative",
          "negative",
          "negative",
          "negative",
          "negative",
          "positive",
          "positive",
          "positive",
          "negative",
          "negative",
          "negative",
          "negative",
          "negative",
          "positive",
          "negative",
          "negative",
          "positive",
          "negative",
          "negative",
          "positive",
          "negative",
          "negative",
          "negative",
          "negative",
          "negative",
          "positive",
          "positive",
          "negative",
          "positive",
          "negative",
          "negative",
          "negative",
          "negative",
          "negative",
          "negative",
          "positive",
          "negative",
          "positive",
          "positive",
          "negative",
          "negative",
          "negative",
          "negative",
          "negative",
          "negative",
          "positive",
          "negative",
          "negative",
          "positive",
          "negative",
          "positive",
          "negative",
          "positive",
          "negative",
          "negative",
          "negative",
          "positive",
          "negative",
          "positive",
          "negative",
          "negative",
          "negative",
          "negative",
          "positive",
          "positive",
          "negative",
          "positive",
          "positive",
          "negative",
          "negative",
          "positive",
          "negative",
          "positive",
          "negative",
          "negative",
          "positive",
          "positive",
          "negative",
          "negative",
          "negative",
          "negative",
          "negative",
          "negative",
          "positive",
          "negative",
          "positive",
          "positive",
          "negative",
          "positive",
          "positive",
          "positive",
          "positive",
          "positive",
          "negative",
          "positive",
          "positive",
          "negative",
          "negative",
          "positive",
          "negative",
          "negative",
          "positive",
          "positive",
          "negative",
          "negative",
          "positive",
          "negative",
          "negative",
          "negative",
          "positive",
          "negative",
          "positive",
          "positive",
          "positive",
          "positive",
          "positive",
          "negative",
          "positive",
          "positive",
          "positive",
          "positive",
          "positive",
          "positive",
          "negative",
          "negative",
          "negative",
          "negative",
          "positive",
          "negative",
          "negative",
          "positive",
          "negative",
          "negative",
          "positive",
          "positive",
          "positive",
          "negative",
          "negative",
          "negative",
          "positive",
          "positive",
          "positive",
          "positive",
          "negative",
          "positive",
          "negative",
          "negative",
          "positive",
          "negative",
          "negative",
          "positive",
          "negative",
          "negative",
          "positive",
          "positive",
          "negative",
          "positive",
          "positive",
          "negative",
          "negative",
          "positive",
          "negative",
          "negative",
          "positive",
          "negative",
          "negative",
          "positive",
          "negative",
          "negative",
          "positive",
          "positive",
          "positive",
          "negative",
          "positive",
          "negative",
          "negative",
          "positive",
          "negative",
          "positive",
          "negative",
          "negative",
          "negative",
          "positive",
          "positive",
          "negative",
          "negative",
          "positive",
          "positive",
          "negative",
          "negative",
          "negative",
          "positive",
          "positive",
          "positive",
          "negative",
          "negative",
          "negative",
          "negative",
          "positive",
          "positive",
          "positive",
          "negative",
          "negative",
          "negative",
          "positive",
          "negative",
          "positive",
          "positive",
          "negative",
          "positive",
          "positive",
          "negative",
          "negative",
          "negative",
          "negative",
          "positive",
          "positive",
          "negative",
          "positive",
          "negative",
          "negative",
          "positive",
          "positive",
          "positive",
          "positive",
          "positive",
          "positive",
          "negative",
          "positive",
          "positive",
          "negative",
          "negative",
          "positive",
          "negative",
          "negative",
          "positive",
          "negative",
          "negative",
          "positive",
          "negative",
          "negative",
          "negative",
          "positive",
          "negative",
          "positive",
          "positive",
          "positive",
          "negative",
          "negative",
          "negative",
          "negative",
          "negative",
          "positive",
          "negative",
          "negative",
          "negative",
          "negative",
          "positive",
          "negative",
          "negative",
          "positive",
          "negative",
          "negative"
         ],
         "xaxis": "x",
         "yaxis": "y"
        }
       ],
       "layout": {
        "barmode": "relative",
        "legend": {
         "tracegroupgap": 0
        },
        "margin": {
         "t": 60
        },
        "template": {
         "data": {
          "bar": [
           {
            "error_x": {
             "color": "#2a3f5f"
            },
            "error_y": {
             "color": "#2a3f5f"
            },
            "marker": {
             "line": {
              "color": "#E5ECF6",
              "width": 0.5
             }
            },
            "type": "bar"
           }
          ],
          "barpolar": [
           {
            "marker": {
             "line": {
              "color": "#E5ECF6",
              "width": 0.5
             }
            },
            "type": "barpolar"
           }
          ],
          "carpet": [
           {
            "aaxis": {
             "endlinecolor": "#2a3f5f",
             "gridcolor": "white",
             "linecolor": "white",
             "minorgridcolor": "white",
             "startlinecolor": "#2a3f5f"
            },
            "baxis": {
             "endlinecolor": "#2a3f5f",
             "gridcolor": "white",
             "linecolor": "white",
             "minorgridcolor": "white",
             "startlinecolor": "#2a3f5f"
            },
            "type": "carpet"
           }
          ],
          "choropleth": [
           {
            "colorbar": {
             "outlinewidth": 0,
             "ticks": ""
            },
            "type": "choropleth"
           }
          ],
          "contour": [
           {
            "colorbar": {
             "outlinewidth": 0,
             "ticks": ""
            },
            "colorscale": [
             [
              0,
              "#0d0887"
             ],
             [
              0.1111111111111111,
              "#46039f"
             ],
             [
              0.2222222222222222,
              "#7201a8"
             ],
             [
              0.3333333333333333,
              "#9c179e"
             ],
             [
              0.4444444444444444,
              "#bd3786"
             ],
             [
              0.5555555555555556,
              "#d8576b"
             ],
             [
              0.6666666666666666,
              "#ed7953"
             ],
             [
              0.7777777777777778,
              "#fb9f3a"
             ],
             [
              0.8888888888888888,
              "#fdca26"
             ],
             [
              1,
              "#f0f921"
             ]
            ],
            "type": "contour"
           }
          ],
          "contourcarpet": [
           {
            "colorbar": {
             "outlinewidth": 0,
             "ticks": ""
            },
            "type": "contourcarpet"
           }
          ],
          "heatmap": [
           {
            "colorbar": {
             "outlinewidth": 0,
             "ticks": ""
            },
            "colorscale": [
             [
              0,
              "#0d0887"
             ],
             [
              0.1111111111111111,
              "#46039f"
             ],
             [
              0.2222222222222222,
              "#7201a8"
             ],
             [
              0.3333333333333333,
              "#9c179e"
             ],
             [
              0.4444444444444444,
              "#bd3786"
             ],
             [
              0.5555555555555556,
              "#d8576b"
             ],
             [
              0.6666666666666666,
              "#ed7953"
             ],
             [
              0.7777777777777778,
              "#fb9f3a"
             ],
             [
              0.8888888888888888,
              "#fdca26"
             ],
             [
              1,
              "#f0f921"
             ]
            ],
            "type": "heatmap"
           }
          ],
          "heatmapgl": [
           {
            "colorbar": {
             "outlinewidth": 0,
             "ticks": ""
            },
            "colorscale": [
             [
              0,
              "#0d0887"
             ],
             [
              0.1111111111111111,
              "#46039f"
             ],
             [
              0.2222222222222222,
              "#7201a8"
             ],
             [
              0.3333333333333333,
              "#9c179e"
             ],
             [
              0.4444444444444444,
              "#bd3786"
             ],
             [
              0.5555555555555556,
              "#d8576b"
             ],
             [
              0.6666666666666666,
              "#ed7953"
             ],
             [
              0.7777777777777778,
              "#fb9f3a"
             ],
             [
              0.8888888888888888,
              "#fdca26"
             ],
             [
              1,
              "#f0f921"
             ]
            ],
            "type": "heatmapgl"
           }
          ],
          "histogram": [
           {
            "marker": {
             "colorbar": {
              "outlinewidth": 0,
              "ticks": ""
             }
            },
            "type": "histogram"
           }
          ],
          "histogram2d": [
           {
            "colorbar": {
             "outlinewidth": 0,
             "ticks": ""
            },
            "colorscale": [
             [
              0,
              "#0d0887"
             ],
             [
              0.1111111111111111,
              "#46039f"
             ],
             [
              0.2222222222222222,
              "#7201a8"
             ],
             [
              0.3333333333333333,
              "#9c179e"
             ],
             [
              0.4444444444444444,
              "#bd3786"
             ],
             [
              0.5555555555555556,
              "#d8576b"
             ],
             [
              0.6666666666666666,
              "#ed7953"
             ],
             [
              0.7777777777777778,
              "#fb9f3a"
             ],
             [
              0.8888888888888888,
              "#fdca26"
             ],
             [
              1,
              "#f0f921"
             ]
            ],
            "type": "histogram2d"
           }
          ],
          "histogram2dcontour": [
           {
            "colorbar": {
             "outlinewidth": 0,
             "ticks": ""
            },
            "colorscale": [
             [
              0,
              "#0d0887"
             ],
             [
              0.1111111111111111,
              "#46039f"
             ],
             [
              0.2222222222222222,
              "#7201a8"
             ],
             [
              0.3333333333333333,
              "#9c179e"
             ],
             [
              0.4444444444444444,
              "#bd3786"
             ],
             [
              0.5555555555555556,
              "#d8576b"
             ],
             [
              0.6666666666666666,
              "#ed7953"
             ],
             [
              0.7777777777777778,
              "#fb9f3a"
             ],
             [
              0.8888888888888888,
              "#fdca26"
             ],
             [
              1,
              "#f0f921"
             ]
            ],
            "type": "histogram2dcontour"
           }
          ],
          "mesh3d": [
           {
            "colorbar": {
             "outlinewidth": 0,
             "ticks": ""
            },
            "type": "mesh3d"
           }
          ],
          "parcoords": [
           {
            "line": {
             "colorbar": {
              "outlinewidth": 0,
              "ticks": ""
             }
            },
            "type": "parcoords"
           }
          ],
          "pie": [
           {
            "automargin": true,
            "type": "pie"
           }
          ],
          "scatter": [
           {
            "marker": {
             "colorbar": {
              "outlinewidth": 0,
              "ticks": ""
             }
            },
            "type": "scatter"
           }
          ],
          "scatter3d": [
           {
            "line": {
             "colorbar": {
              "outlinewidth": 0,
              "ticks": ""
             }
            },
            "marker": {
             "colorbar": {
              "outlinewidth": 0,
              "ticks": ""
             }
            },
            "type": "scatter3d"
           }
          ],
          "scattercarpet": [
           {
            "marker": {
             "colorbar": {
              "outlinewidth": 0,
              "ticks": ""
             }
            },
            "type": "scattercarpet"
           }
          ],
          "scattergeo": [
           {
            "marker": {
             "colorbar": {
              "outlinewidth": 0,
              "ticks": ""
             }
            },
            "type": "scattergeo"
           }
          ],
          "scattergl": [
           {
            "marker": {
             "colorbar": {
              "outlinewidth": 0,
              "ticks": ""
             }
            },
            "type": "scattergl"
           }
          ],
          "scattermapbox": [
           {
            "marker": {
             "colorbar": {
              "outlinewidth": 0,
              "ticks": ""
             }
            },
            "type": "scattermapbox"
           }
          ],
          "scatterpolar": [
           {
            "marker": {
             "colorbar": {
              "outlinewidth": 0,
              "ticks": ""
             }
            },
            "type": "scatterpolar"
           }
          ],
          "scatterpolargl": [
           {
            "marker": {
             "colorbar": {
              "outlinewidth": 0,
              "ticks": ""
             }
            },
            "type": "scatterpolargl"
           }
          ],
          "scatterternary": [
           {
            "marker": {
             "colorbar": {
              "outlinewidth": 0,
              "ticks": ""
             }
            },
            "type": "scatterternary"
           }
          ],
          "surface": [
           {
            "colorbar": {
             "outlinewidth": 0,
             "ticks": ""
            },
            "colorscale": [
             [
              0,
              "#0d0887"
             ],
             [
              0.1111111111111111,
              "#46039f"
             ],
             [
              0.2222222222222222,
              "#7201a8"
             ],
             [
              0.3333333333333333,
              "#9c179e"
             ],
             [
              0.4444444444444444,
              "#bd3786"
             ],
             [
              0.5555555555555556,
              "#d8576b"
             ],
             [
              0.6666666666666666,
              "#ed7953"
             ],
             [
              0.7777777777777778,
              "#fb9f3a"
             ],
             [
              0.8888888888888888,
              "#fdca26"
             ],
             [
              1,
              "#f0f921"
             ]
            ],
            "type": "surface"
           }
          ],
          "table": [
           {
            "cells": {
             "fill": {
              "color": "#EBF0F8"
             },
             "line": {
              "color": "white"
             }
            },
            "header": {
             "fill": {
              "color": "#C8D4E3"
             },
             "line": {
              "color": "white"
             }
            },
            "type": "table"
           }
          ]
         },
         "layout": {
          "annotationdefaults": {
           "arrowcolor": "#2a3f5f",
           "arrowhead": 0,
           "arrowwidth": 1
          },
          "coloraxis": {
           "colorbar": {
            "outlinewidth": 0,
            "ticks": ""
           }
          },
          "colorscale": {
           "diverging": [
            [
             0,
             "#8e0152"
            ],
            [
             0.1,
             "#c51b7d"
            ],
            [
             0.2,
             "#de77ae"
            ],
            [
             0.3,
             "#f1b6da"
            ],
            [
             0.4,
             "#fde0ef"
            ],
            [
             0.5,
             "#f7f7f7"
            ],
            [
             0.6,
             "#e6f5d0"
            ],
            [
             0.7,
             "#b8e186"
            ],
            [
             0.8,
             "#7fbc41"
            ],
            [
             0.9,
             "#4d9221"
            ],
            [
             1,
             "#276419"
            ]
           ],
           "sequential": [
            [
             0,
             "#0d0887"
            ],
            [
             0.1111111111111111,
             "#46039f"
            ],
            [
             0.2222222222222222,
             "#7201a8"
            ],
            [
             0.3333333333333333,
             "#9c179e"
            ],
            [
             0.4444444444444444,
             "#bd3786"
            ],
            [
             0.5555555555555556,
             "#d8576b"
            ],
            [
             0.6666666666666666,
             "#ed7953"
            ],
            [
             0.7777777777777778,
             "#fb9f3a"
            ],
            [
             0.8888888888888888,
             "#fdca26"
            ],
            [
             1,
             "#f0f921"
            ]
           ],
           "sequentialminus": [
            [
             0,
             "#0d0887"
            ],
            [
             0.1111111111111111,
             "#46039f"
            ],
            [
             0.2222222222222222,
             "#7201a8"
            ],
            [
             0.3333333333333333,
             "#9c179e"
            ],
            [
             0.4444444444444444,
             "#bd3786"
            ],
            [
             0.5555555555555556,
             "#d8576b"
            ],
            [
             0.6666666666666666,
             "#ed7953"
            ],
            [
             0.7777777777777778,
             "#fb9f3a"
            ],
            [
             0.8888888888888888,
             "#fdca26"
            ],
            [
             1,
             "#f0f921"
            ]
           ]
          },
          "colorway": [
           "#636efa",
           "#EF553B",
           "#00cc96",
           "#ab63fa",
           "#FFA15A",
           "#19d3f3",
           "#FF6692",
           "#B6E880",
           "#FF97FF",
           "#FECB52"
          ],
          "font": {
           "color": "#2a3f5f"
          },
          "geo": {
           "bgcolor": "white",
           "lakecolor": "white",
           "landcolor": "#E5ECF6",
           "showlakes": true,
           "showland": true,
           "subunitcolor": "white"
          },
          "hoverlabel": {
           "align": "left"
          },
          "hovermode": "closest",
          "mapbox": {
           "style": "light"
          },
          "paper_bgcolor": "white",
          "plot_bgcolor": "#E5ECF6",
          "polar": {
           "angularaxis": {
            "gridcolor": "white",
            "linecolor": "white",
            "ticks": ""
           },
           "bgcolor": "#E5ECF6",
           "radialaxis": {
            "gridcolor": "white",
            "linecolor": "white",
            "ticks": ""
           }
          },
          "scene": {
           "xaxis": {
            "backgroundcolor": "#E5ECF6",
            "gridcolor": "white",
            "gridwidth": 2,
            "linecolor": "white",
            "showbackground": true,
            "ticks": "",
            "zerolinecolor": "white"
           },
           "yaxis": {
            "backgroundcolor": "#E5ECF6",
            "gridcolor": "white",
            "gridwidth": 2,
            "linecolor": "white",
            "showbackground": true,
            "ticks": "",
            "zerolinecolor": "white"
           },
           "zaxis": {
            "backgroundcolor": "#E5ECF6",
            "gridcolor": "white",
            "gridwidth": 2,
            "linecolor": "white",
            "showbackground": true,
            "ticks": "",
            "zerolinecolor": "white"
           }
          },
          "shapedefaults": {
           "line": {
            "color": "#2a3f5f"
           }
          },
          "ternary": {
           "aaxis": {
            "gridcolor": "white",
            "linecolor": "white",
            "ticks": ""
           },
           "baxis": {
            "gridcolor": "white",
            "linecolor": "white",
            "ticks": ""
           },
           "bgcolor": "#E5ECF6",
           "caxis": {
            "gridcolor": "white",
            "linecolor": "white",
            "ticks": ""
           }
          },
          "title": {
           "x": 0.05
          },
          "xaxis": {
           "automargin": true,
           "gridcolor": "white",
           "linecolor": "white",
           "ticks": "",
           "title": {
            "standoff": 15
           },
           "zerolinecolor": "white",
           "zerolinewidth": 2
          },
          "yaxis": {
           "automargin": true,
           "gridcolor": "white",
           "linecolor": "white",
           "ticks": "",
           "title": {
            "standoff": 15
           },
           "zerolinecolor": "white",
           "zerolinewidth": 2
          }
         }
        },
        "title": {
         "text": "Product Sentiment"
        },
        "xaxis": {
         "anchor": "y",
         "domain": [
          0,
          1
         ],
         "title": {
          "text": "sentimentt"
         }
        },
        "yaxis": {
         "anchor": "x",
         "domain": [
          0,
          1
         ],
         "title": {
          "text": "count"
         }
        }
       }
      },
      "text/html": [
       "<div>                            <div id=\"14cd317f-76ac-499a-ad38-31867464e059\" class=\"plotly-graph-div\" style=\"height:525px; width:100%;\"></div>            <script type=\"text/javascript\">                require([\"plotly\"], function(Plotly) {                    window.PLOTLYENV=window.PLOTLYENV || {};                                    if (document.getElementById(\"14cd317f-76ac-499a-ad38-31867464e059\")) {                    Plotly.newPlot(                        \"14cd317f-76ac-499a-ad38-31867464e059\",                        [{\"alignmentgroup\": \"True\", \"bingroup\": \"x\", \"hovertemplate\": \"sentimentt=%{x}<br>count=%{y}<extra></extra>\", \"legendgroup\": \"\", \"marker\": {\"color\": \"indianred\", \"line\": {\"color\": \"rgb(8,48,107)\", \"width\": 1.5}}, \"name\": \"\", \"offsetgroup\": \"\", \"orientation\": \"v\", \"showlegend\": false, \"type\": \"histogram\", \"x\": [\"positive\", \"negative\", \"negative\", \"positive\", \"negative\", \"negative\", \"negative\", \"negative\", \"positive\", \"positive\", \"positive\", \"negative\", \"positive\", \"positive\", \"negative\", \"negative\", \"positive\", \"positive\", \"positive\", \"positive\", \"positive\", \"negative\", \"negative\", \"negative\", \"negative\", \"positive\", \"positive\", \"positive\", \"positive\", \"positive\", \"positive\", \"positive\", \"negative\", \"negative\", \"negative\", \"negative\", \"negative\", \"negative\", \"negative\", \"positive\", \"negative\", \"negative\", \"negative\", \"positive\", \"negative\", \"negative\", \"positive\", \"positive\", \"positive\", \"negative\", \"negative\", \"negative\", \"positive\", \"positive\", \"negative\", \"positive\", \"positive\", \"negative\", \"positive\", \"positive\", \"negative\", \"negative\", \"negative\", \"negative\", \"negative\", \"negative\", \"negative\", \"negative\", \"negative\", \"positive\", \"negative\", \"negative\", \"negative\", \"negative\", \"negative\", \"negative\", \"negative\", \"negative\", \"positive\", \"positive\", \"positive\", \"negative\", \"positive\", \"positive\", \"negative\", \"negative\", \"negative\", \"negative\", \"negative\", \"positive\", \"negative\", \"positive\", \"negative\", \"positive\", \"positive\", \"positive\", \"negative\", \"negative\", \"negative\", \"negative\", \"positive\", \"positive\", \"positive\", \"negative\", \"negative\", \"negative\", \"negative\", \"negative\", \"positive\", \"negative\", \"positive\", \"positive\", \"negative\", \"negative\", \"negative\", \"negative\", \"negative\", \"positive\", \"negative\", \"negative\", \"negative\", \"negative\", \"negative\", \"positive\", \"negative\", \"positive\", \"positive\", \"negative\", \"positive\", \"negative\", \"negative\", \"negative\", \"negative\", \"negative\", \"positive\", \"negative\", \"negative\", \"negative\", \"negative\", \"negative\", \"negative\", \"negative\", \"negative\", \"positive\", \"positive\", \"negative\", \"positive\", \"negative\", \"negative\", \"positive\", \"positive\", \"positive\", \"positive\", \"negative\", \"negative\", \"negative\", \"negative\", \"negative\", \"negative\", \"negative\", \"negative\", \"negative\", \"negative\", \"negative\", \"positive\", \"negative\", \"negative\", \"negative\", \"negative\", \"negative\", \"negative\", \"positive\", \"negative\", \"negative\", \"negative\", \"negative\", \"positive\", \"negative\", \"negative\", \"positive\", \"positive\", \"negative\", \"positive\", \"positive\", \"positive\", \"positive\", \"positive\", \"positive\", \"positive\", \"negative\", \"negative\", \"positive\", \"positive\", \"negative\", \"negative\", \"positive\", \"negative\", \"negative\", \"negative\", \"negative\", \"negative\", \"negative\", \"negative\", \"negative\", \"negative\", \"positive\", \"positive\", \"negative\", \"positive\", \"negative\", \"negative\", \"positive\", \"positive\", \"positive\", \"positive\", \"negative\", \"negative\", \"negative\", \"positive\", \"negative\", \"negative\", \"negative\", \"negative\", \"negative\", \"negative\", \"positive\", \"positive\", \"positive\", \"positive\", \"positive\", \"negative\", \"negative\", \"negative\", \"negative\", \"positive\", \"negative\", \"positive\", \"negative\", \"negative\", \"negative\", \"positive\", \"negative\", \"negative\", \"negative\", \"negative\", \"negative\", \"positive\", \"negative\", \"negative\", \"negative\", \"positive\", \"positive\", \"negative\", \"negative\", \"negative\", \"negative\", \"negative\", \"negative\", \"negative\", \"negative\", \"negative\", \"positive\", \"negative\", \"negative\", \"positive\", \"negative\", \"positive\", \"negative\", \"negative\", \"negative\", \"negative\", \"negative\", \"negative\", \"negative\", \"positive\", \"positive\", \"negative\", \"negative\", \"negative\", \"negative\", \"positive\", \"negative\", \"positive\", \"negative\", \"negative\", \"negative\", \"negative\", \"positive\", \"negative\", \"negative\", \"positive\", \"positive\", \"positive\", \"negative\", \"positive\", \"negative\", \"negative\", \"positive\", \"negative\", \"negative\", \"negative\", \"positive\", \"positive\", \"negative\", \"positive\", \"positive\", \"negative\", \"positive\", \"negative\", \"negative\", \"negative\", \"negative\", \"negative\", \"negative\", \"positive\", \"positive\", \"negative\", \"negative\", \"positive\", \"negative\", \"positive\", \"positive\", \"positive\", \"positive\", \"positive\", \"positive\", \"positive\", \"negative\", \"positive\", \"negative\", \"positive\", \"positive\", \"negative\", \"positive\", \"negative\", \"negative\", \"negative\", \"negative\", \"negative\", \"negative\", \"positive\", \"negative\", \"negative\", \"negative\", \"positive\", \"positive\", \"negative\", \"negative\", \"positive\", \"negative\", \"negative\", \"positive\", \"positive\", \"positive\", \"negative\", \"negative\", \"positive\", \"positive\", \"negative\", \"negative\", \"positive\", \"positive\", \"negative\", \"positive\", \"negative\", \"negative\", \"negative\", \"negative\", \"positive\", \"positive\", \"negative\", \"positive\", \"positive\", \"negative\", \"negative\", \"negative\", \"positive\", \"positive\", \"positive\", \"positive\", \"negative\", \"positive\", \"negative\", \"negative\", \"negative\", \"negative\", \"negative\", \"positive\", \"negative\", \"negative\", \"negative\", \"negative\", \"positive\", \"positive\", \"positive\", \"negative\", \"negative\", \"positive\", \"negative\", \"positive\", \"negative\", \"positive\", \"negative\", \"positive\", \"positive\", \"negative\", \"negative\", \"negative\", \"positive\", \"positive\", \"negative\", \"positive\", \"positive\", \"positive\", \"negative\", \"negative\", \"positive\", \"negative\", \"negative\", \"negative\", \"negative\", \"negative\", \"positive\", \"negative\", \"negative\", \"negative\", \"negative\", \"positive\", \"negative\", \"positive\", \"negative\", \"negative\", \"negative\", \"positive\", \"positive\", \"negative\", \"negative\", \"negative\", \"negative\", \"negative\", \"negative\", \"positive\", \"negative\", \"negative\", \"positive\", \"negative\", \"negative\", \"negative\", \"negative\", \"positive\", \"negative\", \"negative\", \"negative\", \"negative\", \"negative\", \"negative\", \"positive\", \"negative\", \"negative\", \"negative\", \"negative\", \"positive\", \"negative\", \"positive\", \"positive\", \"negative\", \"negative\", \"positive\", \"negative\", \"negative\", \"negative\", \"negative\", \"positive\", \"negative\", \"negative\", \"positive\", \"positive\", \"positive\", \"negative\", \"positive\", \"negative\", \"negative\", \"negative\", \"negative\", \"negative\", \"positive\", \"positive\", \"positive\", \"negative\", \"negative\", \"negative\", \"negative\", \"negative\", \"negative\", \"negative\", \"negative\", \"positive\", \"negative\", \"negative\", \"negative\", \"negative\", \"positive\", \"positive\", \"positive\", \"positive\", \"negative\", \"negative\", \"positive\", \"negative\", \"negative\", \"positive\", \"positive\", \"negative\", \"negative\", \"positive\", \"positive\", \"positive\", \"negative\", \"positive\", \"negative\", \"negative\", \"negative\", \"negative\", \"positive\", \"negative\", \"positive\", \"negative\", \"positive\", \"negative\", \"positive\", \"positive\", \"positive\", \"negative\", \"negative\", \"negative\", \"positive\", \"positive\", \"positive\", \"negative\", \"positive\", \"negative\", \"negative\", \"negative\", \"negative\", \"positive\", \"positive\", \"positive\", \"negative\", \"negative\", \"negative\", \"negative\", \"positive\", \"positive\", \"negative\", \"positive\", \"negative\", \"positive\", \"positive\", \"positive\", \"positive\", \"positive\", \"negative\", \"positive\", \"positive\", \"negative\", \"negative\", \"negative\", \"negative\", \"negative\", \"positive\", \"negative\", \"positive\", \"positive\", \"negative\", \"positive\", \"negative\", \"positive\", \"negative\", \"negative\", \"negative\", \"positive\", \"positive\", \"positive\", \"negative\", \"positive\", \"negative\", \"negative\", \"negative\", \"positive\", \"positive\", \"positive\", \"negative\", \"positive\", \"positive\", \"positive\", \"negative\", \"positive\", \"positive\", \"negative\", \"negative\", \"negative\", \"positive\", \"negative\", \"negative\", \"negative\", \"negative\", \"negative\", \"negative\", \"positive\", \"positive\", \"negative\", \"positive\", \"positive\", \"positive\", \"negative\", \"negative\", \"negative\", \"negative\", \"positive\", \"positive\", \"negative\", \"negative\", \"negative\", \"positive\", \"positive\", \"negative\", \"positive\", \"negative\", \"negative\", \"negative\", \"negative\", \"negative\", \"positive\", \"positive\", \"positive\", \"negative\", \"negative\", \"negative\", \"negative\", \"negative\", \"positive\", \"negative\", \"negative\", \"positive\", \"negative\", \"negative\", \"positive\", \"negative\", \"negative\", \"negative\", \"negative\", \"negative\", \"positive\", \"positive\", \"negative\", \"positive\", \"negative\", \"negative\", \"negative\", \"negative\", \"negative\", \"negative\", \"positive\", \"negative\", \"positive\", \"positive\", \"negative\", \"negative\", \"negative\", \"negative\", \"negative\", \"negative\", \"positive\", \"negative\", \"negative\", \"positive\", \"negative\", \"positive\", \"negative\", \"positive\", \"negative\", \"negative\", \"negative\", \"positive\", \"negative\", \"positive\", \"negative\", \"negative\", \"negative\", \"negative\", \"positive\", \"positive\", \"negative\", \"positive\", \"positive\", \"negative\", \"negative\", \"positive\", \"negative\", \"positive\", \"negative\", \"negative\", \"positive\", \"positive\", \"negative\", \"negative\", \"negative\", \"negative\", \"negative\", \"negative\", \"positive\", \"negative\", \"positive\", \"positive\", \"negative\", \"positive\", \"positive\", \"positive\", \"positive\", \"positive\", \"negative\", \"positive\", \"positive\", \"negative\", \"negative\", \"positive\", \"negative\", \"negative\", \"positive\", \"positive\", \"negative\", \"negative\", \"positive\", \"negative\", \"negative\", \"negative\", \"positive\", \"negative\", \"positive\", \"positive\", \"positive\", \"positive\", \"positive\", \"negative\", \"positive\", \"positive\", \"positive\", \"positive\", \"positive\", \"positive\", \"negative\", \"negative\", \"negative\", \"negative\", \"positive\", \"negative\", \"negative\", \"positive\", \"negative\", \"negative\", \"positive\", \"positive\", \"positive\", \"negative\", \"negative\", \"negative\", \"positive\", \"positive\", \"positive\", \"positive\", \"negative\", \"positive\", \"negative\", \"negative\", \"positive\", \"negative\", \"negative\", \"positive\", \"negative\", \"negative\", \"positive\", \"positive\", \"negative\", \"positive\", \"positive\", \"negative\", \"negative\", \"positive\", \"negative\", \"negative\", \"positive\", \"negative\", \"negative\", \"positive\", \"negative\", \"negative\", \"positive\", \"positive\", \"positive\", \"negative\", \"positive\", \"negative\", \"negative\", \"positive\", \"negative\", \"positive\", \"negative\", \"negative\", \"negative\", \"positive\", \"positive\", \"negative\", \"negative\", \"positive\", \"positive\", \"negative\", \"negative\", \"negative\", \"positive\", \"positive\", \"positive\", \"negative\", \"negative\", \"negative\", \"negative\", \"positive\", \"positive\", \"positive\", \"negative\", \"negative\", \"negative\", \"positive\", \"negative\", \"positive\", \"positive\", \"negative\", \"positive\", \"positive\", \"negative\", \"negative\", \"negative\", \"negative\", \"positive\", \"positive\", \"negative\", \"positive\", \"negative\", \"negative\", \"positive\", \"positive\", \"positive\", \"positive\", \"positive\", \"positive\", \"negative\", \"positive\", \"positive\", \"negative\", \"negative\", \"positive\", \"negative\", \"negative\", \"positive\", \"negative\", \"negative\", \"positive\", \"negative\", \"negative\", \"negative\", \"positive\", \"negative\", \"positive\", \"positive\", \"positive\", \"negative\", \"negative\", \"negative\", \"negative\", \"negative\", \"positive\", \"negative\", \"negative\", \"negative\", \"negative\", \"positive\", \"negative\", \"negative\", \"positive\", \"negative\", \"negative\"], \"xaxis\": \"x\", \"yaxis\": \"y\"}],                        {\"barmode\": \"relative\", \"legend\": {\"tracegroupgap\": 0}, \"margin\": {\"t\": 60}, \"template\": {\"data\": {\"bar\": [{\"error_x\": {\"color\": \"#2a3f5f\"}, \"error_y\": {\"color\": \"#2a3f5f\"}, \"marker\": {\"line\": {\"color\": \"#E5ECF6\", \"width\": 0.5}}, \"type\": \"bar\"}], \"barpolar\": [{\"marker\": {\"line\": {\"color\": \"#E5ECF6\", \"width\": 0.5}}, \"type\": \"barpolar\"}], \"carpet\": [{\"aaxis\": {\"endlinecolor\": \"#2a3f5f\", \"gridcolor\": \"white\", \"linecolor\": \"white\", \"minorgridcolor\": \"white\", \"startlinecolor\": \"#2a3f5f\"}, \"baxis\": {\"endlinecolor\": \"#2a3f5f\", \"gridcolor\": \"white\", \"linecolor\": \"white\", \"minorgridcolor\": \"white\", \"startlinecolor\": \"#2a3f5f\"}, \"type\": \"carpet\"}], \"choropleth\": [{\"colorbar\": {\"outlinewidth\": 0, \"ticks\": \"\"}, \"type\": \"choropleth\"}], \"contour\": [{\"colorbar\": {\"outlinewidth\": 0, \"ticks\": \"\"}, \"colorscale\": [[0.0, \"#0d0887\"], [0.1111111111111111, \"#46039f\"], [0.2222222222222222, \"#7201a8\"], [0.3333333333333333, \"#9c179e\"], [0.4444444444444444, \"#bd3786\"], [0.5555555555555556, \"#d8576b\"], [0.6666666666666666, \"#ed7953\"], [0.7777777777777778, \"#fb9f3a\"], [0.8888888888888888, \"#fdca26\"], [1.0, \"#f0f921\"]], \"type\": \"contour\"}], \"contourcarpet\": [{\"colorbar\": {\"outlinewidth\": 0, \"ticks\": \"\"}, \"type\": \"contourcarpet\"}], \"heatmap\": [{\"colorbar\": {\"outlinewidth\": 0, \"ticks\": \"\"}, \"colorscale\": [[0.0, \"#0d0887\"], [0.1111111111111111, \"#46039f\"], [0.2222222222222222, \"#7201a8\"], [0.3333333333333333, \"#9c179e\"], [0.4444444444444444, \"#bd3786\"], [0.5555555555555556, \"#d8576b\"], [0.6666666666666666, \"#ed7953\"], [0.7777777777777778, \"#fb9f3a\"], [0.8888888888888888, \"#fdca26\"], [1.0, \"#f0f921\"]], \"type\": \"heatmap\"}], \"heatmapgl\": [{\"colorbar\": {\"outlinewidth\": 0, \"ticks\": \"\"}, \"colorscale\": [[0.0, \"#0d0887\"], [0.1111111111111111, \"#46039f\"], [0.2222222222222222, \"#7201a8\"], [0.3333333333333333, \"#9c179e\"], [0.4444444444444444, \"#bd3786\"], [0.5555555555555556, \"#d8576b\"], [0.6666666666666666, \"#ed7953\"], [0.7777777777777778, \"#fb9f3a\"], [0.8888888888888888, \"#fdca26\"], [1.0, \"#f0f921\"]], \"type\": \"heatmapgl\"}], \"histogram\": [{\"marker\": {\"colorbar\": {\"outlinewidth\": 0, \"ticks\": \"\"}}, \"type\": \"histogram\"}], \"histogram2d\": [{\"colorbar\": {\"outlinewidth\": 0, \"ticks\": \"\"}, \"colorscale\": [[0.0, \"#0d0887\"], [0.1111111111111111, \"#46039f\"], [0.2222222222222222, \"#7201a8\"], [0.3333333333333333, \"#9c179e\"], [0.4444444444444444, \"#bd3786\"], [0.5555555555555556, \"#d8576b\"], [0.6666666666666666, \"#ed7953\"], [0.7777777777777778, \"#fb9f3a\"], [0.8888888888888888, \"#fdca26\"], [1.0, \"#f0f921\"]], \"type\": \"histogram2d\"}], \"histogram2dcontour\": [{\"colorbar\": {\"outlinewidth\": 0, \"ticks\": \"\"}, \"colorscale\": [[0.0, \"#0d0887\"], [0.1111111111111111, \"#46039f\"], [0.2222222222222222, \"#7201a8\"], [0.3333333333333333, \"#9c179e\"], [0.4444444444444444, \"#bd3786\"], [0.5555555555555556, \"#d8576b\"], [0.6666666666666666, \"#ed7953\"], [0.7777777777777778, \"#fb9f3a\"], [0.8888888888888888, \"#fdca26\"], [1.0, \"#f0f921\"]], \"type\": \"histogram2dcontour\"}], \"mesh3d\": [{\"colorbar\": {\"outlinewidth\": 0, \"ticks\": \"\"}, \"type\": \"mesh3d\"}], \"parcoords\": [{\"line\": {\"colorbar\": {\"outlinewidth\": 0, \"ticks\": \"\"}}, \"type\": \"parcoords\"}], \"pie\": [{\"automargin\": true, \"type\": \"pie\"}], \"scatter\": [{\"marker\": {\"colorbar\": {\"outlinewidth\": 0, \"ticks\": \"\"}}, \"type\": \"scatter\"}], \"scatter3d\": [{\"line\": {\"colorbar\": {\"outlinewidth\": 0, \"ticks\": \"\"}}, \"marker\": {\"colorbar\": {\"outlinewidth\": 0, \"ticks\": \"\"}}, \"type\": \"scatter3d\"}], \"scattercarpet\": [{\"marker\": {\"colorbar\": {\"outlinewidth\": 0, \"ticks\": \"\"}}, \"type\": \"scattercarpet\"}], \"scattergeo\": [{\"marker\": {\"colorbar\": {\"outlinewidth\": 0, \"ticks\": \"\"}}, \"type\": \"scattergeo\"}], \"scattergl\": [{\"marker\": {\"colorbar\": {\"outlinewidth\": 0, \"ticks\": \"\"}}, \"type\": \"scattergl\"}], \"scattermapbox\": [{\"marker\": {\"colorbar\": {\"outlinewidth\": 0, \"ticks\": \"\"}}, \"type\": \"scattermapbox\"}], \"scatterpolar\": [{\"marker\": {\"colorbar\": {\"outlinewidth\": 0, \"ticks\": \"\"}}, \"type\": \"scatterpolar\"}], \"scatterpolargl\": [{\"marker\": {\"colorbar\": {\"outlinewidth\": 0, \"ticks\": \"\"}}, \"type\": \"scatterpolargl\"}], \"scatterternary\": [{\"marker\": {\"colorbar\": {\"outlinewidth\": 0, \"ticks\": \"\"}}, \"type\": \"scatterternary\"}], \"surface\": [{\"colorbar\": {\"outlinewidth\": 0, \"ticks\": \"\"}, \"colorscale\": [[0.0, \"#0d0887\"], [0.1111111111111111, \"#46039f\"], [0.2222222222222222, \"#7201a8\"], [0.3333333333333333, \"#9c179e\"], [0.4444444444444444, \"#bd3786\"], [0.5555555555555556, \"#d8576b\"], [0.6666666666666666, \"#ed7953\"], [0.7777777777777778, \"#fb9f3a\"], [0.8888888888888888, \"#fdca26\"], [1.0, \"#f0f921\"]], \"type\": \"surface\"}], \"table\": [{\"cells\": {\"fill\": {\"color\": \"#EBF0F8\"}, \"line\": {\"color\": \"white\"}}, \"header\": {\"fill\": {\"color\": \"#C8D4E3\"}, \"line\": {\"color\": \"white\"}}, \"type\": \"table\"}]}, \"layout\": {\"annotationdefaults\": {\"arrowcolor\": \"#2a3f5f\", \"arrowhead\": 0, \"arrowwidth\": 1}, \"coloraxis\": {\"colorbar\": {\"outlinewidth\": 0, \"ticks\": \"\"}}, \"colorscale\": {\"diverging\": [[0, \"#8e0152\"], [0.1, \"#c51b7d\"], [0.2, \"#de77ae\"], [0.3, \"#f1b6da\"], [0.4, \"#fde0ef\"], [0.5, \"#f7f7f7\"], [0.6, \"#e6f5d0\"], [0.7, \"#b8e186\"], [0.8, \"#7fbc41\"], [0.9, \"#4d9221\"], [1, \"#276419\"]], \"sequential\": [[0.0, \"#0d0887\"], [0.1111111111111111, \"#46039f\"], [0.2222222222222222, \"#7201a8\"], [0.3333333333333333, \"#9c179e\"], [0.4444444444444444, \"#bd3786\"], [0.5555555555555556, \"#d8576b\"], [0.6666666666666666, \"#ed7953\"], [0.7777777777777778, \"#fb9f3a\"], [0.8888888888888888, \"#fdca26\"], [1.0, \"#f0f921\"]], \"sequentialminus\": [[0.0, \"#0d0887\"], [0.1111111111111111, \"#46039f\"], [0.2222222222222222, \"#7201a8\"], [0.3333333333333333, \"#9c179e\"], [0.4444444444444444, \"#bd3786\"], [0.5555555555555556, \"#d8576b\"], [0.6666666666666666, \"#ed7953\"], [0.7777777777777778, \"#fb9f3a\"], [0.8888888888888888, \"#fdca26\"], [1.0, \"#f0f921\"]]}, \"colorway\": [\"#636efa\", \"#EF553B\", \"#00cc96\", \"#ab63fa\", \"#FFA15A\", \"#19d3f3\", \"#FF6692\", \"#B6E880\", \"#FF97FF\", \"#FECB52\"], \"font\": {\"color\": \"#2a3f5f\"}, \"geo\": {\"bgcolor\": \"white\", \"lakecolor\": \"white\", \"landcolor\": \"#E5ECF6\", \"showlakes\": true, \"showland\": true, \"subunitcolor\": \"white\"}, \"hoverlabel\": {\"align\": \"left\"}, \"hovermode\": \"closest\", \"mapbox\": {\"style\": \"light\"}, \"paper_bgcolor\": \"white\", \"plot_bgcolor\": \"#E5ECF6\", \"polar\": {\"angularaxis\": {\"gridcolor\": \"white\", \"linecolor\": \"white\", \"ticks\": \"\"}, \"bgcolor\": \"#E5ECF6\", \"radialaxis\": {\"gridcolor\": \"white\", \"linecolor\": \"white\", \"ticks\": \"\"}}, \"scene\": {\"xaxis\": {\"backgroundcolor\": \"#E5ECF6\", \"gridcolor\": \"white\", \"gridwidth\": 2, \"linecolor\": \"white\", \"showbackground\": true, \"ticks\": \"\", \"zerolinecolor\": \"white\"}, \"yaxis\": {\"backgroundcolor\": \"#E5ECF6\", \"gridcolor\": \"white\", \"gridwidth\": 2, \"linecolor\": \"white\", \"showbackground\": true, \"ticks\": \"\", \"zerolinecolor\": \"white\"}, \"zaxis\": {\"backgroundcolor\": \"#E5ECF6\", \"gridcolor\": \"white\", \"gridwidth\": 2, \"linecolor\": \"white\", \"showbackground\": true, \"ticks\": \"\", \"zerolinecolor\": \"white\"}}, \"shapedefaults\": {\"line\": {\"color\": \"#2a3f5f\"}}, \"ternary\": {\"aaxis\": {\"gridcolor\": \"white\", \"linecolor\": \"white\", \"ticks\": \"\"}, \"baxis\": {\"gridcolor\": \"white\", \"linecolor\": \"white\", \"ticks\": \"\"}, \"bgcolor\": \"#E5ECF6\", \"caxis\": {\"gridcolor\": \"white\", \"linecolor\": \"white\", \"ticks\": \"\"}}, \"title\": {\"x\": 0.05}, \"xaxis\": {\"automargin\": true, \"gridcolor\": \"white\", \"linecolor\": \"white\", \"ticks\": \"\", \"title\": {\"standoff\": 15}, \"zerolinecolor\": \"white\", \"zerolinewidth\": 2}, \"yaxis\": {\"automargin\": true, \"gridcolor\": \"white\", \"linecolor\": \"white\", \"ticks\": \"\", \"title\": {\"standoff\": 15}, \"zerolinecolor\": \"white\", \"zerolinewidth\": 2}}}, \"title\": {\"text\": \"Product Sentiment\"}, \"xaxis\": {\"anchor\": \"y\", \"domain\": [0.0, 1.0], \"title\": {\"text\": \"sentimentt\"}}, \"yaxis\": {\"anchor\": \"x\", \"domain\": [0.0, 1.0], \"title\": {\"text\": \"count\"}}},                        {\"responsive\": true}                    ).then(function(){\n",
       "                            \n",
       "var gd = document.getElementById('14cd317f-76ac-499a-ad38-31867464e059');\n",
       "var x = new MutationObserver(function (mutations, observer) {{\n",
       "        var display = window.getComputedStyle(gd).display;\n",
       "        if (!display || display === 'none') {{\n",
       "            console.log([gd, 'removed!']);\n",
       "            Plotly.purge(gd);\n",
       "            observer.disconnect();\n",
       "        }}\n",
       "}});\n",
       "\n",
       "// Listen for the removal of the full notebook cells\n",
       "var notebookContainer = gd.closest('#notebook-container');\n",
       "if (notebookContainer) {{\n",
       "    x.observe(notebookContainer, {childList: true});\n",
       "}}\n",
       "\n",
       "// Listen for the clearing of the current output cell\n",
       "var outputEl = gd.closest('.output');\n",
       "if (outputEl) {{\n",
       "    x.observe(outputEl, {childList: true});\n",
       "}}\n",
       "\n",
       "                        })                };                });            </script>        </div>"
      ]
     },
     "metadata": {},
     "output_type": "display_data"
    }
   ],
   "source": [
    "df_en['sentimentt'] = df_en['sentiment'].replace({-1 : 'negative'})\n",
    "df_en['sentimentt'] = df_en['sentimentt'].replace({1 : 'positive'})\n",
    "fig = px.histogram(df_en, x=\"sentimentt\")\n",
    "fig.update_traces(marker_color=\"indianred\",marker_line_color='rgb(8,48,107)',\n",
    "                  marker_line_width=1.5)\n",
    "fig.update_layout(title_text='Product Sentiment')\n",
    "fig.show()"
   ]
  },
  {
   "cell_type": "code",
   "execution_count": 49,
   "metadata": {},
   "outputs": [
    {
     "data": {
      "text/html": [
       "<div>\n",
       "<style scoped>\n",
       "    .dataframe tbody tr th:only-of-type {\n",
       "        vertical-align: middle;\n",
       "    }\n",
       "\n",
       "    .dataframe tbody tr th {\n",
       "        vertical-align: top;\n",
       "    }\n",
       "\n",
       "    .dataframe thead th {\n",
       "        text-align: right;\n",
       "    }\n",
       "</style>\n",
       "<table border=\"1\" class=\"dataframe\">\n",
       "  <thead>\n",
       "    <tr style=\"text-align: right;\">\n",
       "      <th></th>\n",
       "      <th>review</th>\n",
       "      <th>stars</th>\n",
       "      <th>product_id</th>\n",
       "      <th>original_review</th>\n",
       "      <th>sentiment</th>\n",
       "      <th>sentimentt</th>\n",
       "      <th>clean_review</th>\n",
       "    </tr>\n",
       "  </thead>\n",
       "  <tbody>\n",
       "    <tr>\n",
       "      <th>0</th>\n",
       "      <td>Great</td>\n",
       "      <td>5</td>\n",
       "      <td>2.806230e+11</td>\n",
       "      <td>Ottimo</td>\n",
       "      <td>1</td>\n",
       "      <td>positive</td>\n",
       "      <td>great</td>\n",
       "    </tr>\n",
       "    <tr>\n",
       "      <th>1</th>\n",
       "      <td>Can't tell the difference between the 3 settings</td>\n",
       "      <td>1</td>\n",
       "      <td>4.041600e+10</td>\n",
       "      <td>Can't tell the difference between the 3 settings</td>\n",
       "      <td>-1</td>\n",
       "      <td>negative</td>\n",
       "      <td>cant tell difference 3 settings</td>\n",
       "    </tr>\n",
       "    <tr>\n",
       "      <th>2</th>\n",
       "      <td>This app is horrible.  It does not connect to ...</td>\n",
       "      <td>1</td>\n",
       "      <td>2.808510e+11</td>\n",
       "      <td>This app is horrible.  It does not connect to ...</td>\n",
       "      <td>-1</td>\n",
       "      <td>negative</td>\n",
       "      <td>app horrible connect phone often therefore cau...</td>\n",
       "    </tr>\n",
       "    <tr>\n",
       "      <th>3</th>\n",
       "      <td>Nice app and would be great if can remember my...</td>\n",
       "      <td>4</td>\n",
       "      <td>2.815580e+11</td>\n",
       "      <td>Nice app and would be great if can remember my...</td>\n",
       "      <td>1</td>\n",
       "      <td>positive</td>\n",
       "      <td>nice app would great remember settings ex volu...</td>\n",
       "    </tr>\n",
       "    <tr>\n",
       "      <th>4</th>\n",
       "      <td>When I adjust the setting it is too shrill for...</td>\n",
       "      <td>1</td>\n",
       "      <td>4.038078e+10</td>\n",
       "      <td>Als ik de instelling aanpas is het te schel vo...</td>\n",
       "      <td>-1</td>\n",
       "      <td>negative</td>\n",
       "      <td>adjust setting shrill wife wears hearing aids ...</td>\n",
       "    </tr>\n",
       "    <tr>\n",
       "      <th>...</th>\n",
       "      <td>...</td>\n",
       "      <td>...</td>\n",
       "      <td>...</td>\n",
       "      <td>...</td>\n",
       "      <td>...</td>\n",
       "      <td>...</td>\n",
       "      <td>...</td>\n",
       "    </tr>\n",
       "    <tr>\n",
       "      <th>994</th>\n",
       "      <td>Unable to connect to both hearing aids, as men...</td>\n",
       "      <td>2</td>\n",
       "      <td>2.805900e+11</td>\n",
       "      <td>Unable to connect to both hearing aids, as men...</td>\n",
       "      <td>-1</td>\n",
       "      <td>negative</td>\n",
       "      <td>unable connect hearing aids mentioned many users</td>\n",
       "    </tr>\n",
       "    <tr>\n",
       "      <th>996</th>\n",
       "      <td>Passiert nix. Grauer Bildschirm.</td>\n",
       "      <td>1</td>\n",
       "      <td>2.711010e+11</td>\n",
       "      <td>Passiert nix. Grauer Bildschirm.</td>\n",
       "      <td>-1</td>\n",
       "      <td>negative</td>\n",
       "      <td>passiert nix grauer bildschirm</td>\n",
       "    </tr>\n",
       "    <tr>\n",
       "      <th>997</th>\n",
       "      <td>Nice experience.</td>\n",
       "      <td>4</td>\n",
       "      <td>4.041573e+10</td>\n",
       "      <td>Nice experience.</td>\n",
       "      <td>1</td>\n",
       "      <td>positive</td>\n",
       "      <td>nice experience</td>\n",
       "    </tr>\n",
       "    <tr>\n",
       "      <th>998</th>\n",
       "      <td>Ganz schlechtes App</td>\n",
       "      <td>1</td>\n",
       "      <td>2.807070e+11</td>\n",
       "      <td>Ganz schlechtes App</td>\n",
       "      <td>-1</td>\n",
       "      <td>negative</td>\n",
       "      <td>ganz schlechtes app</td>\n",
       "    </tr>\n",
       "    <tr>\n",
       "      <th>999</th>\n",
       "      <td>The downloaded app does not have the same feat...</td>\n",
       "      <td>1</td>\n",
       "      <td>2.815580e+11</td>\n",
       "      <td>The downloaded app does not have the same feat...</td>\n",
       "      <td>-1</td>\n",
       "      <td>negative</td>\n",
       "      <td>downloaded app features pictured</td>\n",
       "    </tr>\n",
       "  </tbody>\n",
       "</table>\n",
       "<p>890 rows × 7 columns</p>\n",
       "</div>"
      ],
      "text/plain": [
       "                                                review  stars    product_id  \\\n",
       "0                                                Great      5  2.806230e+11   \n",
       "1     Can't tell the difference between the 3 settings      1  4.041600e+10   \n",
       "2    This app is horrible.  It does not connect to ...      1  2.808510e+11   \n",
       "3    Nice app and would be great if can remember my...      4  2.815580e+11   \n",
       "4    When I adjust the setting it is too shrill for...      1  4.038078e+10   \n",
       "..                                                 ...    ...           ...   \n",
       "994  Unable to connect to both hearing aids, as men...      2  2.805900e+11   \n",
       "996                   Passiert nix. Grauer Bildschirm.      1  2.711010e+11   \n",
       "997                                   Nice experience.      4  4.041573e+10   \n",
       "998                                Ganz schlechtes App      1  2.807070e+11   \n",
       "999  The downloaded app does not have the same feat...      1  2.815580e+11   \n",
       "\n",
       "                                       original_review  sentiment sentimentt  \\\n",
       "0                                               Ottimo          1   positive   \n",
       "1     Can't tell the difference between the 3 settings         -1   negative   \n",
       "2    This app is horrible.  It does not connect to ...         -1   negative   \n",
       "3    Nice app and would be great if can remember my...          1   positive   \n",
       "4    Als ik de instelling aanpas is het te schel vo...         -1   negative   \n",
       "..                                                 ...        ...        ...   \n",
       "994  Unable to connect to both hearing aids, as men...         -1   negative   \n",
       "996                   Passiert nix. Grauer Bildschirm.         -1   negative   \n",
       "997                                   Nice experience.          1   positive   \n",
       "998                                Ganz schlechtes App         -1   negative   \n",
       "999  The downloaded app does not have the same feat...         -1   negative   \n",
       "\n",
       "                                          clean_review  \n",
       "0                                                great  \n",
       "1                      cant tell difference 3 settings  \n",
       "2    app horrible connect phone often therefore cau...  \n",
       "3    nice app would great remember settings ex volu...  \n",
       "4    adjust setting shrill wife wears hearing aids ...  \n",
       "..                                                 ...  \n",
       "994   unable connect hearing aids mentioned many users  \n",
       "996                     passiert nix grauer bildschirm  \n",
       "997                                    nice experience  \n",
       "998                                ganz schlechtes app  \n",
       "999                   downloaded app features pictured  \n",
       "\n",
       "[890 rows x 7 columns]"
      ]
     },
     "execution_count": 49,
     "metadata": {},
     "output_type": "execute_result"
    }
   ],
   "source": [
    "import nltk\n",
    "from nltk.tokenize import word_tokenize, sent_tokenize,RegexpTokenizer\n",
    "from nltk.stem import PorterStemmer, WordNetLemmatizer\n",
    "from nltk.util import ngrams\n",
    "from nltk.corpus import stopwords\n",
    "df=df_en.copy()\n",
    "df['clean_review'] = df['review'].str.replace('[^\\w\\s]','')\n",
    "df ['clean_review'] = df['clean_review'].astype(str).str.lower()\n",
    "df['clean_review'] = df['clean_review'].apply(word_tokenize)\n",
    "df['clean_review'] =df['clean_review'].apply(lambda x: [item for item in x if item not in stopwords.words('english')])\n",
    "df['clean_review'] = [' '.join(map(str, indStem)) for indStem in df['clean_review']]\n",
    "df"
   ]
  },
  {
   "cell_type": "code",
   "execution_count": 50,
   "metadata": {},
   "outputs": [
    {
     "data": {
      "text/html": [
       "<div>\n",
       "<style scoped>\n",
       "    .dataframe tbody tr th:only-of-type {\n",
       "        vertical-align: middle;\n",
       "    }\n",
       "\n",
       "    .dataframe tbody tr th {\n",
       "        vertical-align: top;\n",
       "    }\n",
       "\n",
       "    .dataframe thead th {\n",
       "        text-align: right;\n",
       "    }\n",
       "</style>\n",
       "<table border=\"1\" class=\"dataframe\">\n",
       "  <thead>\n",
       "    <tr style=\"text-align: right;\">\n",
       "      <th></th>\n",
       "      <th>clean_review</th>\n",
       "      <th>sentiment</th>\n",
       "    </tr>\n",
       "  </thead>\n",
       "  <tbody>\n",
       "    <tr>\n",
       "      <th>0</th>\n",
       "      <td>great</td>\n",
       "      <td>1</td>\n",
       "    </tr>\n",
       "    <tr>\n",
       "      <th>1</th>\n",
       "      <td>cant tell difference 3 settings</td>\n",
       "      <td>-1</td>\n",
       "    </tr>\n",
       "    <tr>\n",
       "      <th>2</th>\n",
       "      <td>app horrible connect phone often therefore cau...</td>\n",
       "      <td>-1</td>\n",
       "    </tr>\n",
       "    <tr>\n",
       "      <th>3</th>\n",
       "      <td>nice app would great remember settings ex volu...</td>\n",
       "      <td>1</td>\n",
       "    </tr>\n",
       "    <tr>\n",
       "      <th>4</th>\n",
       "      <td>adjust setting shrill wife wears hearing aids ...</td>\n",
       "      <td>-1</td>\n",
       "    </tr>\n",
       "  </tbody>\n",
       "</table>\n",
       "</div>"
      ],
      "text/plain": [
       "                                        clean_review  sentiment\n",
       "0                                              great          1\n",
       "1                    cant tell difference 3 settings         -1\n",
       "2  app horrible connect phone often therefore cau...         -1\n",
       "3  nice app would great remember settings ex volu...          1\n",
       "4  adjust setting shrill wife wears hearing aids ...         -1"
      ]
     },
     "execution_count": 50,
     "metadata": {},
     "output_type": "execute_result"
    }
   ],
   "source": [
    "dfNew = df[['clean_review','sentiment']]\n",
    "dfNew.head()"
   ]
  },
  {
   "cell_type": "code",
   "execution_count": 51,
   "metadata": {},
   "outputs": [
    {
     "data": {
      "text/html": [
       "<div>\n",
       "<style scoped>\n",
       "    .dataframe tbody tr th:only-of-type {\n",
       "        vertical-align: middle;\n",
       "    }\n",
       "\n",
       "    .dataframe tbody tr th {\n",
       "        vertical-align: top;\n",
       "    }\n",
       "\n",
       "    .dataframe thead th {\n",
       "        text-align: right;\n",
       "    }\n",
       "</style>\n",
       "<table border=\"1\" class=\"dataframe\">\n",
       "  <thead>\n",
       "    <tr style=\"text-align: right;\">\n",
       "      <th></th>\n",
       "      <th>review</th>\n",
       "      <th>stars</th>\n",
       "      <th>product_id</th>\n",
       "      <th>original_review</th>\n",
       "      <th>sentiment</th>\n",
       "      <th>sentimentt</th>\n",
       "      <th>clean_review</th>\n",
       "      <th>random_number</th>\n",
       "    </tr>\n",
       "  </thead>\n",
       "  <tbody>\n",
       "    <tr>\n",
       "      <th>0</th>\n",
       "      <td>Great</td>\n",
       "      <td>5</td>\n",
       "      <td>2.806230e+11</td>\n",
       "      <td>Ottimo</td>\n",
       "      <td>1</td>\n",
       "      <td>positive</td>\n",
       "      <td>great</td>\n",
       "      <td>0.037137</td>\n",
       "    </tr>\n",
       "    <tr>\n",
       "      <th>1</th>\n",
       "      <td>Can't tell the difference between the 3 settings</td>\n",
       "      <td>1</td>\n",
       "      <td>4.041600e+10</td>\n",
       "      <td>Can't tell the difference between the 3 settings</td>\n",
       "      <td>-1</td>\n",
       "      <td>negative</td>\n",
       "      <td>cant tell difference 3 settings</td>\n",
       "      <td>0.331023</td>\n",
       "    </tr>\n",
       "    <tr>\n",
       "      <th>2</th>\n",
       "      <td>This app is horrible.  It does not connect to ...</td>\n",
       "      <td>1</td>\n",
       "      <td>2.808510e+11</td>\n",
       "      <td>This app is horrible.  It does not connect to ...</td>\n",
       "      <td>-1</td>\n",
       "      <td>negative</td>\n",
       "      <td>app horrible connect phone often therefore cau...</td>\n",
       "      <td>-0.040810</td>\n",
       "    </tr>\n",
       "    <tr>\n",
       "      <th>3</th>\n",
       "      <td>Nice app and would be great if can remember my...</td>\n",
       "      <td>4</td>\n",
       "      <td>2.815580e+11</td>\n",
       "      <td>Nice app and would be great if can remember my...</td>\n",
       "      <td>1</td>\n",
       "      <td>positive</td>\n",
       "      <td>nice app would great remember settings ex volu...</td>\n",
       "      <td>1.541714</td>\n",
       "    </tr>\n",
       "    <tr>\n",
       "      <th>4</th>\n",
       "      <td>When I adjust the setting it is too shrill for...</td>\n",
       "      <td>1</td>\n",
       "      <td>4.038078e+10</td>\n",
       "      <td>Als ik de instelling aanpas is het te schel vo...</td>\n",
       "      <td>-1</td>\n",
       "      <td>negative</td>\n",
       "      <td>adjust setting shrill wife wears hearing aids ...</td>\n",
       "      <td>1.052504</td>\n",
       "    </tr>\n",
       "    <tr>\n",
       "      <th>...</th>\n",
       "      <td>...</td>\n",
       "      <td>...</td>\n",
       "      <td>...</td>\n",
       "      <td>...</td>\n",
       "      <td>...</td>\n",
       "      <td>...</td>\n",
       "      <td>...</td>\n",
       "      <td>...</td>\n",
       "    </tr>\n",
       "    <tr>\n",
       "      <th>994</th>\n",
       "      <td>Unable to connect to both hearing aids, as men...</td>\n",
       "      <td>2</td>\n",
       "      <td>2.805900e+11</td>\n",
       "      <td>Unable to connect to both hearing aids, as men...</td>\n",
       "      <td>-1</td>\n",
       "      <td>negative</td>\n",
       "      <td>unable connect hearing aids mentioned many users</td>\n",
       "      <td>-0.081937</td>\n",
       "    </tr>\n",
       "    <tr>\n",
       "      <th>996</th>\n",
       "      <td>Passiert nix. Grauer Bildschirm.</td>\n",
       "      <td>1</td>\n",
       "      <td>2.711010e+11</td>\n",
       "      <td>Passiert nix. Grauer Bildschirm.</td>\n",
       "      <td>-1</td>\n",
       "      <td>negative</td>\n",
       "      <td>passiert nix grauer bildschirm</td>\n",
       "      <td>-3.163248</td>\n",
       "    </tr>\n",
       "    <tr>\n",
       "      <th>997</th>\n",
       "      <td>Nice experience.</td>\n",
       "      <td>4</td>\n",
       "      <td>4.041573e+10</td>\n",
       "      <td>Nice experience.</td>\n",
       "      <td>1</td>\n",
       "      <td>positive</td>\n",
       "      <td>nice experience</td>\n",
       "      <td>2.553890</td>\n",
       "    </tr>\n",
       "    <tr>\n",
       "      <th>998</th>\n",
       "      <td>Ganz schlechtes App</td>\n",
       "      <td>1</td>\n",
       "      <td>2.807070e+11</td>\n",
       "      <td>Ganz schlechtes App</td>\n",
       "      <td>-1</td>\n",
       "      <td>negative</td>\n",
       "      <td>ganz schlechtes app</td>\n",
       "      <td>-0.671138</td>\n",
       "    </tr>\n",
       "    <tr>\n",
       "      <th>999</th>\n",
       "      <td>The downloaded app does not have the same feat...</td>\n",
       "      <td>1</td>\n",
       "      <td>2.815580e+11</td>\n",
       "      <td>The downloaded app does not have the same feat...</td>\n",
       "      <td>-1</td>\n",
       "      <td>negative</td>\n",
       "      <td>downloaded app features pictured</td>\n",
       "      <td>0.381643</td>\n",
       "    </tr>\n",
       "  </tbody>\n",
       "</table>\n",
       "<p>890 rows × 8 columns</p>\n",
       "</div>"
      ],
      "text/plain": [
       "                                                review  stars    product_id  \\\n",
       "0                                                Great      5  2.806230e+11   \n",
       "1     Can't tell the difference between the 3 settings      1  4.041600e+10   \n",
       "2    This app is horrible.  It does not connect to ...      1  2.808510e+11   \n",
       "3    Nice app and would be great if can remember my...      4  2.815580e+11   \n",
       "4    When I adjust the setting it is too shrill for...      1  4.038078e+10   \n",
       "..                                                 ...    ...           ...   \n",
       "994  Unable to connect to both hearing aids, as men...      2  2.805900e+11   \n",
       "996                   Passiert nix. Grauer Bildschirm.      1  2.711010e+11   \n",
       "997                                   Nice experience.      4  4.041573e+10   \n",
       "998                                Ganz schlechtes App      1  2.807070e+11   \n",
       "999  The downloaded app does not have the same feat...      1  2.815580e+11   \n",
       "\n",
       "                                       original_review  sentiment sentimentt  \\\n",
       "0                                               Ottimo          1   positive   \n",
       "1     Can't tell the difference between the 3 settings         -1   negative   \n",
       "2    This app is horrible.  It does not connect to ...         -1   negative   \n",
       "3    Nice app and would be great if can remember my...          1   positive   \n",
       "4    Als ik de instelling aanpas is het te schel vo...         -1   negative   \n",
       "..                                                 ...        ...        ...   \n",
       "994  Unable to connect to both hearing aids, as men...         -1   negative   \n",
       "996                   Passiert nix. Grauer Bildschirm.         -1   negative   \n",
       "997                                   Nice experience.          1   positive   \n",
       "998                                Ganz schlechtes App         -1   negative   \n",
       "999  The downloaded app does not have the same feat...         -1   negative   \n",
       "\n",
       "                                          clean_review  random_number  \n",
       "0                                                great       0.037137  \n",
       "1                      cant tell difference 3 settings       0.331023  \n",
       "2    app horrible connect phone often therefore cau...      -0.040810  \n",
       "3    nice app would great remember settings ex volu...       1.541714  \n",
       "4    adjust setting shrill wife wears hearing aids ...       1.052504  \n",
       "..                                                 ...            ...  \n",
       "994   unable connect hearing aids mentioned many users      -0.081937  \n",
       "996                     passiert nix grauer bildschirm      -3.163248  \n",
       "997                                    nice experience       2.553890  \n",
       "998                                ganz schlechtes app      -0.671138  \n",
       "999                   downloaded app features pictured       0.381643  \n",
       "\n",
       "[890 rows x 8 columns]"
      ]
     },
     "execution_count": 51,
     "metadata": {},
     "output_type": "execute_result"
    }
   ],
   "source": [
    "# random split train and test data\n",
    "index = df.index\n",
    "df['random_number'] = np.random.randn(len(index))\n",
    "train = df[df['random_number'] <= 0.8]\n",
    "test = df[df['random_number'] > 0.8]\n",
    "df"
   ]
  },
  {
   "cell_type": "code",
   "execution_count": 62,
   "metadata": {},
   "outputs": [],
   "source": [
    "# count vectorizer:\n",
    "from sklearn.feature_extraction.text import CountVectorizer\n",
    "vectorizer = CountVectorizer(token_pattern=r'\\b\\w+\\b')\n",
    "train_matrix = vectorizer.fit_transform(train['clean_review'])\n",
    "test_matrix = vectorizer.transform(test['clean_review'])\n",
    "\n"
   ]
  },
  {
   "cell_type": "code",
   "execution_count": 53,
   "metadata": {},
   "outputs": [],
   "source": [
    "# Logistic Regression\n",
    "from sklearn.linear_model import LogisticRegression\n",
    "lr = LogisticRegression()\n",
    "X_train = train_matrix\n",
    "X_test = test_matrix\n",
    "y_train = train['sentiment']\n",
    "y_test = test['sentiment']\n"
   ]
  },
  {
   "cell_type": "code",
   "execution_count": 54,
   "metadata": {},
   "outputs": [
    {
     "data": {
      "text/plain": [
       "LogisticRegression()"
      ]
     },
     "execution_count": 54,
     "metadata": {},
     "output_type": "execute_result"
    }
   ],
   "source": [
    "lr.fit(X_train,y_train)"
   ]
  },
  {
   "cell_type": "code",
   "execution_count": 55,
   "metadata": {},
   "outputs": [],
   "source": [
    "predictions = lr.predict(X_test)"
   ]
  },
  {
   "cell_type": "code",
   "execution_count": 56,
   "metadata": {},
   "outputs": [
    {
     "data": {
      "text/plain": [
       "array([[95, 15],\n",
       "       [28, 72]], dtype=int64)"
      ]
     },
     "execution_count": 56,
     "metadata": {},
     "output_type": "execute_result"
    }
   ],
   "source": [
    "from sklearn.metrics import confusion_matrix,classification_report\n",
    "#new = np.asarray(y_test)\n",
    "confusion_matrix(predictions,y_test)"
   ]
  },
  {
   "cell_type": "code",
   "execution_count": 57,
   "metadata": {},
   "outputs": [
    {
     "name": "stdout",
     "output_type": "stream",
     "text": [
      "              precision    recall  f1-score   support\n",
      "\n",
      "          -1       0.77      0.86      0.82       110\n",
      "           1       0.83      0.72      0.77       100\n",
      "\n",
      "    accuracy                           0.80       210\n",
      "   macro avg       0.80      0.79      0.79       210\n",
      "weighted avg       0.80      0.80      0.79       210\n",
      "\n"
     ]
    }
   ],
   "source": [
    "print(classification_report(predictions,y_test))"
   ]
  },
  {
   "cell_type": "code",
   "execution_count": 74,
   "metadata": {},
   "outputs": [
    {
     "data": {
      "text/plain": [
       "array([ 1, -1,  1,  1,  1, -1,  1,  1,  1,  1,  1, -1, -1,  1, -1, -1,  1,\n",
       "       -1, -1,  1, -1, -1, -1,  1,  1,  1, -1, -1,  1, -1,  1,  1,  1, -1,\n",
       "        1, -1, -1, -1, -1, -1, -1, -1, -1, -1,  1, -1,  1,  1,  1, -1, -1,\n",
       "       -1, -1, -1,  1,  1,  1, -1, -1,  1, -1, -1,  1, -1, -1, -1,  1, -1,\n",
       "       -1, -1,  1, -1, -1, -1,  1, -1,  1,  1,  1, -1,  1,  1,  1,  1,  1,\n",
       "        1,  1,  1, -1,  1, -1, -1, -1,  1, -1,  1, -1, -1,  1, -1, -1, -1,\n",
       "       -1, -1, -1, -1, -1,  1,  1, -1,  1, -1, -1, -1,  1, -1, -1,  1,  1,\n",
       "        1, -1, -1,  1,  1, -1, -1, -1,  1, -1, -1,  1,  1,  1, -1,  1,  1,\n",
       "        1, -1, -1, -1, -1,  1, -1, -1,  1, -1, -1,  1,  1, -1, -1, -1, -1,\n",
       "       -1, -1, -1, -1, -1, -1, -1,  1,  1,  1, -1,  1, -1,  1,  1,  1, -1,\n",
       "        1, -1, -1, -1,  1,  1,  1, -1,  1,  1, -1,  1,  1,  1,  1,  1,  1,\n",
       "       -1,  1, -1,  1,  1,  1, -1,  1, -1,  1,  1, -1,  1,  1,  1, -1, -1,\n",
       "        1, -1, -1,  1,  1,  1], dtype=int64)"
      ]
     },
     "execution_count": 74,
     "metadata": {},
     "output_type": "execute_result"
    }
   ],
   "source": []
  },
  {
   "cell_type": "code",
   "execution_count": null,
   "metadata": {},
   "outputs": [],
   "source": []
  },
  {
   "cell_type": "code",
   "execution_count": null,
   "metadata": {},
   "outputs": [],
   "source": []
  },
  {
   "cell_type": "code",
   "execution_count": null,
   "metadata": {},
   "outputs": [],
   "source": []
  },
  {
   "cell_type": "code",
   "execution_count": null,
   "metadata": {},
   "outputs": [],
   "source": []
  }
 ],
 "metadata": {
  "kernelspec": {
   "display_name": "Python 3",
   "language": "python",
   "name": "python3"
  },
  "language_info": {
   "codemirror_mode": {
    "name": "ipython",
    "version": 3
   },
   "file_extension": ".py",
   "mimetype": "text/x-python",
   "name": "python",
   "nbconvert_exporter": "python",
   "pygments_lexer": "ipython3",
   "version": "3.8.5"
  }
 },
 "nbformat": 4,
 "nbformat_minor": 4
}
